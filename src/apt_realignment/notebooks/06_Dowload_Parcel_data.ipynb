{
 "cells": [
  {
   "cell_type": "code",
   "execution_count": 13,
   "metadata": {},
   "outputs": [
    {
     "data": {
      "text/html": [
       "<div>\n",
       "<style scoped>\n",
       "    .dataframe tbody tr th:only-of-type {\n",
       "        vertical-align: middle;\n",
       "    }\n",
       "\n",
       "    .dataframe tbody tr th {\n",
       "        vertical-align: top;\n",
       "    }\n",
       "\n",
       "    .dataframe thead th {\n",
       "        text-align: right;\n",
       "    }\n",
       "</style>\n",
       "<table border=\"1\" class=\"dataframe\">\n",
       "  <thead>\n",
       "    <tr style=\"text-align: right;\">\n",
       "      <th></th>\n",
       "      <th>stname</th>\n",
       "      <th>st</th>\n",
       "      <th>stusps</th>\n",
       "    </tr>\n",
       "  </thead>\n",
       "  <tbody>\n",
       "    <tr>\n",
       "      <th>0</th>\n",
       "      <td>Alabama</td>\n",
       "      <td>1</td>\n",
       "      <td>AL</td>\n",
       "    </tr>\n",
       "    <tr>\n",
       "      <th>1</th>\n",
       "      <td>Alaska</td>\n",
       "      <td>2</td>\n",
       "      <td>AK</td>\n",
       "    </tr>\n",
       "    <tr>\n",
       "      <th>2</th>\n",
       "      <td>Arizona</td>\n",
       "      <td>4</td>\n",
       "      <td>AZ</td>\n",
       "    </tr>\n",
       "    <tr>\n",
       "      <th>3</th>\n",
       "      <td>Arkansas</td>\n",
       "      <td>5</td>\n",
       "      <td>AR</td>\n",
       "    </tr>\n",
       "    <tr>\n",
       "      <th>4</th>\n",
       "      <td>California</td>\n",
       "      <td>6</td>\n",
       "      <td>CA</td>\n",
       "    </tr>\n",
       "  </tbody>\n",
       "</table>\n",
       "</div>"
      ],
      "text/plain": [
       "       stname   st  stusps\n",
       "0     Alabama    1      AL\n",
       "1      Alaska    2      AK\n",
       "2     Arizona    4      AZ\n",
       "3    Arkansas    5      AR\n",
       "4  California    6      CA"
      ]
     },
     "execution_count": 13,
     "metadata": {},
     "output_type": "execute_result"
    }
   ],
   "source": [
    "import pandas as pd \n",
    "from tqdm import tqdm \n",
    "import urllib\n",
    "import os\n",
    "\n",
    "FIPS_CSV_PATH = \"us-state-ansi-fips.csv\"\n",
    "ALL_FIPS = \"All_counties_code.csv\"\n",
    "\n",
    "data_path = \"mnt/c/Users/tandon/OneDrive - TomTom/Desktop/tomtom/Workspace/01_Rooftop_accuracy/APT-Realignment/data/\"\n",
    "\n",
    "fips_df = pd.read_csv(FIPS_CSV_PATH)\n",
    "fips_df.head()\n"
   ]
  },
  {
   "cell_type": "code",
   "execution_count": 14,
   "metadata": {},
   "outputs": [
    {
     "data": {
      "text/html": [
       "<div>\n",
       "<style scoped>\n",
       "    .dataframe tbody tr th:only-of-type {\n",
       "        vertical-align: middle;\n",
       "    }\n",
       "\n",
       "    .dataframe tbody tr th {\n",
       "        vertical-align: top;\n",
       "    }\n",
       "\n",
       "    .dataframe thead th {\n",
       "        text-align: right;\n",
       "    }\n",
       "</style>\n",
       "<table border=\"1\" class=\"dataframe\">\n",
       "  <thead>\n",
       "    <tr style=\"text-align: right;\">\n",
       "      <th></th>\n",
       "      <th>fips</th>\n",
       "      <th>name</th>\n",
       "      <th>state</th>\n",
       "    </tr>\n",
       "  </thead>\n",
       "  <tbody>\n",
       "    <tr>\n",
       "      <th>0</th>\n",
       "      <td>0</td>\n",
       "      <td>UNITED STATES</td>\n",
       "      <td>NaN</td>\n",
       "    </tr>\n",
       "    <tr>\n",
       "      <th>1</th>\n",
       "      <td>1000</td>\n",
       "      <td>ALABAMA</td>\n",
       "      <td>NaN</td>\n",
       "    </tr>\n",
       "    <tr>\n",
       "      <th>2</th>\n",
       "      <td>1001</td>\n",
       "      <td>Autauga County</td>\n",
       "      <td>AL</td>\n",
       "    </tr>\n",
       "    <tr>\n",
       "      <th>3</th>\n",
       "      <td>1003</td>\n",
       "      <td>Baldwin County</td>\n",
       "      <td>AL</td>\n",
       "    </tr>\n",
       "    <tr>\n",
       "      <th>4</th>\n",
       "      <td>1005</td>\n",
       "      <td>Barbour County</td>\n",
       "      <td>AL</td>\n",
       "    </tr>\n",
       "  </tbody>\n",
       "</table>\n",
       "</div>"
      ],
      "text/plain": [
       "   fips            name state\n",
       "0     0   UNITED STATES   NaN\n",
       "1  1000         ALABAMA   NaN\n",
       "2  1001  Autauga County    AL\n",
       "3  1003  Baldwin County    AL\n",
       "4  1005  Barbour County    AL"
      ]
     },
     "execution_count": 14,
     "metadata": {},
     "output_type": "execute_result"
    }
   ],
   "source": [
    "FIPSCode_df = pd.read_csv(ALL_FIPS)\n",
    "\n",
    "FIPSCode_df.head()"
   ]
  },
  {
   "cell_type": "code",
   "execution_count": 15,
   "metadata": {},
   "outputs": [
    {
     "name": "stdout",
     "output_type": "stream",
     "text": [
      "County FIPS Code :  48\n",
      "County Name Code :  TX\n"
     ]
    }
   ],
   "source": [
    "County = 'Texas'\n",
    "county_info = fips_df.loc[fips_df['stname']==County]\n",
    "data = county_info.values.tolist()[0]\n",
    "\n",
    "print(\"County FIPS Code : \",data[1])\n",
    "print(\"County Name Code : \",data[2].strip())\n",
    "\n"
   ]
  },
  {
   "attachments": {},
   "cell_type": "markdown",
   "metadata": {},
   "source": [
    "## Populate all counties within State"
   ]
  },
  {
   "cell_type": "code",
   "execution_count": 16,
   "metadata": {},
   "outputs": [
    {
     "name": "stdout",
     "output_type": "stream",
     "text": [
      "FIPS found: 254\n",
      "FIPS found: ['48001', '48003', '48005', '48007', '48009', '48011', '48013', '48015', '48017', '48019', '48021', '48023', '48025', '48027', '48029', '48031', '48033', '48035', '48037', '48039', '48041', '48043', '48045', '48047', '48049', '48051', '48053', '48055', '48057', '48059', '48061', '48063', '48065', '48067', '48069', '48071', '48073', '48075', '48077', '48079', '48081', '48083', '48085', '48087', '48089', '48091', '48093', '48095', '48097', '48099', '48101', '48103', '48105', '48107', '48109', '48111', '48113', '48115', '48117', '48119', '48121', '48123', '48125', '48127', '48129', '48131', '48133', '48135', '48137', '48139', '48141', '48143', '48145', '48147', '48149', '48151', '48153', '48155', '48157', '48159', '48161', '48163', '48165', '48167', '48169', '48171', '48173', '48175', '48177', '48179', '48181', '48183', '48185', '48187', '48189', '48191', '48193', '48195', '48197', '48199', '48201', '48203', '48205', '48207', '48209', '48211', '48213', '48215', '48217', '48219', '48221', '48223', '48225', '48227', '48229', '48231', '48233', '48235', '48237', '48239', '48241', '48243', '48245', '48247', '48249', '48251', '48253', '48255', '48257', '48259', '48261', '48263', '48265', '48267', '48269', '48271', '48273', '48275', '48277', '48279', '48281', '48283', '48285', '48287', '48289', '48291', '48293', '48295', '48297', '48299', '48301', '48303', '48305', '48307', '48309', '48311', '48313', '48315', '48317', '48319', '48321', '48323', '48325', '48327', '48329', '48331', '48333', '48335', '48337', '48339', '48341', '48343', '48345', '48347', '48349', '48351', '48353', '48355', '48357', '48359', '48361', '48363', '48365', '48367', '48369', '48371', '48373', '48375', '48377', '48379', '48381', '48383', '48385', '48387', '48389', '48391', '48393', '48395', '48397', '48399', '48401', '48403', '48405', '48407', '48409', '48411', '48413', '48415', '48417', '48419', '48421', '48423', '48425', '48427', '48429', '48431', '48433', '48435', '48437', '48439', '48441', '48443', '48445', '48447', '48449', '48451', '48453', '48455', '48457', '48459', '48461', '48463', '48465', '48467', '48469', '48471', '48473', '48475', '48477', '48479', '48481', '48483', '48485', '48487', '48489', '48491', '48493', '48495', '48497', '48499', '48501', '48503', '48505', '48507']\n"
     ]
    }
   ],
   "source": [
    "fipss = list(map(lambda x: str(x),list(FIPSCode_df['fips'].loc[FIPSCode_df['state']==data[2].strip()])))\n",
    "fipss = list(map(lambda x: \"0{}\".format(x) if len(x)==4 else x ,fipss))\n",
    "\n",
    "print('FIPS found:',len(fipss))\n",
    "print('FIPS found:',fipss)"
   ]
  },
  {
   "cell_type": "code",
   "execution_count": 17,
   "metadata": {},
   "outputs": [
    {
     "name": "stderr",
     "output_type": "stream",
     "text": [
      "  9%|▉         | 23/254 [1:01:20<16:02:45, 250.07s/it]"
     ]
    },
    {
     "name": "stdout",
     "output_type": "stream",
     "text": [
      "No information for : 48045\n"
     ]
    },
    {
     "name": "stderr",
     "output_type": "stream",
     "text": [
      " 12%|█▏        | 30/254 [1:01:49<2:54:09, 46.65s/it]  "
     ]
    },
    {
     "name": "stdout",
     "output_type": "stream",
     "text": [
      "No information for : 48059\n"
     ]
    },
    {
     "name": "stderr",
     "output_type": "stream",
     "text": [
      " 14%|█▍        | 35/254 [2:04:50<59:56:01, 985.21s/it]"
     ]
    },
    {
     "name": "stdout",
     "output_type": "stream",
     "text": [
      "No information for : 48069\n"
     ]
    },
    {
     "name": "stderr",
     "output_type": "stream",
     "text": [
      " 15%|█▌        | 39/254 [2:05:49<16:04:46, 269.24s/it]"
     ]
    },
    {
     "name": "stdout",
     "output_type": "stream",
     "text": [
      "No information for : 48077\n"
     ]
    },
    {
     "name": "stderr",
     "output_type": "stream",
     "text": [
      " 17%|█▋        | 42/254 [2:06:09<5:49:14, 98.84s/it]  "
     ]
    },
    {
     "name": "stdout",
     "output_type": "stream",
     "text": [
      "No information for : 48083\n"
     ]
    },
    {
     "name": "stderr",
     "output_type": "stream",
     "text": [
      " 20%|██        | 51/254 [2:08:37<55:19, 16.35s/it]   "
     ]
    },
    {
     "name": "stdout",
     "output_type": "stream",
     "text": [
      "No information for : 48101\n"
     ]
    },
    {
     "name": "stderr",
     "output_type": "stream",
     "text": [
      " 25%|██▍       | 63/254 [2:18:02<5:04:20, 95.61s/it] "
     ]
    },
    {
     "name": "stdout",
     "output_type": "stream",
     "text": [
      "No information for : 48125\n"
     ]
    },
    {
     "name": "stderr",
     "output_type": "stream",
     "text": [
      " 32%|███▏      | 82/254 [2:39:48<1:01:14, 21.36s/it] "
     ]
    },
    {
     "name": "stdout",
     "output_type": "stream",
     "text": [
      "No information for : 48163\n"
     ]
    },
    {
     "name": "stderr",
     "output_type": "stream",
     "text": [
      " 38%|███▊      | 96/254 [2:41:13<14:51,  5.64s/it]  "
     ]
    },
    {
     "name": "stdout",
     "output_type": "stream",
     "text": [
      "No information for : 48191\n"
     ]
    },
    {
     "name": "stderr",
     "output_type": "stream",
     "text": [
      " 39%|███▉      | 99/254 [2:41:31<15:27,  5.99s/it]"
     ]
    },
    {
     "name": "stdout",
     "output_type": "stream",
     "text": [
      "No information for : 48197\n"
     ]
    },
    {
     "name": "stderr",
     "output_type": "stream",
     "text": [
      " 42%|████▏     | 106/254 [2:46:13<41:09, 16.68s/it]  "
     ]
    },
    {
     "name": "stdout",
     "output_type": "stream",
     "text": [
      "No information for : 48211\n"
     ]
    },
    {
     "name": "stderr",
     "output_type": "stream",
     "text": [
      " 42%|████▏     | 107/254 [2:46:43<48:57, 19.98s/it]"
     ]
    }
   ],
   "source": [
    "errors = set()\n",
    "out_path = f\"/mnt/c/Users/tandon/OneDrive - TomTom/Desktop/tomtom/Workspace/01_Rooftop_accuracy/APT-Realignment/data/{County}/parcels/\"\n",
    "\n",
    "for fips in tqdm(fipss,total=len(fipss)):    \n",
    "    if not os.path.isfile(os.path.join(out_path,f\"Parcels_{fips}.zip\")):\n",
    "        try:\n",
    "            urllib.request.urlretrieve(f\"https://sts-rescat-prod.s3-eu-west-1.amazonaws.com/Rescat/Global/Active/USA_Nation/USA000003213/AUTHORIZED%20USERS%20ONLY/July%202018/Parcels_{fips}.zip\", f\"/mnt/c/Users/tandon/OneDrive - TomTom/Desktop/tomtom/Workspace/01_Rooftop_accuracy/APT-Realignment/data/{County}/parcels/Parcels_{fips}.zip\")\n",
    "        except:\n",
    "            try:\n",
    "                urllib.request.urlretrieve(f\"https://sts-rescat-prod.s3-eu-west-1.amazonaws.com/Rescat/Global/Active/USA_Nation/USA000003213/AUTHORIZED%20USERS%20ONLY/April%202018/Parcels_{fips}.zip\", f\"/mnt/c/Users/tandon/OneDrive - TomTom/Desktop/tomtom/Workspace/01_Rooftop_accuracy/APT-Realignment/data/{County}/parcels/Parcels_{fips}.zip\")\n",
    "            except:\n",
    "                try:\n",
    "\n",
    "                    urllib.request.urlretrieve(f\"https://sts-rescat-prod.s3-eu-west-1.amazonaws.com/Rescat/Global/Active/USA_Nation/USA000003213/AUTHORIZED%20USERS%20ONLY/Jan%202018/Parcels_{fips}.zip\", f\"/mnt/c/Users/tandon/OneDrive - TomTom/Desktop/tomtom/Workspace/01_Rooftop_accuracy/APT-Realignment/data/{County}/parcels/Parcels_{fips}.zip\")\n",
    "                except:\n",
    "                    try:\n",
    "                        urllib.request.urlretrieve(f\"https://sts-rescat-prod.s3-eu-west-1.amazonaws.com/Rescat/Global/Active/USA_Nation/USA000003213/AUTHORIZED%20USERS%20ONLY/Oct%202017/Parcels_{fips}.zip\", f\"/mnt/c/Users/tandon/OneDrive - TomTom/Desktop/tomtom/Workspace/01_Rooftop_accuracy/APT-Realignment/data/{County}/parcels/Parcels_{fips}.zip\")\n",
    "                    except:\n",
    "                        try:\n",
    "                            urllib.request.urlretrieve(f\"https://sts-rescat-prod.s3-eu-west-1.amazonaws.com/Rescat/Global/Active/USA_Nation/USA000003213/AUTHORIZED%20USERS%20ONLY/July%202017/Parcels_{fips}.zip\", f\"/mnt/c/Users/tandon/OneDrive - TomTom/Desktop/tomtom/Workspace/01_Rooftop_accuracy/APT-Realignment/data/{County}/parcels/Parcels_{fips}.zip\")\n",
    "                        except:\n",
    "                            try:\n",
    "                                urllib.request.urlretrieve(f\"https://sts-rescat-prod.s3-eu-west-1.amazonaws.com/Rescat/Global/Active/USA_Nation/USA000003213/AUTHORIZED%20USERS%20ONLY/April%202017/Parcels_{fips}.zip\", f\"/mnt/c/Users/tandon/OneDrive - TomTom/Desktop/tomtom/Workspace/01_Rooftop_accuracy/APT-Realignment/data/{County}/parcels/Parcels_{fips}.zip\")\n",
    "                            except:\n",
    "                                try:\n",
    "                                    urllib.request.urlretrieve(f\"https://sts-rescat-prod.s3-eu-west-1.amazonaws.com/Rescat/Global/Active/USA_Nation/USA000003213/AUTHORIZED%20USERS%20ONLY/Jan%202017/Parcels_{fips}.zip\", f\"/mnt/c/Users/tandon/OneDrive - TomTom/Desktop/tomtom/Workspace/01_Rooftop_accuracy/APT-Realignment/data/{County}/parcels/Parcels_{fips}.zip\")\n",
    "                                except:\n",
    "                                    print(\"No information for :\",fips)\n",
    "                                    errors.add(fips)\n",
    "                                    continue"
   ]
  }
 ],
 "metadata": {
  "kernelspec": {
   "display_name": "pygeo",
   "language": "python",
   "name": "python3"
  },
  "language_info": {
   "codemirror_mode": {
    "name": "ipython",
    "version": 3
   },
   "file_extension": ".py",
   "mimetype": "text/x-python",
   "name": "python",
   "nbconvert_exporter": "python",
   "pygments_lexer": "ipython3",
   "version": "3.8.13"
  },
  "orig_nbformat": 4,
  "vscode": {
   "interpreter": {
    "hash": "70ce54ad97a74852893fb3a2eed7fab00a48abaab9c8d77c9e0b6a3e4b45b116"
   }
  }
 },
 "nbformat": 4,
 "nbformat_minor": 2
}
