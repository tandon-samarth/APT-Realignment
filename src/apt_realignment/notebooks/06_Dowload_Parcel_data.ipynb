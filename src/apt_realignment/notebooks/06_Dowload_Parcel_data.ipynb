{
 "cells": [
  {
   "cell_type": "code",
   "execution_count": 2,
   "metadata": {},
   "outputs": [
    {
     "data": {
      "text/html": [
       "<div>\n",
       "<style scoped>\n",
       "    .dataframe tbody tr th:only-of-type {\n",
       "        vertical-align: middle;\n",
       "    }\n",
       "\n",
       "    .dataframe tbody tr th {\n",
       "        vertical-align: top;\n",
       "    }\n",
       "\n",
       "    .dataframe thead th {\n",
       "        text-align: right;\n",
       "    }\n",
       "</style>\n",
       "<table border=\"1\" class=\"dataframe\">\n",
       "  <thead>\n",
       "    <tr style=\"text-align: right;\">\n",
       "      <th></th>\n",
       "      <th>stname</th>\n",
       "      <th>st</th>\n",
       "      <th>stusps</th>\n",
       "    </tr>\n",
       "  </thead>\n",
       "  <tbody>\n",
       "    <tr>\n",
       "      <th>0</th>\n",
       "      <td>Alabama</td>\n",
       "      <td>1</td>\n",
       "      <td>AL</td>\n",
       "    </tr>\n",
       "    <tr>\n",
       "      <th>1</th>\n",
       "      <td>Alaska</td>\n",
       "      <td>2</td>\n",
       "      <td>AK</td>\n",
       "    </tr>\n",
       "    <tr>\n",
       "      <th>2</th>\n",
       "      <td>Arizona</td>\n",
       "      <td>4</td>\n",
       "      <td>AZ</td>\n",
       "    </tr>\n",
       "    <tr>\n",
       "      <th>3</th>\n",
       "      <td>Arkansas</td>\n",
       "      <td>5</td>\n",
       "      <td>AR</td>\n",
       "    </tr>\n",
       "    <tr>\n",
       "      <th>4</th>\n",
       "      <td>California</td>\n",
       "      <td>6</td>\n",
       "      <td>CA</td>\n",
       "    </tr>\n",
       "  </tbody>\n",
       "</table>\n",
       "</div>"
      ],
      "text/plain": [
       "       stname   st  stusps\n",
       "0     Alabama    1      AL\n",
       "1      Alaska    2      AK\n",
       "2     Arizona    4      AZ\n",
       "3    Arkansas    5      AR\n",
       "4  California    6      CA"
      ]
     },
     "execution_count": 2,
     "metadata": {},
     "output_type": "execute_result"
    }
   ],
   "source": [
    "import pandas as pd \n",
    "from tqdm import tqdm \n",
    "import urllib\n",
    "import os\n",
    "\n",
    "FIPS_CSV_PATH = \"us-state-ansi-fips.csv\"\n",
    "ALL_FIPS = \"All_counties_code.csv\"\n",
    "\n",
    "data_path = \"../APT-Realignment/data/\"\n",
    "\n",
    "fips_df = pd.read_csv(FIPS_CSV_PATH)\n",
    "fips_df.head()\n"
   ]
  },
  {
   "cell_type": "code",
   "execution_count": 3,
   "metadata": {},
   "outputs": [
    {
     "data": {
      "text/html": [
       "<div>\n",
       "<style scoped>\n",
       "    .dataframe tbody tr th:only-of-type {\n",
       "        vertical-align: middle;\n",
       "    }\n",
       "\n",
       "    .dataframe tbody tr th {\n",
       "        vertical-align: top;\n",
       "    }\n",
       "\n",
       "    .dataframe thead th {\n",
       "        text-align: right;\n",
       "    }\n",
       "</style>\n",
       "<table border=\"1\" class=\"dataframe\">\n",
       "  <thead>\n",
       "    <tr style=\"text-align: right;\">\n",
       "      <th></th>\n",
       "      <th>fips</th>\n",
       "      <th>name</th>\n",
       "      <th>state</th>\n",
       "    </tr>\n",
       "  </thead>\n",
       "  <tbody>\n",
       "    <tr>\n",
       "      <th>0</th>\n",
       "      <td>0</td>\n",
       "      <td>UNITED STATES</td>\n",
       "      <td>NaN</td>\n",
       "    </tr>\n",
       "    <tr>\n",
       "      <th>1</th>\n",
       "      <td>1000</td>\n",
       "      <td>ALABAMA</td>\n",
       "      <td>NaN</td>\n",
       "    </tr>\n",
       "    <tr>\n",
       "      <th>2</th>\n",
       "      <td>1001</td>\n",
       "      <td>Autauga County</td>\n",
       "      <td>AL</td>\n",
       "    </tr>\n",
       "    <tr>\n",
       "      <th>3</th>\n",
       "      <td>1003</td>\n",
       "      <td>Baldwin County</td>\n",
       "      <td>AL</td>\n",
       "    </tr>\n",
       "    <tr>\n",
       "      <th>4</th>\n",
       "      <td>1005</td>\n",
       "      <td>Barbour County</td>\n",
       "      <td>AL</td>\n",
       "    </tr>\n",
       "  </tbody>\n",
       "</table>\n",
       "</div>"
      ],
      "text/plain": [
       "   fips            name state\n",
       "0     0   UNITED STATES   NaN\n",
       "1  1000         ALABAMA   NaN\n",
       "2  1001  Autauga County    AL\n",
       "3  1003  Baldwin County    AL\n",
       "4  1005  Barbour County    AL"
      ]
     },
     "execution_count": 3,
     "metadata": {},
     "output_type": "execute_result"
    }
   ],
   "source": [
    "FIPSCode_df = pd.read_csv(ALL_FIPS)\n",
    "\n",
    "FIPSCode_df.head()"
   ]
  },
  {
   "cell_type": "code",
   "execution_count": 4,
   "metadata": {},
   "outputs": [
    {
     "name": "stdout",
     "output_type": "stream",
     "text": [
      "County FIPS Code :  12\n",
      "County Name Code :  FL\n"
     ]
    }
   ],
   "source": [
    "County = 'Florida'\n",
    "county_info = fips_df.loc[fips_df['stname']==County]\n",
    "data = county_info.values.tolist()[0]\n",
    "\n",
    "print(\"County FIPS Code : \",data[1])\n",
    "print(\"County Name Code : \",data[2].strip())\n",
    "\n"
   ]
  },
  {
   "attachments": {},
   "cell_type": "markdown",
   "metadata": {},
   "source": [
    "## Populate all counties within State"
   ]
  },
  {
   "cell_type": "code",
   "execution_count": 5,
   "metadata": {},
   "outputs": [
    {
     "name": "stdout",
     "output_type": "stream",
     "text": [
      "FIPS found: 67\n",
      "FIPS found: ['12001', '12003', '12005', '12007', '12009', '12011', '12013', '12015', '12017', '12019', '12021', '12023', '12027', '12029', '12031', '12033', '12035', '12037', '12039', '12041', '12043', '12045', '12047', '12049', '12051', '12053', '12055', '12057', '12059', '12061', '12063', '12065', '12067', '12069', '12071', '12073', '12075', '12077', '12079', '12081', '12083', '12085', '12086', '12087', '12089', '12091', '12093', '12095', '12097', '12099', '12101', '12103', '12105', '12107', '12109', '12111', '12113', '12115', '12117', '12119', '12121', '12123', '12125', '12127', '12129', '12131', '12133']\n"
     ]
    }
   ],
   "source": [
    "fipss = list(map(lambda x: str(x),list(FIPSCode_df['fips'].loc[FIPSCode_df['state']==data[2].strip()])))\n",
    "fipss = list(map(lambda x: \"0{}\".format(x) if len(x)==4 else x ,fipss))\n",
    "\n",
    "print('FIPS found:',len(fipss))\n",
    "print('FIPS found:',fipss)"
   ]
  },
  {
   "cell_type": "code",
   "execution_count": 6,
   "metadata": {},
   "outputs": [
    {
     "name": "stderr",
     "output_type": "stream",
     "text": [
      "100%|██████████| 67/67 [33:01<00:00, 29.57s/it] \n"
     ]
    }
   ],
   "source": [
    "errors = set()\n",
    "out_path = f\"/mnt/c/Users/tandon/OneDrive - TomTom/Desktop/tomtom/Workspace/01_Rooftop_accuracy/APT-Realignment/data/{County}/parcels/\"\n",
    "\n",
    "for fips in tqdm(fipss,total=len(fipss)):    \n",
    "    if not os.path.isfile(os.path.join(out_path,f\"Parcels_{fips}.zip\")):\n",
    "        try:\n",
    "            urllib.request.urlretrieve(f\"https://sts-rescat-prod.s3-eu-west-1.amazonaws.com/Rescat/Global/Active/USA_Nation/USA000003213/AUTHORIZED%20USERS%20ONLY/July%202018/Parcels_{fips}.zip\", f\"/mnt/c/Users/tandon/OneDrive - TomTom/Desktop/tomtom/Workspace/01_Rooftop_accuracy/APT-Realignment/data/{County}/parcels/Parcels_{fips}.zip\")\n",
    "        except:\n",
    "            try:\n",
    "                urllib.request.urlretrieve(f\"https://sts-rescat-prod.s3-eu-west-1.amazonaws.com/Rescat/Global/Active/USA_Nation/USA000003213/AUTHORIZED%20USERS%20ONLY/April%202018/Parcels_{fips}.zip\", f\"/mnt/c/Users/tandon/OneDrive - TomTom/Desktop/tomtom/Workspace/01_Rooftop_accuracy/APT-Realignment/data/{County}/parcels/Parcels_{fips}.zip\")\n",
    "            except:\n",
    "                try:\n",
    "\n",
    "                    urllib.request.urlretrieve(f\"https://sts-rescat-prod.s3-eu-west-1.amazonaws.com/Rescat/Global/Active/USA_Nation/USA000003213/AUTHORIZED%20USERS%20ONLY/Jan%202018/Parcels_{fips}.zip\", f\"/mnt/c/Users/tandon/OneDrive - TomTom/Desktop/tomtom/Workspace/01_Rooftop_accuracy/APT-Realignment/data/{County}/parcels/Parcels_{fips}.zip\")\n",
    "                except:\n",
    "                    try:\n",
    "                        urllib.request.urlretrieve(f\"https://sts-rescat-prod.s3-eu-west-1.amazonaws.com/Rescat/Global/Active/USA_Nation/USA000003213/AUTHORIZED%20USERS%20ONLY/Oct%202017/Parcels_{fips}.zip\", f\"/mnt/c/Users/tandon/OneDrive - TomTom/Desktop/tomtom/Workspace/01_Rooftop_accuracy/APT-Realignment/data/{County}/parcels/Parcels_{fips}.zip\")\n",
    "                    except:\n",
    "                        try:\n",
    "                            urllib.request.urlretrieve(f\"https://sts-rescat-prod.s3-eu-west-1.amazonaws.com/Rescat/Global/Active/USA_Nation/USA000003213/AUTHORIZED%20USERS%20ONLY/July%202017/Parcels_{fips}.zip\", f\"/mnt/c/Users/tandon/OneDrive - TomTom/Desktop/tomtom/Workspace/01_Rooftop_accuracy/APT-Realignment/data/{County}/parcels/Parcels_{fips}.zip\")\n",
    "                        except:\n",
    "                            try:\n",
    "                                urllib.request.urlretrieve(f\"https://sts-rescat-prod.s3-eu-west-1.amazonaws.com/Rescat/Global/Active/USA_Nation/USA000003213/AUTHORIZED%20USERS%20ONLY/April%202017/Parcels_{fips}.zip\", f\"/mnt/c/Users/tandon/OneDrive - TomTom/Desktop/tomtom/Workspace/01_Rooftop_accuracy/APT-Realignment/data/{County}/parcels/Parcels_{fips}.zip\")\n",
    "                            except:\n",
    "                                try:\n",
    "                                    urllib.request.urlretrieve(f\"https://sts-rescat-prod.s3-eu-west-1.amazonaws.com/Rescat/Global/Active/USA_Nation/USA000003213/AUTHORIZED%20USERS%20ONLY/Jan%202017/Parcels_{fips}.zip\", f\"/mnt/c/Users/tandon/OneDrive - TomTom/Desktop/tomtom/Workspace/01_Rooftop_accuracy/APT-Realignment/data/{County}/parcels/Parcels_{fips}.zip\")\n",
    "                                except:\n",
    "                                    print(\"No information for :\",fips)\n",
    "                                    errors.add(fips)\n",
    "                                    continue"
   ]
  },
  {
   "cell_type": "code",
   "execution_count": null,
   "metadata": {},
   "outputs": [],
   "source": []
  }
 ],
 "metadata": {
  "kernelspec": {
   "display_name": "pygeo",
   "language": "python",
   "name": "python3"
  },
  "language_info": {
   "codemirror_mode": {
    "name": "ipython",
    "version": 3
   },
   "file_extension": ".py",
   "mimetype": "text/x-python",
   "name": "python",
   "nbconvert_exporter": "python",
   "pygments_lexer": "ipython3",
   "version": "3.8.13"
  },
  "orig_nbformat": 4,
  "vscode": {
   "interpreter": {
    "hash": "70ce54ad97a74852893fb3a2eed7fab00a48abaab9c8d77c9e0b6a3e4b45b116"
   }
  }
 },
 "nbformat": 4,
 "nbformat_minor": 2
}
