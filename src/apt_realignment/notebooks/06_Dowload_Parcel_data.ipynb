{
 "cells": [
  {
   "cell_type": "code",
   "execution_count": null,
   "metadata": {},
   "outputs": [],
   "source": [
    "import pandas as pd \n",
    "from tqdm import tqdm \n",
    "import urllib\n",
    "import os\n",
    "\n",
    "FIPS_CSV_PATH = \"us-state-ansi-fips.csv\"\n",
    "ALL_FIPS = \"All_counties_code.csv\"\n",
    "\n",
    "data_path = \"mnt/c/Users/tandon/OneDrive - TomTom/Desktop/tomtom/Workspace/01_Rooftop_accuracy/APT-Realignment/data/\"\n",
    "\n",
    "fips_df = pd.read_csv(FIPS_CSV_PATH)\n",
    "fips_df.head()\n"
   ]
  },
  {
   "cell_type": "code",
   "execution_count": null,
   "metadata": {},
   "outputs": [],
   "source": [
    "FIPSCode_df = pd.read_csv(ALL_FIPS)\n",
    "\n",
    "FIPSCode_df.head()"
   ]
  },
  {
   "cell_type": "code",
   "execution_count": null,
   "metadata": {},
   "outputs": [],
   "source": [
    "County = 'Texas'\n",
    "county_info = fips_df.loc[fips_df['stname']==County]\n",
    "data = county_info.values.tolist()[0]\n",
    "\n",
    "print(\"County FIPS Code : \",data[1])\n",
    "print(\"County Name Code : \",data[2].strip())\n",
    "\n"
   ]
  },
  {
   "attachments": {},
   "cell_type": "markdown",
   "metadata": {},
   "source": [
    "## Populate all counties within State"
   ]
  },
  {
   "cell_type": "code",
   "execution_count": null,
   "metadata": {},
   "outputs": [],
   "source": [
    "fipss = list(map(lambda x: str(x),list(FIPSCode_df['fips'].loc[FIPSCode_df['state']==data[2].strip()])))\n",
    "fipss = list(map(lambda x: \"0{}\".format(x) if len(x)==4 else x ,fipss))\n",
    "\n",
    "print('FIPS found:',len(fipss))\n",
    "print('FIPS found:',fipss)"
   ]
  },
  {
   "cell_type": "code",
   "execution_count": null,
   "metadata": {},
   "outputs": [],
   "source": [
    "errors = set()\n",
    "out_path = f\"/mnt/c/Users/tandon/OneDrive - TomTom/Desktop/tomtom/Workspace/01_Rooftop_accuracy/APT-Realignment/data/{County}/parcels/\"\n",
    "\n",
    "for fips in tqdm(fipss,total=len(fipss)):    \n",
    "    if not os.path.isfile(os.path.join(out_path,f\"Parcels_{fips}.zip\")):\n",
    "        try:\n",
    "            urllib.request.urlretrieve(f\"https://sts-rescat-prod.s3-eu-west-1.amazonaws.com/Rescat/Global/Active/USA_Nation/USA000003213/AUTHORIZED%20USERS%20ONLY/July%202018/Parcels_{fips}.zip\", f\"/mnt/c/Users/tandon/OneDrive - TomTom/Desktop/tomtom/Workspace/01_Rooftop_accuracy/APT-Realignment/data/{County}/parcels/Parcels_{fips}.zip\")\n",
    "        except:\n",
    "            try:\n",
    "                urllib.request.urlretrieve(f\"https://sts-rescat-prod.s3-eu-west-1.amazonaws.com/Rescat/Global/Active/USA_Nation/USA000003213/AUTHORIZED%20USERS%20ONLY/April%202018/Parcels_{fips}.zip\", f\"/mnt/c/Users/tandon/OneDrive - TomTom/Desktop/tomtom/Workspace/01_Rooftop_accuracy/APT-Realignment/data/{County}/parcels/Parcels_{fips}.zip\")\n",
    "            except:\n",
    "                try:\n",
    "\n",
    "                    urllib.request.urlretrieve(f\"https://sts-rescat-prod.s3-eu-west-1.amazonaws.com/Rescat/Global/Active/USA_Nation/USA000003213/AUTHORIZED%20USERS%20ONLY/Jan%202018/Parcels_{fips}.zip\", f\"/mnt/c/Users/tandon/OneDrive - TomTom/Desktop/tomtom/Workspace/01_Rooftop_accuracy/APT-Realignment/data/{County}/parcels/Parcels_{fips}.zip\")\n",
    "                except:\n",
    "                    try:\n",
    "                        urllib.request.urlretrieve(f\"https://sts-rescat-prod.s3-eu-west-1.amazonaws.com/Rescat/Global/Active/USA_Nation/USA000003213/AUTHORIZED%20USERS%20ONLY/Oct%202017/Parcels_{fips}.zip\", f\"/mnt/c/Users/tandon/OneDrive - TomTom/Desktop/tomtom/Workspace/01_Rooftop_accuracy/APT-Realignment/data/{County}/parcels/Parcels_{fips}.zip\")\n",
    "                    except:\n",
    "                        try:\n",
    "                            urllib.request.urlretrieve(f\"https://sts-rescat-prod.s3-eu-west-1.amazonaws.com/Rescat/Global/Active/USA_Nation/USA000003213/AUTHORIZED%20USERS%20ONLY/July%202017/Parcels_{fips}.zip\", f\"/mnt/c/Users/tandon/OneDrive - TomTom/Desktop/tomtom/Workspace/01_Rooftop_accuracy/APT-Realignment/data/{County}/parcels/Parcels_{fips}.zip\")\n",
    "                        except:\n",
    "                            try:\n",
    "                                urllib.request.urlretrieve(f\"https://sts-rescat-prod.s3-eu-west-1.amazonaws.com/Rescat/Global/Active/USA_Nation/USA000003213/AUTHORIZED%20USERS%20ONLY/April%202017/Parcels_{fips}.zip\", f\"/mnt/c/Users/tandon/OneDrive - TomTom/Desktop/tomtom/Workspace/01_Rooftop_accuracy/APT-Realignment/data/{County}/parcels/Parcels_{fips}.zip\")\n",
    "                            except:\n",
    "                                try:\n",
    "                                    urllib.request.urlretrieve(f\"https://sts-rescat-prod.s3-eu-west-1.amazonaws.com/Rescat/Global/Active/USA_Nation/USA000003213/AUTHORIZED%20USERS%20ONLY/Jan%202017/Parcels_{fips}.zip\", f\"/mnt/c/Users/tandon/OneDrive - TomTom/Desktop/tomtom/Workspace/01_Rooftop_accuracy/APT-Realignment/data/{County}/parcels/Parcels_{fips}.zip\")\n",
    "                                except:\n",
    "                                    print(\"No information for :\",fips)\n",
    "                                    errors.add(fips)\n",
    "                                    continue"
   ]
  }
 ],
 "metadata": {
  "kernelspec": {
   "display_name": "pygeo",
   "language": "python",
   "name": "python3"
  },
  "language_info": {
   "codemirror_mode": {
    "name": "ipython",
    "version": 3
   },
   "file_extension": ".py",
   "mimetype": "text/x-python",
   "name": "python",
   "nbconvert_exporter": "python",
   "pygments_lexer": "ipython3",
   "version": "3.8.13"
  },
  "orig_nbformat": 4,
  "vscode": {
   "interpreter": {
    "hash": "70ce54ad97a74852893fb3a2eed7fab00a48abaab9c8d77c9e0b6a3e4b45b116"
   }
  }
 },
 "nbformat": 4,
 "nbformat_minor": 2
}
