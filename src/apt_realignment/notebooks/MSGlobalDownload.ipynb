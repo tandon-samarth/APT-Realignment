{
 "cells": [
  {
   "cell_type": "code",
   "execution_count": 1,
   "metadata": {
    "gather": {
     "logged": 1674458079536
    }
   },
   "outputs": [],
   "source": [
    "\n",
    "import geopandas as gpd\n",
    "import pandas as pd\n",
    "import urllib.request\n",
    "from tqdm.auto import tqdm\n",
    "from sqlalchemy import create_engine\n",
    "from urllib.parse import quote \n",
    "from shapely.geometry import shape\n",
    "\n"
   ]
  },
  {
   "cell_type": "code",
   "execution_count": 2,
   "metadata": {
    "gather": {
     "logged": 1674458079653
    },
    "jupyter": {
     "outputs_hidden": false,
     "source_hidden": false
    },
    "nteract": {
     "transient": {
      "deleting": false
     }
    }
   },
   "outputs": [],
   "source": [
    "passowrd = 'admin@123'\n",
    "db_connection_url = \"postgresql://cerebroadmin:%s@10.128.154.4:5432/postgres\" % quote(passowrd)\n",
    "con = create_engine(db_connection_url)"
   ]
  },
  {
   "cell_type": "code",
   "execution_count": 3,
   "metadata": {
    "gather": {
     "logged": 1674458082017
    },
    "jupyter": {
     "outputs_hidden": false,
     "source_hidden": false
    },
    "nteract": {
     "transient": {
      "deleting": false
     }
    }
   },
   "outputs": [],
   "source": [
    "location = 'United States'\n",
    "\n",
    "dataset_links = pd.read_csv(\"https://minedbuildings.blob.core.windows.net/global-buildings/dataset-links.csv\")\n",
    "greece_links = dataset_links[dataset_links.Location == location]"
   ]
  },
  {
   "cell_type": "code",
   "execution_count": 4,
   "metadata": {
    "gather": {
     "logged": 1674472570098
    },
    "jupyter": {
     "outputs_hidden": false,
     "source_hidden": false
    },
    "nteract": {
     "transient": {
      "deleting": false
     }
    }
   },
   "outputs": [
    {
     "data": {
      "application/vnd.jupyter.widget-view+json": {
       "model_id": "2631f8691ac64b38a963c85e9a3a6586",
       "version_major": 2,
       "version_minor": 0
      },
      "text/plain": [
       "0it [00:00, ?it/s]"
      ]
     },
     "metadata": {},
     "output_type": "display_data"
    },
    {
     "name": "stderr",
     "output_type": "stream",
     "text": [
      "No such comm: 3fe56b7a8e374b3389d78f34b62438aa\n",
      "No such comm: 905a6587568e4484a62617d28b6e9b9e\n",
      "No such comm: 58a370eab7274b40a638460a8ec99e9a\n",
      "No such comm: e2cfd9846ac64afca7af71838886964a\n",
      "No such comm: 5d780cc74a774d06a6219aa8f7571cc7\n",
      "No such comm: 3c6c54c0a7c14f3e9e520e748ca6902c\n",
      "No such comm: 3778ba9376b2440b9820de7461b1755d\n",
      "No such comm: fc0530bf97b04d6d8991f268bc9945e4\n",
      "No such comm: ae4d5c6c77a541c59e4ca2fb443201ad\n",
      "No such comm: c4f2bf69136b417bb3a43aa63c74b86a\n",
      "No such comm: 6c8d6b770d804097b29ec7421ad154cf\n",
      "No such comm: 813d844efdf04322ba2116d67cdf3b8a\n",
      "No such comm: c34b274ae21c4c6498cc930461343347\n",
      "No such comm: e29ce962ea1b4142b71372f913ee7cdd\n",
      "No such comm: 5274dad61c5e41c5921d3e36254d4ab7\n",
      "No such comm: 9bc468640f2748e5a7e254e6d67319c4\n",
      "No such comm: 0aad00ead7af40a087337383b0eaa838\n"
     ]
    }
   ],
   "source": [
    "for _, row in tqdm(greece_links.iterrows()):\n",
    "    df = pd.read_json(row.Url, lines=True)\n",
    "    df['geometry'] = df['geometry'].apply(shape)\n",
    "    gdf = gpd.GeoDataFrame(df, crs=4326)\n",
    "    gdf = gdf.to_crs(3857)\n",
    "    gdf[['geometry']].to_postgis(name=\"msft_building_footprints\", schema='dev_ppa', con=con, index=False, if_exists='append')"
   ]
  },
  {
   "cell_type": "code",
   "execution_count": null,
   "metadata": {
    "jupyter": {
     "outputs_hidden": false,
     "source_hidden": false
    },
    "nteract": {
     "transient": {
      "deleting": false
     }
    }
   },
   "outputs": [],
   "source": []
  }
 ],
 "metadata": {
  "kernel_info": {
   "name": "airs"
  },
  "kernelspec": {
   "display_name": "Python 3",
   "language": "python",
   "name": "python3"
  },
  "language_info": {
   "codemirror_mode": {
    "name": "ipython",
    "version": 3
   },
   "file_extension": ".py",
   "mimetype": "text/x-python",
   "name": "python",
   "nbconvert_exporter": "python",
   "pygments_lexer": "ipython3",
   "version": "3.8.10 (default, Nov 26 2021, 20:14:08) \n[GCC 9.3.0]"
  },
  "microsoft": {
   "host": {
    "AzureML": {
     "notebookHasBeenCompleted": true
    }
   }
  },
  "nteract": {
   "version": "nteract-front-end@1.0.0"
  },
  "vscode": {
   "interpreter": {
    "hash": "31f2aee4e71d21fbe5cf8b01ff0e069b9275f58929596ceb00d14d90e3e16cd6"
   }
  }
 },
 "nbformat": 4,
 "nbformat_minor": 2
}
