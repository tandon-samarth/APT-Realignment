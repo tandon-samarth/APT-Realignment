{
 "cells": [
  {
   "cell_type": "markdown",
   "metadata": {
    "application/vnd.databricks.v1+cell": {
     "inputWidgets": {},
     "nuid": "176fd7bb-582c-4d57-94e0-2f46829e0dfe",
     "showTitle": false,
     "title": ""
    }
   },
   "source": [
    "# Requirements + setup"
   ]
  },
  {
   "cell_type": "code",
   "execution_count": 163,
   "metadata": {
    "application/vnd.databricks.v1+cell": {
     "inputWidgets": {},
     "nuid": "858985c9-74ac-4335-8a1d-71e4d7335b14",
     "showTitle": false,
     "title": ""
    }
   },
   "outputs": [],
   "source": [
    "# !pip install /wheels/*"
   ]
  },
  {
   "cell_type": "code",
   "execution_count": 1,
   "metadata": {
    "application/vnd.databricks.v1+cell": {
     "inputWidgets": {},
     "nuid": "7ab241cd-8604-48f8-b9bd-8a6d9046a399",
     "showTitle": false,
     "title": ""
    }
   },
   "outputs": [
    {
     "name": "stderr",
     "output_type": "stream",
     "text": [
      "/home/tandon/anaconda3/envs/pygeo/lib/python3.8/site-packages/geopandas/_compat.py:112: UserWarning: The Shapely GEOS version (3.8.0-CAPI-1.13.1 ) is incompatible with the GEOS version PyGEOS was compiled with (3.10.1-CAPI-1.16.0). Conversions between both will be slow.\n",
      "  warnings.warn(\n",
      "/home/tandon/anaconda3/envs/pygeo/lib/python3.8/site-packages/fuzzywuzzy/fuzz.py:11: UserWarning: Using slow pure-python SequenceMatcher. Install python-Levenshtein to remove this warning\n",
      "  warnings.warn('Using slow pure-python SequenceMatcher. Install python-Levenshtein to remove this warning')\n"
     ]
    }
   ],
   "source": [
    "import pandas as pd\n",
    "import geopandas as gpd\n",
    "import numpy as np\n",
    "from shapely.ops import unary_union\n",
    "import folium\n",
    "from shapely.geometry import mapping\n",
    "import json\n",
    "from pyspark.sql import SparkSession\n",
    "import unidecode\n",
    "from addressing.utils import libpostal\n",
    "from fuzzywuzzy import fuzz\n",
    "import nltk\n",
    "from nltk.corpus import stopwords\n",
    "from addressing.automatic_matching import automatic_matching\n",
    "from addressing.automatic_matching.rooftop.rooftop import haversine_distance\n",
    "import re\n",
    "import sys, os\n",
    "import sqlalchemy\n",
    "from datetime import date\n",
    "\n",
    "county = 'miamidade'\n",
    "data_path = \"data/\"\n",
    "Updated_geometries_pickle = os.path.join(data_path,\"APT_realigned_usa_ufl_miamidade.pkl\")"
   ]
  },
  {
   "cell_type": "code",
   "execution_count": 2,
   "metadata": {
    "application/vnd.databricks.v1+cell": {
     "inputWidgets": {},
     "nuid": "43075523-cc26-4f2a-9740-1f112992ebc5",
     "showTitle": false,
     "title": ""
    }
   },
   "outputs": [
    {
     "name": "stderr",
     "output_type": "stream",
     "text": [
      "[nltk_data] Downloading package stopwords to /home/tandon/nltk_data...\n",
      "[nltk_data]   Package stopwords is already up-to-date!\n"
     ]
    },
    {
     "data": {
      "text/plain": [
       "True"
      ]
     },
     "execution_count": 2,
     "metadata": {},
     "output_type": "execute_result"
    }
   ],
   "source": [
    "nltk.download('stopwords')"
   ]
  },
  {
   "cell_type": "code",
   "execution_count": 3,
   "metadata": {
    "application/vnd.databricks.v1+cell": {
     "inputWidgets": {},
     "nuid": "c2dff75e-f270-48e1-b1ba-1bd0e0324e24",
     "showTitle": false,
     "title": ""
    }
   },
   "outputs": [],
   "source": [
    "DB = {\n",
    "'host' : \"10.137.173.84\",\n",
    "'port' : '5432',\n",
    "'database' :  \"STAN\",\n",
    "'user' : \"strategicadmin\",\n",
    "'password' :  \"TBmG4Yj3DdwOI+Aq\"\n",
    "}\n",
    "\n",
    "class ReadAndWrite2PostgresDB:\n",
    "\n",
    "    def __init__(self, engine):\n",
    "        self.engine = engine\n",
    "\n",
    "    def read_from_db(self, query, retry_num=3):\n",
    "\n",
    "        for _ in range(retry_num):\n",
    "            df = None\n",
    "            try:\n",
    "                df = pd.read_sql(query, self.engine)\n",
    "                return df\n",
    "\n",
    "            except Exception as e:\n",
    "                print(e)\n",
    "\n",
    "        return df\n",
    "\n",
    "    def write_to_db(self, df, schema, table_name, retry_num=3):\n",
    "        for _ in range(retry_num):\n",
    "            try:\n",
    "                \n",
    "                df.to_sql(\n",
    "                    table_name,\n",
    "                    con=self.engine,\n",
    "                    if_exists='append',\n",
    "                    schema=schema,\n",
    "                    index = False)\n",
    "                print(\"Table stored!\")\n",
    "                return 1\n",
    "\n",
    "            except Exception as e:\n",
    "                print(e)\n",
    "\n",
    "        return 0"
   ]
  },
  {
   "cell_type": "code",
   "execution_count": 4,
   "metadata": {
    "application/vnd.databricks.v1+cell": {
     "inputWidgets": {},
     "nuid": "80568a0b-e07d-49a6-a0ae-77315b33d048",
     "showTitle": false,
     "title": ""
    }
   },
   "outputs": [],
   "source": [
    "engine = sqlalchemy.create_engine(f'postgresql+psycopg2://{DB[\"user\"]}:{DB[\"password\"]}@{DB[\"host\"]}:{DB[\"port\"]}/{DB[\"database\"]}',echo = False)\n",
    "raw2p = ReadAndWrite2PostgresDB(engine)\n",
    "# change this to false if you need to run matching on the copy of MNR - TT map\n",
    "delta = True"
   ]
  },
  {
   "cell_type": "code",
   "execution_count": 5,
   "metadata": {
    "application/vnd.databricks.v1+cell": {
     "inputWidgets": {},
     "nuid": "98333593-68b7-4dec-be28-c85c20652e1b",
     "showTitle": false,
     "title": ""
    }
   },
   "outputs": [],
   "source": [
    "counties = ['harris', 'santaclara', 'miamidade', 'arapahoe', 'duval']\n",
    "date = date.today()"
   ]
  },
  {
   "cell_type": "markdown",
   "metadata": {
    "application/vnd.databricks.v1+cell": {
     "inputWidgets": {},
     "nuid": "d68d6dc1-0535-4ec2-a6be-73118aae00fc",
     "showTitle": false,
     "title": ""
    }
   },
   "source": [
    "Stopwords"
   ]
  },
  {
   "cell_type": "code",
   "execution_count": 6,
   "metadata": {
    "application/vnd.databricks.v1+cell": {
     "inputWidgets": {},
     "nuid": "b863fd02-66ed-417d-a366-f3ab7997ec81",
     "showTitle": false,
     "title": ""
    }
   },
   "outputs": [],
   "source": [
    "countries_stopwords = {\n",
    "  'br': stopwords.words('portuguese') + ['rua', 'avenida'], \n",
    "  'ca': stopwords.words('french') + stopwords.words('english') +  ['road', 'street', 'st.', 'st', 'rue', 'chemin', 'avenue'],\n",
    "  'es': stopwords.words('spanish') + ['calle', 'avenida', 'callejón', 'paseo'],\n",
    "  'fr': stopwords.words('french') + ['rue', 'chemin', 'avenue'],\n",
    "  'gb': stopwords.words('english') + ['street', 'road', 'avenue', 'st.', 'st', 'drive'],\n",
    "  'it': stopwords.words('italian') + ['via', 'viale', 'strada'],\n",
    "  'mx': stopwords.words('spanish') + ['calle', 'avenida', 'callejón', 'paseo'],\n",
    "  'us': stopwords.words('english') + ['street', 'road', 'avenue', 'st.', 'st', 'drive'],\n",
    "  'be': stopwords.words('french') + ['rue', 'chemin', 'avenue'],\n",
    "  'za': stopwords.words('english') + ['street', 'road', 'avenue', 'st.', 'st', 'drive']\n",
    "}\n",
    "\n",
    "countries_stopwords = {k:'|'.join(['\\\\b' + word + '\\\\b' for word in v]) for k, v in countries_stopwords.items()}"
   ]
  },
  {
   "cell_type": "markdown",
   "metadata": {
    "application/vnd.databricks.v1+cell": {
     "inputWidgets": {},
     "nuid": "b72b52ac-0082-473e-a987-97ca6e3a81d2",
     "showTitle": false,
     "title": ""
    }
   },
   "source": [
    "## Reading the data"
   ]
  },
  {
   "cell_type": "markdown",
   "metadata": {
    "application/vnd.databricks.v1+cell": {
     "inputWidgets": {},
     "nuid": "ed8deeee-d104-4a26-a188-fe0a397348b3",
     "showTitle": false,
     "title": ""
    }
   },
   "source": [
    "### Sample addresses"
   ]
  },
  {
   "cell_type": "code",
   "execution_count": 7,
   "metadata": {
    "application/vnd.databricks.v1+cell": {
     "inputWidgets": {},
     "nuid": "dc241cdc-5231-498e-bc8c-f140a59463cd",
     "showTitle": false,
     "title": ""
    }
   },
   "outputs": [
    {
     "name": "stdout",
     "output_type": "stream",
     "text": [
      "Sample Size : (2049, 29)\n"
     ]
    },
    {
     "data": {
      "text/html": [
       "<div>\n",
       "<style scoped>\n",
       "    .dataframe tbody tr th:only-of-type {\n",
       "        vertical-align: middle;\n",
       "    }\n",
       "\n",
       "    .dataframe tbody tr th {\n",
       "        vertical-align: top;\n",
       "    }\n",
       "\n",
       "    .dataframe thead th {\n",
       "        text-align: right;\n",
       "    }\n",
       "</style>\n",
       "<table border=\"1\" class=\"dataframe\">\n",
       "  <thead>\n",
       "    <tr style=\"text-align: right;\">\n",
       "      <th></th>\n",
       "      <th>country</th>\n",
       "      <th>searched_query_unidecode_sample</th>\n",
       "      <th>libpostal_query</th>\n",
       "      <th>libpostal_response</th>\n",
       "      <th>libpostal_house</th>\n",
       "      <th>libpostal_category</th>\n",
       "      <th>libpostal_near</th>\n",
       "      <th>libpostal_house_number</th>\n",
       "      <th>libpostal_road</th>\n",
       "      <th>libpostal_unit</th>\n",
       "      <th>...</th>\n",
       "      <th>libpostal_state_district</th>\n",
       "      <th>libpostal_state</th>\n",
       "      <th>libpostal_country_region</th>\n",
       "      <th>libpostal_country</th>\n",
       "      <th>libpostal_world_region</th>\n",
       "      <th>lat_sample</th>\n",
       "      <th>lon_sample</th>\n",
       "      <th>county</th>\n",
       "      <th>sample_id</th>\n",
       "      <th>geometry</th>\n",
       "    </tr>\n",
       "  </thead>\n",
       "  <tbody>\n",
       "    <tr>\n",
       "      <th>0</th>\n",
       "      <td>USA</td>\n",
       "      <td>12535 SW 60th Ct, Miami, FL 33156, USA</td>\n",
       "      <td>{\"query\": \"12535 SW 60th Ct, Miami, FL 33156, ...</td>\n",
       "      <td>{'country': 'usa', 'city': 'miami', 'road': 's...</td>\n",
       "      <td></td>\n",
       "      <td></td>\n",
       "      <td></td>\n",
       "      <td>12535</td>\n",
       "      <td>sw 60th ct</td>\n",
       "      <td></td>\n",
       "      <td>...</td>\n",
       "      <td></td>\n",
       "      <td>fl</td>\n",
       "      <td></td>\n",
       "      <td>usa</td>\n",
       "      <td></td>\n",
       "      <td>25.654567</td>\n",
       "      <td>-80.290398</td>\n",
       "      <td>miamidade</td>\n",
       "      <td>1555</td>\n",
       "      <td>POLYGON ((-80.28141 25.65457, -80.28146 25.653...</td>\n",
       "    </tr>\n",
       "    <tr>\n",
       "      <th>1</th>\n",
       "      <td>USA</td>\n",
       "      <td>1150 8th St, Miami Beach, FL 33139, USA</td>\n",
       "      <td>{\"query\": \"1150 8th St, Miami Beach, FL 33139,...</td>\n",
       "      <td>{'country': 'usa', 'city': 'miami beach', 'roa...</td>\n",
       "      <td></td>\n",
       "      <td></td>\n",
       "      <td></td>\n",
       "      <td>1150</td>\n",
       "      <td>8th st</td>\n",
       "      <td></td>\n",
       "      <td>...</td>\n",
       "      <td></td>\n",
       "      <td>fl</td>\n",
       "      <td></td>\n",
       "      <td>usa</td>\n",
       "      <td></td>\n",
       "      <td>25.778059</td>\n",
       "      <td>-80.140367</td>\n",
       "      <td>miamidade</td>\n",
       "      <td>1556</td>\n",
       "      <td>POLYGON ((-80.13138 25.77806, -80.13143 25.777...</td>\n",
       "    </tr>\n",
       "    <tr>\n",
       "      <th>2</th>\n",
       "      <td>USA</td>\n",
       "      <td>26608 SW 128th Ct, Homestead, FL 33032, USA</td>\n",
       "      <td>{\"query\": \"26608 SW 128th Ct, Homestead, FL 33...</td>\n",
       "      <td>{'country': 'usa', 'city': 'homestead', 'road'...</td>\n",
       "      <td></td>\n",
       "      <td></td>\n",
       "      <td></td>\n",
       "      <td>26608</td>\n",
       "      <td>sw 128th ct</td>\n",
       "      <td></td>\n",
       "      <td>...</td>\n",
       "      <td></td>\n",
       "      <td>fl</td>\n",
       "      <td></td>\n",
       "      <td>usa</td>\n",
       "      <td></td>\n",
       "      <td>25.520111</td>\n",
       "      <td>-80.399783</td>\n",
       "      <td>miamidade</td>\n",
       "      <td>1557</td>\n",
       "      <td>POLYGON ((-80.39080 25.52011, -80.39084 25.519...</td>\n",
       "    </tr>\n",
       "    <tr>\n",
       "      <th>3</th>\n",
       "      <td>USA</td>\n",
       "      <td>15 W 9th St, Hialeah, FL 33010, USA</td>\n",
       "      <td>{\"query\": \"15 W 9th St, Hialeah, FL 33010, USA\"}</td>\n",
       "      <td>{'country': 'usa', 'city': 'hialeah', 'road': ...</td>\n",
       "      <td></td>\n",
       "      <td></td>\n",
       "      <td></td>\n",
       "      <td>15</td>\n",
       "      <td>w 9th st</td>\n",
       "      <td></td>\n",
       "      <td>...</td>\n",
       "      <td></td>\n",
       "      <td>fl</td>\n",
       "      <td></td>\n",
       "      <td>usa</td>\n",
       "      <td></td>\n",
       "      <td>25.830181</td>\n",
       "      <td>-80.282095</td>\n",
       "      <td>miamidade</td>\n",
       "      <td>1558</td>\n",
       "      <td>POLYGON ((-80.27311 25.83018, -80.27316 25.829...</td>\n",
       "    </tr>\n",
       "    <tr>\n",
       "      <th>4</th>\n",
       "      <td>USA</td>\n",
       "      <td>1795 W Okeechobee Rd, Hialeah, FL 33010, USA</td>\n",
       "      <td>{\"query\": \"1795 W Okeechobee Rd, Hialeah, FL 3...</td>\n",
       "      <td>{'country': 'usa', 'city': 'hialeah', 'road': ...</td>\n",
       "      <td></td>\n",
       "      <td></td>\n",
       "      <td></td>\n",
       "      <td>1795</td>\n",
       "      <td>w okeechobee rd</td>\n",
       "      <td></td>\n",
       "      <td>...</td>\n",
       "      <td></td>\n",
       "      <td>fl</td>\n",
       "      <td></td>\n",
       "      <td>usa</td>\n",
       "      <td></td>\n",
       "      <td>25.837865</td>\n",
       "      <td>-80.300429</td>\n",
       "      <td>miamidade</td>\n",
       "      <td>1559</td>\n",
       "      <td>POLYGON ((-80.29145 25.83787, -80.29149 25.837...</td>\n",
       "    </tr>\n",
       "  </tbody>\n",
       "</table>\n",
       "<p>5 rows × 29 columns</p>\n",
       "</div>"
      ],
      "text/plain": [
       "  country               searched_query_unidecode_sample  \\\n",
       "0     USA        12535 SW 60th Ct, Miami, FL 33156, USA   \n",
       "1     USA       1150 8th St, Miami Beach, FL 33139, USA   \n",
       "2     USA   26608 SW 128th Ct, Homestead, FL 33032, USA   \n",
       "3     USA           15 W 9th St, Hialeah, FL 33010, USA   \n",
       "4     USA  1795 W Okeechobee Rd, Hialeah, FL 33010, USA   \n",
       "\n",
       "                                     libpostal_query  \\\n",
       "0  {\"query\": \"12535 SW 60th Ct, Miami, FL 33156, ...   \n",
       "1  {\"query\": \"1150 8th St, Miami Beach, FL 33139,...   \n",
       "2  {\"query\": \"26608 SW 128th Ct, Homestead, FL 33...   \n",
       "3   {\"query\": \"15 W 9th St, Hialeah, FL 33010, USA\"}   \n",
       "4  {\"query\": \"1795 W Okeechobee Rd, Hialeah, FL 3...   \n",
       "\n",
       "                                  libpostal_response libpostal_house  \\\n",
       "0  {'country': 'usa', 'city': 'miami', 'road': 's...                   \n",
       "1  {'country': 'usa', 'city': 'miami beach', 'roa...                   \n",
       "2  {'country': 'usa', 'city': 'homestead', 'road'...                   \n",
       "3  {'country': 'usa', 'city': 'hialeah', 'road': ...                   \n",
       "4  {'country': 'usa', 'city': 'hialeah', 'road': ...                   \n",
       "\n",
       "  libpostal_category libpostal_near libpostal_house_number   libpostal_road  \\\n",
       "0                                                    12535       sw 60th ct   \n",
       "1                                                     1150           8th st   \n",
       "2                                                    26608      sw 128th ct   \n",
       "3                                                       15         w 9th st   \n",
       "4                                                     1795  w okeechobee rd   \n",
       "\n",
       "  libpostal_unit  ... libpostal_state_district libpostal_state  \\\n",
       "0                 ...                                       fl   \n",
       "1                 ...                                       fl   \n",
       "2                 ...                                       fl   \n",
       "3                 ...                                       fl   \n",
       "4                 ...                                       fl   \n",
       "\n",
       "  libpostal_country_region libpostal_country libpostal_world_region  \\\n",
       "0                                        usa                          \n",
       "1                                        usa                          \n",
       "2                                        usa                          \n",
       "3                                        usa                          \n",
       "4                                        usa                          \n",
       "\n",
       "  lat_sample lon_sample     county sample_id  \\\n",
       "0  25.654567 -80.290398  miamidade      1555   \n",
       "1  25.778059 -80.140367  miamidade      1556   \n",
       "2  25.520111 -80.399783  miamidade      1557   \n",
       "3  25.830181 -80.282095  miamidade      1558   \n",
       "4  25.837865 -80.300429  miamidade      1559   \n",
       "\n",
       "                                            geometry  \n",
       "0  POLYGON ((-80.28141 25.65457, -80.28146 25.653...  \n",
       "1  POLYGON ((-80.13138 25.77806, -80.13143 25.777...  \n",
       "2  POLYGON ((-80.39080 25.52011, -80.39084 25.519...  \n",
       "3  POLYGON ((-80.27311 25.83018, -80.27316 25.829...  \n",
       "4  POLYGON ((-80.29145 25.83787, -80.29149 25.837...  \n",
       "\n",
       "[5 rows x 29 columns]"
      ]
     },
     "execution_count": 7,
     "metadata": {},
     "output_type": "execute_result"
    }
   ],
   "source": [
    "sample_query = f\"\"\"SELECT * FROM \"STAN_169\".sample where county = '{county}'\"\"\"\n",
    "sample_df = raw2p.read_from_db(query = sample_query)\n",
    "sample_geom = gpd.GeoSeries.from_wkt(sample_df.geometry)\n",
    "sample_gdf = gpd.GeoDataFrame(sample_df.drop('geometry', axis = 1),geometry = sample_geom,crs = 'EPSG:4326')\n",
    "\n",
    "print(\"Sample Size :\",sample_df.shape)\n",
    "sample_gdf.head()"
   ]
  },
  {
   "cell_type": "markdown",
   "metadata": {
    "application/vnd.databricks.v1+cell": {
     "inputWidgets": {},
     "nuid": "38b9a4e5-4199-4a8d-9602-dc6b65b8213f",
     "showTitle": false,
     "title": ""
    }
   },
   "source": [
    "### Source"
   ]
  },
  {
   "cell_type": "code",
   "execution_count": 8,
   "metadata": {
    "application/vnd.databricks.v1+cell": {
     "inputWidgets": {},
     "nuid": "05a6ab54-3fee-4f88-97f5-675946d73c12",
     "showTitle": false,
     "title": ""
    }
   },
   "outputs": [
    {
     "data": {
      "text/html": [
       "<div>\n",
       "<style scoped>\n",
       "    .dataframe tbody tr th:only-of-type {\n",
       "        vertical-align: middle;\n",
       "    }\n",
       "\n",
       "    .dataframe tbody tr th {\n",
       "        vertical-align: top;\n",
       "    }\n",
       "\n",
       "    .dataframe thead th {\n",
       "        text-align: right;\n",
       "    }\n",
       "</style>\n",
       "<table border=\"1\" class=\"dataframe\">\n",
       "  <thead>\n",
       "    <tr style=\"text-align: right;\">\n",
       "      <th></th>\n",
       "      <th>feat_id</th>\n",
       "      <th>postal_code</th>\n",
       "      <th>hsn</th>\n",
       "      <th>state</th>\n",
       "      <th>city</th>\n",
       "      <th>street_name</th>\n",
       "      <th>country_code</th>\n",
       "      <th>prefix</th>\n",
       "      <th>suffix</th>\n",
       "      <th>pre_dir</th>\n",
       "      <th>post_dir</th>\n",
       "      <th>x</th>\n",
       "      <th>y</th>\n",
       "      <th>county</th>\n",
       "      <th>geometry</th>\n",
       "    </tr>\n",
       "  </thead>\n",
       "  <tbody>\n",
       "    <tr>\n",
       "      <th>0</th>\n",
       "      <td>c2510eea-e274-4cae-90eb-658e06637a45</td>\n",
       "      <td>33133</td>\n",
       "      <td>3625</td>\n",
       "      <td>FL</td>\n",
       "      <td>Miami</td>\n",
       "      <td>S Douglas Rd</td>\n",
       "      <td>USA</td>\n",
       "      <td>None</td>\n",
       "      <td>Rd</td>\n",
       "      <td>S</td>\n",
       "      <td>None</td>\n",
       "      <td>-80.252516</td>\n",
       "      <td>25.724369</td>\n",
       "      <td>miamidade</td>\n",
       "      <td>POINT (-80.25252 25.72437)</td>\n",
       "    </tr>\n",
       "    <tr>\n",
       "      <th>1</th>\n",
       "      <td>00005546-3500-2800-0000-000000531757</td>\n",
       "      <td>33186</td>\n",
       "      <td>8997</td>\n",
       "      <td>FL</td>\n",
       "      <td>Miami</td>\n",
       "      <td>SW 143rd Ct</td>\n",
       "      <td>USA</td>\n",
       "      <td>None</td>\n",
       "      <td>Ct</td>\n",
       "      <td>SW</td>\n",
       "      <td>None</td>\n",
       "      <td>-80.427754</td>\n",
       "      <td>25.683152</td>\n",
       "      <td>miamidade</td>\n",
       "      <td>POINT (-80.42775 25.68315)</td>\n",
       "    </tr>\n",
       "    <tr>\n",
       "      <th>2</th>\n",
       "      <td>ac17b1a1-9207-4e0e-a659-745e60b914a8</td>\n",
       "      <td>33180</td>\n",
       "      <td>20185</td>\n",
       "      <td>FL</td>\n",
       "      <td>Miami</td>\n",
       "      <td>E Country Club Dr</td>\n",
       "      <td>USA</td>\n",
       "      <td>None</td>\n",
       "      <td>Dr</td>\n",
       "      <td>E</td>\n",
       "      <td>None</td>\n",
       "      <td>-80.125493</td>\n",
       "      <td>25.963175</td>\n",
       "      <td>miamidade</td>\n",
       "      <td>POINT (-80.12549 25.96317)</td>\n",
       "    </tr>\n",
       "    <tr>\n",
       "      <th>3</th>\n",
       "      <td>00005546-3500-2800-0000-00000051cae8</td>\n",
       "      <td>33016</td>\n",
       "      <td>2764</td>\n",
       "      <td>FL</td>\n",
       "      <td>Hialeah</td>\n",
       "      <td>W 71st Pl</td>\n",
       "      <td>USA</td>\n",
       "      <td>None</td>\n",
       "      <td>Pl</td>\n",
       "      <td>W</td>\n",
       "      <td>None</td>\n",
       "      <td>-80.338867</td>\n",
       "      <td>25.887113</td>\n",
       "      <td>miamidade</td>\n",
       "      <td>POINT (-80.33887 25.88711)</td>\n",
       "    </tr>\n",
       "    <tr>\n",
       "      <th>4</th>\n",
       "      <td>00005546-3500-2800-0000-000000519a0b</td>\n",
       "      <td>33031</td>\n",
       "      <td>20851</td>\n",
       "      <td>FL</td>\n",
       "      <td>Homestead</td>\n",
       "      <td>SW 238th St</td>\n",
       "      <td>USA</td>\n",
       "      <td>None</td>\n",
       "      <td>St</td>\n",
       "      <td>SW</td>\n",
       "      <td>None</td>\n",
       "      <td>-80.529745</td>\n",
       "      <td>25.544820</td>\n",
       "      <td>miamidade</td>\n",
       "      <td>POINT (-80.52974 25.54482)</td>\n",
       "    </tr>\n",
       "  </tbody>\n",
       "</table>\n",
       "</div>"
      ],
      "text/plain": [
       "                                feat_id postal_code    hsn state       city  \\\n",
       "0  c2510eea-e274-4cae-90eb-658e06637a45       33133   3625    FL      Miami   \n",
       "1  00005546-3500-2800-0000-000000531757       33186   8997    FL      Miami   \n",
       "2  ac17b1a1-9207-4e0e-a659-745e60b914a8       33180  20185    FL      Miami   \n",
       "3  00005546-3500-2800-0000-00000051cae8       33016   2764    FL    Hialeah   \n",
       "4  00005546-3500-2800-0000-000000519a0b       33031  20851    FL  Homestead   \n",
       "\n",
       "         street_name country_code prefix suffix pre_dir post_dir          x  \\\n",
       "0       S Douglas Rd          USA   None     Rd       S     None -80.252516   \n",
       "1        SW 143rd Ct          USA   None     Ct      SW     None -80.427754   \n",
       "2  E Country Club Dr          USA   None     Dr       E     None -80.125493   \n",
       "3          W 71st Pl          USA   None     Pl       W     None -80.338867   \n",
       "4        SW 238th St          USA   None     St      SW     None -80.529745   \n",
       "\n",
       "           y     county                    geometry  \n",
       "0  25.724369  miamidade  POINT (-80.25252 25.72437)  \n",
       "1  25.683152  miamidade  POINT (-80.42775 25.68315)  \n",
       "2  25.963175  miamidade  POINT (-80.12549 25.96317)  \n",
       "3  25.887113  miamidade  POINT (-80.33887 25.88711)  \n",
       "4  25.544820  miamidade  POINT (-80.52974 25.54482)  "
      ]
     },
     "execution_count": 8,
     "metadata": {},
     "output_type": "execute_result"
    }
   ],
   "source": [
    "source_query = f\"\"\"SELECT * FROM \"STAN_169\".source_v0 where county = '{county}'\"\"\"\n",
    "source_df = raw2p.read_from_db(query = source_query)\n",
    "source_geom = gpd.GeoSeries.from_wkt(source_df.geometry)\n",
    "source_gdf = gpd.GeoDataFrame(source_df.drop('geometry', axis = 1),\n",
    "                                geometry = source_geom,\n",
    "                                crs = 'EPSG:4326')\n",
    "source_gdf.head()"
   ]
  },
  {
   "cell_type": "markdown",
   "metadata": {
    "application/vnd.databricks.v1+cell": {
     "inputWidgets": {},
     "nuid": "c167c72f-778d-4eef-bb8a-1983b5184d54",
     "showTitle": false,
     "title": ""
    }
   },
   "source": [
    "### Ingesting Deltas"
   ]
  },
  {
   "cell_type": "markdown",
   "metadata": {
    "application/vnd.databricks.v1+cell": {
     "inputWidgets": {},
     "nuid": "385e81a0-2b95-4c54-9cd5-bf1cab93c924",
     "showTitle": false,
     "title": ""
    }
   },
   "source": [
    "Here goes the table of new changes to make to coordinates:"
   ]
  },
  {
   "cell_type": "code",
   "execution_count": 10,
   "metadata": {},
   "outputs": [
    {
     "name": "stdout",
     "output_type": "stream",
     "text": [
      "Reading :  APT_realigned_usa_ufl_miamidade.pkl\n",
      "data shape (458514, 20)\n"
     ]
    },
    {
     "data": {
      "text/html": [
       "<div>\n",
       "<style scoped>\n",
       "    .dataframe tbody tr th:only-of-type {\n",
       "        vertical-align: middle;\n",
       "    }\n",
       "\n",
       "    .dataframe tbody tr th {\n",
       "        vertical-align: top;\n",
       "    }\n",
       "\n",
       "    .dataframe thead th {\n",
       "        text-align: right;\n",
       "    }\n",
       "</style>\n",
       "<table border=\"1\" class=\"dataframe\">\n",
       "  <thead>\n",
       "    <tr style=\"text-align: right;\">\n",
       "      <th></th>\n",
       "      <th>updated_geometries</th>\n",
       "      <th>feat_id</th>\n",
       "      <th>iso_script</th>\n",
       "      <th>iso_lang_c</th>\n",
       "      <th>postal_cod</th>\n",
       "      <th>house_numb</th>\n",
       "      <th>state_prov</th>\n",
       "      <th>locality</th>\n",
       "      <th>street_nam</th>\n",
       "      <th>country_co</th>\n",
       "      <th>prefix</th>\n",
       "      <th>suffix</th>\n",
       "      <th>predir</th>\n",
       "      <th>postdir</th>\n",
       "      <th>sn_body</th>\n",
       "      <th>APT_to_Centroid_distance</th>\n",
       "      <th>APT_lat</th>\n",
       "      <th>APT_long</th>\n",
       "      <th>updated_lat</th>\n",
       "      <th>updated_lon</th>\n",
       "    </tr>\n",
       "  </thead>\n",
       "  <tbody>\n",
       "    <tr>\n",
       "      <th>0</th>\n",
       "      <td>POINT (-80.26611 25.97028)</td>\n",
       "      <td>00005546-3500-2800-0000-00000078eb03</td>\n",
       "      <td>Latn</td>\n",
       "      <td>ENG</td>\n",
       "      <td>33055</td>\n",
       "      <td>21369</td>\n",
       "      <td>FL</td>\n",
       "      <td>Opa Locka</td>\n",
       "      <td>NW 39th Ave</td>\n",
       "      <td>USA</td>\n",
       "      <td>None</td>\n",
       "      <td>Ave</td>\n",
       "      <td>NW</td>\n",
       "      <td>None</td>\n",
       "      <td>39th</td>\n",
       "      <td>6.8</td>\n",
       "      <td>25.970261</td>\n",
       "      <td>-80.266174</td>\n",
       "      <td>25.970280</td>\n",
       "      <td>-80.266109</td>\n",
       "    </tr>\n",
       "    <tr>\n",
       "      <th>1</th>\n",
       "      <td>POINT (-80.26670 25.97014)</td>\n",
       "      <td>00005546-3500-2800-0000-00000078eb01</td>\n",
       "      <td>Latn</td>\n",
       "      <td>ENG</td>\n",
       "      <td>33055</td>\n",
       "      <td>21343</td>\n",
       "      <td>FL</td>\n",
       "      <td>Opa Locka</td>\n",
       "      <td>NW 39th Ave</td>\n",
       "      <td>USA</td>\n",
       "      <td>None</td>\n",
       "      <td>Ave</td>\n",
       "      <td>NW</td>\n",
       "      <td>None</td>\n",
       "      <td>39th</td>\n",
       "      <td>4.4</td>\n",
       "      <td>25.970134</td>\n",
       "      <td>-80.266746</td>\n",
       "      <td>25.970136</td>\n",
       "      <td>-80.266701</td>\n",
       "    </tr>\n",
       "    <tr>\n",
       "      <th>2</th>\n",
       "      <td>POINT (-80.26666 25.97014)</td>\n",
       "      <td>00005546-3500-2800-0000-00000078eb00</td>\n",
       "      <td>Latn</td>\n",
       "      <td>ENG</td>\n",
       "      <td>33055</td>\n",
       "      <td>21341</td>\n",
       "      <td>FL</td>\n",
       "      <td>Opa Locka</td>\n",
       "      <td>NW 39th Ave</td>\n",
       "      <td>USA</td>\n",
       "      <td>None</td>\n",
       "      <td>Ave</td>\n",
       "      <td>NW</td>\n",
       "      <td>None</td>\n",
       "      <td>39th</td>\n",
       "      <td>0.4</td>\n",
       "      <td>25.970139</td>\n",
       "      <td>-80.266658</td>\n",
       "      <td>25.970141</td>\n",
       "      <td>-80.266662</td>\n",
       "    </tr>\n",
       "    <tr>\n",
       "      <th>3</th>\n",
       "      <td>POINT (-80.26661 25.97013)</td>\n",
       "      <td>00005546-3500-2800-0000-00000078eaff</td>\n",
       "      <td>Latn</td>\n",
       "      <td>ENG</td>\n",
       "      <td>33055</td>\n",
       "      <td>21339</td>\n",
       "      <td>FL</td>\n",
       "      <td>Opa Locka</td>\n",
       "      <td>NW 39th Ave</td>\n",
       "      <td>USA</td>\n",
       "      <td>None</td>\n",
       "      <td>Ave</td>\n",
       "      <td>NW</td>\n",
       "      <td>None</td>\n",
       "      <td>39th</td>\n",
       "      <td>6.7</td>\n",
       "      <td>25.970192</td>\n",
       "      <td>-80.266593</td>\n",
       "      <td>25.970133</td>\n",
       "      <td>-80.266610</td>\n",
       "    </tr>\n",
       "    <tr>\n",
       "      <th>5</th>\n",
       "      <td>POINT (-80.26728 25.97004)</td>\n",
       "      <td>00005546-3500-2800-0000-00000057a884</td>\n",
       "      <td>Latn</td>\n",
       "      <td>ENG</td>\n",
       "      <td>33055</td>\n",
       "      <td>21475</td>\n",
       "      <td>FL</td>\n",
       "      <td>Opa Locka</td>\n",
       "      <td>NW 40th Circle Ct</td>\n",
       "      <td>USA</td>\n",
       "      <td>None</td>\n",
       "      <td>Ct</td>\n",
       "      <td>NW</td>\n",
       "      <td>None</td>\n",
       "      <td>40th Circle</td>\n",
       "      <td>3.4</td>\n",
       "      <td>25.970010</td>\n",
       "      <td>-80.267262</td>\n",
       "      <td>25.970037</td>\n",
       "      <td>-80.267279</td>\n",
       "    </tr>\n",
       "  </tbody>\n",
       "</table>\n",
       "</div>"
      ],
      "text/plain": [
       "           updated_geometries                               feat_id  \\\n",
       "0  POINT (-80.26611 25.97028)  00005546-3500-2800-0000-00000078eb03   \n",
       "1  POINT (-80.26670 25.97014)  00005546-3500-2800-0000-00000078eb01   \n",
       "2  POINT (-80.26666 25.97014)  00005546-3500-2800-0000-00000078eb00   \n",
       "3  POINT (-80.26661 25.97013)  00005546-3500-2800-0000-00000078eaff   \n",
       "5  POINT (-80.26728 25.97004)  00005546-3500-2800-0000-00000057a884   \n",
       "\n",
       "  iso_script iso_lang_c postal_cod house_numb state_prov   locality  \\\n",
       "0       Latn        ENG      33055      21369         FL  Opa Locka   \n",
       "1       Latn        ENG      33055      21343         FL  Opa Locka   \n",
       "2       Latn        ENG      33055      21341         FL  Opa Locka   \n",
       "3       Latn        ENG      33055      21339         FL  Opa Locka   \n",
       "5       Latn        ENG      33055      21475         FL  Opa Locka   \n",
       "\n",
       "          street_nam country_co prefix suffix predir postdir      sn_body  \\\n",
       "0        NW 39th Ave        USA   None    Ave     NW    None         39th   \n",
       "1        NW 39th Ave        USA   None    Ave     NW    None         39th   \n",
       "2        NW 39th Ave        USA   None    Ave     NW    None         39th   \n",
       "3        NW 39th Ave        USA   None    Ave     NW    None         39th   \n",
       "5  NW 40th Circle Ct        USA   None     Ct     NW    None  40th Circle   \n",
       "\n",
       "   APT_to_Centroid_distance    APT_lat   APT_long  updated_lat  updated_lon  \n",
       "0                       6.8  25.970261 -80.266174    25.970280   -80.266109  \n",
       "1                       4.4  25.970134 -80.266746    25.970136   -80.266701  \n",
       "2                       0.4  25.970139 -80.266658    25.970141   -80.266662  \n",
       "3                       6.7  25.970192 -80.266593    25.970133   -80.266610  \n",
       "5                       3.4  25.970010 -80.267262    25.970037   -80.267279  "
      ]
     },
     "execution_count": 10,
     "metadata": {},
     "output_type": "execute_result"
    }
   ],
   "source": [
    "delta_table_read = pd.read_pickle(Updated_geometries_pickle)\n",
    "print(\"Reading : \",os.path.basename(Updated_geometries_pickle))\n",
    "print(\"data shape\",delta_table_read.shape)\n",
    "delta_table_read.head()"
   ]
  },
  {
   "cell_type": "code",
   "execution_count": 11,
   "metadata": {
    "application/vnd.databricks.v1+cell": {
     "inputWidgets": {},
     "nuid": "84345018-efdc-4c03-9c2b-9a9e553c9ee8",
     "showTitle": false,
     "title": ""
    }
   },
   "outputs": [
    {
     "data": {
      "text/html": [
       "<div>\n",
       "<style scoped>\n",
       "    .dataframe tbody tr th:only-of-type {\n",
       "        vertical-align: middle;\n",
       "    }\n",
       "\n",
       "    .dataframe tbody tr th {\n",
       "        vertical-align: top;\n",
       "    }\n",
       "\n",
       "    .dataframe thead th {\n",
       "        text-align: right;\n",
       "    }\n",
       "</style>\n",
       "<table border=\"1\" class=\"dataframe\">\n",
       "  <thead>\n",
       "    <tr style=\"text-align: right;\">\n",
       "      <th></th>\n",
       "      <th>feat_id</th>\n",
       "      <th>updated_geometries</th>\n",
       "      <th>datetime_version</th>\n",
       "    </tr>\n",
       "  </thead>\n",
       "  <tbody>\n",
       "    <tr>\n",
       "      <th>0</th>\n",
       "      <td>00005546-3500-2800-0000-00000078eb03</td>\n",
       "      <td>POINT (-80.26611 25.97028)</td>\n",
       "      <td>2022-08-17 05:58:33.382616+00:00</td>\n",
       "    </tr>\n",
       "    <tr>\n",
       "      <th>1</th>\n",
       "      <td>00005546-3500-2800-0000-00000078eb01</td>\n",
       "      <td>POINT (-80.26670 25.97014)</td>\n",
       "      <td>2022-08-17 05:58:33.382616+00:00</td>\n",
       "    </tr>\n",
       "    <tr>\n",
       "      <th>2</th>\n",
       "      <td>00005546-3500-2800-0000-00000078eb00</td>\n",
       "      <td>POINT (-80.26666 25.97014)</td>\n",
       "      <td>2022-08-17 05:58:33.382616+00:00</td>\n",
       "    </tr>\n",
       "    <tr>\n",
       "      <th>3</th>\n",
       "      <td>00005546-3500-2800-0000-00000078eaff</td>\n",
       "      <td>POINT (-80.26661 25.97013)</td>\n",
       "      <td>2022-08-17 05:58:33.382616+00:00</td>\n",
       "    </tr>\n",
       "    <tr>\n",
       "      <th>5</th>\n",
       "      <td>00005546-3500-2800-0000-00000057a884</td>\n",
       "      <td>POINT (-80.26728 25.97004)</td>\n",
       "      <td>2022-08-17 05:58:33.382616+00:00</td>\n",
       "    </tr>\n",
       "  </tbody>\n",
       "</table>\n",
       "</div>"
      ],
      "text/plain": [
       "                                feat_id          updated_geometries  \\\n",
       "0  00005546-3500-2800-0000-00000078eb03  POINT (-80.26611 25.97028)   \n",
       "1  00005546-3500-2800-0000-00000078eb01  POINT (-80.26670 25.97014)   \n",
       "2  00005546-3500-2800-0000-00000078eb00  POINT (-80.26666 25.97014)   \n",
       "3  00005546-3500-2800-0000-00000078eaff  POINT (-80.26661 25.97013)   \n",
       "5  00005546-3500-2800-0000-00000057a884  POINT (-80.26728 25.97004)   \n",
       "\n",
       "                  datetime_version  \n",
       "0 2022-08-17 05:58:33.382616+00:00  \n",
       "1 2022-08-17 05:58:33.382616+00:00  \n",
       "2 2022-08-17 05:58:33.382616+00:00  \n",
       "3 2022-08-17 05:58:33.382616+00:00  \n",
       "5 2022-08-17 05:58:33.382616+00:00  "
      ]
     },
     "execution_count": 11,
     "metadata": {},
     "output_type": "execute_result"
    }
   ],
   "source": [
    "delta_table_read = delta_table_read[['feat_id', 'updated_geometries']]\n",
    "delta_table_read['datetime_version'] = pd.Timestamp.now(tz = 'utc')\n",
    "delta_table_read.head()"
   ]
  },
  {
   "cell_type": "code",
   "execution_count": 12,
   "metadata": {
    "application/vnd.databricks.v1+cell": {
     "inputWidgets": {},
     "nuid": "f71becfd-6382-4a49-b85c-61f122e7b37a",
     "showTitle": false,
     "title": ""
    }
   },
   "outputs": [],
   "source": [
    "delta_table_write = delta_table_read[['feat_id', 'updated_geometries', 'datetime_version']]\n",
    "delta_table_write['updated_geometries'] = delta_table_write['updated_geometries'].astype(str)"
   ]
  },
  {
   "cell_type": "code",
   "execution_count": 13,
   "metadata": {
    "application/vnd.databricks.v1+cell": {
     "inputWidgets": {},
     "nuid": "156b32d0-22ff-4543-9f31-27ae0db1313f",
     "showTitle": false,
     "title": ""
    }
   },
   "outputs": [
    {
     "name": "stdout",
     "output_type": "stream",
     "text": [
      "Table stored!\n"
     ]
    },
    {
     "data": {
      "text/plain": [
       "1"
      ]
     },
     "execution_count": 13,
     "metadata": {},
     "output_type": "execute_result"
    }
   ],
   "source": [
    "raw2p.write_to_db(df = delta_table_write, schema = 'STAN_169', table_name = 'delta_table')"
   ]
  },
  {
   "cell_type": "markdown",
   "metadata": {
    "application/vnd.databricks.v1+cell": {
     "inputWidgets": {},
     "nuid": "f8d87441-7f3c-431b-b6c5-691cd0269839",
     "showTitle": false,
     "title": ""
    }
   },
   "source": [
    "### Reading Deltas"
   ]
  },
  {
   "cell_type": "code",
   "execution_count": 14,
   "metadata": {
    "application/vnd.databricks.v1+cell": {
     "inputWidgets": {},
     "nuid": "14aee02a-6f08-47df-a700-bb8279c21699",
     "showTitle": false,
     "title": ""
    }
   },
   "outputs": [],
   "source": [
    "if delta:  \n",
    "  delta_query = f\"\"\"\n",
    "  SELECT * FROM \"STAN_169\".delta_table where county = '{county}'\n",
    "  \"\"\"\n",
    "  delta_df = raw2p.read_from_db(query = delta_query)\n",
    "  delta_geom = gpd.GeoSeries.from_wkt(delta_df.updated_geometries)\n",
    "  delta_gdf = gpd.GeoDataFrame(delta_df.drop('updated_geometries', axis = 1),geometry = delta_geom,crs = 'EPSG:4326')"
   ]
  },
  {
   "cell_type": "code",
   "execution_count": 16,
   "metadata": {
    "application/vnd.databricks.v1+cell": {
     "inputWidgets": {},
     "nuid": "22832e61-c735-4e91-b27f-c31b33a53218",
     "showTitle": false,
     "title": ""
    }
   },
   "outputs": [
    {
     "name": "stdout",
     "output_type": "stream",
     "text": [
      "Delta Geometries Shape : (456827, 4)\n"
     ]
    },
    {
     "data": {
      "text/html": [
       "<div>\n",
       "<style scoped>\n",
       "    .dataframe tbody tr th:only-of-type {\n",
       "        vertical-align: middle;\n",
       "    }\n",
       "\n",
       "    .dataframe tbody tr th {\n",
       "        vertical-align: top;\n",
       "    }\n",
       "\n",
       "    .dataframe thead th {\n",
       "        text-align: right;\n",
       "    }\n",
       "</style>\n",
       "<table border=\"1\" class=\"dataframe\">\n",
       "  <thead>\n",
       "    <tr style=\"text-align: right;\">\n",
       "      <th></th>\n",
       "      <th>feat_id</th>\n",
       "      <th>datetime_version</th>\n",
       "      <th>county</th>\n",
       "      <th>geometry</th>\n",
       "    </tr>\n",
       "  </thead>\n",
       "  <tbody>\n",
       "    <tr>\n",
       "      <th>0</th>\n",
       "      <td>00005546-3500-2800-0000-00000078eb03</td>\n",
       "      <td>2022-08-09 09:31:45.757679+00:00</td>\n",
       "      <td>miamidade</td>\n",
       "      <td>POINT (-80.26611 25.97028)</td>\n",
       "    </tr>\n",
       "    <tr>\n",
       "      <th>1</th>\n",
       "      <td>00005546-3500-2800-0000-00000078eb01</td>\n",
       "      <td>2022-08-09 09:31:45.757679+00:00</td>\n",
       "      <td>miamidade</td>\n",
       "      <td>POINT (-80.26670 25.97014)</td>\n",
       "    </tr>\n",
       "    <tr>\n",
       "      <th>2</th>\n",
       "      <td>00005546-3500-2800-0000-00000078eb00</td>\n",
       "      <td>2022-08-09 09:31:45.757679+00:00</td>\n",
       "      <td>miamidade</td>\n",
       "      <td>POINT (-80.26666 25.97014)</td>\n",
       "    </tr>\n",
       "    <tr>\n",
       "      <th>3</th>\n",
       "      <td>00005546-3500-2800-0000-00000078eaff</td>\n",
       "      <td>2022-08-09 09:31:45.757679+00:00</td>\n",
       "      <td>miamidade</td>\n",
       "      <td>POINT (-80.26661 25.97013)</td>\n",
       "    </tr>\n",
       "    <tr>\n",
       "      <th>4</th>\n",
       "      <td>00005546-3500-2800-0000-00000057a884</td>\n",
       "      <td>2022-08-09 09:31:45.757679+00:00</td>\n",
       "      <td>miamidade</td>\n",
       "      <td>POINT (-80.26728 25.97004)</td>\n",
       "    </tr>\n",
       "  </tbody>\n",
       "</table>\n",
       "</div>"
      ],
      "text/plain": [
       "                                feat_id                 datetime_version  \\\n",
       "0  00005546-3500-2800-0000-00000078eb03 2022-08-09 09:31:45.757679+00:00   \n",
       "1  00005546-3500-2800-0000-00000078eb01 2022-08-09 09:31:45.757679+00:00   \n",
       "2  00005546-3500-2800-0000-00000078eb00 2022-08-09 09:31:45.757679+00:00   \n",
       "3  00005546-3500-2800-0000-00000078eaff 2022-08-09 09:31:45.757679+00:00   \n",
       "4  00005546-3500-2800-0000-00000057a884 2022-08-09 09:31:45.757679+00:00   \n",
       "\n",
       "      county                    geometry  \n",
       "0  miamidade  POINT (-80.26611 25.97028)  \n",
       "1  miamidade  POINT (-80.26670 25.97014)  \n",
       "2  miamidade  POINT (-80.26666 25.97014)  \n",
       "3  miamidade  POINT (-80.26661 25.97013)  \n",
       "4  miamidade  POINT (-80.26728 25.97004)  "
      ]
     },
     "execution_count": 16,
     "metadata": {},
     "output_type": "execute_result"
    }
   ],
   "source": [
    "print(\"Delta Geometries Shape :\",delta_gdf.shape)\n",
    "delta_gdf.head()"
   ]
  },
  {
   "cell_type": "markdown",
   "metadata": {
    "application/vnd.databricks.v1+cell": {
     "inputWidgets": {},
     "nuid": "28f59e8f-1c65-4d74-80f4-f5d8e4852636",
     "showTitle": false,
     "title": ""
    }
   },
   "source": [
    "### Replacing Delta Changes"
   ]
  },
  {
   "cell_type": "code",
   "execution_count": 18,
   "metadata": {
    "application/vnd.databricks.v1+cell": {
     "inputWidgets": {},
     "nuid": "342a1c5f-c164-4e5b-8e1a-afa4aa13e282",
     "showTitle": false,
     "title": ""
    }
   },
   "outputs": [],
   "source": [
    "def replace_geometries(source_gdf, delta_gdf):\n",
    "    '''\n",
    "    Takes a 'source' geodataframe - copy of MNR database, a 'delta' geodataframe and replaces, for every APT (key: feat_id) in source dataframe, the \n",
    "    coordinates in the sorce with the coordinates in the new \n",
    "\n",
    "            Parameters:\n",
    "                    source_gdf (gpd.GeoDataFrame): geodataframe containing MNR coordinates for every APT (feat_id)\n",
    "                    delta_gdf (gpd.GeoDataFrame): geodataframe containing NEW coordinates for some APTs (feat_id)\n",
    "\n",
    "            Returns:\n",
    "                    source_gdf_new (gpd.GeoDataFrame): geodataframe containing MNR information for APT but with new coordinates\n",
    "    '''\n",
    "    # \n",
    "    delta_gdf_grouped = delta_gdf[delta_gdf.groupby('feat_id').datetime_version.transform('max') == delta_gdf.datetime_version]\n",
    "\n",
    "    source_gdf_new = source_gdf.merge(delta_gdf_grouped[[\"feat_id\", \"geometry\"]], on=\"feat_id\", how=\"left\")\n",
    "\n",
    "    source_gdf_new.loc[~source_gdf_new.geometry_y.isna(), \"geometry_x\"] = source_gdf_new.loc[~source_gdf_new.geometry_y.isna(), \"geometry_y\"]\n",
    "\n",
    "    source_gdf_new = source_gdf_new.drop([\"geometry_y\"], axis=1).rename({\"geometry_x\": \"geometry\"}, axis = 1)\n",
    "\n",
    "    source_gdf_new = gpd.GeoDataFrame(source_gdf_new.drop('geometry', axis = 1), \n",
    "                                    geometry = source_gdf_new.geometry, crs = 'EPSG:4326')\n",
    "\n",
    "    return source_gdf_new"
   ]
  },
  {
   "cell_type": "code",
   "execution_count": 19,
   "metadata": {
    "application/vnd.databricks.v1+cell": {
     "inputWidgets": {},
     "nuid": "5f902d2d-8f06-4e71-834f-b007231e82dd",
     "showTitle": false,
     "title": ""
    }
   },
   "outputs": [],
   "source": [
    "if delta:\n",
    "    source_delta = replace_geometries(source_gdf, delta_gdf)\n",
    "    source_delta_gdf = gpd.GeoDataFrame(source_delta.drop('geometry', axis = 1), geometry = source_delta.geometry, \n",
    "                           crs = 'EPSG:4326')\n",
    "    source_delta_gdf.x = source_delta_gdf.geometry.apply(lambda p: p.x)\n",
    "    source_delta_gdf.y = source_delta_gdf.geometry.apply(lambda p: p.y)"
   ]
  },
  {
   "cell_type": "markdown",
   "metadata": {
    "application/vnd.databricks.v1+cell": {
     "inputWidgets": {},
     "nuid": "33574bea-4522-48e7-9af6-8d02e0e09ce2",
     "showTitle": false,
     "title": ""
    }
   },
   "source": [
    "### Joining Sample and Source - Spatial Join"
   ]
  },
  {
   "cell_type": "code",
   "execution_count": 20,
   "metadata": {
    "application/vnd.databricks.v1+cell": {
     "inputWidgets": {},
     "nuid": "dc64a8de-1d19-49eb-b919-7d4594df423a",
     "showTitle": false,
     "title": ""
    }
   },
   "outputs": [],
   "source": [
    "if delta:\n",
    "  joined_sample = source_delta_gdf.sjoin(sample_gdf, how='inner', predicate='intersects')\n",
    "else:\n",
    "  joined_sample = source_gdf.sjoin(sample_gdf, how = 'inner', predicate = 'intersects')"
   ]
  },
  {
   "cell_type": "code",
   "execution_count": 183,
   "metadata": {
    "application/vnd.databricks.v1+cell": {
     "inputWidgets": {},
     "nuid": "c3fd6e3d-4a06-48ea-8517-9b8970c063ab",
     "showTitle": false,
     "title": ""
    }
   },
   "outputs": [
    {
     "data": {
      "text/html": [
       "<div>\n",
       "<style scoped>\n",
       "    .dataframe tbody tr th:only-of-type {\n",
       "        vertical-align: middle;\n",
       "    }\n",
       "\n",
       "    .dataframe tbody tr th {\n",
       "        vertical-align: top;\n",
       "    }\n",
       "\n",
       "    .dataframe thead th {\n",
       "        text-align: right;\n",
       "    }\n",
       "</style>\n",
       "<table border=\"1\" class=\"dataframe\">\n",
       "  <thead>\n",
       "    <tr style=\"text-align: right;\">\n",
       "      <th></th>\n",
       "      <th>feat_id</th>\n",
       "      <th>postal_code</th>\n",
       "      <th>hsn</th>\n",
       "      <th>state</th>\n",
       "      <th>city</th>\n",
       "      <th>street_name</th>\n",
       "      <th>country_code</th>\n",
       "      <th>prefix</th>\n",
       "      <th>suffix</th>\n",
       "      <th>pre_dir</th>\n",
       "      <th>...</th>\n",
       "      <th>libpostal_island</th>\n",
       "      <th>libpostal_state_district</th>\n",
       "      <th>libpostal_state</th>\n",
       "      <th>libpostal_country_region</th>\n",
       "      <th>libpostal_country</th>\n",
       "      <th>libpostal_world_region</th>\n",
       "      <th>lat_sample</th>\n",
       "      <th>lon_sample</th>\n",
       "      <th>county_right</th>\n",
       "      <th>sample_id</th>\n",
       "    </tr>\n",
       "  </thead>\n",
       "  <tbody>\n",
       "    <tr>\n",
       "      <th>0</th>\n",
       "      <td>c2510eea-e274-4cae-90eb-658e06637a45</td>\n",
       "      <td>33133</td>\n",
       "      <td>3625</td>\n",
       "      <td>FL</td>\n",
       "      <td>Miami</td>\n",
       "      <td>S Douglas Rd</td>\n",
       "      <td>USA</td>\n",
       "      <td>None</td>\n",
       "      <td>Rd</td>\n",
       "      <td>S</td>\n",
       "      <td>...</td>\n",
       "      <td></td>\n",
       "      <td></td>\n",
       "      <td>fl</td>\n",
       "      <td></td>\n",
       "      <td>usa</td>\n",
       "      <td></td>\n",
       "      <td>25.720843</td>\n",
       "      <td>-80.245008</td>\n",
       "      <td>miamidade</td>\n",
       "      <td>423ext</td>\n",
       "    </tr>\n",
       "    <tr>\n",
       "      <th>113</th>\n",
       "      <td>de31c8fb-8bde-4d30-ad32-e22d795eb833</td>\n",
       "      <td>33133</td>\n",
       "      <td>2977</td>\n",
       "      <td>FL</td>\n",
       "      <td>Miami</td>\n",
       "      <td>McFarlane Rd</td>\n",
       "      <td>USA</td>\n",
       "      <td>None</td>\n",
       "      <td>Rd</td>\n",
       "      <td>None</td>\n",
       "      <td>...</td>\n",
       "      <td></td>\n",
       "      <td></td>\n",
       "      <td>fl</td>\n",
       "      <td></td>\n",
       "      <td>usa</td>\n",
       "      <td></td>\n",
       "      <td>25.720843</td>\n",
       "      <td>-80.245008</td>\n",
       "      <td>miamidade</td>\n",
       "      <td>423ext</td>\n",
       "    </tr>\n",
       "    <tr>\n",
       "      <th>259</th>\n",
       "      <td>aa302bc3-ed30-46f1-8c5d-d7a6610933c8</td>\n",
       "      <td>33133</td>\n",
       "      <td>2889</td>\n",
       "      <td>FL</td>\n",
       "      <td>Miami</td>\n",
       "      <td>McFarlane Rd</td>\n",
       "      <td>USA</td>\n",
       "      <td>None</td>\n",
       "      <td>Rd</td>\n",
       "      <td>None</td>\n",
       "      <td>...</td>\n",
       "      <td></td>\n",
       "      <td></td>\n",
       "      <td>fl</td>\n",
       "      <td></td>\n",
       "      <td>usa</td>\n",
       "      <td></td>\n",
       "      <td>25.720843</td>\n",
       "      <td>-80.245008</td>\n",
       "      <td>miamidade</td>\n",
       "      <td>423ext</td>\n",
       "    </tr>\n",
       "    <tr>\n",
       "      <th>1196</th>\n",
       "      <td>00005546-3500-2800-0000-00000054a67b</td>\n",
       "      <td>33133</td>\n",
       "      <td>3610</td>\n",
       "      <td>FL</td>\n",
       "      <td>Miami</td>\n",
       "      <td>William Ave</td>\n",
       "      <td>USA</td>\n",
       "      <td>None</td>\n",
       "      <td>Ave</td>\n",
       "      <td>None</td>\n",
       "      <td>...</td>\n",
       "      <td></td>\n",
       "      <td></td>\n",
       "      <td>fl</td>\n",
       "      <td></td>\n",
       "      <td>usa</td>\n",
       "      <td></td>\n",
       "      <td>25.720843</td>\n",
       "      <td>-80.245008</td>\n",
       "      <td>miamidade</td>\n",
       "      <td>423ext</td>\n",
       "    </tr>\n",
       "    <tr>\n",
       "      <th>2061</th>\n",
       "      <td>00005546-3500-2800-0000-00000054a652</td>\n",
       "      <td>33133</td>\n",
       "      <td>3573</td>\n",
       "      <td>FL</td>\n",
       "      <td>Miami</td>\n",
       "      <td>Hibiscus St</td>\n",
       "      <td>USA</td>\n",
       "      <td>None</td>\n",
       "      <td>St</td>\n",
       "      <td>None</td>\n",
       "      <td>...</td>\n",
       "      <td></td>\n",
       "      <td></td>\n",
       "      <td>fl</td>\n",
       "      <td></td>\n",
       "      <td>usa</td>\n",
       "      <td></td>\n",
       "      <td>25.720843</td>\n",
       "      <td>-80.245008</td>\n",
       "      <td>miamidade</td>\n",
       "      <td>423ext</td>\n",
       "    </tr>\n",
       "  </tbody>\n",
       "</table>\n",
       "<p>5 rows × 44 columns</p>\n",
       "</div>"
      ],
      "text/plain": [
       "                                   feat_id postal_code   hsn state   city  \\\n",
       "0     c2510eea-e274-4cae-90eb-658e06637a45       33133  3625    FL  Miami   \n",
       "113   de31c8fb-8bde-4d30-ad32-e22d795eb833       33133  2977    FL  Miami   \n",
       "259   aa302bc3-ed30-46f1-8c5d-d7a6610933c8       33133  2889    FL  Miami   \n",
       "1196  00005546-3500-2800-0000-00000054a67b       33133  3610    FL  Miami   \n",
       "2061  00005546-3500-2800-0000-00000054a652       33133  3573    FL  Miami   \n",
       "\n",
       "       street_name country_code prefix suffix pre_dir  ... libpostal_island  \\\n",
       "0     S Douglas Rd          USA   None     Rd       S  ...                    \n",
       "113   McFarlane Rd          USA   None     Rd    None  ...                    \n",
       "259   McFarlane Rd          USA   None     Rd    None  ...                    \n",
       "1196   William Ave          USA   None    Ave    None  ...                    \n",
       "2061   Hibiscus St          USA   None     St    None  ...                    \n",
       "\n",
       "      libpostal_state_district  libpostal_state libpostal_country_region  \\\n",
       "0                                            fl                            \n",
       "113                                          fl                            \n",
       "259                                          fl                            \n",
       "1196                                         fl                            \n",
       "2061                                         fl                            \n",
       "\n",
       "     libpostal_country  libpostal_world_region lat_sample lon_sample  \\\n",
       "0                  usa                          25.720843 -80.245008   \n",
       "113                usa                          25.720843 -80.245008   \n",
       "259                usa                          25.720843 -80.245008   \n",
       "1196               usa                          25.720843 -80.245008   \n",
       "2061               usa                          25.720843 -80.245008   \n",
       "\n",
       "     county_right sample_id  \n",
       "0       miamidade    423ext  \n",
       "113     miamidade    423ext  \n",
       "259     miamidade    423ext  \n",
       "1196    miamidade    423ext  \n",
       "2061    miamidade    423ext  \n",
       "\n",
       "[5 rows x 44 columns]"
      ]
     },
     "execution_count": 183,
     "metadata": {},
     "output_type": "execute_result"
    }
   ],
   "source": [
    "print(\"Joined sample shape\",joined_sample.shape)\n",
    "joined_sample.head()"
   ]
  },
  {
   "cell_type": "code",
   "execution_count": 21,
   "metadata": {
    "application/vnd.databricks.v1+cell": {
     "inputWidgets": {},
     "nuid": "8549df1e-dc2c-4509-8858-c311093375c8",
     "showTitle": false,
     "title": ""
    }
   },
   "outputs": [],
   "source": [
    "if delta: \n",
    "  del source_delta_gdf\n",
    "  del delta_gdf\n",
    "del source_gdf\n",
    "del sample_gdf"
   ]
  },
  {
   "cell_type": "code",
   "execution_count": 22,
   "metadata": {
    "application/vnd.databricks.v1+cell": {
     "inputWidgets": {},
     "nuid": "50776690-dbe4-4161-8c7b-e8ca6db7953b",
     "showTitle": false,
     "title": ""
    }
   },
   "outputs": [],
   "source": [
    "joined_sample.rename({\n",
    "    'hsn': 'hsnum',\n",
    "    'street_name': 'st_name',\n",
    "    'postal_code': 'zip_code'\n",
    "},\n",
    "axis = 1, \n",
    "inplace = True)"
   ]
  },
  {
   "cell_type": "markdown",
   "metadata": {
    "application/vnd.databricks.v1+cell": {
     "inputWidgets": {},
     "nuid": "96bc118c-eb99-43e8-9af8-500bcddea5cf",
     "showTitle": false,
     "title": ""
    }
   },
   "source": [
    "# Parsing Joined Sample"
   ]
  },
  {
   "cell_type": "code",
   "execution_count": 186,
   "metadata": {
    "application/vnd.databricks.v1+cell": {
     "inputWidgets": {},
     "nuid": "7dd6d47a-6a09-4481-a0b6-d5774d8e91bb",
     "showTitle": false,
     "title": ""
    }
   },
   "outputs": [],
   "source": [
    "def parse_joined_sample(spatial_joined_df: pd.DataFrame) -> pd.DataFrame:\n",
    "    '''Function inversely parses the addresses to create a searched query format so that the addresses in the source \n",
    "    can be compared to the addresses in the sample.\n",
    "\n",
    "    :param spatial_joined_df: DataFrame that contains the addresses from the source that are within the polygon of \n",
    "    the sample generated. It must contain the columns: ['hsn', 'unit_type', 'unit_num', 'pre_dir', 'prefix', 'suffix'\n",
    "    'post_dir', 'city', 'state', 'zip_code']\n",
    "    :type spatial_joined_df: pd.DataFrame\n",
    "    :return: The same dataframe with a column that contains the full addresses inversely parsed.\n",
    "    :rtype: pd.DataFrame\n",
    "    '''\n",
    "\n",
    "    df = spatial_joined_df.copy()\n",
    "\n",
    "    dict_of_columns = {\n",
    "        'hsnum': ' ', 'pre_dir': ' ', 'st_name': ' ', 'suffix': ', ', 'city': ' ', 'state': ' ', 'zip_code': ', ', 'country': ''\n",
    "    }\n",
    "    df['pre_dir'].fillna('', inplace=True)\n",
    "    df['prefix'].fillna('', inplace=True)\n",
    "    df['suffix'].fillna('', inplace=True)\n",
    "    df['post_dir'].fillna('', inplace=True)\n",
    "\n",
    "    for column in dict_of_columns.keys():\n",
    "\n",
    "        df[column + '_modified'] = df[column].astype(str) + dict_of_columns[column]\n",
    "\n",
    "    list_of_modified_columns = [col for col in df.columns if '_modified' in col]\n",
    "\n",
    "    df['searched_query'] = df[list_of_modified_columns].sum(axis=1)\n",
    "\n",
    "    df['street_name'] = df['pre_dir'] + ' ' + df['prefix'] + ' ' + df['st_name'] + ' ' + df['suffix'] + ' ' + df['post_dir']\n",
    "    df['name'] = '' #df['state']\n",
    "\n",
    "    df = df.rename(columns={\n",
    "        'hsnum': 'hsn', 'searched_query': 'address', 'zip_code': 'postal_code', 'city': 'place_name', \n",
    "        'y': 'lat', 'x': 'lon'\n",
    "    })\n",
    "\n",
    "    return df"
   ]
  },
  {
   "cell_type": "code",
   "execution_count": 187,
   "metadata": {
    "application/vnd.databricks.v1+cell": {
     "inputWidgets": {},
     "nuid": "08624024-3a9d-4461-b506-00f9b3031597",
     "showTitle": false,
     "title": ""
    }
   },
   "outputs": [
    {
     "data": {
      "text/html": [
       "<div>\n",
       "<style scoped>\n",
       "    .dataframe tbody tr th:only-of-type {\n",
       "        vertical-align: middle;\n",
       "    }\n",
       "\n",
       "    .dataframe tbody tr th {\n",
       "        vertical-align: top;\n",
       "    }\n",
       "\n",
       "    .dataframe thead th {\n",
       "        text-align: right;\n",
       "    }\n",
       "</style>\n",
       "<table border=\"1\" class=\"dataframe\">\n",
       "  <thead>\n",
       "    <tr style=\"text-align: right;\">\n",
       "      <th></th>\n",
       "      <th>feat_id</th>\n",
       "      <th>postal_code</th>\n",
       "      <th>hsn</th>\n",
       "      <th>state</th>\n",
       "      <th>place_name</th>\n",
       "      <th>st_name</th>\n",
       "      <th>country_code</th>\n",
       "      <th>prefix</th>\n",
       "      <th>suffix</th>\n",
       "      <th>pre_dir</th>\n",
       "      <th>...</th>\n",
       "      <th>pre_dir_modified</th>\n",
       "      <th>st_name_modified</th>\n",
       "      <th>suffix_modified</th>\n",
       "      <th>city_modified</th>\n",
       "      <th>state_modified</th>\n",
       "      <th>zip_code_modified</th>\n",
       "      <th>country_modified</th>\n",
       "      <th>address</th>\n",
       "      <th>street_name</th>\n",
       "      <th>name</th>\n",
       "    </tr>\n",
       "  </thead>\n",
       "  <tbody>\n",
       "    <tr>\n",
       "      <th>0</th>\n",
       "      <td>c2510eea-e274-4cae-90eb-658e06637a45</td>\n",
       "      <td>33133</td>\n",
       "      <td>3625</td>\n",
       "      <td>FL</td>\n",
       "      <td>Miami</td>\n",
       "      <td>S Douglas Rd</td>\n",
       "      <td>USA</td>\n",
       "      <td></td>\n",
       "      <td>Rd</td>\n",
       "      <td>S</td>\n",
       "      <td>...</td>\n",
       "      <td>S</td>\n",
       "      <td>S Douglas Rd</td>\n",
       "      <td>Rd,</td>\n",
       "      <td>Miami</td>\n",
       "      <td>FL</td>\n",
       "      <td>33133,</td>\n",
       "      <td>USA</td>\n",
       "      <td>3625 S S Douglas Rd Rd, Miami FL 33133, USA</td>\n",
       "      <td>S  S Douglas Rd Rd</td>\n",
       "      <td></td>\n",
       "    </tr>\n",
       "    <tr>\n",
       "      <th>113</th>\n",
       "      <td>de31c8fb-8bde-4d30-ad32-e22d795eb833</td>\n",
       "      <td>33133</td>\n",
       "      <td>2977</td>\n",
       "      <td>FL</td>\n",
       "      <td>Miami</td>\n",
       "      <td>McFarlane Rd</td>\n",
       "      <td>USA</td>\n",
       "      <td></td>\n",
       "      <td>Rd</td>\n",
       "      <td></td>\n",
       "      <td>...</td>\n",
       "      <td></td>\n",
       "      <td>McFarlane Rd</td>\n",
       "      <td>Rd,</td>\n",
       "      <td>Miami</td>\n",
       "      <td>FL</td>\n",
       "      <td>33133,</td>\n",
       "      <td>USA</td>\n",
       "      <td>2977  McFarlane Rd Rd, Miami FL 33133, USA</td>\n",
       "      <td>McFarlane Rd Rd</td>\n",
       "      <td></td>\n",
       "    </tr>\n",
       "    <tr>\n",
       "      <th>259</th>\n",
       "      <td>aa302bc3-ed30-46f1-8c5d-d7a6610933c8</td>\n",
       "      <td>33133</td>\n",
       "      <td>2889</td>\n",
       "      <td>FL</td>\n",
       "      <td>Miami</td>\n",
       "      <td>McFarlane Rd</td>\n",
       "      <td>USA</td>\n",
       "      <td></td>\n",
       "      <td>Rd</td>\n",
       "      <td></td>\n",
       "      <td>...</td>\n",
       "      <td></td>\n",
       "      <td>McFarlane Rd</td>\n",
       "      <td>Rd,</td>\n",
       "      <td>Miami</td>\n",
       "      <td>FL</td>\n",
       "      <td>33133,</td>\n",
       "      <td>USA</td>\n",
       "      <td>2889  McFarlane Rd Rd, Miami FL 33133, USA</td>\n",
       "      <td>McFarlane Rd Rd</td>\n",
       "      <td></td>\n",
       "    </tr>\n",
       "    <tr>\n",
       "      <th>1196</th>\n",
       "      <td>00005546-3500-2800-0000-00000054a67b</td>\n",
       "      <td>33133</td>\n",
       "      <td>3610</td>\n",
       "      <td>FL</td>\n",
       "      <td>Miami</td>\n",
       "      <td>William Ave</td>\n",
       "      <td>USA</td>\n",
       "      <td></td>\n",
       "      <td>Ave</td>\n",
       "      <td></td>\n",
       "      <td>...</td>\n",
       "      <td></td>\n",
       "      <td>William Ave</td>\n",
       "      <td>Ave,</td>\n",
       "      <td>Miami</td>\n",
       "      <td>FL</td>\n",
       "      <td>33133,</td>\n",
       "      <td>USA</td>\n",
       "      <td>3610  William Ave Ave, Miami FL 33133, USA</td>\n",
       "      <td>William Ave Ave</td>\n",
       "      <td></td>\n",
       "    </tr>\n",
       "    <tr>\n",
       "      <th>2061</th>\n",
       "      <td>00005546-3500-2800-0000-00000054a652</td>\n",
       "      <td>33133</td>\n",
       "      <td>3573</td>\n",
       "      <td>FL</td>\n",
       "      <td>Miami</td>\n",
       "      <td>Hibiscus St</td>\n",
       "      <td>USA</td>\n",
       "      <td></td>\n",
       "      <td>St</td>\n",
       "      <td></td>\n",
       "      <td>...</td>\n",
       "      <td></td>\n",
       "      <td>Hibiscus St</td>\n",
       "      <td>St,</td>\n",
       "      <td>Miami</td>\n",
       "      <td>FL</td>\n",
       "      <td>33133,</td>\n",
       "      <td>USA</td>\n",
       "      <td>3573  Hibiscus St St, Miami FL 33133, USA</td>\n",
       "      <td>Hibiscus St St</td>\n",
       "      <td></td>\n",
       "    </tr>\n",
       "  </tbody>\n",
       "</table>\n",
       "<p>5 rows × 55 columns</p>\n",
       "</div>"
      ],
      "text/plain": [
       "                                   feat_id postal_code   hsn state place_name  \\\n",
       "0     c2510eea-e274-4cae-90eb-658e06637a45       33133  3625    FL      Miami   \n",
       "113   de31c8fb-8bde-4d30-ad32-e22d795eb833       33133  2977    FL      Miami   \n",
       "259   aa302bc3-ed30-46f1-8c5d-d7a6610933c8       33133  2889    FL      Miami   \n",
       "1196  00005546-3500-2800-0000-00000054a67b       33133  3610    FL      Miami   \n",
       "2061  00005546-3500-2800-0000-00000054a652       33133  3573    FL      Miami   \n",
       "\n",
       "           st_name country_code prefix suffix pre_dir  ... pre_dir_modified  \\\n",
       "0     S Douglas Rd          USA            Rd       S  ...               S    \n",
       "113   McFarlane Rd          USA            Rd          ...                    \n",
       "259   McFarlane Rd          USA            Rd          ...                    \n",
       "1196   William Ave          USA           Ave          ...                    \n",
       "2061   Hibiscus St          USA            St          ...                    \n",
       "\n",
       "      st_name_modified  suffix_modified city_modified state_modified  \\\n",
       "0        S Douglas Rd              Rd,         Miami             FL    \n",
       "113      McFarlane Rd              Rd,         Miami             FL    \n",
       "259      McFarlane Rd              Rd,         Miami             FL    \n",
       "1196      William Ave             Ave,         Miami             FL    \n",
       "2061      Hibiscus St              St,         Miami             FL    \n",
       "\n",
       "      zip_code_modified country_modified  \\\n",
       "0               33133,               USA   \n",
       "113             33133,               USA   \n",
       "259             33133,               USA   \n",
       "1196            33133,               USA   \n",
       "2061            33133,               USA   \n",
       "\n",
       "                                          address          street_name name  \n",
       "0     3625 S S Douglas Rd Rd, Miami FL 33133, USA  S  S Douglas Rd Rd        \n",
       "113    2977  McFarlane Rd Rd, Miami FL 33133, USA     McFarlane Rd Rd        \n",
       "259    2889  McFarlane Rd Rd, Miami FL 33133, USA     McFarlane Rd Rd        \n",
       "1196   3610  William Ave Ave, Miami FL 33133, USA     William Ave Ave        \n",
       "2061    3573  Hibiscus St St, Miami FL 33133, USA      Hibiscus St St        \n",
       "\n",
       "[5 rows x 55 columns]"
      ]
     },
     "execution_count": 187,
     "metadata": {},
     "output_type": "execute_result"
    }
   ],
   "source": [
    "parsed_df = parse_joined_sample(joined_sample)\n",
    "parsed_df.head()"
   ]
  },
  {
   "cell_type": "code",
   "execution_count": 188,
   "metadata": {
    "application/vnd.databricks.v1+cell": {
     "inputWidgets": {},
     "nuid": "752e86ec-e2fa-4244-8d43-c5e5ad61806c",
     "showTitle": false,
     "title": ""
    }
   },
   "outputs": [],
   "source": [
    "del joined_sample"
   ]
  },
  {
   "cell_type": "markdown",
   "metadata": {
    "application/vnd.databricks.v1+cell": {
     "inputWidgets": {},
     "nuid": "7b0421aa-4025-4ff1-9dcb-09d177874c55",
     "showTitle": false,
     "title": ""
    }
   },
   "source": [
    "# Matching Adresses"
   ]
  },
  {
   "cell_type": "code",
   "execution_count": 189,
   "metadata": {
    "application/vnd.databricks.v1+cell": {
     "inputWidgets": {},
     "nuid": "f221a505-b239-4e9a-912d-a64df5ebf212",
     "showTitle": false,
     "title": ""
    }
   },
   "outputs": [],
   "source": [
    "def apt_similarity_filter(\n",
    "    #country:str,\n",
    "    df:pd.DataFrame,\n",
    "    #sample_df:pd.DataFrame,\n",
    "    stopwords_pattern: str = '') -> pd.DataFrame:\n",
    "    \"\"\"Performs matching after making call in a given radius\n",
    "\n",
    "    :param country: country to call in MNR\n",
    "    :type country: str\n",
    "    :param df: DataFrame containing the sample addresses (must have coordinates)\n",
    "    :type df: pd.DataFrame\n",
    "    :param sample_df: DataFrame containing libpostal components for sample (df) addresses\n",
    "    :type sample_df: pd.DataFrame\n",
    "    :param radius: radius of the buffer\n",
    "    :type radius: float\n",
    "    :param inner_radius: radius in meters of a smaller buffer. When bigger than zero, we are essentially getting the point in a disk, defaults to 0\n",
    "    :type inner_radius: int or float, optional\n",
    "    :param stopwords_pattern: regex pattern to remove stopwords, if needed. Optional, defaults to None\n",
    "    :type stopwords_pattern: str\n",
    "    :return: DataFrame with the APTs that matched\n",
    "    :rtype: pd.DataFrame\n",
    "    \"\"\"\n",
    "    apts_df = df.copy()\n",
    "\n",
    "    # Fill NAs\n",
    "    apts_df[['address', 'street_name', 'hsn', 'postal_code',\n",
    "                    'place_name', 'name']] = apts_df[['address', 'street_name', 'hsn',\n",
    "                                                                            'postal_code', 'place_name', 'name']].fillna('')\n",
    "\n",
    "    # Drop duplicates\n",
    "    #apts_df = apts_df.drop_duplicates(['searched_query', 'address']).reset_index(drop=True)\n",
    "    \n",
    "    \n",
    "    # Create extra columns for stopwords, optional unidecode \n",
    "    cols_stopwords = ['address', 'street_name', 'place_name']\n",
    "    for col in cols_stopwords:\n",
    "        col_create = col + '_no_stopwords'\n",
    "        apts_df[col_create] =  apts_df[col].str.replace(stopwords_pattern, '', case=False, regex=True)\n",
    "        \n",
    "    for col in cols_stopwords:\n",
    "        col_create = col + '_no_stopwords_unidecode'\n",
    "        apts_df[col_create] =  apts_df[col+'_no_stopwords'].apply(lambda x: unidecode.unidecode(x))\n",
    "        \n",
    "    \n",
    "    # Merge to APTs\n",
    "    #apts_df = apts_df.merge(sample_df.drop(columns=['country', 'searched_query_unidecode_sample']),\n",
    "    #                                      how='left', \n",
    "    #                                      on=['searched_query'])\n",
    "    apts_df['libpostal_road_no_stopwords'] = apts_df.libpostal_road.str.replace(stopwords_pattern, '', case=False, regex=True)\n",
    "\n",
    "\n",
    "    # House number similarity: filter obvious non matches\n",
    "    apts_df['hsn_similarity'] = list(map(fuzz.token_set_ratio, apts_df.libpostal_house_number, apts_df.hsn))\n",
    "    apts_df['re_pattern'] = '\\\\b' + apts_df.hsn.astype(str) + '\\\\b'\n",
    "    #apts_df['hsn_in_query'] = apts_df.apply(lambda x: bool(re.search(x.re_pattern, x.searched_query_unidecode_sample)), axis=1)\n",
    "    #apts_df['hsn_similarity'] = np.where((apts_df.hsn_in_query), 100, apts_df.hsn_similarity)\n",
    "\n",
    "    dropped_df = apts_df.loc[apts_df.hsn_similarity <= 60].reset_index(drop=True)\n",
    "    apts_df = apts_df.loc[apts_df.hsn_similarity > 60].reset_index(drop=True)\n",
    "\n",
    "    # Postal code similarity\n",
    "    apts_df['postcode_similarity'] = list(map(fuzz.WRatio, \n",
    "                                                     apts_df.libpostal_postcode, \n",
    "                                                     apts_df.postal_code.fillna('').astype(str)))\n",
    "    apts_df['postcode_similarity'] = np.where(apts_df.libpostal_postcode=='', np.nan,\n",
    "                                                     np.where(apts_df.postal_code=='', 50, apts_df.postcode_similarity))\n",
    "\n",
    "    \n",
    "    # Road similarity\n",
    "    apts_df['road_similarity'] = list(map(fuzz.token_set_ratio, \n",
    "                                                 apts_df.libpostal_road_no_stopwords, \n",
    "                                                 apts_df.street_name_no_stopwords))\n",
    "    apts_df['road_similarity_unidecode'] = list(map(fuzz.token_set_ratio, \n",
    "                                                           apts_df.libpostal_road_no_stopwords, \n",
    "                                                           apts_df.street_name_no_stopwords_unidecode)) \n",
    "    apts_df['road_similarity'] = apts_df[['road_similarity', 'road_similarity_unidecode']].max(axis=1)\n",
    "    \n",
    "    # Locality similarity\n",
    "    apts_df['searched_query_tokens'] = (apts_df.libpostal_road.astype(str) + ' ' + \n",
    "                                               apts_df.libpostal_house_number.astype(str) + ' ' + \n",
    "                                               apts_df.libpostal_postcode.astype(str))\n",
    "    \n",
    "    apts_df['provider_tokens'] = (apts_df.street_name.astype(str) + ' ' + \n",
    "                                         apts_df.hsn.astype(str) + ' ' + apts_df.postal_code.astype(str))\n",
    "    apts_df['aux_searched_query'] = apts_df.apply(lambda x: automatic_matching.replace_tokens(x.searched_query_unidecode_sample, x.searched_query_tokens), axis=1)\n",
    "    apts_df['aux_provider_address'] = apts_df.apply(lambda x: automatic_matching.replace_tokens(x.address, x.provider_tokens), axis=1)\n",
    "    apts_df['aux_provider_address'] = apts_df.aux_provider_address.fillna('').apply(lambda x: unidecode.unidecode(x))\n",
    "    apts_df['locality_wratio'] = apts_df.apply(lambda x: fuzz.WRatio(str(x.aux_searched_query).lower(), str(x.aux_provider_address).lower()), axis=1)\n",
    "    apts_df['locality_city_state_ratio'] = apts_df.apply(lambda x: fuzz.WRatio(str(x.libpostal_city) + ' ' + str(x.libpostal_state),\n",
    "                                                                                            str(x.place_name) + ' ' + str(x.name)), axis=1)\n",
    "    apts_df['locality_similarity'] = apts_df[['locality_wratio', 'locality_city_state_ratio']].mean(axis=1)\n",
    "\n",
    "    apts_df['mnr_query_distance'] = apts_df.apply(lambda x: haversine_distance(x.lat, x.lon,\n",
    "                                                                                               x.lat_sample, x.lon_sample)\n",
    "                                                                  if not np.isnan(x.lat) else 1e7\n",
    "                                                                  , axis=1)\n",
    "\n",
    "    # Compute mean similarity\n",
    "    apts_df['mean_similarity'] = (apts_df[['locality_similarity', 'hsn_similarity', \n",
    "                                                         'postcode_similarity', 'road_similarity']].mean(axis=1)\n",
    "                                        * np.where(apts_df.hsn_similarity >= 70 , 1, 0)\n",
    "                                        * np.where(apts_df.road_similarity >= 60 , 1, 0)  \n",
    "                                        * np.where(apts_df.mnr_query_distance > 1000, 0, 1)\n",
    "                                        )\n",
    "\n",
    "\n",
    "    apts_df_matching = (\n",
    "        apts_df.sort_values(by='mnr_query_distance')\n",
    "        .loc[apts_df.groupby(['searched_query_unidecode_sample'])\n",
    "        .mean_similarity.idxmax()]\n",
    "        .reset_index(drop=True)\n",
    "    )\n",
    "\n",
    "\n",
    "    # Compute matching\n",
    "    apts_df_matching['match'] = pd.NaT\n",
    "    #apts_df_matching.loc[apts_df_matching['hsn_similarity'] < 60, 'match'] = pd.NaT\n",
    "    #apts_df_matching['match'] = np.where(apts_df_matching['hsn_similarity'] > 60, apts_df_matching['match'], 0)\n",
    "    apts_df_matching['match'] = np.where(apts_df_matching.mean_similarity >= 70, 1, pd.NaT) #90 so far best\n",
    "\n",
    "    address_matches = apts_df_matching['searched_query_unidecode_sample']\n",
    "\n",
    "    non_matches = dropped_df[~dropped_df['searched_query_unidecode_sample'].isin(address_matches)]\n",
    "    addresses_to_add = non_matches['searched_query_unidecode_sample'].unique()\n",
    "\n",
    "    addresses_df = pd.DataFrame(\n",
    "        {'searched_query_unidecode_sample': addresses_to_add, 'match': [pd.NaT] * len(addresses_to_add)}\n",
    "    )\n",
    "\n",
    "    cols_to_add = [col for col in apts_df_matching if col not in addresses_df.columns]\n",
    "\n",
    "    addresses_df.loc[:, cols_to_add] = ''\n",
    "    addresses_df_reordered = addresses_df[apts_df_matching.columns]\n",
    "\n",
    "    apts_final = pd.concat([apts_df_matching, addresses_df_reordered])\n",
    "\n",
    "    return apts_final #apts_df_matching, dropped_df"
   ]
  },
  {
   "cell_type": "code",
   "execution_count": 190,
   "metadata": {
    "application/vnd.databricks.v1+cell": {
     "inputWidgets": {},
     "nuid": "444a4a79-4986-4cbe-9044-05e5a47ca36c",
     "showTitle": false,
     "title": ""
    }
   },
   "outputs": [],
   "source": [
    "similarity_df = apt_similarity_filter(\n",
    "    df = parsed_df, \n",
    "    stopwords_pattern = countries_stopwords.get('us'))"
   ]
  },
  {
   "cell_type": "code",
   "execution_count": 191,
   "metadata": {
    "application/vnd.databricks.v1+cell": {
     "inputWidgets": {},
     "nuid": "2cbeaf40-fad6-486a-aea6-dfbd37ad74fe",
     "showTitle": false,
     "title": ""
    }
   },
   "outputs": [],
   "source": [
    "del parsed_df"
   ]
  },
  {
   "cell_type": "code",
   "execution_count": 192,
   "metadata": {
    "application/vnd.databricks.v1+cell": {
     "inputWidgets": {},
     "nuid": "68943219-58f1-488f-9fa4-2b9f80e78dcf",
     "showTitle": false,
     "title": ""
    }
   },
   "outputs": [
    {
     "name": "stdout",
     "output_type": "stream",
     "text": [
      "The proportion of matches is: 99.36%\n"
     ]
    }
   ],
   "source": [
    "similarity_df['match'] = similarity_df['match'].fillna(0)\n",
    "\n",
    "match_proportion = np.mean(similarity_df['match'])\n",
    "clean_proportion = round(match_proportion * 100, 2)\n",
    "print(f'The proportion of matches is: {clean_proportion}%')"
   ]
  },
  {
   "cell_type": "code",
   "execution_count": 193,
   "metadata": {
    "application/vnd.databricks.v1+cell": {
     "inputWidgets": {},
     "nuid": "f3ab8acb-fc89-44ff-9651-ffda7f50f5cb",
     "showTitle": false,
     "title": ""
    }
   },
   "outputs": [
    {
     "data": {
      "text/html": [
       "<div>\n",
       "<style scoped>\n",
       "    .dataframe tbody tr th:only-of-type {\n",
       "        vertical-align: middle;\n",
       "    }\n",
       "\n",
       "    .dataframe tbody tr th {\n",
       "        vertical-align: top;\n",
       "    }\n",
       "\n",
       "    .dataframe thead th {\n",
       "        text-align: right;\n",
       "    }\n",
       "</style>\n",
       "<table border=\"1\" class=\"dataframe\">\n",
       "  <thead>\n",
       "    <tr style=\"text-align: right;\">\n",
       "      <th></th>\n",
       "      <th>feat_id</th>\n",
       "      <th>postal_code</th>\n",
       "      <th>hsn</th>\n",
       "      <th>state</th>\n",
       "      <th>place_name</th>\n",
       "      <th>st_name</th>\n",
       "      <th>country_code</th>\n",
       "      <th>prefix</th>\n",
       "      <th>suffix</th>\n",
       "      <th>pre_dir</th>\n",
       "      <th>...</th>\n",
       "      <th>searched_query_tokens</th>\n",
       "      <th>provider_tokens</th>\n",
       "      <th>aux_searched_query</th>\n",
       "      <th>aux_provider_address</th>\n",
       "      <th>locality_wratio</th>\n",
       "      <th>locality_city_state_ratio</th>\n",
       "      <th>locality_similarity</th>\n",
       "      <th>mnr_query_distance</th>\n",
       "      <th>mean_similarity</th>\n",
       "      <th>match</th>\n",
       "    </tr>\n",
       "  </thead>\n",
       "  <tbody>\n",
       "    <tr>\n",
       "      <th>0</th>\n",
       "      <td>00005546-3500-2800-0000-0000005593e0</td>\n",
       "      <td>33132</td>\n",
       "      <td>1</td>\n",
       "      <td>FL</td>\n",
       "      <td>Miami</td>\n",
       "      <td>NE 3rd Ave</td>\n",
       "      <td>USA</td>\n",
       "      <td></td>\n",
       "      <td>Ave</td>\n",
       "      <td>NE</td>\n",
       "      <td>...</td>\n",
       "      <td>se 3rd ave 1 33131</td>\n",
       "      <td>NE  NE 3rd Ave Ave  1 33132</td>\n",
       "      <td>miami fl 333 usa</td>\n",
       "      <td>miami fl 3332 usa</td>\n",
       "      <td>97</td>\n",
       "      <td>73</td>\n",
       "      <td>85.0</td>\n",
       "      <td>1.0</td>\n",
       "      <td>88.75</td>\n",
       "      <td>1</td>\n",
       "    </tr>\n",
       "    <tr>\n",
       "      <th>1</th>\n",
       "      <td>00005546-3500-2800-0000-00000055d337</td>\n",
       "      <td>33138</td>\n",
       "      <td>100</td>\n",
       "      <td>FL</td>\n",
       "      <td>Miami</td>\n",
       "      <td>NE 96th St</td>\n",
       "      <td>USA</td>\n",
       "      <td></td>\n",
       "      <td>St</td>\n",
       "      <td>NE</td>\n",
       "      <td>...</td>\n",
       "      <td>ne 96th st 100 33138</td>\n",
       "      <td>NE  NE 96th St St  100 33138</td>\n",
       "      <td>miami shores fl  usa</td>\n",
       "      <td>miami fl  usa</td>\n",
       "      <td>86</td>\n",
       "      <td>56</td>\n",
       "      <td>71.0</td>\n",
       "      <td>6.2</td>\n",
       "      <td>92.75</td>\n",
       "      <td>1</td>\n",
       "    </tr>\n",
       "    <tr>\n",
       "      <th>2</th>\n",
       "      <td>00005546-3500-2800-0000-00000055a48e</td>\n",
       "      <td>33127</td>\n",
       "      <td>1000</td>\n",
       "      <td>FL</td>\n",
       "      <td>Miami</td>\n",
       "      <td>NW 41st St</td>\n",
       "      <td>USA</td>\n",
       "      <td></td>\n",
       "      <td>St</td>\n",
       "      <td>NW</td>\n",
       "      <td>...</td>\n",
       "      <td>nw 41st st 1000 33127</td>\n",
       "      <td>NW  NW 41st St St  1000 33127</td>\n",
       "      <td>miami fl  usa</td>\n",
       "      <td>miami fl  usa</td>\n",
       "      <td>100</td>\n",
       "      <td>86</td>\n",
       "      <td>93.0</td>\n",
       "      <td>17.6</td>\n",
       "      <td>98.25</td>\n",
       "      <td>1</td>\n",
       "    </tr>\n",
       "    <tr>\n",
       "      <th>3</th>\n",
       "      <td>00005546-3500-2800-0000-0000007a73eb</td>\n",
       "      <td>33169</td>\n",
       "      <td>1000</td>\n",
       "      <td>FL</td>\n",
       "      <td>Miami</td>\n",
       "      <td>Park Centre Blvd</td>\n",
       "      <td>USA</td>\n",
       "      <td></td>\n",
       "      <td>Blvd</td>\n",
       "      <td></td>\n",
       "      <td>...</td>\n",
       "      <td>park centre blvd 1000 33169</td>\n",
       "      <td>Park Centre Blvd Blvd  1000 33169</td>\n",
       "      <td>miami fl  usa</td>\n",
       "      <td>miami fl  usa</td>\n",
       "      <td>100</td>\n",
       "      <td>86</td>\n",
       "      <td>93.0</td>\n",
       "      <td>36.1</td>\n",
       "      <td>98.25</td>\n",
       "      <td>1</td>\n",
       "    </tr>\n",
       "    <tr>\n",
       "      <th>4</th>\n",
       "      <td>00005546-3500-2800-0000-00000058a665</td>\n",
       "      <td>33174</td>\n",
       "      <td>1000</td>\n",
       "      <td>FL</td>\n",
       "      <td>Miami</td>\n",
       "      <td>SW 96th Ave</td>\n",
       "      <td>USA</td>\n",
       "      <td></td>\n",
       "      <td>Ave</td>\n",
       "      <td>SW</td>\n",
       "      <td>...</td>\n",
       "      <td>sw 96th ave 1000 33174</td>\n",
       "      <td>SW  SW 96th Ave Ave  1000 33174</td>\n",
       "      <td>miami fl  usa</td>\n",
       "      <td>miami fl  usa</td>\n",
       "      <td>100</td>\n",
       "      <td>86</td>\n",
       "      <td>93.0</td>\n",
       "      <td>1.4</td>\n",
       "      <td>98.25</td>\n",
       "      <td>1</td>\n",
       "    </tr>\n",
       "  </tbody>\n",
       "</table>\n",
       "<p>5 rows × 77 columns</p>\n",
       "</div>"
      ],
      "text/plain": [
       "                                feat_id postal_code   hsn state place_name  \\\n",
       "0  00005546-3500-2800-0000-0000005593e0       33132     1    FL      Miami   \n",
       "1  00005546-3500-2800-0000-00000055d337       33138   100    FL      Miami   \n",
       "2  00005546-3500-2800-0000-00000055a48e       33127  1000    FL      Miami   \n",
       "3  00005546-3500-2800-0000-0000007a73eb       33169  1000    FL      Miami   \n",
       "4  00005546-3500-2800-0000-00000058a665       33174  1000    FL      Miami   \n",
       "\n",
       "            st_name country_code prefix suffix pre_dir  ...  \\\n",
       "0        NE 3rd Ave          USA           Ave      NE  ...   \n",
       "1        NE 96th St          USA            St      NE  ...   \n",
       "2        NW 41st St          USA            St      NW  ...   \n",
       "3  Park Centre Blvd          USA          Blvd          ...   \n",
       "4       SW 96th Ave          USA           Ave      SW  ...   \n",
       "\n",
       "         searched_query_tokens                      provider_tokens  \\\n",
       "0           se 3rd ave 1 33131          NE  NE 3rd Ave Ave  1 33132   \n",
       "1         ne 96th st 100 33138         NE  NE 96th St St  100 33138   \n",
       "2        nw 41st st 1000 33127        NW  NW 41st St St  1000 33127   \n",
       "3  park centre blvd 1000 33169    Park Centre Blvd Blvd  1000 33169   \n",
       "4       sw 96th ave 1000 33174      SW  SW 96th Ave Ave  1000 33174   \n",
       "\n",
       "      aux_searched_query aux_provider_address locality_wratio  \\\n",
       "0       miami fl 333 usa    miami fl 3332 usa              97   \n",
       "1   miami shores fl  usa        miami fl  usa              86   \n",
       "2          miami fl  usa        miami fl  usa             100   \n",
       "3          miami fl  usa        miami fl  usa             100   \n",
       "4          miami fl  usa        miami fl  usa             100   \n",
       "\n",
       "  locality_city_state_ratio locality_similarity mnr_query_distance  \\\n",
       "0                        73                85.0                1.0   \n",
       "1                        56                71.0                6.2   \n",
       "2                        86                93.0               17.6   \n",
       "3                        86                93.0               36.1   \n",
       "4                        86                93.0                1.4   \n",
       "\n",
       "  mean_similarity match  \n",
       "0           88.75     1  \n",
       "1           92.75     1  \n",
       "2           98.25     1  \n",
       "3           98.25     1  \n",
       "4           98.25     1  \n",
       "\n",
       "[5 rows x 77 columns]"
      ]
     },
     "execution_count": 193,
     "metadata": {},
     "output_type": "execute_result"
    }
   ],
   "source": [
    "similarity_df.head()"
   ]
  },
  {
   "cell_type": "code",
   "execution_count": 194,
   "metadata": {
    "application/vnd.databricks.v1+cell": {
     "inputWidgets": {},
     "nuid": "a1f3bc5e-a0ab-4080-92b7-2f5ee638a020",
     "showTitle": false,
     "title": ""
    }
   },
   "outputs": [
    {
     "name": "stderr",
     "output_type": "stream",
     "text": [
      "/tmp/ipykernel_4678/2013992509.py:2: SettingWithCopyWarning: \n",
      "A value is trying to be set on a copy of a slice from a DataFrame.\n",
      "Try using .loc[row_indexer,col_indexer] = value instead\n",
      "\n",
      "See the caveats in the documentation: https://pandas.pydata.org/pandas-docs/stable/user_guide/indexing.html#returning-a-view-versus-a-copy\n",
      "  match_df['county'] = county\n",
      "/tmp/ipykernel_4678/2013992509.py:3: SettingWithCopyWarning: \n",
      "A value is trying to be set on a copy of a slice from a DataFrame.\n",
      "Try using .loc[row_indexer,col_indexer] = value instead\n",
      "\n",
      "See the caveats in the documentation: https://pandas.pydata.org/pandas-docs/stable/user_guide/indexing.html#returning-a-view-versus-a-copy\n",
      "  match_df['datetime_run'] = pd.Timestamp.now(tz = 'utc')\n",
      "/home/tandon/anaconda3/envs/pygeo/lib/python3.8/site-packages/pandas/core/frame.py:4441: SettingWithCopyWarning: \n",
      "A value is trying to be set on a copy of a slice from a DataFrame\n",
      "\n",
      "See the caveats in the documentation: https://pandas.pydata.org/pandas-docs/stable/user_guide/indexing.html#returning-a-view-versus-a-copy\n",
      "  return super().rename(\n"
     ]
    }
   ],
   "source": [
    "match_df = similarity_df[['feat_id', 'match', 'sample_id']]\n",
    "match_df['county'] = county\n",
    "match_df['datetime_run'] = pd.Timestamp.now(tz = 'utc')\n",
    "match_df.rename({'match': 'asf'}, axis = 1, inplace = True)"
   ]
  },
  {
   "cell_type": "code",
   "execution_count": 195,
   "metadata": {
    "application/vnd.databricks.v1+cell": {
     "inputWidgets": {},
     "nuid": "771e742f-f94a-4f4c-b3df-c1760ee2e78d",
     "showTitle": false,
     "title": ""
    }
   },
   "outputs": [
    {
     "data": {
      "text/html": [
       "<div>\n",
       "<style scoped>\n",
       "    .dataframe tbody tr th:only-of-type {\n",
       "        vertical-align: middle;\n",
       "    }\n",
       "\n",
       "    .dataframe tbody tr th {\n",
       "        vertical-align: top;\n",
       "    }\n",
       "\n",
       "    .dataframe thead th {\n",
       "        text-align: right;\n",
       "    }\n",
       "</style>\n",
       "<table border=\"1\" class=\"dataframe\">\n",
       "  <thead>\n",
       "    <tr style=\"text-align: right;\">\n",
       "      <th></th>\n",
       "      <th>feat_id</th>\n",
       "      <th>asf</th>\n",
       "      <th>sample_id</th>\n",
       "      <th>county</th>\n",
       "      <th>datetime_run</th>\n",
       "    </tr>\n",
       "  </thead>\n",
       "  <tbody>\n",
       "    <tr>\n",
       "      <th>0</th>\n",
       "      <td>00005546-3500-2800-0000-0000005593e0</td>\n",
       "      <td>1</td>\n",
       "      <td>1905</td>\n",
       "      <td>miamidade</td>\n",
       "      <td>2022-08-16 10:29:52.645148+00:00</td>\n",
       "    </tr>\n",
       "    <tr>\n",
       "      <th>1</th>\n",
       "      <td>00005546-3500-2800-0000-00000055d337</td>\n",
       "      <td>1</td>\n",
       "      <td>1241ext</td>\n",
       "      <td>miamidade</td>\n",
       "      <td>2022-08-16 10:29:52.645148+00:00</td>\n",
       "    </tr>\n",
       "    <tr>\n",
       "      <th>2</th>\n",
       "      <td>00005546-3500-2800-0000-00000055a48e</td>\n",
       "      <td>1</td>\n",
       "      <td>607ext</td>\n",
       "      <td>miamidade</td>\n",
       "      <td>2022-08-16 10:29:52.645148+00:00</td>\n",
       "    </tr>\n",
       "    <tr>\n",
       "      <th>3</th>\n",
       "      <td>00005546-3500-2800-0000-0000007a73eb</td>\n",
       "      <td>1</td>\n",
       "      <td>432ext</td>\n",
       "      <td>miamidade</td>\n",
       "      <td>2022-08-16 10:29:52.645148+00:00</td>\n",
       "    </tr>\n",
       "    <tr>\n",
       "      <th>4</th>\n",
       "      <td>00005546-3500-2800-0000-00000058a665</td>\n",
       "      <td>1</td>\n",
       "      <td>333ext</td>\n",
       "      <td>miamidade</td>\n",
       "      <td>2022-08-16 10:29:52.645148+00:00</td>\n",
       "    </tr>\n",
       "  </tbody>\n",
       "</table>\n",
       "</div>"
      ],
      "text/plain": [
       "                                feat_id  asf sample_id     county  \\\n",
       "0  00005546-3500-2800-0000-0000005593e0    1      1905  miamidade   \n",
       "1  00005546-3500-2800-0000-00000055d337    1   1241ext  miamidade   \n",
       "2  00005546-3500-2800-0000-00000055a48e    1    607ext  miamidade   \n",
       "3  00005546-3500-2800-0000-0000007a73eb    1    432ext  miamidade   \n",
       "4  00005546-3500-2800-0000-00000058a665    1    333ext  miamidade   \n",
       "\n",
       "                      datetime_run  \n",
       "0 2022-08-16 10:29:52.645148+00:00  \n",
       "1 2022-08-16 10:29:52.645148+00:00  \n",
       "2 2022-08-16 10:29:52.645148+00:00  \n",
       "3 2022-08-16 10:29:52.645148+00:00  \n",
       "4 2022-08-16 10:29:52.645148+00:00  "
      ]
     },
     "execution_count": 195,
     "metadata": {},
     "output_type": "execute_result"
    }
   ],
   "source": [
    "match_df.head()"
   ]
  },
  {
   "cell_type": "markdown",
   "metadata": {
    "application/vnd.databricks.v1+cell": {
     "inputWidgets": {},
     "nuid": "eaaf66e5-d25c-494f-be60-d4e3938a8b6b",
     "showTitle": false,
     "title": ""
    }
   },
   "source": [
    "#### Bootstrapping"
   ]
  },
  {
   "cell_type": "code",
   "execution_count": 196,
   "metadata": {
    "application/vnd.databricks.v1+cell": {
     "inputWidgets": {},
     "nuid": "c31b4b5d-dfe2-4ee4-94ba-a462c7818f7c",
     "showTitle": false,
     "title": ""
    }
   },
   "outputs": [],
   "source": [
    "def bootstrap_resample(df, agg_fun, times=1000, seed=0):\n",
    "    reboot = []\n",
    "    \n",
    "    for t in range(times):\n",
    "        df_boot = df.sample(frac = 1, replace=True, random_state = t+seed)\n",
    "        reboot.append(agg_fun(df_boot))\n",
    "        \n",
    "    return reboot\n",
    "\n",
    "\n",
    "def percentile_bootstrap(df, agg_fun, conf=0.9, times=1000, seed=0):\n",
    "    \"\"\"Generic Percentile Bootstrap\n",
    "    This function returns a percentile bootstrap confidence interval for a statistic.\n",
    "    Args:\n",
    "        df (pandas.DataFrame): DataFrame with the observed random vectors. Each row represents an observation an each column is a random variable.\n",
    "        agg_fun (function): Aggregation function. This function should receive as input a pandas.DataFrame (resamples) and return a \n",
    "        number with the computed statistic.\n",
    "        conf (float, optional): Confidence level of the returned interval. Defaults to 0.9.\n",
    "        times (int, optional): Bootstrap resamples. Defaults to 1000.\n",
    "        seed (int, optional): Random seed. Defaults to 0.\n",
    "    Returns:\n",
    "        numpy.array: Percentile Boostrap CI [lower, upper]\n",
    "    \"\"\"    \n",
    "    reboot = bootstrap_resample(df, agg_fun, times, seed)\n",
    "    return np.quantile(reboot, [(1-conf)/2, (1-conf)/2+conf])"
   ]
  },
  {
   "cell_type": "code",
   "execution_count": 197,
   "metadata": {
    "application/vnd.databricks.v1+cell": {
     "inputWidgets": {},
     "nuid": "2e706568-8bc9-495d-b10c-6fe0a9708f6b",
     "showTitle": false,
     "title": ""
    }
   },
   "outputs": [],
   "source": [
    "[lower_distance, upper_distance] = percentile_bootstrap(similarity_df['match'], np.mean)"
   ]
  },
  {
   "cell_type": "code",
   "execution_count": 198,
   "metadata": {
    "application/vnd.databricks.v1+cell": {
     "inputWidgets": {},
     "nuid": "4f478813-2e89-46b6-9981-89308bc8020c",
     "showTitle": false,
     "title": ""
    }
   },
   "outputs": [
    {
     "data": {
      "text/html": [
       "<div>\n",
       "<style scoped>\n",
       "    .dataframe tbody tr th:only-of-type {\n",
       "        vertical-align: middle;\n",
       "    }\n",
       "\n",
       "    .dataframe tbody tr th {\n",
       "        vertical-align: top;\n",
       "    }\n",
       "\n",
       "    .dataframe thead th {\n",
       "        text-align: right;\n",
       "    }\n",
       "</style>\n",
       "<table border=\"1\" class=\"dataframe\">\n",
       "  <thead>\n",
       "    <tr style=\"text-align: right;\">\n",
       "      <th></th>\n",
       "      <th>lower_bound</th>\n",
       "      <th>calculated_metric</th>\n",
       "      <th>upper_bound</th>\n",
       "      <th>units</th>\n",
       "      <th>metric</th>\n",
       "      <th>version</th>\n",
       "      <th>county</th>\n",
       "    </tr>\n",
       "  </thead>\n",
       "  <tbody>\n",
       "    <tr>\n",
       "      <th>0</th>\n",
       "      <td>0.990695</td>\n",
       "      <td>0.993634</td>\n",
       "      <td>0.996572</td>\n",
       "      <td>%</td>\n",
       "      <td>ASF</td>\n",
       "      <td>2022-08-16</td>\n",
       "      <td>miamidade</td>\n",
       "    </tr>\n",
       "  </tbody>\n",
       "</table>\n",
       "</div>"
      ],
      "text/plain": [
       "   lower_bound  calculated_metric  upper_bound units metric     version  \\\n",
       "0     0.990695           0.993634     0.996572     %    ASF  2022-08-16   \n",
       "\n",
       "      county  \n",
       "0  miamidade  "
      ]
     },
     "execution_count": 198,
     "metadata": {},
     "output_type": "execute_result"
    }
   ],
   "source": [
    "results_sum = pd.DataFrame(\n",
    "    data=[[lower_distance, match_proportion, upper_distance, '%', 'ASF', date, county]], \n",
    "    columns=['lower_bound', 'calculated_metric', 'upper_bound', 'units', 'metric', 'version', 'county'], index = None)\n",
    "results_sum"
   ]
  },
  {
   "cell_type": "markdown",
   "metadata": {
    "application/vnd.databricks.v1+cell": {
     "inputWidgets": {},
     "nuid": "06fbf9e4-eced-4042-a47b-fd54fb0bddd5",
     "showTitle": false,
     "title": ""
    }
   },
   "source": [
    "## Positional Accuracy"
   ]
  },
  {
   "cell_type": "markdown",
   "metadata": {
    "application/vnd.databricks.v1+cell": {
     "inputWidgets": {},
     "nuid": "9474b1bb-5213-4b65-aec5-1613eba557ab",
     "showTitle": false,
     "title": ""
    }
   },
   "source": [
    "### 90th percentile\n",
    "\n",
    "We consider the 90th percentile of the distance of matches as a metric for the Positional Accuracy. The distance we obtain below is be the distance for which 90% of the data is lower. The interesting thing about this metric is that it's expressed in terms of distance."
   ]
  },
  {
   "cell_type": "code",
   "execution_count": 199,
   "metadata": {
    "application/vnd.databricks.v1+cell": {
     "inputWidgets": {},
     "nuid": "987e0e6f-69f0-4215-88db-9bb450cb616a",
     "showTitle": false,
     "title": ""
    }
   },
   "outputs": [
    {
     "name": "stderr",
     "output_type": "stream",
     "text": [
      "/tmp/ipykernel_4678/994328999.py:3: SettingWithCopyWarning: \n",
      "A value is trying to be set on a copy of a slice from a DataFrame.\n",
      "Try using .loc[row_indexer,col_indexer] = value instead\n",
      "\n",
      "See the caveats in the documentation: https://pandas.pydata.org/pandas-docs/stable/user_guide/indexing.html#returning-a-view-versus-a-copy\n",
      "  matches_df['mnr_query_distance'] = matches_df['mnr_query_distance'].astype(float)\n"
     ]
    }
   ],
   "source": [
    "matches_df = similarity_df[similarity_df['match'] == 1]\n",
    "\n",
    "matches_df['mnr_query_distance'] = matches_df['mnr_query_distance'].astype(float)"
   ]
  },
  {
   "cell_type": "code",
   "execution_count": 200,
   "metadata": {
    "application/vnd.databricks.v1+cell": {
     "inputWidgets": {},
     "nuid": "21eb97a7-e012-41e5-b689-f6af90b310c1",
     "showTitle": false,
     "title": ""
    }
   },
   "outputs": [
    {
     "name": "stdout",
     "output_type": "stream",
     "text": [
      "Positional Accuracy (90th percentile distance) is: 29.34m\n"
     ]
    }
   ],
   "source": [
    "positional_accuracy_distance = round(np.quantile(matches_df['mnr_query_distance'], 0.9), 2)\n",
    "print(f'Positional Accuracy (90th percentile distance) is: {positional_accuracy_distance}m')"
   ]
  },
  {
   "cell_type": "markdown",
   "metadata": {
    "application/vnd.databricks.v1+cell": {
     "inputWidgets": {},
     "nuid": "44b4ba00-126c-44e9-b913-96d508d4615b",
     "showTitle": false,
     "title": ""
    }
   },
   "source": [
    "#### Bootstrapping"
   ]
  },
  {
   "cell_type": "code",
   "execution_count": 201,
   "metadata": {
    "application/vnd.databricks.v1+cell": {
     "inputWidgets": {},
     "nuid": "ea9d7f24-1811-4d3b-b126-b13a1a59eee8",
     "showTitle": false,
     "title": ""
    }
   },
   "outputs": [],
   "source": [
    "[lower_percentile90, upper_percentile90] = percentile_bootstrap(\n",
    "    matches_df['mnr_query_distance'], lambda x: np.quantile(x, 0.9)\n",
    ")"
   ]
  },
  {
   "cell_type": "code",
   "execution_count": 202,
   "metadata": {
    "application/vnd.databricks.v1+cell": {
     "inputWidgets": {},
     "nuid": "e69b1334-2741-4d14-aa3b-2cb9eb3d6d2e",
     "showTitle": false,
     "title": ""
    }
   },
   "outputs": [
    {
     "data": {
      "text/html": [
       "<div>\n",
       "<style scoped>\n",
       "    .dataframe tbody tr th:only-of-type {\n",
       "        vertical-align: middle;\n",
       "    }\n",
       "\n",
       "    .dataframe tbody tr th {\n",
       "        vertical-align: top;\n",
       "    }\n",
       "\n",
       "    .dataframe thead th {\n",
       "        text-align: right;\n",
       "    }\n",
       "</style>\n",
       "<table border=\"1\" class=\"dataframe\">\n",
       "  <thead>\n",
       "    <tr style=\"text-align: right;\">\n",
       "      <th></th>\n",
       "      <th>lower_bound</th>\n",
       "      <th>calculated_metric</th>\n",
       "      <th>upper_bound</th>\n",
       "      <th>units</th>\n",
       "      <th>metric</th>\n",
       "      <th>version</th>\n",
       "      <th>county</th>\n",
       "    </tr>\n",
       "  </thead>\n",
       "  <tbody>\n",
       "    <tr>\n",
       "      <th>0</th>\n",
       "      <td>0.990695</td>\n",
       "      <td>0.993634</td>\n",
       "      <td>0.996572</td>\n",
       "      <td>%</td>\n",
       "      <td>ASF</td>\n",
       "      <td>2022-08-16</td>\n",
       "      <td>miamidade</td>\n",
       "    </tr>\n",
       "    <tr>\n",
       "      <th>0</th>\n",
       "      <td>24.300000</td>\n",
       "      <td>29.340000</td>\n",
       "      <td>35.020000</td>\n",
       "      <td>meters</td>\n",
       "      <td>90p</td>\n",
       "      <td>2022-08-16</td>\n",
       "      <td>miamidade</td>\n",
       "    </tr>\n",
       "  </tbody>\n",
       "</table>\n",
       "</div>"
      ],
      "text/plain": [
       "   lower_bound  calculated_metric  upper_bound   units metric     version  \\\n",
       "0     0.990695           0.993634     0.996572       %    ASF  2022-08-16   \n",
       "0    24.300000          29.340000    35.020000  meters    90p  2022-08-16   \n",
       "\n",
       "      county  \n",
       "0  miamidade  \n",
       "0  miamidade  "
      ]
     },
     "execution_count": 202,
     "metadata": {},
     "output_type": "execute_result"
    }
   ],
   "source": [
    "new_result = pd.DataFrame(\n",
    "    data=[[lower_percentile90, positional_accuracy_distance, upper_percentile90, 'meters', '90p', date, county]], \n",
    "    columns=['lower_bound', 'calculated_metric', 'upper_bound', 'units', 'metric', 'version', 'county'], index = None)\n",
    "results_sum = pd.concat([results_sum, new_result])\n",
    "results_sum"
   ]
  },
  {
   "cell_type": "markdown",
   "metadata": {
    "application/vnd.databricks.v1+cell": {
     "inputWidgets": {},
     "nuid": "3cd60f8c-e9ef-47d3-926e-6a0cf0b0f2f9",
     "showTitle": false,
     "title": ""
    }
   },
   "source": [
    "### % of matches below 50m"
   ]
  },
  {
   "cell_type": "code",
   "execution_count": 203,
   "metadata": {
    "application/vnd.databricks.v1+cell": {
     "inputWidgets": {},
     "nuid": "2c68e04a-99d5-4872-94b9-5a042f7edee7",
     "showTitle": false,
     "title": ""
    }
   },
   "outputs": [
    {
     "name": "stdout",
     "output_type": "stream",
     "text": [
      "The calculated percentage of matches within 50 meters is 92.7%\n"
     ]
    }
   ],
   "source": [
    "proportion_50m_matches = (matches_df['mnr_query_distance'] <= 50).mean()\n",
    "nice_num_50m = round(proportion_50m_matches * 100, 1)\n",
    "print(f'The calculated percentage of matches within 50 meters is {nice_num_50m}%')"
   ]
  },
  {
   "cell_type": "code",
   "execution_count": 204,
   "metadata": {
    "application/vnd.databricks.v1+cell": {
     "inputWidgets": {},
     "nuid": "6cfa1071-164b-4e50-8619-ee0428d37f88",
     "showTitle": false,
     "title": ""
    }
   },
   "outputs": [],
   "source": [
    "[lower_50m_pa, upper_50m_pa] = percentile_bootstrap(\n",
    "    matches_df['mnr_query_distance'] <= 50, np.mean\n",
    ")"
   ]
  },
  {
   "cell_type": "code",
   "execution_count": 205,
   "metadata": {
    "application/vnd.databricks.v1+cell": {
     "inputWidgets": {},
     "nuid": "c70d2e57-4224-4325-be5a-5fa3b28638f6",
     "showTitle": false,
     "title": ""
    }
   },
   "outputs": [
    {
     "data": {
      "text/html": [
       "<div>\n",
       "<style scoped>\n",
       "    .dataframe tbody tr th:only-of-type {\n",
       "        vertical-align: middle;\n",
       "    }\n",
       "\n",
       "    .dataframe tbody tr th {\n",
       "        vertical-align: top;\n",
       "    }\n",
       "\n",
       "    .dataframe thead th {\n",
       "        text-align: right;\n",
       "    }\n",
       "</style>\n",
       "<table border=\"1\" class=\"dataframe\">\n",
       "  <thead>\n",
       "    <tr style=\"text-align: right;\">\n",
       "      <th></th>\n",
       "      <th>lower_bound</th>\n",
       "      <th>calculated_metric</th>\n",
       "      <th>upper_bound</th>\n",
       "      <th>units</th>\n",
       "      <th>metric</th>\n",
       "      <th>version</th>\n",
       "      <th>county</th>\n",
       "    </tr>\n",
       "  </thead>\n",
       "  <tbody>\n",
       "    <tr>\n",
       "      <th>0</th>\n",
       "      <td>0.990695</td>\n",
       "      <td>0.993634</td>\n",
       "      <td>0.996572</td>\n",
       "      <td>%</td>\n",
       "      <td>ASF</td>\n",
       "      <td>2022-08-16</td>\n",
       "      <td>miamidade</td>\n",
       "    </tr>\n",
       "    <tr>\n",
       "      <th>0</th>\n",
       "      <td>24.300000</td>\n",
       "      <td>29.340000</td>\n",
       "      <td>35.020000</td>\n",
       "      <td>meters</td>\n",
       "      <td>90p</td>\n",
       "      <td>2022-08-16</td>\n",
       "      <td>miamidade</td>\n",
       "    </tr>\n",
       "    <tr>\n",
       "      <th>0</th>\n",
       "      <td>0.917201</td>\n",
       "      <td>0.927058</td>\n",
       "      <td>0.936422</td>\n",
       "      <td>%</td>\n",
       "      <td>APA</td>\n",
       "      <td>2022-08-16</td>\n",
       "      <td>miamidade</td>\n",
       "    </tr>\n",
       "  </tbody>\n",
       "</table>\n",
       "</div>"
      ],
      "text/plain": [
       "   lower_bound  calculated_metric  upper_bound   units metric     version  \\\n",
       "0     0.990695           0.993634     0.996572       %    ASF  2022-08-16   \n",
       "0    24.300000          29.340000    35.020000  meters    90p  2022-08-16   \n",
       "0     0.917201           0.927058     0.936422       %    APA  2022-08-16   \n",
       "\n",
       "      county  \n",
       "0  miamidade  \n",
       "0  miamidade  \n",
       "0  miamidade  "
      ]
     },
     "execution_count": 205,
     "metadata": {},
     "output_type": "execute_result"
    }
   ],
   "source": [
    "new_result = pd.DataFrame(\n",
    "     data=[[lower_50m_pa, proportion_50m_matches, upper_50m_pa, '%', 'APA', date, county]], \n",
    "    columns=['lower_bound', 'calculated_metric', 'upper_bound', 'units', 'metric', 'version', 'county'])\n",
    "results_sum = pd.concat([results_sum, new_result])\n",
    "results_sum"
   ]
  },
  {
   "cell_type": "markdown",
   "metadata": {
    "application/vnd.databricks.v1+cell": {
     "inputWidgets": {},
     "nuid": "93109947-2b60-4c20-8de0-00185ac9aee8",
     "showTitle": false,
     "title": ""
    }
   },
   "source": [
    "# Join Matches Table"
   ]
  },
  {
   "cell_type": "code",
   "execution_count": 206,
   "metadata": {
    "application/vnd.databricks.v1+cell": {
     "inputWidgets": {},
     "nuid": "213278e7-5d2e-4c15-98e2-7c2be95d2df9",
     "showTitle": false,
     "title": ""
    }
   },
   "outputs": [
    {
     "data": {
      "text/html": [
       "<div>\n",
       "<style scoped>\n",
       "    .dataframe tbody tr th:only-of-type {\n",
       "        vertical-align: middle;\n",
       "    }\n",
       "\n",
       "    .dataframe tbody tr th {\n",
       "        vertical-align: top;\n",
       "    }\n",
       "\n",
       "    .dataframe thead th {\n",
       "        text-align: right;\n",
       "    }\n",
       "</style>\n",
       "<table border=\"1\" class=\"dataframe\">\n",
       "  <thead>\n",
       "    <tr style=\"text-align: right;\">\n",
       "      <th></th>\n",
       "      <th>sample_id</th>\n",
       "      <th>mnr_query_distance</th>\n",
       "    </tr>\n",
       "  </thead>\n",
       "  <tbody>\n",
       "    <tr>\n",
       "      <th>0</th>\n",
       "      <td>1905</td>\n",
       "      <td>1.0</td>\n",
       "    </tr>\n",
       "    <tr>\n",
       "      <th>1</th>\n",
       "      <td>1241ext</td>\n",
       "      <td>6.2</td>\n",
       "    </tr>\n",
       "    <tr>\n",
       "      <th>2</th>\n",
       "      <td>607ext</td>\n",
       "      <td>17.6</td>\n",
       "    </tr>\n",
       "    <tr>\n",
       "      <th>3</th>\n",
       "      <td>432ext</td>\n",
       "      <td>36.1</td>\n",
       "    </tr>\n",
       "    <tr>\n",
       "      <th>4</th>\n",
       "      <td>333ext</td>\n",
       "      <td>1.4</td>\n",
       "    </tr>\n",
       "    <tr>\n",
       "      <th>...</th>\n",
       "      <td>...</td>\n",
       "      <td>...</td>\n",
       "    </tr>\n",
       "    <tr>\n",
       "      <th>2035</th>\n",
       "      <td>1949</td>\n",
       "      <td>0.1</td>\n",
       "    </tr>\n",
       "    <tr>\n",
       "      <th>2036</th>\n",
       "      <td>634ext</td>\n",
       "      <td>96.6</td>\n",
       "    </tr>\n",
       "    <tr>\n",
       "      <th>2037</th>\n",
       "      <td>695ext</td>\n",
       "      <td>26.2</td>\n",
       "    </tr>\n",
       "    <tr>\n",
       "      <th>2038</th>\n",
       "      <td>1755</td>\n",
       "      <td>2.0</td>\n",
       "    </tr>\n",
       "    <tr>\n",
       "      <th>2039</th>\n",
       "      <td>1309ext</td>\n",
       "      <td>1.5</td>\n",
       "    </tr>\n",
       "  </tbody>\n",
       "</table>\n",
       "<p>2029 rows × 2 columns</p>\n",
       "</div>"
      ],
      "text/plain": [
       "     sample_id  mnr_query_distance\n",
       "0         1905                 1.0\n",
       "1      1241ext                 6.2\n",
       "2       607ext                17.6\n",
       "3       432ext                36.1\n",
       "4       333ext                 1.4\n",
       "...        ...                 ...\n",
       "2035      1949                 0.1\n",
       "2036    634ext                96.6\n",
       "2037    695ext                26.2\n",
       "2038      1755                 2.0\n",
       "2039   1309ext                 1.5\n",
       "\n",
       "[2029 rows x 2 columns]"
      ]
     },
     "execution_count": 206,
     "metadata": {},
     "output_type": "execute_result"
    }
   ],
   "source": [
    "matches_df[['sample_id', 'mnr_query_distance']]"
   ]
  },
  {
   "cell_type": "code",
   "execution_count": 207,
   "metadata": {
    "application/vnd.databricks.v1+cell": {
     "inputWidgets": {},
     "nuid": "f15eb313-d79f-4eae-91ca-c9d61f8539e0",
     "showTitle": false,
     "title": ""
    }
   },
   "outputs": [],
   "source": [
    "match_df = match_df.merge(matches_df[['sample_id', 'mnr_query_distance']], on = ['sample_id'], how = 'left')\n",
    "match_df['apa'] = match_df.mnr_query_distance.apply(lambda x: 1 if x < 50 else 0)\n",
    "match_df.drop('mnr_query_distance', axis = 1, inplace = True)"
   ]
  },
  {
   "cell_type": "markdown",
   "metadata": {
    "application/vnd.databricks.v1+cell": {
     "inputWidgets": {},
     "nuid": "a5faeb8c-05a5-4e5a-a642-6e101f69a042",
     "showTitle": false,
     "title": ""
    }
   },
   "source": [
    "# Store Results @ psql"
   ]
  },
  {
   "cell_type": "markdown",
   "metadata": {
    "application/vnd.databricks.v1+cell": {
     "inputWidgets": {},
     "nuid": "6265dc51-b07a-429a-bcde-cb53e2c22fdd",
     "showTitle": false,
     "title": ""
    }
   },
   "source": [
    "### Storing Results"
   ]
  },
  {
   "cell_type": "code",
   "execution_count": 208,
   "metadata": {
    "application/vnd.databricks.v1+cell": {
     "inputWidgets": {},
     "nuid": "0241a156-5ec1-4f46-a5ce-80cf686a377b",
     "showTitle": false,
     "title": ""
    }
   },
   "outputs": [
    {
     "data": {
      "text/html": [
       "<div>\n",
       "<style scoped>\n",
       "    .dataframe tbody tr th:only-of-type {\n",
       "        vertical-align: middle;\n",
       "    }\n",
       "\n",
       "    .dataframe tbody tr th {\n",
       "        vertical-align: top;\n",
       "    }\n",
       "\n",
       "    .dataframe thead th {\n",
       "        text-align: right;\n",
       "    }\n",
       "</style>\n",
       "<table border=\"1\" class=\"dataframe\">\n",
       "  <thead>\n",
       "    <tr style=\"text-align: right;\">\n",
       "      <th></th>\n",
       "      <th>lower_bound</th>\n",
       "      <th>calculated_metric</th>\n",
       "      <th>upper_bound</th>\n",
       "      <th>units</th>\n",
       "      <th>metric</th>\n",
       "      <th>version</th>\n",
       "      <th>county</th>\n",
       "    </tr>\n",
       "  </thead>\n",
       "  <tbody>\n",
       "    <tr>\n",
       "      <th>0</th>\n",
       "      <td>0.990695</td>\n",
       "      <td>0.993634</td>\n",
       "      <td>0.996572</td>\n",
       "      <td>%</td>\n",
       "      <td>ASF</td>\n",
       "      <td>2022-08-16</td>\n",
       "      <td>miamidade</td>\n",
       "    </tr>\n",
       "    <tr>\n",
       "      <th>0</th>\n",
       "      <td>24.300000</td>\n",
       "      <td>29.340000</td>\n",
       "      <td>35.020000</td>\n",
       "      <td>meters</td>\n",
       "      <td>90p</td>\n",
       "      <td>2022-08-16</td>\n",
       "      <td>miamidade</td>\n",
       "    </tr>\n",
       "    <tr>\n",
       "      <th>0</th>\n",
       "      <td>0.917201</td>\n",
       "      <td>0.927058</td>\n",
       "      <td>0.936422</td>\n",
       "      <td>%</td>\n",
       "      <td>APA</td>\n",
       "      <td>2022-08-16</td>\n",
       "      <td>miamidade</td>\n",
       "    </tr>\n",
       "  </tbody>\n",
       "</table>\n",
       "</div>"
      ],
      "text/plain": [
       "   lower_bound  calculated_metric  upper_bound   units metric     version  \\\n",
       "0     0.990695           0.993634     0.996572       %    ASF  2022-08-16   \n",
       "0    24.300000          29.340000    35.020000  meters    90p  2022-08-16   \n",
       "0     0.917201           0.927058     0.936422       %    APA  2022-08-16   \n",
       "\n",
       "      county  \n",
       "0  miamidade  \n",
       "0  miamidade  \n",
       "0  miamidade  "
      ]
     },
     "execution_count": 208,
     "metadata": {},
     "output_type": "execute_result"
    }
   ],
   "source": [
    "results_sum"
   ]
  },
  {
   "cell_type": "code",
   "execution_count": 209,
   "metadata": {
    "application/vnd.databricks.v1+cell": {
     "inputWidgets": {},
     "nuid": "3c0c9695-75e6-4ebb-9711-c140009b8555",
     "showTitle": false,
     "title": ""
    }
   },
   "outputs": [
    {
     "name": "stdout",
     "output_type": "stream",
     "text": [
      "Table stored!\n"
     ]
    },
    {
     "data": {
      "text/plain": [
       "1"
      ]
     },
     "execution_count": 209,
     "metadata": {},
     "output_type": "execute_result"
    }
   ],
   "source": [
    "raw2p.write_to_db(results_sum, table_name = 'results', schema = 'STAN_169')"
   ]
  },
  {
   "cell_type": "markdown",
   "metadata": {
    "application/vnd.databricks.v1+cell": {
     "inputWidgets": {},
     "nuid": "277479b5-8b32-4aea-9a79-0d1b7e45a1c2",
     "showTitle": false,
     "title": ""
    }
   },
   "source": [
    "### Storing Matches"
   ]
  },
  {
   "cell_type": "code",
   "execution_count": 210,
   "metadata": {
    "application/vnd.databricks.v1+cell": {
     "inputWidgets": {},
     "nuid": "5bdfd68e-834d-4a1a-8713-b1101f192a5c",
     "showTitle": false,
     "title": ""
    }
   },
   "outputs": [],
   "source": [
    "match_df['version'] = date"
   ]
  },
  {
   "cell_type": "code",
   "execution_count": 211,
   "metadata": {
    "application/vnd.databricks.v1+cell": {
     "inputWidgets": {},
     "nuid": "98d25ca5-d428-4023-8a2c-04bb0137475a",
     "showTitle": false,
     "title": ""
    }
   },
   "outputs": [
    {
     "data": {
      "text/html": [
       "<div>\n",
       "<style scoped>\n",
       "    .dataframe tbody tr th:only-of-type {\n",
       "        vertical-align: middle;\n",
       "    }\n",
       "\n",
       "    .dataframe tbody tr th {\n",
       "        vertical-align: top;\n",
       "    }\n",
       "\n",
       "    .dataframe thead th {\n",
       "        text-align: right;\n",
       "    }\n",
       "</style>\n",
       "<table border=\"1\" class=\"dataframe\">\n",
       "  <thead>\n",
       "    <tr style=\"text-align: right;\">\n",
       "      <th></th>\n",
       "      <th>feat_id</th>\n",
       "      <th>asf</th>\n",
       "      <th>sample_id</th>\n",
       "      <th>county</th>\n",
       "      <th>datetime_run</th>\n",
       "      <th>apa</th>\n",
       "      <th>version</th>\n",
       "    </tr>\n",
       "  </thead>\n",
       "  <tbody>\n",
       "    <tr>\n",
       "      <th>0</th>\n",
       "      <td>00005546-3500-2800-0000-0000005593e0</td>\n",
       "      <td>1</td>\n",
       "      <td>1905</td>\n",
       "      <td>miamidade</td>\n",
       "      <td>2022-08-16 10:29:52.645148+00:00</td>\n",
       "      <td>1</td>\n",
       "      <td>2022-08-16</td>\n",
       "    </tr>\n",
       "    <tr>\n",
       "      <th>1</th>\n",
       "      <td>00005546-3500-2800-0000-00000055d337</td>\n",
       "      <td>1</td>\n",
       "      <td>1241ext</td>\n",
       "      <td>miamidade</td>\n",
       "      <td>2022-08-16 10:29:52.645148+00:00</td>\n",
       "      <td>1</td>\n",
       "      <td>2022-08-16</td>\n",
       "    </tr>\n",
       "    <tr>\n",
       "      <th>2</th>\n",
       "      <td>00005546-3500-2800-0000-00000055a48e</td>\n",
       "      <td>1</td>\n",
       "      <td>607ext</td>\n",
       "      <td>miamidade</td>\n",
       "      <td>2022-08-16 10:29:52.645148+00:00</td>\n",
       "      <td>1</td>\n",
       "      <td>2022-08-16</td>\n",
       "    </tr>\n",
       "    <tr>\n",
       "      <th>3</th>\n",
       "      <td>00005546-3500-2800-0000-0000007a73eb</td>\n",
       "      <td>1</td>\n",
       "      <td>432ext</td>\n",
       "      <td>miamidade</td>\n",
       "      <td>2022-08-16 10:29:52.645148+00:00</td>\n",
       "      <td>1</td>\n",
       "      <td>2022-08-16</td>\n",
       "    </tr>\n",
       "    <tr>\n",
       "      <th>4</th>\n",
       "      <td>00005546-3500-2800-0000-00000058a665</td>\n",
       "      <td>1</td>\n",
       "      <td>333ext</td>\n",
       "      <td>miamidade</td>\n",
       "      <td>2022-08-16 10:29:52.645148+00:00</td>\n",
       "      <td>1</td>\n",
       "      <td>2022-08-16</td>\n",
       "    </tr>\n",
       "  </tbody>\n",
       "</table>\n",
       "</div>"
      ],
      "text/plain": [
       "                                feat_id  asf sample_id     county  \\\n",
       "0  00005546-3500-2800-0000-0000005593e0    1      1905  miamidade   \n",
       "1  00005546-3500-2800-0000-00000055d337    1   1241ext  miamidade   \n",
       "2  00005546-3500-2800-0000-00000055a48e    1    607ext  miamidade   \n",
       "3  00005546-3500-2800-0000-0000007a73eb    1    432ext  miamidade   \n",
       "4  00005546-3500-2800-0000-00000058a665    1    333ext  miamidade   \n",
       "\n",
       "                      datetime_run  apa     version  \n",
       "0 2022-08-16 10:29:52.645148+00:00    1  2022-08-16  \n",
       "1 2022-08-16 10:29:52.645148+00:00    1  2022-08-16  \n",
       "2 2022-08-16 10:29:52.645148+00:00    1  2022-08-16  \n",
       "3 2022-08-16 10:29:52.645148+00:00    1  2022-08-16  \n",
       "4 2022-08-16 10:29:52.645148+00:00    1  2022-08-16  "
      ]
     },
     "execution_count": 211,
     "metadata": {},
     "output_type": "execute_result"
    }
   ],
   "source": [
    "match_df.head()"
   ]
  },
  {
   "cell_type": "code",
   "execution_count": 212,
   "metadata": {
    "application/vnd.databricks.v1+cell": {
     "inputWidgets": {},
     "nuid": "20d493a0-abed-4381-81ee-96c2ba7420b3",
     "showTitle": false,
     "title": ""
    }
   },
   "outputs": [
    {
     "name": "stdout",
     "output_type": "stream",
     "text": [
      "Table stored!\n"
     ]
    },
    {
     "data": {
      "text/plain": [
       "1"
      ]
     },
     "execution_count": 212,
     "metadata": {},
     "output_type": "execute_result"
    }
   ],
   "source": [
    "raw2p.write_to_db(match_df, table_name = 'matches_table', schema = 'STAN_169')"
   ]
  }
 ],
 "metadata": {
  "application/vnd.databricks.v1+notebook": {
   "dashboards": [],
   "language": "python",
   "notebookMetadata": {
    "pythonIndentUnit": 2
   },
   "notebookName": "final_process",
   "notebookOrigID": 2036890387749244,
   "widgets": {}
  },
  "kernelspec": {
   "display_name": "Python 3.8.13 ('pygeo')",
   "language": "python",
   "name": "python3"
  },
  "language_info": {
   "codemirror_mode": {
    "name": "ipython",
    "version": 3
   },
   "file_extension": ".py",
   "mimetype": "text/x-python",
   "name": "python",
   "nbconvert_exporter": "python",
   "pygments_lexer": "ipython3",
   "version": "3.8.13"
  },
  "vscode": {
   "interpreter": {
    "hash": "70ce54ad97a74852893fb3a2eed7fab00a48abaab9c8d77c9e0b6a3e4b45b116"
   }
  }
 },
 "nbformat": 4,
 "nbformat_minor": 0
}