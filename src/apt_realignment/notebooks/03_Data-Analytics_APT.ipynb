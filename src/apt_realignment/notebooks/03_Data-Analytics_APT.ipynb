{
 "cells": [
  {
   "cell_type": "code",
   "execution_count": null,
   "id": "49628c7b",
   "metadata": {},
   "outputs": [],
   "source": [
    "import os\n",
    "import shapely\n",
    "import numpy as np\n",
    "import sys \n",
    "import pandas as pd \n",
    "import gc\n",
    "from shapely import wkt\n",
    "from matplotlib import pyplot as plt\n",
    "from shapely.geometry import Point,mapping,Polygon,box,MultiPoint\n",
    "import geopandas as gpd \n",
    "import seaborn as sns \n",
    " \n",
    "# for parallelization\n",
    "sys.path.append('/mnt/c/Users/tandon/OneDrive - TomTom/Desktop/tomtom/Workspace/01_Rooftop_accuracy/APT-Realignment/src/apt_realignment')\n",
    "from process_geometries import ProcessGeometricData  as ProcessAPT_data\n",
    "from utils.haversine_distance import get_distance\n",
    "from utils.geometric_utils import geojson2shpfile\n",
    "\n",
    "\n",
    "def save_geometry(dataframe,geometry,out_path,fname='dataframe.geojson'):\n",
    "    df_to_save = gpd.GeoDataFrame(geometry=dataframe[geometry],crs=\"EPSG:4326\")\n",
    "    df_to_save = df_to_save.to_crs(\"epsg:4326\")\n",
    "    df_to_save.to_file(os.path.join(out_path,fname),driver=\"GeoJSON\")"
   ]
  },
  {
   "cell_type": "code",
   "execution_count": null,
   "id": "e8ba6b84",
   "metadata": {},
   "outputs": [],
   "source": [
    "# geojson2shpfile('/mnt/c/Users/tandon/OneDrive - TomTom/Desktop/tomtom/Workspace/01_Rooftop_accuracy/BFP_Analysis_USA/data/data/California/California.geojson',verbose=0)"
   ]
  },
  {
   "cell_type": "markdown",
   "id": "6b28bc94",
   "metadata": {},
   "source": [
    "## Los Angeles"
   ]
  },
  {
   "cell_type": "code",
   "execution_count": null,
   "id": "d04ec8d7",
   "metadata": {},
   "outputs": [],
   "source": [
    "from os.path import isfile\n",
    "\n",
    "data_path  = \"/mnt/c/Users/tandon/OneDrive - TomTom/Desktop/tomtom/Workspace/01_Rooftop_accuracy/BFP_Analysis_USA/data/data\"\n",
    "state = \"California\"\n",
    "city = \"LosAngles\"\n",
    "apt_data_path = os.path.join(data_path,state,\"APT_2022_09_000_nam_usa_uca.shp\" )\n",
    "parcel_path = os.path.join(data_path,state,city,\"Parcels_06037/Parcels_06037.shp\")\n",
    "building_geojson = os.path.join(data_path,state,'California.geojson')"
   ]
  },
  {
   "cell_type": "code",
   "execution_count": null,
   "id": "1095e042",
   "metadata": {},
   "outputs": [],
   "source": [
    "if os.path.isfile(apt_data_path) and os.path.isfile(parcel_path) and os.path.isfile(building_geojson): \n",
    "    apt_preprocess = ProcessAPT_data(\n",
    "                        parcel_shapefile=parcel_path,\n",
    "                        building_shapefile=building_geojson,\n",
    "                        apt_shape_file=apt_data_path,\n",
    "                        output_path = os.path.join(data_path,state,city,'Apt_realignment') \n",
    "                        )\n",
    "    processed_df_LA = apt_preprocess.process_dataframe(bfp_count_per_parcel=2,filename='APT_realigned_usa_uca_LA')\n",
    "print(\"Data Shape:\",processed_df_LA.shape)\n"
   ]
  },
  {
   "cell_type": "code",
   "execution_count": null,
   "id": "2dd8d55e",
   "metadata": {},
   "outputs": [],
   "source": [
    "processed_df_LA.head()"
   ]
  },
  {
   "cell_type": "code",
   "execution_count": null,
   "id": "4a17f0ed",
   "metadata": {},
   "outputs": [],
   "source": [
    "def get_apt_to_bfp_distance(data):\n",
    "    anchor_point = data['APT']\n",
    "    bfp_centroid = data['updated_geometries']\n",
    "    return get_distance(anchor_point, bfp_centroid)\n",
    "\n",
    "# processed_df_LA['APT_to_Centroid_distance'] = processed_df_LA.apply(lambda x: get_apt_to_bfp_distance(x),axis=1)\n",
    "processed_df_LA.head(4)"
   ]
  },
  {
   "cell_type": "code",
   "execution_count": null,
   "id": "5c2f7803",
   "metadata": {},
   "outputs": [],
   "source": [
    "distance_greater_than_50m = processed_df_LA.loc[processed_df_LA['APT_to_Centroid_distance']>50].shape[0]\n",
    "max_dist = processed_df_LA['APT_to_Centroid_distance'].loc[processed_df_LA['APT_to_Centroid_distance']>50].max()\n",
    "print(\"Max distance APT from Parcel to Building Centroid {:.2f} m\".format(processed_df_LA['APT_to_Centroid_distance'].loc[processed_df_LA['APT_to_Centroid_distance']>50].max()))\n",
    "print(\"Data points greater than 50m: {:.2f}% \".format(100*(distance_greater_than_50m/processed_df_LA.shape[0])))"
   ]
  },
  {
   "cell_type": "code",
   "execution_count": null,
   "id": "389a92cb",
   "metadata": {},
   "outputs": [],
   "source": [
    "fig, ax = plt.subplots(figsize=(17,9))\n",
    "\n",
    "ax.set_title(\"Histogram of APT to centroid distance on/not on BFP\")\n",
    "ax.set_xlabel(\"APT point to centroid distance(meters)\")\n",
    "ax.set_ylabel(\"counts\")\n",
    "\n",
    "frqTrue, edgesTrue = np.histogram(processed_df_LA['APT_to_Centroid_distance'].loc[processed_df_LA['APT_to_Centroid_distance']<50].values, bins = np.arange(5,55,15))\n",
    "p1 = ax.bar(edgesTrue[:-1], frqTrue, width=np.diff(edgesTrue), edgecolor=\"black\", align=\"edge\",alpha=0.4,label='Address Points on Rooftop',color='orange')\n",
    "\n",
    "plt.legend()\n",
    "plt.show()\n",
    "gc.collect()"
   ]
  },
  {
   "cell_type": "code",
   "execution_count": null,
   "id": "315b42db",
   "metadata": {},
   "outputs": [],
   "source": [
    "def save_geometry(dataframe,geometry,out_path,fname='dataframe.geojson'):\n",
    "    df_to_save = gpd.GeoDataFrame(geometry=dataframe[geometry],crs=\"EPSG:4326\")\n",
    "    df_to_save = df_to_save.to_crs(\"epsg:4326\")\n",
    "    df_to_save.to_file(os.path.join(out_path,fname),driver=\"GeoJSON\")\n",
    "\n",
    "out_path = os.path.join(data_path,state,city,\"Apt_realignment/APT_realign_2_bfp2parcel\")\n",
    "filename = os.path.join(out_path,'2022_06_012_nam_usa_uca_bfp.geojson')\n",
    "save_geometry(processed_df_LA,'building_roi',out_path=out_path,fname=filename)"
   ]
  },
  {
   "cell_type": "markdown",
   "id": "17629036",
   "metadata": {},
   "source": [
    "## Santa Clara California "
   ]
  },
  {
   "cell_type": "code",
   "execution_count": null,
   "id": "58b41b95",
   "metadata": {},
   "outputs": [],
   "source": [
    "data_path  = \"/mnt/c/Users/tandon/OneDrive - TomTom/Desktop/tomtom/Workspace/01_Rooftop_accuracy/BFP_Analysis_USA/data/data\"\n",
    "state = \"California\"\n",
    "city = \"SantaClara\"\n",
    "apt_data_path = os.path.join(data_path,state,\"APT_2022_06_012_nam_usa_uca.shp\" )\n",
    "parcel_path = os.path.join(data_path,state,city,\"Parcels_06085/Parcels_06085.shp\")\n",
    "building_geojson = os.path.join(data_path,state,'California.geojson')"
   ]
  },
  {
   "cell_type": "markdown",
   "id": "a7ce3c19",
   "metadata": {},
   "source": [
    "### Read APT data From MNR Database "
   ]
  },
  {
   "cell_type": "code",
   "execution_count": null,
   "id": "ae74fc5a",
   "metadata": {},
   "outputs": [],
   "source": [
    "apt_df = gpd.read_file(apt_data_path)\n",
    "apt_df = gpd.GeoDataFrame(apt_df,crs=\"EPSG:4326\",geometry='geometry')\n",
    "apt_df = apt_df.to_crs(\"epsg:4326\")\n",
    "print(\"Total number of data points collected from MNR database \",apt_df.shape[0])\n",
    "gc.collect()\n",
    "apt_df.head()\n",
    "\n",
    "# sns.countplot(apt_df['AnchorPoin'])\n",
    "# print(apt_df['AnchorPoin'].value_counts())\n",
    "\n",
    "# print(\"Building Address Points :{}\".format(apt_df['AnchorPoin'].value_counts()[0] /apt_df['AnchorPoin'].count()))\n",
    "# print(\"Address Parcel  Centroid Points:{}\".format(apt_df['AnchorPoin'].value_counts()[1] /apt_df['AnchorPoin'].count() ))"
   ]
  },
  {
   "cell_type": "markdown",
   "id": "2b612da0",
   "metadata": {},
   "source": [
    "### Read State Building Footprint Data"
   ]
  },
  {
   "cell_type": "code",
   "execution_count": null,
   "id": "2657d5b2",
   "metadata": {},
   "outputs": [],
   "source": [
    "# # Read MIcrosoft data \n",
    "# print(\"reading :\",os.path.basename(building_geojson))\n",
    "# footprint_df = gpd.read_file(building_geojson)\n",
    "# footprint_df = gpd.GeoDataFrame(footprint_df, crs=\"EPSG:4326\", geometry='geometry')\n",
    "# print(\"Building CRS:\",footprint_df.crs)\n",
    "\n",
    "# gc.collect()\n",
    "# footprint_df.head()"
   ]
  },
  {
   "cell_type": "markdown",
   "id": "9c4f845e",
   "metadata": {},
   "source": [
    "### Read Parcel Data specific to County"
   ]
  },
  {
   "cell_type": "code",
   "execution_count": null,
   "id": "4943d50e",
   "metadata": {},
   "outputs": [],
   "source": [
    "# read Parcel data\n",
    "parcel_df = gpd.read_file(parcel_path)\n",
    "parcel_df = gpd.GeoDataFrame(parcel_df,crs=\"EPSG:4326\",geometry='geometry')\n",
    "# convert parcel crs to same as building fooprint\n",
    "parcel_df = parcel_df.to_crs(\"epsg:4326\")\n",
    "parcel_polygon_changedcrs_df = gpd.GeoDataFrame(geometry=parcel_df['geometry'])\n",
    "\n",
    "print(\"CRS after conversion: \",parcel_df.crs)\n",
    "print(\"Parcel Data Points :\",parcel_df.shape[0])\n",
    "# parcel_polygon_changedcrs_df.to_file(os.path.join(out_path,\"parcel_DistrictofColumbia.geojson\"), driver=\"GeoJSON\")\n",
    "gc.collect()\n",
    "\n",
    "parcel_df.head(10)"
   ]
  },
  {
   "cell_type": "markdown",
   "id": "d7b3c282",
   "metadata": {},
   "source": [
    "### Process Data "
   ]
  },
  {
   "cell_type": "code",
   "execution_count": null,
   "id": "ec7b696e",
   "metadata": {},
   "outputs": [],
   "source": [
    "apt_preprocess = ProcessAPT_data(\n",
    "                    parcel_shapefile=parcel_path,\n",
    "                    building_shapefile=building_geojson,\n",
    "                    apt_shape_file=apt_data_path,\n",
    "                    output_path = os.path.join(data_path,state,city,'Apt_realignment') \n",
    "                    )\n",
    "\n",
    "processed_df_ca = apt_preprocess.process_dataframe(bfp_count_per_parcel=1,filename='APT_realigned_uca_santaClara')\n",
    "print(\"Data Shape:\",processed_df_ca.shape)"
   ]
  },
  {
   "cell_type": "code",
   "execution_count": null,
   "id": "1fca51be",
   "metadata": {},
   "outputs": [],
   "source": [
    "def get_apt_to_bfp_distance(data):\n",
    "    anchor_point = data['APT']\n",
    "    bfp_centroid = data['updated_geometries']\n",
    "    return get_distance(anchor_point, bfp_centroid)\n",
    "\n",
    "processed_df_ca['APT_to_Centroid_distance'] = processed_df_ca.apply(lambda x: get_apt_to_bfp_distance(x),axis=1)\n",
    "\n",
    "# processed_df_ca['APT_lat'] = processed_df_ca['APT'].apply(lambda z: z.y)\n",
    "# processed_df_ca['APT_lon'] = processed_df_ca['APT'].apply(lambda z: z.x)\n",
    "\n",
    "# processed_df_ca['updated_lat'] = processed_df['updated_geometries'].apply(lambda z: z.y)\n",
    "# processed_df['updated_lon'] = processed_df['updated_geometries'].apply(lambda z: z.x)\n",
    "processed_df_ca.head()"
   ]
  },
  {
   "cell_type": "code",
   "execution_count": null,
   "id": "c83970cd",
   "metadata": {},
   "outputs": [],
   "source": [
    "# out_path = os.path.join(data_path,city)\n",
    "# save_geometry(processed_df,geometry='updated_geometries',out_path=out_path,fname='APT_usa_uca_updated_gemotries.geojson')\n",
    "# save_geometry(processed_df,geometry='APT',out_path=out_path,fname='APT_usa_uca.geojson')\n",
    "# save_geometry(processed_df,geometry='building_geometry',out_path=out_path,fname='building_roi_usa_ua.geojson')"
   ]
  },
  {
   "cell_type": "code",
   "execution_count": null,
   "id": "fec3898a",
   "metadata": {},
   "outputs": [],
   "source": [
    "distance_greater_than_50m = processed_df_ca.loc[processed_df_ca['APT_to_Centroid_distance']>50].shape[0]\n",
    "max_dist = processed_df_ca['APT_to_Centroid_distance'].loc[processed_df_ca['APT_to_Centroid_distance']>50].max()\n",
    "print(\"Max distance APT from Parcel to Building Centroid {:.2f} m\".format(processed_df_ca['APT_to_Centroid_distance'].loc[processed_df_ca['APT_to_Centroid_distance']>50].max()))\n",
    "print(\"Data points greater than 50m: {:.2f}% \".format(100*(distance_greater_than_50m/processed_df_ca.shape[0])))"
   ]
  },
  {
   "cell_type": "code",
   "execution_count": null,
   "id": "3772049d",
   "metadata": {},
   "outputs": [],
   "source": [
    "fig, ax = plt.subplots(figsize=(17,9))\n",
    "\n",
    "ax.set_title(\"Histogram of APT to centroid distance on/not on BFP\")\n",
    "ax.set_xlabel(\"APT point to centroid distance(meters)\")\n",
    "ax.set_ylabel(\"counts\")\n",
    "\n",
    "frqTrue, edgesTrue = np.histogram(processed_df_ca['APT_to_Centroid_distance'].loc[processed_df_ca['APT_to_Centroid_distance']>50].values, bins = np.arange(45,500,15))\n",
    "p1 = ax.bar(edgesTrue[:-1], frqTrue, width=np.diff(edgesTrue), edgecolor=\"black\", align=\"edge\",alpha=0.4,label='Address Points on Rooftop',color='orange')\n",
    "\n",
    "plt.legend()\n",
    "plt.show()\n",
    "gc.collect()"
   ]
  },
  {
   "cell_type": "code",
   "execution_count": null,
   "id": "f8fa454f",
   "metadata": {},
   "outputs": [],
   "source": [
    "fig, ax = plt.subplots(figsize=(17,9))\n",
    "\n",
    "ax.set_title(\"Histogram of APT to centroid distance on/not on BFP\")\n",
    "ax.set_xlabel(\"APT point to centroid distance(meters)\")\n",
    "ax.set_ylabel(\"counts\")\n",
    "\n",
    "frqTrue, edgesTrue = np.histogram(processed_df_ca['APT_to_Centroid_distance'].loc[processed_df_ca['APT_to_Centroid_distance']<50].values, bins = np.arange(5,50,10))\n",
    "p1 = ax.bar(edgesTrue[:-1], frqTrue, width=np.diff(edgesTrue), edgecolor=\"black\", align=\"edge\",alpha=0.4,label='Address Points on Rooftop',color='orange')\n",
    "\n",
    "plt.legend()\n",
    "plt.show()\n",
    "gc.collect()"
   ]
  },
  {
   "cell_type": "code",
   "execution_count": null,
   "id": "e7961754",
   "metadata": {},
   "outputs": [],
   "source": [
    "import os.path as osp\n",
    "def save_geometry(dataframe,geometry,out_path,fname='dataframe.geojson'):\n",
    "    df_to_save = gpd.GeoDataFrame(geometry=dataframe[geometry],crs=\"EPSG:4326\")\n",
    "    df_to_save = df_to_save.to_crs(\"epsg:4326\")\n",
    "    df_to_save.to_file(os.path.join(out_path,fname),driver=\"GeoJSON\")\n",
    "\n",
    "out_path = osp.join(data_path,state,city,\"Apt_realignment/APT_realign_2_bfp2parcel\")\n",
    "filename = os.path.join(out_path,'usa_uca_santa_calra_bfp.geojson')\n",
    "save_geometry(processed_df_ca,'building_roi',out_path=out_path,fname=filename)\n"
   ]
  },
  {
   "cell_type": "markdown",
   "id": "ed64b575",
   "metadata": {},
   "source": [
    "## Araphoe Colarado  "
   ]
  },
  {
   "cell_type": "code",
   "execution_count": null,
   "id": "40b6e977",
   "metadata": {},
   "outputs": [],
   "source": [
    "import os\n",
    "import shapely\n",
    "import numpy as np\n",
    "import sys \n",
    "import pycoredb \n",
    "import pandas as pd \n",
    "import gc\n",
    "from shapely import wkt\n",
    "from matplotlib import pyplot as plt\n",
    "from shapely.geometry import Point,mapping,Polygon,box,MultiPoint\n",
    "import geopandas as gpd \n",
    "import seaborn as sns \n",
    " \n",
    "# for parallelization\n",
    "sys.path.append('/mnt/c/Users/tandon/OneDrive - TomTom/Desktop/tomtom/Workspace/01_Rooftop_accuracy/APT-Realignment/src/apt_realignment')\n",
    "sys.path.append('/mnt/c/Users/tandon/OneDrive - TomTom/Desktop/tomtom/Workspace/01_Rooftop_accuracy/APT-Realignment/src/apt_realignment/utils')\n",
    "from process_geometries import ProcessGeometricData  as ProcessAPT_data\n",
    "from utils.haversine_distance import get_distance\n",
    "from utils.extract_mnr_data import ExtractMNRData as extract_mnr_data\n",
    "\n",
    "data_path  = \"/mnt/c/Users/tandon/OneDrive - TomTom/Desktop/tomtom/Workspace/01_Rooftop_accuracy/BFP_Analysis_USA/data/data\"\n",
    "state = \"Colorado\"\n",
    "city = \"Arapahoe\"\n",
    "apt_data_path = os.path.join(data_path,state,\"APT_2022_06_012_nam_usa_uco.shp\" )\n",
    "parcel_path = os.path.join(data_path,state,city,\"Parcels_08005/Parcels_08005.shp\")\n",
    "building_geojson = os.path.join(data_path,state,'Colorado.geojson')"
   ]
  },
  {
   "cell_type": "code",
   "execution_count": null,
   "id": "c59275dc",
   "metadata": {},
   "outputs": [],
   "source": [
    "# if os.path.isfile(parcel_path):\n",
    "#     mnr_database = extract_mnr_data(country_code='_2022_06_010_nam_usa_uco')\n",
    "#     mnr_database.connect_to_server()\n",
    "#     # out_path = os.path.join(data_path,state)\n",
    "#     # mnr_apt_df = mnr_database.extract_apt_addresses_data()\n",
    "#     # mnr_database.save_dataframe_as_shpfile(mnr_apt_df, out_path, filename='APT_2022_06_009_nam_usa_uco.shp')\n",
    "\n",
    "gc.collect()"
   ]
  },
  {
   "cell_type": "code",
   "execution_count": null,
   "id": "5cb70201",
   "metadata": {},
   "outputs": [],
   "source": [
    "apt_preprocess = ProcessAPT_data(parcel_shapefile=parcel_path,building_shapefile=building_geojson,apt_shape_file=apt_data_path)\n",
    "processed_df_co = apt_preprocess.process_dataframe(bfp_count_per_parcel=1)\n",
    "processed_df_co.head(10)"
   ]
  },
  {
   "cell_type": "code",
   "execution_count": null,
   "id": "dce1dc04",
   "metadata": {},
   "outputs": [],
   "source": [
    "def get_apt_to_bfp_distance(data):\n",
    "    anchor_point = data['APT']\n",
    "    bfp_centroid = data['updated_geometries']\n",
    "    return get_distance(anchor_point, bfp_centroid)\n",
    "\n",
    "processed_df_co['APT_to_Centroid_distance'] = processed_df_co.apply(lambda x: get_apt_to_bfp_distance(x),axis=1)\n",
    "processed_df_co['APT_lat'] = processed_df_co['APT'].apply(lambda z: z.y)\n",
    "processed_df_co['APT_lon'] = processed_df_co['APT'].apply(lambda z: z.x)\n",
    "\n",
    "processed_df_co['updated_lat'] = processed_df_co['updated_geometries'].apply(lambda z: z.y)\n",
    "processed_df_co['updated_lon'] = processed_df_co['updated_geometries'].apply(lambda z: z.x)\n",
    "processed_df_co.head()"
   ]
  },
  {
   "cell_type": "code",
   "execution_count": null,
   "id": "8cdc2158",
   "metadata": {},
   "outputs": [],
   "source": [
    "distance_greater_than_50m = processed_df_co.loc[processed_df_co['APT_to_Centroid_distance']>50].shape[0]\n",
    "max_dist = processed_df_co['APT_to_Centroid_distance'].loc[processed_df_co['APT_to_Centroid_distance']>50].max()\n",
    "print(\"Max distance APT from Parcel to Building Centroid {:.2f} m\".format(processed_df_co['APT_to_Centroid_distance'].loc[processed_df_co['APT_to_Centroid_distance']>50].max()))\n",
    "print(\"Data points greater than 50m: {:.2f}% \".format(100*(distance_greater_than_50m/processed_df_co.shape[0])))"
   ]
  },
  {
   "cell_type": "code",
   "execution_count": null,
   "id": "c42e3c18",
   "metadata": {},
   "outputs": [],
   "source": [
    "fig, ax = plt.subplots(figsize=(17,9))\n",
    "\n",
    "ax.set_title(\"Histogram of APT to centroid distance on/not on BFP\")\n",
    "ax.set_xlabel(\"APT point to centroid distance(meters)\")\n",
    "ax.set_ylabel(\"counts\")\n",
    "\n",
    "frqTrue, edgesTrue = np.histogram(processed_df_co['APT_to_Centroid_distance'].loc[processed_df_co['APT_to_Centroid_distance']>50].values, bins = np.arange(45,max_dist,15))\n",
    "p1 = ax.bar(edgesTrue[:-1], frqTrue, width=np.diff(edgesTrue), edgecolor=\"black\", align=\"edge\",alpha=0.4,label='Address Points on Rooftop',color='orange')\n",
    "\n",
    "plt.legend()\n",
    "plt.show()\n",
    "gc.collect()"
   ]
  },
  {
   "cell_type": "code",
   "execution_count": null,
   "id": "671db5fc",
   "metadata": {},
   "outputs": [],
   "source": [
    "fig, ax = plt.subplots(figsize=(17,9))\n",
    "\n",
    "ax.set_title(\"Histogram of APT to centroid distance on/not on BFP\")\n",
    "ax.set_xlabel(\"APT point to centroid distance(meters)\")\n",
    "ax.set_ylabel(\"counts\")\n",
    "\n",
    "frqTrue, edgesTrue = np.histogram(processed_df_co['APT_to_Centroid_distance'].loc[processed_df_co['APT_to_Centroid_distance']<50].values, bins = np.arange(5,50,10))\n",
    "p1 = ax.bar(edgesTrue[:-1], frqTrue, width=np.diff(edgesTrue), edgecolor=\"black\", align=\"edge\",alpha=0.4,label='Address Points on Rooftop',color='orange')\n",
    "\n",
    "plt.legend()\n",
    "plt.show()\n",
    "gc.collect()"
   ]
  },
  {
   "cell_type": "code",
   "execution_count": null,
   "id": "111d16c1",
   "metadata": {},
   "outputs": [],
   "source": [
    "df_for_analysis_usa_co_arapahoe = processed_df_co.drop(['APN','FIPS','PRCLDMPID','geometry','building_geometry','building_roi','APT'],axis=1)\n",
    "df_for_analysis_usa_co_arapahoe.head()"
   ]
  },
  {
   "cell_type": "markdown",
   "id": "0019c10c",
   "metadata": {},
   "source": [
    "## Miamidade_Florida"
   ]
  },
  {
   "cell_type": "code",
   "execution_count": null,
   "id": "14e54c5c",
   "metadata": {},
   "outputs": [],
   "source": [
    "import os\n",
    "import shapely\n",
    "import numpy as np\n",
    "import sys \n",
    "import pycoredb \n",
    "import pandas as pd \n",
    "import gc\n",
    "from shapely import wkt\n",
    "from matplotlib import pyplot as plt\n",
    "from shapely.geometry import Point,mapping,Polygon,box,MultiPoint\n",
    "import geopandas as gpd \n",
    "import seaborn as sns \n",
    " \n",
    "# for parallelization\n",
    "sys.path.append('/mnt/c/Users/tandon/OneDrive - TomTom/Desktop/tomtom/Workspace/01_Rooftop_accuracy/APT-Realignment/src/apt_realignment')\n",
    "sys.path.append('/mnt/c/Users/tandon/OneDrive - TomTom/Desktop/tomtom/Workspace/01_Rooftop_accuracy/APT-Realignment/src/apt_realignment/utils')\n",
    "from process_geometries import ProcessGeometricData  as ProcessAPT_data\n",
    "from utils.haversine_distance import get_distance\n",
    "from utils.extract_mnr_data import ExtractMNRData as extract_mnr_data\n",
    "\n",
    "\n",
    "data_path  = \"/mnt/c/Users/tandon/OneDrive - TomTom/Desktop/tomtom/Workspace/01_Rooftop_accuracy/BFP_Analysis_USA/data/data\"\n",
    "state = \"Florida\"\n",
    "city = \"Miamidade\"\n",
    "\n",
    "apt_data_path = os.path.join(data_path,state,\"APT_2022_06_012_nam_usa_ufl.shp\" )\n",
    "parcel_path = os.path.join(data_path,state,city,\"Parcels_12086/Parcels_12086.shp\")\n",
    "building_geojson = os.path.join(data_path,state,'Florida.geojson')"
   ]
  },
  {
   "cell_type": "code",
   "execution_count": null,
   "id": "f9c2596a",
   "metadata": {},
   "outputs": [],
   "source": [
    "if not os.path.isfile(apt_data_path):\n",
    "    mnr_database = extract_mnr_data(country_code='_2022_06_009_nam_usa_ufl')\n",
    "    mnr_database.connect_to_server()\n",
    "    # out_path = os.path.join(data_path,state)\n",
    "    # mnr_apt_df = mnr_database.extract_apt_addresses_data()\n",
    "    # mnr_database.save_dataframe_as_shpfile(mnr_apt_df, out_path, filename='APT_2022_06_009_nam_usa_ufl.shp')"
   ]
  },
  {
   "cell_type": "code",
   "execution_count": null,
   "id": "d9901933",
   "metadata": {},
   "outputs": [],
   "source": [
    "output_path = os.path.join(data_path,state,city,'Apt_realignment') \n",
    "\n",
    "apt_preprocess = ProcessAPT_data(\n",
    "    parcel_shapefile=parcel_path,\n",
    "    building_shapefile=building_geojson,\n",
    "    apt_shape_file=apt_data_path,\n",
    "    output_path=output_path\n",
    "    )\n",
    "\n",
    "processed_df_miamidade = apt_preprocess.process_dataframe(bfp_count_per_parcel=1,filename='APT_realigned_usa_ufl_miamidade')"
   ]
  },
  {
   "cell_type": "code",
   "execution_count": null,
   "id": "9c1304af",
   "metadata": {},
   "outputs": [],
   "source": [
    "processed_df_miamidade.head(4)"
   ]
  },
  {
   "cell_type": "code",
   "execution_count": null,
   "id": "3a978da9",
   "metadata": {},
   "outputs": [],
   "source": [
    "def get_apt_to_bfp_distance(data):\n",
    "    anchor_point = data['APT']\n",
    "    bfp_centroid = data['updated_geometries']\n",
    "    return get_distance(anchor_point, bfp_centroid)\n",
    "\n",
    "processed_df_miamidade['APT_to_Centroid_distance'] = processed_df_miamidade.apply(lambda x: get_apt_to_bfp_distance(x),axis=1)\n",
    "processed_df_miamidade['APT_lat'] = processed_df_miamidade['APT'].apply(lambda z: z.y)\n",
    "processed_df_miamidade['APT_long'] = processed_df_miamidade['APT'].apply(lambda z: z.x)\n",
    "\n",
    "processed_df_miamidade['updated_lat'] = processed_df_miamidade['updated_geometries'].apply(lambda z: z.y)\n",
    "processed_df_miamidade['updated_lon'] = processed_df_miamidade['updated_geometries'].apply(lambda z: z.x)\n",
    "processed_df_miamidade.head()"
   ]
  },
  {
   "cell_type": "code",
   "execution_count": null,
   "id": "9a6e8ce7",
   "metadata": {},
   "outputs": [],
   "source": [
    "distance_greater_than_50m = processed_df_miamidade.loc[processed_df_miamidade['APT_to_Centroid_distance']>50].shape[0]\n",
    "max_dist = processed_df_miamidade['APT_to_Centroid_distance'].loc[processed_df_miamidade['APT_to_Centroid_distance']>50].max()\n",
    "print(\"Max distance APT from Parcel to Building Centroid {:.2f} m\".format(processed_df_miamidade['APT_to_Centroid_distance'].loc[processed_df_miamidade['APT_to_Centroid_distance']>50].max()))\n",
    "print(\"Data points greater than 50m: {:.2f}% \".format(100*(distance_greater_than_50m/processed_df_miamidade.shape[0])))"
   ]
  },
  {
   "cell_type": "code",
   "execution_count": null,
   "id": "e2674c43",
   "metadata": {},
   "outputs": [],
   "source": [
    "fig, ax = plt.subplots(figsize=(17,9))\n",
    "\n",
    "ax.set_title(\"Histogram of APT to centroid distance on/not on BFP\")\n",
    "ax.set_xlabel(\"APT point to centroid distance(meters)\")\n",
    "ax.set_ylabel(\"counts\")\n",
    "\n",
    "frqTrue, edgesTrue = np.histogram(processed_df_miamidade['APT_to_Centroid_distance'].loc[processed_df_miamidade['APT_to_Centroid_distance']>=50].values, bins = np.arange(45,max_dist,15))\n",
    "p1 = ax.bar(edgesTrue[:-1], frqTrue, width=np.diff(edgesTrue), edgecolor=\"black\", align=\"edge\",alpha=0.4,label='Address Points Disstance from Building Centroid',color='orange')\n",
    "\n",
    "plt.legend()\n",
    "plt.show()\n",
    "gc.collect()"
   ]
  },
  {
   "cell_type": "code",
   "execution_count": null,
   "id": "a74d8f22",
   "metadata": {},
   "outputs": [],
   "source": [
    "fig, ax = plt.subplots(figsize=(17,9))\n",
    "\n",
    "ax.set_title(\"Histogram of APT to centroid distance on/not on BFP\")\n",
    "ax.set_xlabel(\"APT point to centroid distance(meters)\")\n",
    "ax.set_ylabel(\"counts\")\n",
    "\n",
    "frqTrue, edgesTrue = np.histogram(processed_df_miamidade['APT_to_Centroid_distance'].loc[processed_df_miamidade['APT_to_Centroid_distance']<50].values, bins = np.arange(0,50,10))\n",
    "p1 = ax.bar(edgesTrue[:-1], frqTrue, width=np.diff(edgesTrue), edgecolor=\"black\", align=\"edge\",alpha=0.4,label='Address Points Disstance from Building Centroid',color='orange')\n",
    "\n",
    "plt.legend()\n",
    "plt.show()\n",
    "gc.collect()"
   ]
  },
  {
   "cell_type": "code",
   "execution_count": null,
   "id": "b82b6a21",
   "metadata": {},
   "outputs": [],
   "source": [
    "df_for_analysis_usa_fl = processed_df_miamidade.drop(['APN','FIPS','PRCLDMPID','geometry','building_geometry','building_roi','APT'],axis=1)\n",
    "df_for_analysis_usa_fl.head()"
   ]
  },
  {
   "cell_type": "code",
   "execution_count": null,
   "id": "c5f9d6d2",
   "metadata": {},
   "outputs": [],
   "source": [
    "# output_path = os.path.join(data_path,state,city,'Apt_realignment/01_apt_realignment_mapping')\n",
    "# print(output_path)\n",
    "# os.makedirs(output_path,exist_ok=True)\n",
    "\n",
    "# filename = os.path.join(output_path,'APT_realigned_usa_ufl_miamidade')\n",
    "# geo_dataframe = gpd.GeoDataFrame(df_for_analysis_usa_fl, geometry='updated_geometries', crs=\"EPSG:4326\")\n",
    "# pd_dataframe = pd.DataFrame(geo_dataframe)\n",
    "\n",
    "# pd_dataframe.to_pickle(filename+\".pkl\")\n",
    "# geo_dataframe.to_file(driver='ESRI Shapefile', filename=filename+\".shp\")\n"
   ]
  },
  {
   "cell_type": "markdown",
   "id": "92673f5e",
   "metadata": {},
   "source": [
    "## Duval_Florida"
   ]
  },
  {
   "cell_type": "code",
   "execution_count": null,
   "id": "651ab78f",
   "metadata": {},
   "outputs": [],
   "source": [
    "import os\n",
    "import shapely\n",
    "import numpy as np\n",
    "import sys \n",
    "import pycoredb \n",
    "import pandas as pd \n",
    "import gc\n",
    "from shapely import wkt\n",
    "from matplotlib import pyplot as plt\n",
    "from shapely.geometry import Point,mapping,Polygon,box,MultiPoint\n",
    "import geopandas as gpd \n",
    "import seaborn as sns \n",
    " \n",
    "# for parallelization\n",
    "sys.path.append('/mnt/c/Users/tandon/OneDrive - TomTom/Desktop/tomtom/Workspace/01_Rooftop_accuracy/APT-Realignment/src/apt_realignment')\n",
    "from process_geometries import ProcessGeometricData  as ProcessAPT_data\n",
    "from utils.haversine_distance import get_distance\n",
    "\n",
    "data_path  = \"/mnt/c/Users/tandon/OneDrive - TomTom/Desktop/tomtom/Workspace/01_Rooftop_accuracy/BFP_Analysis_USA/data/data/\"\n",
    "state = \"Florida\"\n",
    "city = \"Duval\"\n",
    "apt_data_path = os.path.join(data_path,state,\"APT_2022_06_012_nam_usa_ufl.shp\" )\n",
    "parcel_path = os.path.join(data_path,state,city,\"Parcels_12031/Parcels_12031.shp\")\n",
    "building_geojson = os.path.join(data_path,state,'Florida.geojson')"
   ]
  },
  {
   "cell_type": "code",
   "execution_count": null,
   "id": "e77b2d9f",
   "metadata": {},
   "outputs": [],
   "source": [
    "output_path = os.path.join(data_path,state,city,'Apt_realignment') \n",
    "\n",
    "apt_preprocess = ProcessAPT_data(\n",
    "                        parcel_shapefile=parcel_path,\n",
    "                        building_shapefile=building_geojson,\n",
    "                        apt_shape_file=apt_data_path,output_path=output_path\n",
    "                        )\n",
    "\n",
    "processed_df_duval = apt_preprocess.process_dataframe(bfp_count_per_parcel=1,filename='APT_realigned_nam_usa_ufl_duval')\n",
    "processed_df_duval.head(4)"
   ]
  },
  {
   "cell_type": "code",
   "execution_count": null,
   "metadata": {},
   "outputs": [],
   "source": [
    "def get_apt_to_bfp_distance(data):\n",
    "    anchor_point = data['APT']\n",
    "    bfp_centroid = data['updated_geometries']\n",
    "    return get_distance(anchor_point, bfp_centroid)\n",
    "\n",
    "processed_df_duval['APT_to_Centroid_distance'] = processed_df_duval.apply(lambda x: get_apt_to_bfp_distance(x),axis=1)\n",
    "\n",
    "processed_df_duval['APT_lat'] = processed_df_duval['APT'].apply(lambda z: z.y)\n",
    "processed_df_duval['APT_long'] = processed_df_duval['APT'].apply(lambda z: z.x)\n",
    "\n",
    "processed_df_duval['updated_lat'] = processed_df_duval['updated_geometries'].apply(lambda z: z.y)\n",
    "processed_df_duval['updated_long'] = processed_df_duval['updated_geometries'].apply(lambda z: z.x)\n",
    "\n",
    "processed_df_duval.head()"
   ]
  },
  {
   "cell_type": "code",
   "execution_count": null,
   "id": "2b7a0c60",
   "metadata": {},
   "outputs": [],
   "source": [
    "distance_greater_than_50m = processed_df_duval.loc[processed_df_duval['APT_to_Centroid_distance']>50].shape[0]\n",
    "max_dist = processed_df_duval['APT_to_Centroid_distance'].loc[processed_df_duval['APT_to_Centroid_distance']>50].max()\n",
    "print(\"Max distance APT from Parcel to Building Centroid {:.2f} m\".format(processed_df_duval['APT_to_Centroid_distance'].loc[processed_df_duval['APT_to_Centroid_distance']>50].max()))\n",
    "print(\"Data points greater than 50m: {:.2f}%\".format(100*(distance_greater_than_50m/processed_df_duval.shape[0])))"
   ]
  },
  {
   "cell_type": "code",
   "execution_count": null,
   "id": "3858162b",
   "metadata": {},
   "outputs": [],
   "source": [
    "fig, ax = plt.subplots(figsize=(17,9))\n",
    "\n",
    "ax.set_title(\"Histogram of APT to centroid distance on/not on BFP\")\n",
    "ax.set_xlabel(\"APT point to centroid distance(meters)\")\n",
    "ax.set_ylabel(\"counts\")\n",
    "\n",
    "frqTrue, edgesTrue = np.histogram(processed_df_duval['APT_to_Centroid_distance'].loc[processed_df_duval['APT_to_Centroid_distance']>=50].values, bins = np.arange(45,max_dist,5))\n",
    "p1 = ax.bar(edgesTrue[:-1], frqTrue, width=np.diff(edgesTrue), edgecolor=\"black\", align=\"edge\",alpha=0.4,label='Address Points Distance',color='orange')\n",
    "\n",
    "plt.legend()\n",
    "plt.show()\n",
    "gc.collect()"
   ]
  },
  {
   "cell_type": "code",
   "execution_count": null,
   "id": "4d400a77",
   "metadata": {},
   "outputs": [],
   "source": [
    "fig, ax = plt.subplots(figsize=(17,9))\n",
    "\n",
    "ax.set_title(\"Histogram of APT to centroid distance on/not on BFP\")\n",
    "ax.set_xlabel(\"APT point to centroid distance(meters)\")\n",
    "ax.set_ylabel(\"counts\")\n",
    "\n",
    "frqTrue, edgesTrue = np.histogram(processed_df_duval['APT_to_Centroid_distance'].loc[processed_df_duval['APT_to_Centroid_distance']<50].values, bins = np.arange(0,50,5))\n",
    "p1 = ax.bar(edgesTrue[:-1], frqTrue, width=np.diff(edgesTrue), edgecolor=\"black\", align=\"edge\",alpha=0.4,label='Address Points Distance',color='orange')\n",
    "\n",
    "plt.legend()\n",
    "plt.show()\n",
    "gc.collect()"
   ]
  },
  {
   "cell_type": "code",
   "execution_count": null,
   "id": "59e8529e",
   "metadata": {},
   "outputs": [],
   "source": [
    "df_for_analysis_usa_duval = processed_df_duval.drop(['APN','FIPS','PRCLDMPID','geometry','building_geometry','building_roi','APT'],axis=1)\n",
    "df_for_analysis_usa_duval.head()"
   ]
  },
  {
   "cell_type": "code",
   "execution_count": null,
   "id": "08278ca6",
   "metadata": {},
   "outputs": [],
   "source": [
    "# output_path = os.path.join(data_path,state,city,'Apt_realignment/01_apt_realignment_mapping') \n",
    "# os.makedirs(output_path,exist_ok=True)\n",
    "\n",
    "# geo_dataframe = gpd.GeoDataFrame(df_for_analysis_usa_duval, geometry='updated_geometries', crs=\"EPSG:4326\")\n",
    "# pd_dataframe = pd.DataFrame(geo_dataframe)\n",
    "# filename = os.path.join(output_path,'APT_realigned_2022_06_009_nam_usa_ufl_duval')\n",
    "\n",
    "# pd_dataframe.to_pickle(filename+'.pkl')\n",
    "# geo_dataframe.to_file(driver='ESRI Shapefile', filename=filename+'.shp')\n"
   ]
  },
  {
   "cell_type": "markdown",
   "id": "5eb464ad",
   "metadata": {},
   "source": [
    "## Harris Texas"
   ]
  },
  {
   "cell_type": "code",
   "execution_count": null,
   "id": "297af770",
   "metadata": {},
   "outputs": [],
   "source": [
    "import os\n",
    "import shapely\n",
    "import numpy as np\n",
    "import sys \n",
    "import pycoredb \n",
    "import pandas as pd \n",
    "import gc\n",
    "from shapely import wkt\n",
    "from matplotlib import pyplot as plt\n",
    "from shapely.geometry import Point,mapping,Polygon,box,MultiPoint\n",
    "import geopandas as gpd \n",
    "import seaborn as sns \n",
    " \n",
    "# for parallelization\n",
    "sys.path.append('/mnt/c/Users/tandon/OneDrive - TomTom/Desktop/tomtom/Workspace/01_Rooftop_accuracy/APT-Realignment/src/apt_realignment')\n",
    "from process_geometries import ProcessGeometricData  as ProcessAPT_data\n",
    "from utils.haversine_distance import get_distance\n",
    "\n",
    "data_path  = \"/mnt/c/Users/tandon/OneDrive - TomTom/Desktop/tomtom/Workspace/01_Rooftop_accuracy/BFP_Analysis_USA/data/data\"\n",
    "state = \"Texas\"\n",
    "city = \"Harris\"\n",
    "apt_data_path = os.path.join(data_path,state,\"APT_2022_06_012_nam_usa_utx.shp\" )\n",
    "parcel_path = os.path.join(data_path,state,city,\"Parcels_48201/Parcels_48201.shp\")\n",
    "building_geojson = os.path.join(data_path,state,'Texas.geojson')"
   ]
  },
  {
   "cell_type": "code",
   "execution_count": null,
   "id": "41c7559c",
   "metadata": {},
   "outputs": [],
   "source": [
    "geojson_path = \"/mnt/c/Users/tandon/OneDrive - TomTom/Desktop/tomtom/Workspace/01_Rooftop_accuracy/BFP_Analysis_USA/data/data/Texas/Texas\"\n",
    "if not os.path.isfile(geojson_path+'.shp'):\n",
    "    geojson2shpfile(geojson_path+'.geojson',verbose=0)"
   ]
  },
  {
   "cell_type": "code",
   "execution_count": null,
   "id": "7bf24845",
   "metadata": {},
   "outputs": [],
   "source": [
    "if not os.path.isfile(apt_data_path):\n",
    "    print(\"downloading .. \")\n",
    "    mnr_database = extract_mnr_data(country_code='_2022_06_009_nam_usa_ugx')\n",
    "    mnr_database.connect_to_server()\n",
    "\n",
    "    out_path = os.path.join(data_path,state)\n",
    "    # mnr_apt_df = mnr_database.extract_apt_addresses_data()\n",
    "    # mnr_database.save_dataframe_as_shpfile(mnr_apt_df, out_path, filename='APT_2022_06_009_nam_usa_ugx.shp')"
   ]
  },
  {
   "cell_type": "code",
   "execution_count": null,
   "id": "52453d0a",
   "metadata": {},
   "outputs": [],
   "source": [
    "output_path = os.path.join(data_path,state,city,'Apt_realignment') \n",
    "apt_preprocess = ProcessAPT_data(parcel_shapefile=parcel_path,\n",
    "                building_shapefile=building_geojson,\n",
    "                apt_shape_file=apt_data_path , \n",
    "                output_path=output_path)\n",
    "\n",
    "if not os.path.isfile(os.path.join(output_path,'APT_realigned_usa_utx_Harris.pkl')):\n",
    "    processed_df_harris = apt_preprocess.process_dataframe(bfp_count_per_parcel=1,filename='APT_realigned_usa_utx_Harris')\n",
    "    processed_df_harris.head(10)"
   ]
  },
  {
   "cell_type": "code",
   "execution_count": null,
   "id": "512daa1d",
   "metadata": {},
   "outputs": [],
   "source": [
    "processed_df = pd.read_pickle(os.path.join(output_path,'APT_realign_1_bfp2parcel/APT_realigned_usa_utx_Harris.pkl'))\n",
    "processed_df.head()"
   ]
  },
  {
   "cell_type": "code",
   "execution_count": null,
   "id": "40fc30b2",
   "metadata": {},
   "outputs": [],
   "source": [
    "def get_apt_to_bfp_distance(data):\n",
    "    anchor_point = data['APT']\n",
    "    bfp_centroid = data['updated_geometries']\n",
    "    return get_distance(anchor_point, bfp_centroid)\n",
    "\n",
    "processed_df_harris['APT_to_Centroid_distance'] = processed_df_harris.apply(lambda x: get_apt_to_bfp_distance(x),axis=1)\n",
    "\n",
    "# processed_df_harris['APT_lat'] = processed_df_harris['APT'].apply(lambda z: z.y)\n",
    "# processed_df_harris['APT_lon'] = processed_df_harris['APT'].apply(lambda z: z.x)\n",
    "\n",
    "# processed_df_harris['updated_lat'] = processed_df_harris['updated_geometries'].apply(lambda z: z.y)\n",
    "# processed_df_harris['updated_lon'] = processed_df_harris['updated_geometries'].apply(lambda z: z.x)\n",
    "\n",
    "processed_df_harris.head()"
   ]
  },
  {
   "cell_type": "code",
   "execution_count": null,
   "id": "0361a502",
   "metadata": {},
   "outputs": [],
   "source": [
    "distance_greater_than_50m = processed_df_harris.loc[processed_df_harris['APT_to_Centroid_distance']>50].shape[0]\n",
    "print(\"Data points greater than 50m: {:.2f}%\".format(100*(distance_greater_than_50m/processed_df_harris.shape[0])))"
   ]
  },
  {
   "cell_type": "code",
   "execution_count": null,
   "id": "1f2fc4f1",
   "metadata": {},
   "outputs": [],
   "source": [
    "fig, ax = plt.subplots(figsize=(17,9))\n",
    "\n",
    "ax.set_title(\"Histogram of APT to centroid distance on/not on BFP\")\n",
    "ax.set_xlabel(\"APT point to centroid distance(meters)\")\n",
    "ax.set_ylabel(\"counts\")\n",
    "\n",
    "frqTrue, edgesTrue = np.histogram(processed_df_harris['APT_to_Centroid_distance'].loc[processed_df_harris['APT_to_Centroid_distance']>50].values, bins = np.arange(45,250,5))\n",
    "p1 = ax.bar(edgesTrue[:-1], frqTrue, width=np.diff(edgesTrue), edgecolor=\"black\", align=\"edge\",alpha=0.4,label='Address Points on Rooftop',color='orange')\n",
    "\n",
    "plt.legend()\n",
    "plt.show()\n",
    "gc.collect()"
   ]
  },
  {
   "cell_type": "code",
   "execution_count": null,
   "id": "67aefc12",
   "metadata": {},
   "outputs": [],
   "source": [
    "print(processed_df_harris.shape)\n",
    "processed_df_harris[['updated_geometries','feat_id','postal_cod','house_numb','state_prov','locality','street_nam','country_co','prefix','suffix',\n",
    "\t                'predir','postdir','sn_body','APT_to_Centroid_distance','APT_lat','APT_lon','updated_lat',\t'updated_lon']].head()"
   ]
  },
  {
   "cell_type": "markdown",
   "id": "89466da0",
   "metadata": {},
   "source": [
    "## Los Angles California"
   ]
  },
  {
   "cell_type": "code",
   "execution_count": null,
   "id": "dfee3d59",
   "metadata": {},
   "outputs": [],
   "source": [
    "import os\n",
    "import shapely\n",
    "import numpy as np\n",
    "import sys \n",
    "import pandas as pd \n",
    "import gc\n",
    "from shapely import wkt\n",
    "from matplotlib import pyplot as plt\n",
    "from shapely.geometry import Point,mapping,Polygon,box,MultiPoint\n",
    "import geopandas as gpd \n",
    "import seaborn as sns \n",
    " \n",
    "# for parallelization\n",
    "sys.path.append('/mnt/c/Users/tandon/OneDrive - TomTom/Desktop/tomtom/Workspace/01_Rooftop_accuracy/APT-Realignment/src/apt_realignment')\n",
    "from process_geometries import ProcessGeometricData  as ProcessAPT_data\n",
    "from utils.haversine_distance import get_distance\n",
    "from utils.geometric_utils import geojson2shpfile\n",
    "\n",
    "\n",
    "def save_geometry(dataframe,geometry,out_path,fname='dataframe.geojson'):\n",
    "    df_to_save = gpd.GeoDataFrame(geometry=dataframe[geometry],crs=\"EPSG:4326\")\n",
    "    df_to_save = df_to_save.to_crs(\"epsg:4326\")\n",
    "    df_to_save.to_file(os.path.join(out_path,fname),driver=\"GeoJSON\")"
   ]
  },
  {
   "cell_type": "code",
   "execution_count": null,
   "id": "486ef210",
   "metadata": {},
   "outputs": [],
   "source": [
    "from os.path import isfile\n",
    "\n",
    "data_path  = \"/mnt/c/Users/tandon/OneDrive - TomTom/Desktop/tomtom/Workspace/01_Rooftop_accuracy/BFP_Analysis_USA/data/data\"\n",
    "state = \"California\"\n",
    "city = \"LosAngles\"\n",
    "apt_data_path = os.path.join(data_path,state,\"APT_2022_09_000_nam_usa_uca.shp\" )\n",
    "parcel_path = os.path.join(data_path,state,city,\"Parcels_06037/Parcels_06037.shp\")\n",
    "building_geojson = os.path.join(data_path,state,'California.geojson')"
   ]
  },
  {
   "cell_type": "markdown",
   "id": "ea717c70",
   "metadata": {},
   "source": [
    "### Single BFP to Parcel match "
   ]
  },
  {
   "cell_type": "code",
   "execution_count": null,
   "id": "73f63505",
   "metadata": {},
   "outputs": [],
   "source": [
    "apt_preprocess = ProcessAPT_data(\n",
    "    parcel_shapefile=parcel_path,\n",
    "    building_shapefile=building_geojson,\n",
    "    apt_shape_file=apt_data_path,\n",
    "    output_path = os.path.join(data_path,state,city,'Apt_realignment')\n",
    "    )\n",
    "\n",
    "processed_df_LA = apt_preprocess.process_dataframe(bfp_count_per_parcel=1,filename='APT_realigned_usa_uca_LA')"
   ]
  },
  {
   "cell_type": "code",
   "execution_count": null,
   "id": "6f6ac9df",
   "metadata": {},
   "outputs": [],
   "source": [
    "print(\"Data Shape:\",processed_df_LA.shape)\n",
    "processed_df_LA.head(4)"
   ]
  },
  {
   "cell_type": "code",
   "execution_count": null,
   "id": "5e6f8495",
   "metadata": {},
   "outputs": [],
   "source": [
    "distance_greater_than_50m = processed_df_LA.loc[processed_df_LA['APT_to_Centroid_distance']>50].shape[0]\n",
    "print(\"Data points greater than 50m: {:.2f}%\".format(100*(distance_greater_than_50m/processed_df_LA.shape[0])))\n",
    "\n",
    "distance_greater_than_50m = processed_df_LA.loc[processed_df_LA['APT_to_Centroid_distance']<50].shape[0]\n",
    "print(\"Data points Less than 50m: {:.2f}%\".format(100*(distance_greater_than_50m/processed_df_LA.shape[0])))"
   ]
  },
  {
   "cell_type": "markdown",
   "id": "500225c3",
   "metadata": {},
   "source": [
    "### Two BFP's within Parcel"
   ]
  },
  {
   "cell_type": "code",
   "execution_count": null,
   "id": "e7866ca9",
   "metadata": {},
   "outputs": [],
   "source": [
    "apt_preprocess = ProcessAPT_data(\n",
    "    parcel_shapefile=parcel_path,\n",
    "    building_shapefile=building_geojson,\n",
    "    apt_shape_file=apt_data_path,\n",
    "    output_path = os.path.join(data_path,state,city,'Apt_realignment')\n",
    "    )\n",
    "\n",
    "processed_df_LA = apt_preprocess.process_dataframe(bfp_count_per_parcel=2,filename='APT_realigned_usa_uca_LA')"
   ]
  },
  {
   "cell_type": "code",
   "execution_count": null,
   "id": "bc4ca46d",
   "metadata": {},
   "outputs": [],
   "source": [
    "print(\"Data Shape:\",processed_df_LA.shape)\n",
    "processed_df_LA.head(4)"
   ]
  },
  {
   "cell_type": "code",
   "execution_count": null,
   "id": "85dc6350",
   "metadata": {},
   "outputs": [],
   "source": [
    "distance_greater_than_50m = processed_df_LA.loc[processed_df_LA['APT_to_Centroid_distance']>50].shape[0]\n",
    "print(\"Data points greater than 50m: {:.2f}%\".format(100*(distance_greater_than_50m/processed_df_LA.shape[0])))\n",
    "\n",
    "distance_greater_than_50m = processed_df_LA.loc[processed_df_LA['APT_to_Centroid_distance']<50].shape[0]\n",
    "print(\"Data points Less than 50m: {:.2f}%\".format(100*(distance_greater_than_50m/processed_df_LA.shape[0])))"
   ]
  },
  {
   "cell_type": "markdown",
   "id": "da4c268b",
   "metadata": {},
   "source": [
    "## Bexar Texas "
   ]
  },
  {
   "cell_type": "code",
   "execution_count": 1,
   "id": "81aa4df8",
   "metadata": {},
   "outputs": [
    {
     "name": "stderr",
     "output_type": "stream",
     "text": [
      "/home/tandon/anaconda3/envs/pygeo/lib/python3.8/site-packages/geopandas/_compat.py:112: UserWarning: The Shapely GEOS version (3.8.0-CAPI-1.13.1 ) is incompatible with the GEOS version PyGEOS was compiled with (3.10.1-CAPI-1.16.0). Conversions between both will be slow.\n",
      "  warnings.warn(\n"
     ]
    }
   ],
   "source": [
    "import os\n",
    "import shapely\n",
    "import numpy as np\n",
    "import sys \n",
    "import pycoredb \n",
    "import pandas as pd \n",
    "import gc\n",
    "from shapely import wkt\n",
    "from matplotlib import pyplot as plt\n",
    "from shapely.geometry import Point,mapping,Polygon,box,MultiPoint\n",
    "import geopandas as gpd \n",
    "import seaborn as sns \n",
    " \n",
    "# for parallelization\n",
    "sys.path.append('/mnt/c/Users/tandon/OneDrive - TomTom/Desktop/tomtom/Workspace/01_Rooftop_accuracy/APT-Realignment/src/apt_realignment')\n",
    "from process_geometries import ProcessGeometricData  as ProcessAPT_data\n",
    "from utils.haversine_distance import get_distance\n",
    "\n",
    "data_path  = \"/mnt/c/Users/tandon/OneDrive - TomTom/Desktop/tomtom/Workspace/01_Rooftop_accuracy/BFP_Analysis_USA/data/data\"\n",
    "state = \"Texas\"\n",
    "city = \"Bexar\"\n",
    "apt_data_path = os.path.join(data_path,state,\"APT_2022_09_000_nam_usa_utx.shp\" )\n",
    "parcel_path = os.path.join(data_path,state,city,\"Parcels_48029/Parcels_48029.shp\")\n",
    "building_geojson = os.path.join(data_path,state,'Texas.geojson')"
   ]
  },
  {
   "cell_type": "markdown",
   "id": "71c3755b",
   "metadata": {},
   "source": [
    "### Single BFP within a Parcel "
   ]
  },
  {
   "cell_type": "code",
   "execution_count": 2,
   "id": "83f3f16a",
   "metadata": {},
   "outputs": [
    {
     "name": "stderr",
     "output_type": "stream",
     "text": [
      "2022-09-05 20:21:14,393:INFO:- Processing APT's with 1 BFP-Count Per Parcel\n",
      "2022-09-05 20:21:14,394:INFO:- Reading Land Parcel data and Building Footprints \n",
      "2022-09-05 20:29:18,388:INFO:- creating sjoin of land Parcel data and Building Footprints \n"
     ]
    }
   ],
   "source": [
    "output_path = os.path.join(data_path,state,city,'Apt_realignment') \n",
    "apt_preprocess = ProcessAPT_data(parcel_shapefile=parcel_path,\n",
    "                building_shapefile=building_geojson,\n",
    "                apt_shape_file=apt_data_path , \n",
    "                output_path=output_path)\n",
    "\n",
    "processed_df_bexar = apt_preprocess.process_dataframe(bfp_count_per_parcel=1,filename='APT_realigned_usa_utx_bexar')"
   ]
  },
  {
   "cell_type": "code",
   "execution_count": null,
   "id": "830d671a",
   "metadata": {},
   "outputs": [],
   "source": [
    "print(\"Data shape\",processed_df_bexar.shape[0])\n",
    "processed_df_bexar.head(4)"
   ]
  },
  {
   "cell_type": "code",
   "execution_count": null,
   "id": "3bb01786",
   "metadata": {},
   "outputs": [],
   "source": [
    "distance_greater_than_50m = processed_df_bexar.loc[processed_df_bexar['APT_to_Centroid_distance']>50].shape[0]\n",
    "print(\"Data points greater than 50m: {:.2f}%\".format(100*(distance_greater_than_50m/processed_df_bexar.shape[0])))\n",
    "\n",
    "distance_greater_than_50m = processed_df_bexar.loc[processed_df_bexar['APT_to_Centroid_distance']<50].shape[0]\n",
    "print(\"Data points Less than 50m: {:.2f}%\".format(100*(distance_greater_than_50m/processed_df_bexar.shape[0])))"
   ]
  },
  {
   "cell_type": "code",
   "execution_count": null,
   "id": "7ca96a48",
   "metadata": {},
   "outputs": [],
   "source": [
    "fig, ax = plt.subplots(figsize=(17,9))\n",
    "\n",
    "ax.set_title(\"Histogram of APT to centroid distance on/not on BFP\")\n",
    "ax.set_xlabel(\"APT point to centroid distance(meters)\")\n",
    "ax.set_ylabel(\"counts\")\n",
    "\n",
    "frqTrue, edgesTrue = np.histogram(processed_df_bexar['APT_to_Centroid_distance'].loc[processed_df_bexar['APT_to_Centroid_distance']<150].values, bins = np.arange(0,150,10))\n",
    "p1 = ax.bar(edgesTrue[:-1], frqTrue, width=np.diff(edgesTrue), edgecolor=\"black\", align=\"edge\",alpha=0.4,label='Address Points on Rooftop',color='orange')\n",
    "\n",
    "plt.legend()\n",
    "plt.show()\n",
    "gc.collect()"
   ]
  },
  {
   "cell_type": "markdown",
   "id": "437249d3",
   "metadata": {},
   "source": [
    "### Two BFP within a Parcel "
   ]
  },
  {
   "cell_type": "code",
   "execution_count": null,
   "id": "a7d6b453",
   "metadata": {},
   "outputs": [],
   "source": [
    "output_path = os.path.join(data_path,state,city,'Apt_realignment') \n",
    "apt_preprocess = ProcessAPT_data(parcel_shapefile=parcel_path,\n",
    "                building_shapefile=building_geojson,\n",
    "                apt_shape_file=apt_data_path , \n",
    "                output_path=output_path)\n",
    "\n",
    "processed_df_bexar = apt_preprocess.process_dataframe(bfp_count_per_parcel=2,filename='APT_realigned_usa_utx_bexar')"
   ]
  },
  {
   "cell_type": "code",
   "execution_count": null,
   "id": "def2c8ce",
   "metadata": {},
   "outputs": [],
   "source": [
    "print(processed_df_bexar.shape[0])\n",
    "processed_df_bexar.head(10)"
   ]
  },
  {
   "cell_type": "code",
   "execution_count": null,
   "id": "f0561fc1",
   "metadata": {},
   "outputs": [],
   "source": [
    "distance_greater_than_50m = processed_df_bexar.loc[processed_df_bexar['APT_to_Centroid_distance']>50].shape[0]\n",
    "print(\"Data points greater than 50m: {:.2f}%\".format(100*(distance_greater_than_50m/processed_df_bexar.shape[0])))\n",
    "\n",
    "distance_greater_than_50m = processed_df_bexar.loc[processed_df_bexar['APT_to_Centroid_distance']<50].shape[0]\n",
    "print(\"Data points less than 50m: {:.2f}%\".format(100*(distance_greater_than_50m/processed_df_bexar.shape[0])))"
   ]
  },
  {
   "cell_type": "code",
   "execution_count": null,
   "id": "52645822",
   "metadata": {},
   "outputs": [],
   "source": [
    "fig, ax = plt.subplots(figsize=(17,9))\n",
    "\n",
    "ax.set_title(\"Histogram of APT to centroid distance on/not on BFP\")\n",
    "ax.set_xlabel(\"APT point to centroid distance(meters)\")\n",
    "ax.set_ylabel(\"counts\")\n",
    "\n",
    "frqTrue, edgesTrue = np.histogram(processed_df_bexar['APT_to_Centroid_distance'].loc[processed_df_bexar['APT_to_Centroid_distance']<150].values, bins = np.arange(0,150,10))\n",
    "p1 = ax.bar(edgesTrue[:-1], frqTrue, width=np.diff(edgesTrue), edgecolor=\"black\", align=\"edge\",alpha=0.4,label='Address Points on Rooftop',color='orange')\n",
    "\n",
    "plt.legend()\n",
    "plt.show()\n",
    "gc.collect()"
   ]
  },
  {
   "cell_type": "markdown",
   "id": "d0132462",
   "metadata": {},
   "source": [
    "### Merge data"
   ]
  },
  {
   "cell_type": "code",
   "execution_count": null,
   "id": "6cfa6377",
   "metadata": {},
   "outputs": [],
   "source": [
    "from glob import glob \n",
    "pkl_path = osp.join(data_path,state,city,'Apt_realignment')\n",
    "pkl_files = glob(pkl_path+'/*/*.pkl')\n",
    "print(pkl_files)"
   ]
  },
  {
   "cell_type": "code",
   "execution_count": null,
   "id": "52bfb950",
   "metadata": {},
   "outputs": [],
   "source": [
    "\n",
    "## Show single bfp within Parcel data\n",
    "df_one_bfp = pd.read_pickle(pkl_files[0])\n",
    "df_one_bfp = df_one_bfp.reset_index(drop=True)\n",
    "print(\"simple scenario sahpe\",df_one_bfp.shape[0])\n",
    "\n",
    "df_two_bfp = pd.read_pickle(pkl_files[1])\n",
    "df_two_bfp = df_two_bfp.reset_index(drop=True)\n",
    "print(\" complx scenario shape:\",df_two_bfp.shape[0])\n",
    "\n",
    "merge_df= pd.concat([df_one_bfp,df_two_bfp])\n",
    "print(\"Merged Shape\",merge_df.shape)\n",
    "merge_df.to_pickle(os.path.join(pkl_path,'FinalUpdated_APT_{}_{}.pkl'.format(state,city)))"
   ]
  },
  {
   "cell_type": "markdown",
   "id": "a09af0da",
   "metadata": {},
   "source": [
    "## IIlunois Cook"
   ]
  },
  {
   "cell_type": "code",
   "execution_count": 19,
   "id": "956b368d",
   "metadata": {},
   "outputs": [],
   "source": [
    "import os\n",
    "import shapely\n",
    "import numpy as np\n",
    "import sys \n",
    "import pycoredb \n",
    "import pandas as pd \n",
    "import gc\n",
    "from shapely import wkt\n",
    "from matplotlib import pyplot as plt\n",
    "from shapely.geometry import Point,mapping,Polygon,box,MultiPoint\n",
    "import geopandas as gpd \n",
    "import seaborn as sns \n",
    " \n",
    "# for parallelization\n",
    "sys.path.append('/mnt/c/Users/tandon/OneDrive - TomTom/Desktop/tomtom/Workspace/01_Rooftop_accuracy/APT-Realignment/src/apt_realignment')\n",
    "from process_geometries import ProcessGeometricData  as ProcessAPT_data\n",
    "from utils.haversine_distance import get_distance\n",
    "from utils.geometric_utils import geojson2shpfile\n",
    "\n",
    "data_path  = \"/mnt/c/Users/tandon/OneDrive - TomTom/Desktop/tomtom/Workspace/01_Rooftop_accuracy/BFP_Analysis_USA/data/data\"\n",
    "state = \"Illinois\"\n",
    "city = \"cook\"\n",
    "apt_data_path = os.path.join(data_path,state,\"APT__2022_09_001_nam_usa_uil.shp\" )\n",
    "parcel_path = os.path.join(data_path,state,city,\"Parcels_17031/Parcels_17031.shp\")\n",
    "building_geojson = os.path.join(data_path,state,'Illinois.geojson')"
   ]
  },
  {
   "cell_type": "code",
   "execution_count": 2,
   "id": "220b0bd4",
   "metadata": {},
   "outputs": [],
   "source": [
    "# geojson2shpfile(building_geojson,verbose=0)"
   ]
  },
  {
   "cell_type": "markdown",
   "id": "bd5de7a1",
   "metadata": {},
   "source": [
    "### Single BFP within a Parcel "
   ]
  },
  {
   "cell_type": "code",
   "execution_count": 3,
   "id": "5f2a74c2",
   "metadata": {},
   "outputs": [
    {
     "name": "stderr",
     "output_type": "stream",
     "text": [
      "2022-09-02 14:48:16,065:INFO:- Processing APT's with 1 BFP-Count Per Parcel\n",
      "2022-09-02 14:48:16,066:INFO:- Processing Land Parcel data and Building Footprints \n",
      "TopologyException: Input geom 0 is invalid: Ring Self-intersection at or near point -87.756268696715026 42.061860287983436 at -87.756268696715026 42.061860287983436\n",
      "ERROR:root:error for POLYGON ((-87.756596 42.061351, -87.756489 42.061352, -87.756489 42.061325, -87.756344 42.061326, -87.756344 42.061346, -87.756237 42.061347, -87.756238 42.061412, -87.756181 42.061413, -87.75618299999999 42.061527, -87.75622799999999 42.061527, -87.756229 42.061587, -87.756167 42.061587, -87.75617099999999 42.061755, -87.756289 42.061753, -87.75629000000001 42.061803, -87.756336 42.061802, -87.756336 42.061836, -87.75622799999999 42.061837, -87.756231 42.061984, -87.756331 42.061982, -87.756332 42.062011, -87.75650400000001 42.062009, -87.756503 42.061982, -87.756597 42.061981, -87.756591 42.06172, -87.75670599999999 42.061718, -87.756705 42.061629, -87.756603 42.061631, -87.756596 42.061351)),POLYGON ((-87.7562723764436 42.06180051113899, -87.75638872407316 42.06180109608953, -87.75638966799212 42.06181926994863, -87.75637525503701 42.06182002279991, -87.75637502329964 42.06184561988839, -87.75638721199363 42.06184568116303, -87.75638810359541 42.06186963396961, -87.75650298160458 42.06186995895335, -87.75650476415062 42.06202820467335, -87.7560944628266 42.06202833705752, -87.75609230212474 42.06186153929957, -87.75626869671503 42.06186028798344, -87.75627031365005 42.06190214462339, -87.75626755215717 42.06190209780821, -87.75626727883746 42.06193228224404, -87.75627192601343 42.06193230561072, -87.75627280380951 42.06193785049262, -87.75633971283909 42.06193818689947, -87.7563324962701 42.06188924137271, -87.75633341256342 42.06188931458357, -87.75633283151532 42.06186116202201, -87.75626869671503 42.06186028798344, -87.7562723764436 42.06180051113899))\n",
      "ERROR:shapely.geos:TopologyException: Input geom 0 is invalid: Ring Self-intersection at or near point -87.756268696715026 42.061860287983436 at -87.756268696715026 42.061860287983436\n",
      "ERROR:root:error for POLYGON ((-87.756596 42.061351, -87.756489 42.061352, -87.756489 42.061325, -87.756344 42.061326, -87.756344 42.061346, -87.756237 42.061347, -87.756238 42.061412, -87.756181 42.061413, -87.75618299999999 42.061527, -87.75622799999999 42.061527, -87.756229 42.061587, -87.756167 42.061587, -87.75617099999999 42.061755, -87.756289 42.061753, -87.75629000000001 42.061803, -87.756336 42.061802, -87.756336 42.061836, -87.75622799999999 42.061837, -87.756231 42.061984, -87.756331 42.061982, -87.756332 42.062011, -87.75650400000001 42.062009, -87.756503 42.061982, -87.756597 42.061981, -87.756591 42.06172, -87.75670599999999 42.061718, -87.756705 42.061629, -87.756603 42.061631, -87.756596 42.061351)),POLYGON ((-87.7562723764436 42.06180051113899, -87.75638872407316 42.06180109608953, -87.75638966799212 42.06181926994863, -87.75637525503701 42.06182002279991, -87.75637502329964 42.06184561988839, -87.75638721199363 42.06184568116303, -87.75638810359541 42.06186963396961, -87.75650298160458 42.06186995895335, -87.75650476415062 42.06202820467335, -87.7560944628266 42.06202833705752, -87.75609230212474 42.06186153929957, -87.75626869671503 42.06186028798344, -87.75627031365005 42.06190214462339, -87.75626755215717 42.06190209780821, -87.75626727883746 42.06193228224404, -87.75627192601343 42.06193230561072, -87.75627280380951 42.06193785049262, -87.75633971283909 42.06193818689947, -87.7563324962701 42.06188924137271, -87.75633341256342 42.06188931458357, -87.75633283151532 42.06186116202201, -87.75626869671503 42.06186028798344, -87.7562723764436 42.06180051113899))\n",
      "ERROR:shapely.geos:TopologyException: Input geom 0 is invalid: Ring Self-intersection at or near point -88.18151852306201 41.991550691215977 at -88.18151852306201 41.991550691215977\n",
      "ERROR:root:error for POLYGON ((-88.182683 41.990948, -88.181889 41.990957, -88.181892 41.991108, -88.181862 41.991109, -88.181864 41.99118, -88.181963 41.991179, -88.181963 41.991171, -88.18232 41.991167, -88.18232 41.991189, -88.18241500000001 41.991188, -88.18241500000001 41.99117, -88.182687 41.991167, -88.182683 41.990948)),POLYGON ((-88.18133639764035 41.99092999418674, -88.18191625720105 41.99093405901224, -88.18191463098856 41.9916109181193, -88.18151852306201 41.99155069121598, -88.18168478544216 41.99155228581751, -88.18168476222262 41.99156051842228, -88.18185029579888 41.9915607671576, -88.18185195917241 41.99094881008376, -88.18152089757338 41.99094808461794, -88.18151852306201 41.99155069121598, -88.18133283113299 41.99152188580105, -88.18133257940386 41.99127671346109, -88.18133639764035 41.99092999418674))\n",
      "ERROR:shapely.geos:TopologyException: Input geom 0 is invalid: Ring Self-intersection at or near point -88.18151852306201 41.991550691215977 at -88.18151852306201 41.991550691215977\n",
      "ERROR:root:error for POLYGON ((-88.181928 41.991366, -88.181887 41.991579, -88.182148 41.991606, -88.18214399999999 41.991627, -88.182238 41.991637, -88.18223999999999 41.991622, -88.18268 41.991668, -88.182721 41.991449, -88.181928 41.991366)),POLYGON ((-88.18133639764035 41.99092999418674, -88.18191625720105 41.99093405901224, -88.18191463098856 41.9916109181193, -88.18151852306201 41.99155069121598, -88.18168478544216 41.99155228581751, -88.18168476222262 41.99156051842228, -88.18185029579888 41.9915607671576, -88.18185195917241 41.99094881008376, -88.18152089757338 41.99094808461794, -88.18151852306201 41.99155069121598, -88.18133283113299 41.99152188580105, -88.18133257940386 41.99127671346109, -88.18133639764035 41.99092999418674))\n",
      "ERROR:shapely.geos:TopologyException: Input geom 0 is invalid: Ring Self-intersection at or near point -87.717350198048521 42.013015169620402 at -87.717350198048521 42.013015169620402\n",
      "ERROR:root:error for POLYGON ((-87.71969199999999 42.012115, -87.71960900000001 42.012115, -87.71960799999999 42.012131, -87.71845999999999 42.012125, -87.718457 42.01249, -87.718586 42.012491, -87.718581 42.013128, -87.718473 42.013128, -87.71847 42.013485, -87.71876 42.013486, -87.71876 42.013501, -87.719696 42.013505, -87.719697 42.013351, -87.719791 42.013351, -87.719792 42.013252, -87.719813 42.013252, -87.719815 42.01313, -87.71975500000001 42.01313, -87.719759 42.012699, -87.71981 42.0127, -87.71981100000001 42.01258, -87.719782 42.01258, -87.719782 42.012508, -87.719683 42.012508, -87.719686 42.012177, -87.719691 42.012177, -87.71969199999999 42.012115)),POLYGON ((-87.71888147988639 42.01228952112223, -87.71884721173097 42.01352852282704, -87.71771483090839 42.01353678948193, -87.71765798010397 42.01351011568715, -87.71757876154032 42.01346002099781, -87.7175061302061 42.01339816091036, -87.71736637911221 42.01339887988384, -87.71736807418156 42.01333027336419, -87.71744747074096 42.01332984595415, -87.71740312961282 42.01327274850664, -87.71734765665545 42.01317939823993, -87.71735019804852 42.0130151696204, -87.71738351494447 42.01310892513884, -87.7174187527424 42.01317903607302, -87.71747642160676 42.01326600619287, -87.71753122688916 42.01332941786596, -87.71793520964265 42.01332735839397, -87.71793909357015 42.01317639343637, -87.71803116544694 42.01317589911193, -87.71803061182422 42.01319516032774, -87.71812268372823 42.01319466593005, -87.71812739542806 42.01301121492522, -87.71735019804852 42.0130151696204, -87.71735293851594 42.01290410037348, -87.71823087116648 42.01289904586039, -87.71824982057602 42.01289958645899, -87.71826859045953 42.01289692867001, -87.71828664484114 42.01289114838687, -87.7183034681763 42.01288241066612, -87.71831858007297 42.01287096501422, -87.71833154900956 42.01285713826286, -87.71834200465676 42.01284132523627, -87.71834964845263 42.01282397747694, -87.7183542621278 42.01280559035181, -87.71835183149811 42.01257097755975, -87.71834920666637 42.01255574069926, -87.71834625546764 42.01254857300408, -87.71833796548898 42.01253464826994, -87.71833475920391 42.01252682572793, -87.71833195048534 42.01251019914845, -87.71832969725617 42.01229270278341, -87.71888147988639 42.01228952112223))\n",
      "ERROR:shapely.geos:TopologyException: Input geom 1 is invalid: Ring Self-intersection at or near point -87.869315999999998 41.922902000000001 at -87.869315999999998 41.922902000000001\n",
      "ERROR:root:error for POLYGON ((-87.869598 41.922407, -87.869316 41.922411, -87.869319 41.922521, -87.868923 41.922527, -87.868979 41.922551, -87.86897999999999 41.922564, -87.868938 41.922617, -87.86893999999999 41.92269, -87.868996 41.922689, -87.86899699999999 41.922713, -87.869083 41.922712, -87.869083 41.922736, -87.869311 41.922733, -87.869316 41.922902, -87.86933399999999 41.922879, -87.869384 41.922901, -87.869316 41.922902, -87.869317 41.92296, -87.869362 41.922903, -87.8694 41.922903, -87.869472 41.922934, -87.86950400000001 41.922933, -87.869513 41.922937, -87.869574 41.922936, -87.869573 41.922903, -87.869606 41.922903, -87.869621 41.922884, -87.869614 41.92262, -87.869603 41.92262, -87.869598 41.922407)),POLYGON ((-87.86967007987829 41.9223684283991, -87.86968712410476 41.92278540157353, -87.86944434936083 41.92279007415533, -87.86942723282844 41.92237315553935, -87.86967007987829 41.9223684283991))\n",
      "ERROR:shapely.geos:TopologyException: Input geom 1 is invalid: Self-intersection at or near point -87.751106000483929 41.898344055169076 at -87.751106000483929 41.898344055169076\n",
      "ERROR:root:error for POLYGON ((-87.750899 41.898293, -87.7509 41.898495, -87.750917 41.898495, -87.750917 41.898525, -87.751351 41.898523, -87.75135 41.898351, -87.751304 41.898351, -87.751304 41.898331, -87.751237 41.898331, -87.751238 41.898473, -87.75120200000001 41.898473, -87.75120099999999 41.898344, -87.75110599999999 41.898344, -87.751107 41.898458, -87.75106599999999 41.898458, -87.75106599999999 41.898376, -87.750969 41.898377, -87.750969 41.898345, -87.751114 41.898344, -87.751113 41.898292, -87.750899 41.898293)),POLYGON ((-87.75136928368188 41.89821393119167, -87.75137118085368 41.89829615829708, -87.75090950802981 41.89829974523777, -87.75090761053207 41.89821751812389, -87.75136928368188 41.89821393119167))\n",
      "ERROR:shapely.geos:TopologyException: Input geom 0 is invalid: Ring Self-intersection at or near point -87.616171161559038 41.89477767968625 at -87.616171161559038 41.89477767968625\n",
      "ERROR:root:error for POLYGON ((-87.618213 41.89471, -87.618465 41.894872, -87.618955 41.894884, -87.618983 41.894818, -87.618983 41.894815, -87.618914 41.894813, -87.618955 41.894713, -87.61893600000001 41.894709, -87.618944 41.89453, -87.618931 41.89453, -87.618926 41.894527, -87.618135 41.894344, -87.618087 41.894459, -87.61834399999999 41.894518, -87.61828800000001 41.894566, -87.618247 41.894665, -87.617943 41.894595, -87.61792800000001 41.894585, -87.617935 41.89441, -87.61599 41.894364, -87.615965 41.894944, -87.616032 41.89496, -87.617926 41.895005, -87.617932 41.894862, -87.617976 41.894863, -87.617977 41.894856, -87.618054 41.894874, -87.61805699999999 41.894789, -87.61809599999999 41.894814, -87.618099 41.894807, -87.618213 41.89471)),POLYGON ((-87.61767185278279 41.8943560660129, -87.61768879801171 41.89495688481946, -87.61602310928929 41.89498481947457, -87.61563371900395 41.89438987376437, -87.61767185278279 41.8943560660129), (-87.61620318340096 41.89452869826772, -87.61613697075551 41.89452978029168, -87.61613741670111 41.89455229205394, -87.61605977251736 41.8945535771302, -87.61605968953003 41.89455016141056, -87.6160341747637 41.89455058594771, -87.61603526092665 41.89460760895614, -87.6161848747831 41.89460511929058, -87.61618472446793 41.89459729728019, -87.61624330642779 41.89459633583606, -87.6162426361518 41.89456267756263, -87.61621780352897 41.89456308222418, -87.6162175505454 41.89454875985041, -87.61620361989763 41.89454902411712, -87.61620318340096 41.89452869826772), (-87.61746857891984 41.89453559275169, -87.61741383469055 41.89453648287275, -87.61741419489796 41.89454936793324, -87.61746890948999 41.89454847696891, -87.61746857891984 41.89453559275169), (-87.61691402482035 41.89454822308772, -87.61685309214062 41.89454927401098, -87.61685356826314 41.89457124870498, -87.61681139309167 41.89457198788582, -87.61681250925437 41.89462034244377, -87.61685000891138 41.89461974664255, -87.61685062329839 41.89464282400962, -87.61689392514418 41.89464208841341, -87.61689330429142 41.89461901306439, -87.61689584506144 41.89461896976644, -87.61689574415749 41.89461456478723, -87.61692367415104 41.89461411831716, -87.61692300791965 41.89458550671225, -87.61691945027329 41.8945855448903, -87.61691865664402 41.89454974687251, -87.61691406237644 41.89454977995532, -87.61691402482035 41.89454822308772), (-87.61670205763298 41.89456790878918, -87.61663004142797 41.89456909437693, -87.61663025540544 41.894579341995, -87.61664300374386 41.8945791272405, -87.61664458391867 41.89465034384407, -87.61666882763934 41.89464996070961, -87.61666723915877 41.8945787454266, -87.61670229749662 41.8945781388887, -87.61670205763298 41.89456790878918), (-87.61653424552421 41.89458724868046, -87.61651001210517 41.89458768074455, -87.61651142437732 41.89465252998917, -87.61653566808388 41.89465214825486, -87.61653424552421 41.89458724868046), (-87.61749783973097 41.89468457852777, -87.61746911401343 41.89468505327113, -87.61746921603319 41.8946892381805, -87.61744984449227 41.89468953385562, -87.61745010477827 41.89469928025924, -87.61746947725563 41.89469898321779, -87.61747053071478 41.89473801830499, -87.61745122708821 41.89473831577579, -87.61745151748164 41.89474875791801, -87.6174711591802 41.89474842562025, -87.61747276143834 41.89480640004034, -87.61751064520793 41.89480580126448, -87.6175087124882 41.89473733262929, -87.61749926625058 41.89473748873783, -87.61749783973097 41.89468457852777), (-87.61625323125821 41.89470113749766, -87.61624914298102 41.89470120595769, -87.61625075325775 41.89477634152093, -87.61617116155904 41.89477767968625, -87.61617089981929 41.89476503253317, -87.6160993516804 41.89476622132045, -87.61609959021224 41.89477888951544, -87.61617116155904 41.89477767968625, -87.61617150978508 41.89479514274588, -87.61623204150872 41.89479415550815, -87.61623234485837 41.89481029625187, -87.61625141407229 41.89480994263751, -87.61625251583719 41.89486107179268, -87.61625659355856 41.89486102393679, -87.61625323125821 41.89470113749766), (-87.61757919617102 41.89473616781584, -87.61754138535416 41.89473679267746, -87.6175433314468 41.89480523250982, -87.61758114176953 41.8948046325668, -87.61757919617102 41.89473616781584))\n",
      "ERROR:shapely.geos:TopologyException: Input geom 1 is invalid: Self-intersection at or near point -87.643388000000002 41.889536999999997 at -87.643388000000002 41.889536999999997\n",
      "ERROR:root:error for POLYGON ((-87.644149 41.889122, -87.643728 41.889121, -87.64371 41.889165, -87.64361100000001 41.889165, -87.64361100000001 41.889267, -87.643044 41.889266, -87.64304300000001 41.889336, -87.64289599999999 41.889336, -87.64289599999999 41.889393, -87.64293600000001 41.889402, -87.64293600000001 41.889572, -87.643086 41.889572, -87.643107 41.889596, -87.643107 41.889553, -87.643193 41.889553, -87.643208 41.889516, -87.643286 41.889516, -87.643272 41.889552, -87.643332 41.889546, -87.64333999999999 41.889526, -87.643388 41.889537, -87.643387 41.889537, -87.64343700000001 41.889537, -87.64343700000001 41.889556, -87.64350399999999 41.889556, -87.64351000000001 41.88965, -87.644148 41.889651, -87.644149 41.889122)),POLYGON ((-87.64419098106521 41.88915367266466, -87.64420192452138 41.88967997447122, -87.64360599170463 41.88968770230773, -87.64359506552394 41.88916024934743, -87.64419098106521 41.88915367266466))\n",
      "ERROR:shapely.geos:TopologyException: Input geom 1 is invalid: Self-intersection at or near point -87.643388000000002 41.889536999999997 at -87.643388000000002 41.889536999999997\n",
      "ERROR:root:error for POLYGON ((-87.644149 41.889122, -87.643728 41.889121, -87.64371 41.889165, -87.64361100000001 41.889165, -87.64361100000001 41.889267, -87.643044 41.889266, -87.64304300000001 41.889336, -87.64289599999999 41.889336, -87.64289599999999 41.889393, -87.64293600000001 41.889402, -87.64293600000001 41.889572, -87.643086 41.889572, -87.643107 41.889596, -87.643107 41.889553, -87.643193 41.889553, -87.643208 41.889516, -87.643286 41.889516, -87.643272 41.889552, -87.643332 41.889546, -87.64333999999999 41.889526, -87.643388 41.889537, -87.643387 41.889537, -87.64343700000001 41.889537, -87.64343700000001 41.889556, -87.64350399999999 41.889556, -87.64351000000001 41.88965, -87.644148 41.889651, -87.644149 41.889122)),POLYGON ((-87.64360415566334 41.88959899745035, -87.64360599170463 41.88968770230773, -87.64321296297449 41.88969286024273, -87.643212377287 41.88966546921039, -87.64301035547153 41.88966804200762, -87.64300897104792 41.8896055192178, -87.64360415566334 41.88959899745035))\n",
      "ERROR:shapely.geos:TopologyException: Input geom 1 is invalid: Self-intersection at or near point -87.643388000000002 41.889536999999997 at -87.643388000000002 41.889536999999997\n",
      "ERROR:root:error for POLYGON ((-87.644149 41.889122, -87.643728 41.889121, -87.64371 41.889165, -87.64361100000001 41.889165, -87.64361100000001 41.889267, -87.643044 41.889266, -87.64304300000001 41.889336, -87.64289599999999 41.889336, -87.64289599999999 41.889393, -87.64293600000001 41.889402, -87.64293600000001 41.889572, -87.643086 41.889572, -87.643107 41.889596, -87.643107 41.889553, -87.643193 41.889553, -87.643208 41.889516, -87.643286 41.889516, -87.643272 41.889552, -87.643332 41.889546, -87.64333999999999 41.889526, -87.643388 41.889537, -87.643387 41.889537, -87.64343700000001 41.889537, -87.64343700000001 41.889556, -87.64350399999999 41.889556, -87.64351000000001 41.88965, -87.644148 41.889651, -87.644149 41.889122)),POLYGON ((-87.6435993604086 41.88936878180975, -87.64360415566334 41.88959899745035, -87.64300897104792 41.8896055192178, -87.64300381009389 41.88937535692828, -87.6435993604086 41.88936878180975))\n",
      "ERROR:shapely.geos:TopologyException: Input geom 1 is invalid: Self-intersection at or near point -87.643388000000002 41.889536999999997 at -87.643388000000002 41.889536999999997\n",
      "ERROR:root:error for POLYGON ((-87.644149 41.889122, -87.643728 41.889121, -87.64371 41.889165, -87.64361100000001 41.889165, -87.64361100000001 41.889267, -87.643044 41.889266, -87.64304300000001 41.889336, -87.64289599999999 41.889336, -87.64289599999999 41.889393, -87.64293600000001 41.889402, -87.64293600000001 41.889572, -87.643086 41.889572, -87.643107 41.889596, -87.643107 41.889553, -87.643193 41.889553, -87.643208 41.889516, -87.643286 41.889516, -87.643272 41.889552, -87.643332 41.889546, -87.64333999999999 41.889526, -87.643388 41.889537, -87.643387 41.889537, -87.64343700000001 41.889537, -87.64343700000001 41.889556, -87.64350399999999 41.889556, -87.64351000000001 41.88965, -87.644148 41.889651, -87.644149 41.889122)),POLYGON ((-87.64359506552394 41.88916024934743, -87.6435993604086 41.88936878180975, -87.64300381009389 41.88937535692828, -87.64299929681152 41.88916682244783, -87.64359506552394 41.88916024934743))\n",
      "ERROR:shapely.geos:TopologyException: Input geom 0 is invalid: Ring Self-intersection at or near point -87.652847621777411 41.881184681741281 at -87.652847621777411 41.881184681741281\n",
      "ERROR:root:error for POLYGON ((-87.65342099999999 41.880479, -87.652038 41.88051, -87.65205 41.880801, -87.65228999999999 41.880796, -87.652777 41.880629, -87.652727 41.880866, -87.65206000000001 41.880881, -87.652073 41.88121, -87.652767 41.881195, -87.65258300000001 41.881384, -87.652985 41.881375, -87.652992 41.881571, -87.654051 41.881548, -87.65384899999999 41.88122, -87.653704 41.881269, -87.653295 41.881161, -87.653448 41.881158, -87.65342099999999 41.880479)),MULTIPOLYGON (((-87.65292621830461 41.88118255412951, -87.65284762177741 41.88118468174128, -87.65284650007787 41.88118388955466, -87.65284652452891 41.88118469993771, -87.65284762177741 41.88118468174128, -87.65284743484838 41.88119096495323, -87.65284668091715 41.88119098587003, -87.65284645176702 41.88118385702352, -87.65292621830461 41.88118255412951)), ((-87.65301866875753 41.88105451890309, -87.6530219247864 41.88118124613072, -87.65292621830461 41.88118255412951, -87.65292248285506 41.8810556045194, -87.65301866875753 41.88105451890309)))\n",
      "2022-09-02 14:56:18,070:INFO:- Acquiring BFP's within land Parcels \n",
      "2022-09-02 14:56:19,896:INFO:- Processing Anchor-Points data over Parcel-Building Geo-Dataframe\n",
      "2022-09-02 15:00:41,807:INFO:- saving updated Geometries ...\n",
      "2022-09-02 15:03:15,973:INFO:- saving Realigned matrix..\n",
      "WARNING:fiona._env:Normalized/laundered field name: 'APT_to_Centroid_distance' to 'APT_to_Cen'\n",
      "WARNING:fiona._env:Normalized/laundered field name: 'updated_lat' to 'updated_la'\n",
      "WARNING:fiona._env:Normalized/laundered field name: 'updated_lon' to 'updated_lo'\n",
      "2022-09-02 15:05:17,179:INFO:- File saved at /mnt/c/Users/tandon/OneDrive - TomTom/Desktop/tomtom/Workspace/01_Rooftop_accuracy/BFP_Analysis_USA/data/data/Illinois/cook/Apt_realignment/APT_realign_1_bfp2parcel/APT_realigned_usa_il_cook.pkl\n"
     ]
    }
   ],
   "source": [
    "output_path = os.path.join(data_path,state,city,'Apt_realignment') \n",
    "apt_preprocess = ProcessAPT_data(parcel_shapefile=parcel_path,\n",
    "                building_shapefile=building_geojson,\n",
    "                apt_shape_file=apt_data_path , \n",
    "                output_path=output_path)\n",
    "\n",
    "processed_df_cook = apt_preprocess.process_dataframe(bfp_count_per_parcel=1,filename='APT_realigned_usa_il_cook')\n"
   ]
  },
  {
   "cell_type": "code",
   "execution_count": 4,
   "id": "d035135f",
   "metadata": {},
   "outputs": [
    {
     "name": "stdout",
     "output_type": "stream",
     "text": [
      "709024\n"
     ]
    },
    {
     "data": {
      "text/html": [
       "<div>\n",
       "<style scoped>\n",
       "    .dataframe tbody tr th:only-of-type {\n",
       "        vertical-align: middle;\n",
       "    }\n",
       "\n",
       "    .dataframe tbody tr th {\n",
       "        vertical-align: top;\n",
       "    }\n",
       "\n",
       "    .dataframe thead th {\n",
       "        text-align: right;\n",
       "    }\n",
       "</style>\n",
       "<table border=\"1\" class=\"dataframe\">\n",
       "  <thead>\n",
       "    <tr style=\"text-align: right;\">\n",
       "      <th></th>\n",
       "      <th>APN</th>\n",
       "      <th>FIPS</th>\n",
       "      <th>PRCLDMPID</th>\n",
       "      <th>geometry</th>\n",
       "      <th>building_geometry</th>\n",
       "      <th>building_roi</th>\n",
       "      <th>feat_id</th>\n",
       "      <th>iso_script</th>\n",
       "      <th>iso_lang_c</th>\n",
       "      <th>postal_cod</th>\n",
       "      <th>...</th>\n",
       "      <th>street_nam</th>\n",
       "      <th>country_co</th>\n",
       "      <th>prefix</th>\n",
       "      <th>suffix</th>\n",
       "      <th>predir</th>\n",
       "      <th>postdir</th>\n",
       "      <th>sn_body</th>\n",
       "      <th>APT</th>\n",
       "      <th>updated_geometries</th>\n",
       "      <th>APT_to_Centroid_distance</th>\n",
       "    </tr>\n",
       "  </thead>\n",
       "  <tbody>\n",
       "    <tr>\n",
       "      <th>2</th>\n",
       "      <td>01011110110000</td>\n",
       "      <td>17031</td>\n",
       "      <td>100660192_202277880</td>\n",
       "      <td>POLYGON ((-88.13279 42.15191, -88.13303 42.151...</td>\n",
       "      <td>POLYGON ((-88.13300599999999 42.152041, -88.13...</td>\n",
       "      <td>POLYGON ((-88.13301 42.15204, -88.13285 42.152...</td>\n",
       "      <td>00005549-3100-2800-0000-000000004feb</td>\n",
       "      <td>Latn</td>\n",
       "      <td>ENG</td>\n",
       "      <td>60010</td>\n",
       "      <td>...</td>\n",
       "      <td>E Lake St</td>\n",
       "      <td>USA</td>\n",
       "      <td>None</td>\n",
       "      <td>St</td>\n",
       "      <td>E</td>\n",
       "      <td>None</td>\n",
       "      <td>Lake</td>\n",
       "      <td>POINT (-88.132863 42.152048)</td>\n",
       "      <td>POINT (-88.13292 42.15211)</td>\n",
       "      <td>8.5</td>\n",
       "    </tr>\n",
       "    <tr>\n",
       "      <th>3</th>\n",
       "      <td>01011110100000</td>\n",
       "      <td>17031</td>\n",
       "      <td>100660192_202277881</td>\n",
       "      <td>POLYGON ((-88.13256 42.15191, -88.13279 42.151...</td>\n",
       "      <td>POLYGON ((-88.132592 42.152236, -88.132729 42....</td>\n",
       "      <td>POLYGON ((-88.13259 42.15224, -88.13273 42.152...</td>\n",
       "      <td>00005549-3100-2800-0000-000000004fec</td>\n",
       "      <td>Latn</td>\n",
       "      <td>ENG</td>\n",
       "      <td>60010</td>\n",
       "      <td>...</td>\n",
       "      <td>E Lake St</td>\n",
       "      <td>USA</td>\n",
       "      <td>None</td>\n",
       "      <td>St</td>\n",
       "      <td>E</td>\n",
       "      <td>None</td>\n",
       "      <td>Lake</td>\n",
       "      <td>POINT (-88.132614 42.152045)</td>\n",
       "      <td>POINT (-88.13266 42.15212)</td>\n",
       "      <td>8.8</td>\n",
       "    </tr>\n",
       "    <tr>\n",
       "      <th>5</th>\n",
       "      <td>01011100110000</td>\n",
       "      <td>17031</td>\n",
       "      <td>100660192_202277873</td>\n",
       "      <td>POLYGON ((-88.13425 42.15157, -88.13475 42.151...</td>\n",
       "      <td>POLYGON ((-88.13442999999999 42.151587, -88.13...</td>\n",
       "      <td>POLYGON ((-88.13443 42.15159, -88.13443 42.151...</td>\n",
       "      <td>00005549-3100-2800-0000-000000004fa2</td>\n",
       "      <td>Latn</td>\n",
       "      <td>ENG</td>\n",
       "      <td>60010</td>\n",
       "      <td>...</td>\n",
       "      <td>S Cook St</td>\n",
       "      <td>USA</td>\n",
       "      <td>None</td>\n",
       "      <td>St</td>\n",
       "      <td>S</td>\n",
       "      <td>None</td>\n",
       "      <td>Cook</td>\n",
       "      <td>POINT (-88.134426 42.151649)</td>\n",
       "      <td>POINT (-88.13456 42.15162)</td>\n",
       "      <td>11.7</td>\n",
       "    </tr>\n",
       "    <tr>\n",
       "      <th>7</th>\n",
       "      <td>01011100060000</td>\n",
       "      <td>17031</td>\n",
       "      <td>100660192_202277871</td>\n",
       "      <td>POLYGON ((-88.13377 42.15174, -88.13425 42.151...</td>\n",
       "      <td>POLYGON ((-88.13397000000001 42.151805, -88.13...</td>\n",
       "      <td>POLYGON ((-88.13397 42.15181, -88.13397 42.151...</td>\n",
       "      <td>00005549-3100-2800-0000-000000004fa8</td>\n",
       "      <td>Latn</td>\n",
       "      <td>ENG</td>\n",
       "      <td>60010</td>\n",
       "      <td>...</td>\n",
       "      <td>S Grove Ave</td>\n",
       "      <td>USA</td>\n",
       "      <td>None</td>\n",
       "      <td>Ave</td>\n",
       "      <td>S</td>\n",
       "      <td>None</td>\n",
       "      <td>Grove</td>\n",
       "      <td>POINT (-88.13393600000001 42.1518)</td>\n",
       "      <td>POINT (-88.13393 42.15184)</td>\n",
       "      <td>4.1</td>\n",
       "    </tr>\n",
       "  </tbody>\n",
       "</table>\n",
       "<p>4 rows × 23 columns</p>\n",
       "</div>"
      ],
      "text/plain": [
       "              APN   FIPS            PRCLDMPID  \\\n",
       "2  01011110110000  17031  100660192_202277880   \n",
       "3  01011110100000  17031  100660192_202277881   \n",
       "5  01011100110000  17031  100660192_202277873   \n",
       "7  01011100060000  17031  100660192_202277871   \n",
       "\n",
       "                                            geometry  \\\n",
       "2  POLYGON ((-88.13279 42.15191, -88.13303 42.151...   \n",
       "3  POLYGON ((-88.13256 42.15191, -88.13279 42.151...   \n",
       "5  POLYGON ((-88.13425 42.15157, -88.13475 42.151...   \n",
       "7  POLYGON ((-88.13377 42.15174, -88.13425 42.151...   \n",
       "\n",
       "                                   building_geometry  \\\n",
       "2  POLYGON ((-88.13300599999999 42.152041, -88.13...   \n",
       "3  POLYGON ((-88.132592 42.152236, -88.132729 42....   \n",
       "5  POLYGON ((-88.13442999999999 42.151587, -88.13...   \n",
       "7  POLYGON ((-88.13397000000001 42.151805, -88.13...   \n",
       "\n",
       "                                        building_roi  \\\n",
       "2  POLYGON ((-88.13301 42.15204, -88.13285 42.152...   \n",
       "3  POLYGON ((-88.13259 42.15224, -88.13273 42.152...   \n",
       "5  POLYGON ((-88.13443 42.15159, -88.13443 42.151...   \n",
       "7  POLYGON ((-88.13397 42.15181, -88.13397 42.151...   \n",
       "\n",
       "                                feat_id iso_script iso_lang_c postal_cod  ...  \\\n",
       "2  00005549-3100-2800-0000-000000004feb       Latn        ENG      60010  ...   \n",
       "3  00005549-3100-2800-0000-000000004fec       Latn        ENG      60010  ...   \n",
       "5  00005549-3100-2800-0000-000000004fa2       Latn        ENG      60010  ...   \n",
       "7  00005549-3100-2800-0000-000000004fa8       Latn        ENG      60010  ...   \n",
       "\n",
       "    street_nam country_co prefix suffix predir postdir sn_body  \\\n",
       "2    E Lake St        USA   None     St      E    None    Lake   \n",
       "3    E Lake St        USA   None     St      E    None    Lake   \n",
       "5    S Cook St        USA   None     St      S    None    Cook   \n",
       "7  S Grove Ave        USA   None    Ave      S    None   Grove   \n",
       "\n",
       "                                  APT          updated_geometries  \\\n",
       "2        POINT (-88.132863 42.152048)  POINT (-88.13292 42.15211)   \n",
       "3        POINT (-88.132614 42.152045)  POINT (-88.13266 42.15212)   \n",
       "5        POINT (-88.134426 42.151649)  POINT (-88.13456 42.15162)   \n",
       "7  POINT (-88.13393600000001 42.1518)  POINT (-88.13393 42.15184)   \n",
       "\n",
       "  APT_to_Centroid_distance  \n",
       "2                      8.5  \n",
       "3                      8.8  \n",
       "5                     11.7  \n",
       "7                      4.1  \n",
       "\n",
       "[4 rows x 23 columns]"
      ]
     },
     "execution_count": 4,
     "metadata": {},
     "output_type": "execute_result"
    }
   ],
   "source": [
    "print(processed_df_cook.shape[0])\n",
    "processed_df_cook.head(4)"
   ]
  },
  {
   "cell_type": "code",
   "execution_count": 5,
   "id": "a9792625",
   "metadata": {},
   "outputs": [
    {
     "name": "stdout",
     "output_type": "stream",
     "text": [
      "Data points greater than 50m: 1.03%\n",
      "Data points less than 50m: 98.97%\n"
     ]
    }
   ],
   "source": [
    "distance_greater_than_50m = processed_df_cook.loc[processed_df_cook['APT_to_Centroid_distance']>50].shape[0]\n",
    "print(\"Data points greater than 50m: {:.2f}%\".format(100*(distance_greater_than_50m/processed_df_cook.shape[0])))\n",
    "\n",
    "distance_greater_than_50m = processed_df_cook.loc[processed_df_cook['APT_to_Centroid_distance']<50].shape[0]\n",
    "print(\"Data points less than 50m: {:.2f}%\".format(100*(distance_greater_than_50m/processed_df_cook.shape[0])))\n"
   ]
  },
  {
   "cell_type": "code",
   "execution_count": 6,
   "id": "f99b97cd",
   "metadata": {},
   "outputs": [
    {
     "data": {
      "image/png": "[encoded data removed]",
      "text/plain": [
       "<Figure size 1224x648 with 1 Axes>"
      ]
     },
     "metadata": {
      "needs_background": "light"
     },
     "output_type": "display_data"
    },
    {
     "data": {
      "text/plain": [
       "21"
      ]
     },
     "execution_count": 6,
     "metadata": {},
     "output_type": "execute_result"
    }
   ],
   "source": [
    "fig, ax = plt.subplots(figsize=(17,9))\n",
    "\n",
    "ax.set_title(\"Histogram of APT to centroid distance on/not on BFP\")\n",
    "ax.set_xlabel(\"APT point to centroid distance(meters)\")\n",
    "ax.set_ylabel(\"counts\")\n",
    "\n",
    "frqTrue, edgesTrue = np.histogram(processed_df_cook['APT_to_Centroid_distance'].loc[processed_df_cook['APT_to_Centroid_distance']<150].values, bins = np.arange(0,150,10))\n",
    "p1 = ax.bar(edgesTrue[:-1], frqTrue, width=np.diff(edgesTrue), edgecolor=\"black\", align=\"edge\",alpha=0.4,label='Address Points on Rooftop',color='orange')\n",
    "\n",
    "plt.legend()\n",
    "plt.show()\n",
    "gc.collect()"
   ]
  },
  {
   "cell_type": "markdown",
   "id": "c088bb3d",
   "metadata": {},
   "source": [
    "#### Two BFP's within a Parcel "
   ]
  },
  {
   "cell_type": "code",
   "execution_count": null,
   "id": "f1d664a6",
   "metadata": {},
   "outputs": [],
   "source": [
    "## Process complexity 2-- 2 bfp \n",
    "\n",
    "output_path = os.path.join(data_path,state,city,'Apt_realignment') \n",
    "apt_preprocess = ProcessAPT_data(parcel_shapefile=parcel_path,\n",
    "                building_shapefile=building_geojson,\n",
    "                apt_shape_file=apt_data_path , \n",
    "                output_path=output_path)\n",
    "\n",
    "processed_df_cook = apt_preprocess.process_dataframe(bfp_count_per_parcel=2,filename='APT_realigned_usa_uil_cook')"
   ]
  },
  {
   "cell_type": "code",
   "execution_count": 8,
   "id": "5b167943",
   "metadata": {},
   "outputs": [
    {
     "name": "stdout",
     "output_type": "stream",
     "text": [
      "377673\n"
     ]
    },
    {
     "data": {
      "text/html": [
       "<div>\n",
       "<style scoped>\n",
       "    .dataframe tbody tr th:only-of-type {\n",
       "        vertical-align: middle;\n",
       "    }\n",
       "\n",
       "    .dataframe tbody tr th {\n",
       "        vertical-align: top;\n",
       "    }\n",
       "\n",
       "    .dataframe thead th {\n",
       "        text-align: right;\n",
       "    }\n",
       "</style>\n",
       "<table border=\"1\" class=\"dataframe\">\n",
       "  <thead>\n",
       "    <tr style=\"text-align: right;\">\n",
       "      <th></th>\n",
       "      <th>PRCLDMPID</th>\n",
       "      <th>building_roi</th>\n",
       "      <th>APT</th>\n",
       "      <th>feat_id</th>\n",
       "      <th>iso_script</th>\n",
       "      <th>iso_lang_c</th>\n",
       "      <th>postal_cod</th>\n",
       "      <th>house_numb</th>\n",
       "      <th>state_prov</th>\n",
       "      <th>locality</th>\n",
       "      <th>street_nam</th>\n",
       "      <th>country_co</th>\n",
       "      <th>prefix</th>\n",
       "      <th>suffix</th>\n",
       "      <th>predir</th>\n",
       "      <th>postdir</th>\n",
       "      <th>sn_body</th>\n",
       "      <th>geometry</th>\n",
       "      <th>updated_geometries</th>\n",
       "      <th>APT_to_Centroid_distance</th>\n",
       "    </tr>\n",
       "  </thead>\n",
       "  <tbody>\n",
       "    <tr>\n",
       "      <th>0</th>\n",
       "      <td>100660192_202272334</td>\n",
       "      <td>POLYGON ((-88.253107 42.065834, -88.253276 42....</td>\n",
       "      <td>POINT (-88.253221 42.065828)</td>\n",
       "      <td>00005549-3100-2800-0000-0000000aab23</td>\n",
       "      <td>Latn</td>\n",
       "      <td>ENG</td>\n",
       "      <td>60120</td>\n",
       "      <td>1006</td>\n",
       "      <td>IL</td>\n",
       "      <td>Elgin</td>\n",
       "      <td>Huron Dr</td>\n",
       "      <td>USA</td>\n",
       "      <td>None</td>\n",
       "      <td>Dr</td>\n",
       "      <td>None</td>\n",
       "      <td>None</td>\n",
       "      <td>Huron</td>\n",
       "      <td>POLYGON ((-88.25329 42.06568, -88.25330 42.065...</td>\n",
       "      <td>POINT (-88.2531915 42.06578900000001)</td>\n",
       "      <td>4.9</td>\n",
       "    </tr>\n",
       "    <tr>\n",
       "      <th>1</th>\n",
       "      <td>100660192_202272341</td>\n",
       "      <td>POLYGON ((-88.25142200000001 42.065662, -88.25...</td>\n",
       "      <td>POINT (-88.25133700000001 42.065737)</td>\n",
       "      <td>00005549-3100-2800-0000-0000000aabe1</td>\n",
       "      <td>Latn</td>\n",
       "      <td>ENG</td>\n",
       "      <td>60120</td>\n",
       "      <td>1050</td>\n",
       "      <td>IL</td>\n",
       "      <td>Elgin</td>\n",
       "      <td>Huron Dr</td>\n",
       "      <td>USA</td>\n",
       "      <td>None</td>\n",
       "      <td>Dr</td>\n",
       "      <td>None</td>\n",
       "      <td>None</td>\n",
       "      <td>Huron</td>\n",
       "      <td>POLYGON ((-88.25133 42.06552, -88.25139 42.065...</td>\n",
       "      <td>POINT (-88.25136832109457 42.06571976955762)</td>\n",
       "      <td>3.2</td>\n",
       "    </tr>\n",
       "    <tr>\n",
       "      <th>2</th>\n",
       "      <td>100660192_202272343</td>\n",
       "      <td>POLYGON ((-88.25058 42.065715, -88.250512 42.0...</td>\n",
       "      <td>POINT (-88.250683 42.065729)</td>\n",
       "      <td>00005549-3100-2800-0000-0000000aabe3</td>\n",
       "      <td>Latn</td>\n",
       "      <td>ENG</td>\n",
       "      <td>60120</td>\n",
       "      <td>1066</td>\n",
       "      <td>IL</td>\n",
       "      <td>Elgin</td>\n",
       "      <td>Huron Ct</td>\n",
       "      <td>USA</td>\n",
       "      <td>None</td>\n",
       "      <td>Ct</td>\n",
       "      <td>None</td>\n",
       "      <td>None</td>\n",
       "      <td>Huron</td>\n",
       "      <td>POLYGON ((-88.25054 42.06547, -88.25081 42.065...</td>\n",
       "      <td>POINT (-88.25060809898604 42.06573009097929)</td>\n",
       "      <td>6.1</td>\n",
       "    </tr>\n",
       "    <tr>\n",
       "      <th>3</th>\n",
       "      <td>100660192_202272362</td>\n",
       "      <td>POLYGON ((-88.26293200000001 42.063175, -88.26...</td>\n",
       "      <td>POINT (-88.262964 42.063143)</td>\n",
       "      <td>00005549-3100-2800-0000-0000000aa96b</td>\n",
       "      <td>Latn</td>\n",
       "      <td>ENG</td>\n",
       "      <td>60120</td>\n",
       "      <td>716</td>\n",
       "      <td>IL</td>\n",
       "      <td>Elgin</td>\n",
       "      <td>Stewart Ave</td>\n",
       "      <td>USA</td>\n",
       "      <td>None</td>\n",
       "      <td>Ave</td>\n",
       "      <td>None</td>\n",
       "      <td>None</td>\n",
       "      <td>Stewart</td>\n",
       "      <td>POLYGON ((-88.26307 42.06298, -88.26306 42.063...</td>\n",
       "      <td>POINT (-88.26298300000001 42.0631155)</td>\n",
       "      <td>3.4</td>\n",
       "    </tr>\n",
       "  </tbody>\n",
       "</table>\n",
       "</div>"
      ],
      "text/plain": [
       "             PRCLDMPID                                       building_roi  \\\n",
       "0  100660192_202272334  POLYGON ((-88.253107 42.065834, -88.253276 42....   \n",
       "1  100660192_202272341  POLYGON ((-88.25142200000001 42.065662, -88.25...   \n",
       "2  100660192_202272343  POLYGON ((-88.25058 42.065715, -88.250512 42.0...   \n",
       "3  100660192_202272362  POLYGON ((-88.26293200000001 42.063175, -88.26...   \n",
       "\n",
       "                                    APT                               feat_id  \\\n",
       "0          POINT (-88.253221 42.065828)  00005549-3100-2800-0000-0000000aab23   \n",
       "1  POINT (-88.25133700000001 42.065737)  00005549-3100-2800-0000-0000000aabe1   \n",
       "2          POINT (-88.250683 42.065729)  00005549-3100-2800-0000-0000000aabe3   \n",
       "3          POINT (-88.262964 42.063143)  00005549-3100-2800-0000-0000000aa96b   \n",
       "\n",
       "  iso_script iso_lang_c postal_cod house_numb state_prov locality  \\\n",
       "0       Latn        ENG      60120       1006         IL    Elgin   \n",
       "1       Latn        ENG      60120       1050         IL    Elgin   \n",
       "2       Latn        ENG      60120       1066         IL    Elgin   \n",
       "3       Latn        ENG      60120        716         IL    Elgin   \n",
       "\n",
       "    street_nam country_co prefix suffix predir postdir  sn_body  \\\n",
       "0     Huron Dr        USA   None     Dr   None    None    Huron   \n",
       "1     Huron Dr        USA   None     Dr   None    None    Huron   \n",
       "2     Huron Ct        USA   None     Ct   None    None    Huron   \n",
       "3  Stewart Ave        USA   None    Ave   None    None  Stewart   \n",
       "\n",
       "                                            geometry  \\\n",
       "0  POLYGON ((-88.25329 42.06568, -88.25330 42.065...   \n",
       "1  POLYGON ((-88.25133 42.06552, -88.25139 42.065...   \n",
       "2  POLYGON ((-88.25054 42.06547, -88.25081 42.065...   \n",
       "3  POLYGON ((-88.26307 42.06298, -88.26306 42.063...   \n",
       "\n",
       "                             updated_geometries  APT_to_Centroid_distance  \n",
       "0         POINT (-88.2531915 42.06578900000001)                       4.9  \n",
       "1  POINT (-88.25136832109457 42.06571976955762)                       3.2  \n",
       "2  POINT (-88.25060809898604 42.06573009097929)                       6.1  \n",
       "3         POINT (-88.26298300000001 42.0631155)                       3.4  "
      ]
     },
     "execution_count": 8,
     "metadata": {},
     "output_type": "execute_result"
    }
   ],
   "source": [
    "print(processed_df_cook.shape[0])\n",
    "processed_df_cook.head(4)"
   ]
  },
  {
   "cell_type": "code",
   "execution_count": 9,
   "id": "ccc08df3",
   "metadata": {},
   "outputs": [
    {
     "name": "stdout",
     "output_type": "stream",
     "text": [
      "Data points greater than 50m: 0.46%\n",
      "Data points less than 50m: 99.54%\n"
     ]
    }
   ],
   "source": [
    "distance_greater_than_50m = processed_df_cook.loc[processed_df_cook['APT_to_Centroid_distance']>50].shape[0]\n",
    "print(\"Data points greater than 50m: {:.2f}%\".format(100*(distance_greater_than_50m/processed_df_cook.shape[0])))\n",
    "\n",
    "distance_greater_than_50m = processed_df_cook.loc[processed_df_cook['APT_to_Centroid_distance']<50].shape[0]\n",
    "print(\"Data points less than 50m: {:.2f}%\".format(100*(distance_greater_than_50m/processed_df_cook.shape[0])))\n"
   ]
  },
  {
   "cell_type": "code",
   "execution_count": 10,
   "id": "9819da5d",
   "metadata": {},
   "outputs": [
    {
     "data": {
      "image/png": "[encoded data removed]",
      "text/plain": [
       "<Figure size 1224x648 with 1 Axes>"
      ]
     },
     "metadata": {
      "needs_background": "light"
     },
     "output_type": "display_data"
    },
    {
     "data": {
      "text/plain": [
       "4176"
      ]
     },
     "execution_count": 10,
     "metadata": {},
     "output_type": "execute_result"
    }
   ],
   "source": [
    "fig, ax = plt.subplots(figsize=(17,9))\n",
    "\n",
    "ax.set_title(\"Histogram of APT to centroid distance on/not on BFP\")\n",
    "ax.set_xlabel(\"APT point to centroid distance(meters)\")\n",
    "ax.set_ylabel(\"counts\")\n",
    "\n",
    "frqTrue, edgesTrue = np.histogram(processed_df_cook['APT_to_Centroid_distance'].loc[processed_df_cook['APT_to_Centroid_distance']<150].values, bins = np.arange(0,150,10))\n",
    "p1 = ax.bar(edgesTrue[:-1], frqTrue, width=np.diff(edgesTrue), edgecolor=\"black\", align=\"edge\",alpha=0.4,label='Address Points on Rooftop',color='orange')\n",
    "\n",
    "plt.legend()\n",
    "plt.show()\n",
    "gc.collect()"
   ]
  },
  {
   "cell_type": "markdown",
   "id": "ada8693d",
   "metadata": {},
   "source": [
    "### Merge Data"
   ]
  },
  {
   "cell_type": "code",
   "execution_count": 22,
   "id": "59577a9b",
   "metadata": {},
   "outputs": [
    {
     "name": "stdout",
     "output_type": "stream",
     "text": [
      "['/mnt/c/Users/tandon/OneDrive - TomTom/Desktop/tomtom/Workspace/01_Rooftop_accuracy/BFP_Analysis_USA/data/data/Illinois/cook/Apt_realignment/APT_realign_1_bfp2parcel/APT_realigned_usa_il_cook.pkl', '/mnt/c/Users/tandon/OneDrive - TomTom/Desktop/tomtom/Workspace/01_Rooftop_accuracy/BFP_Analysis_USA/data/data/Illinois/cook/Apt_realignment/APT_realign_2_bfp2parcel/APT_realigned_usa_uil_cook.pkl']\n"
     ]
    }
   ],
   "source": [
    "from glob import glob \n",
    "pkl_path = osp.join(data_path,state,city,'Apt_realignment')\n",
    "pkl_files = glob(pkl_path+'/*/*.pkl')\n",
    "print(pkl_files)\n"
   ]
  },
  {
   "cell_type": "code",
   "execution_count": 23,
   "id": "1231f966",
   "metadata": {},
   "outputs": [
    {
     "name": "stdout",
     "output_type": "stream",
     "text": [
      "simple scenario sahpe 709024\n",
      " complx scenario shape: 377673\n",
      "Merged Shape (1086697, 19)\n"
     ]
    }
   ],
   "source": [
    "## Show single bfp within Parcel data\n",
    "df_one_bfp = pd.read_pickle(pkl_files[0])\n",
    "df_one_bfp = df_one_bfp.reset_index(drop=True)\n",
    "print(\"simple scenario sahpe\",df_one_bfp.shape[0])\n",
    "\n",
    "df_two_bfp = pd.read_pickle(pkl_files[1])\n",
    "df_two_bfp = df_two_bfp.reset_index(drop=True)\n",
    "print(\" complx scenario shape:\",df_two_bfp.shape[0])\n",
    "\n",
    "merge_df= pd.concat([df_one_bfp,df_two_bfp])\n",
    "print(\"Merged Shape\",merge_df.shape)\n",
    "merge_df.to_pickle(os.path.join(pkl_path,'FinalUpdated_APT_{}_{}.pkl'.format(state,city)))\n"
   ]
  },
  {
   "cell_type": "markdown",
   "id": "b6f77b0f",
   "metadata": {},
   "source": [
    "## Michigan Wayne "
   ]
  },
  {
   "cell_type": "code",
   "execution_count": 7,
   "id": "07939cdd",
   "metadata": {},
   "outputs": [],
   "source": [
    "import os\n",
    "import shapely\n",
    "import numpy as np\n",
    "import sys \n",
    "import pycoredb \n",
    "import pandas as pd \n",
    "import gc\n",
    "from shapely import wkt\n",
    "from matplotlib import pyplot as plt\n",
    "from shapely.geometry import Point,mapping,Polygon,box,MultiPoint\n",
    "import geopandas as gpd \n",
    "import seaborn as sns \n",
    " \n",
    "# for parallelization\n",
    "sys.path.append('/mnt/c/Users/tandon/OneDrive - TomTom/Desktop/tomtom/Workspace/01_Rooftop_accuracy/APT-Realignment/src/apt_realignment')\n",
    "from process_geometries import ProcessGeometricData  as ProcessAPT_data\n",
    "from utils.haversine_distance import get_distance\n",
    "\n",
    "data_path  = \"/mnt/c/Users/tandon/OneDrive - TomTom/Desktop/tomtom/Workspace/01_Rooftop_accuracy/BFP_Analysis_USA/data/data\"\n",
    "state = \"MI\"\n",
    "city = \"wayne\"\n",
    "apt_data_path = os.path.join(data_path,state,\"APT__2022_09_001_nam_usa_umx.shp\" )\n",
    "parcel_path = os.path.join(data_path,state,city,\"Parcels_26163/Parcels_26163.shp\")\n",
    "building_geojson = os.path.join(data_path,state,'Michigan.geojson')"
   ]
  },
  {
   "cell_type": "code",
   "execution_count": 12,
   "id": "2a225c0f",
   "metadata": {},
   "outputs": [],
   "source": [
    "# geojson2shpfile(building_geojson,verbose=0)"
   ]
  },
  {
   "cell_type": "markdown",
   "id": "a481a168",
   "metadata": {},
   "source": [
    "### Single BFP within a Parcel"
   ]
  },
  {
   "cell_type": "code",
   "execution_count": 13,
   "id": "9a4ab049",
   "metadata": {},
   "outputs": [
    {
     "name": "stderr",
     "output_type": "stream",
     "text": [
      "2022-09-02 15:48:37,793:INFO:- Processing APT's with 1 BFP-Count Per Parcel\n",
      "2022-09-02 15:48:37,795:INFO:- Processing Land Parcel data and Building Footprints \n",
      "2022-09-02 15:58:01,622:INFO:- Acquiring BFP's within land Parcels \n",
      "2022-09-02 15:58:03,227:INFO:- Processing Anchor-Points data over Parcel-Building Geo-Dataframe\n",
      "2022-09-02 16:01:50,539:INFO:- saving updated Geometries ...\n",
      "2022-09-02 16:03:20,160:INFO:- saving Realigned matrix..\n",
      "WARNING:fiona._env:Normalized/laundered field name: 'APT_to_Centroid_distance' to 'APT_to_Cen'\n",
      "WARNING:fiona._env:Normalized/laundered field name: 'updated_lat' to 'updated_la'\n",
      "WARNING:fiona._env:Normalized/laundered field name: 'updated_lon' to 'updated_lo'\n",
      "2022-09-02 16:04:25,756:INFO:- File saved at /mnt/c/Users/tandon/OneDrive - TomTom/Desktop/tomtom/Workspace/01_Rooftop_accuracy/BFP_Analysis_USA/data/data/MI/wayne/Apt_realignment/APT_realign_1_bfp2parcel/APT_realigned_usa_umx_wayne.pkl\n"
     ]
    }
   ],
   "source": [
    "output_path = os.path.join(data_path,state,city,'Apt_realignment') \n",
    "apt_preprocess = ProcessAPT_data(parcel_shapefile=parcel_path,\n",
    "                building_shapefile=building_geojson,\n",
    "                apt_shape_file=apt_data_path , \n",
    "                output_path=output_path)\n",
    "\n",
    "processed_df_wayne = apt_preprocess.process_dataframe(bfp_count_per_parcel=1,filename='APT_realigned_usa_umx_wayne')"
   ]
  },
  {
   "cell_type": "code",
   "execution_count": 14,
   "id": "76b7b4ca",
   "metadata": {},
   "outputs": [
    {
     "name": "stdout",
     "output_type": "stream",
     "text": [
      "Data Shape: (364591, 23)\n"
     ]
    },
    {
     "data": {
      "text/html": [
       "<div>\n",
       "<style scoped>\n",
       "    .dataframe tbody tr th:only-of-type {\n",
       "        vertical-align: middle;\n",
       "    }\n",
       "\n",
       "    .dataframe tbody tr th {\n",
       "        vertical-align: top;\n",
       "    }\n",
       "\n",
       "    .dataframe thead th {\n",
       "        text-align: right;\n",
       "    }\n",
       "</style>\n",
       "<table border=\"1\" class=\"dataframe\">\n",
       "  <thead>\n",
       "    <tr style=\"text-align: right;\">\n",
       "      <th></th>\n",
       "      <th>APN</th>\n",
       "      <th>FIPS</th>\n",
       "      <th>PRCLDMPID</th>\n",
       "      <th>geometry</th>\n",
       "      <th>building_geometry</th>\n",
       "      <th>building_roi</th>\n",
       "      <th>feat_id</th>\n",
       "      <th>iso_script</th>\n",
       "      <th>iso_lang_c</th>\n",
       "      <th>postal_cod</th>\n",
       "      <th>...</th>\n",
       "      <th>street_nam</th>\n",
       "      <th>country_co</th>\n",
       "      <th>prefix</th>\n",
       "      <th>suffix</th>\n",
       "      <th>predir</th>\n",
       "      <th>postdir</th>\n",
       "      <th>sn_body</th>\n",
       "      <th>APT</th>\n",
       "      <th>updated_geometries</th>\n",
       "      <th>APT_to_Centroid_distance</th>\n",
       "    </tr>\n",
       "  </thead>\n",
       "  <tbody>\n",
       "    <tr>\n",
       "      <th>0</th>\n",
       "      <td>77-018-01-0015-002</td>\n",
       "      <td>26163</td>\n",
       "      <td>100660192_209773493</td>\n",
       "      <td>POLYGON ((-83.52600 42.43458, -83.52601 42.434...</td>\n",
       "      <td>POLYGON ((-83.52508899999999 42.434858, -83.52...</td>\n",
       "      <td>POLYGON ((-83.52509 42.43486, -83.52509 42.434...</td>\n",
       "      <td>0000554d-3200-2800-0000-00000044846e</td>\n",
       "      <td>Latn</td>\n",
       "      <td>ENG</td>\n",
       "      <td>48167</td>\n",
       "      <td>...</td>\n",
       "      <td>Westview Dr</td>\n",
       "      <td>USA</td>\n",
       "      <td>None</td>\n",
       "      <td>Dr</td>\n",
       "      <td>None</td>\n",
       "      <td>None</td>\n",
       "      <td>Westview</td>\n",
       "      <td>POINT (-83.52523619999999 42.4348473)</td>\n",
       "      <td>POINT (-83.52524 42.43486)</td>\n",
       "      <td>1.4</td>\n",
       "    </tr>\n",
       "    <tr>\n",
       "      <th>1</th>\n",
       "      <td>77-018-01-0016-000</td>\n",
       "      <td>26163</td>\n",
       "      <td>100660192_209773494</td>\n",
       "      <td>POLYGON ((-83.52603 42.43499, -83.52607 42.435...</td>\n",
       "      <td>POLYGON ((-83.52525300000001 42.435522, -83.52...</td>\n",
       "      <td>POLYGON ((-83.52525 42.43552, -83.52552 42.435...</td>\n",
       "      <td>0000554d-3200-2800-0000-0000004c1dcb</td>\n",
       "      <td>Latn</td>\n",
       "      <td>ENG</td>\n",
       "      <td>48167</td>\n",
       "      <td>...</td>\n",
       "      <td>8 Mile Rd</td>\n",
       "      <td>USA</td>\n",
       "      <td>None</td>\n",
       "      <td>Rd</td>\n",
       "      <td>None</td>\n",
       "      <td>None</td>\n",
       "      <td>8 Mile</td>\n",
       "      <td>POINT (-83.5254626 42.4354635)</td>\n",
       "      <td>POINT (-83.52540 42.43547)</td>\n",
       "      <td>4.8</td>\n",
       "    </tr>\n",
       "    <tr>\n",
       "      <th>2</th>\n",
       "      <td>77-018-01-0003-000</td>\n",
       "      <td>26163</td>\n",
       "      <td>100660192_209773495</td>\n",
       "      <td>POLYGON ((-83.52710 42.43315, -83.52715 42.433...</td>\n",
       "      <td>POLYGON ((-83.526023 42.433776, -83.526056 42....</td>\n",
       "      <td>POLYGON ((-83.52602 42.43378, -83.52606 42.433...</td>\n",
       "      <td>0000554d-3200-2800-0000-00000044846b</td>\n",
       "      <td>Latn</td>\n",
       "      <td>ENG</td>\n",
       "      <td>48167</td>\n",
       "      <td>...</td>\n",
       "      <td>Westview Dr</td>\n",
       "      <td>USA</td>\n",
       "      <td>None</td>\n",
       "      <td>Dr</td>\n",
       "      <td>None</td>\n",
       "      <td>None</td>\n",
       "      <td>Westview</td>\n",
       "      <td>POINT (-83.5261852 42.433816)</td>\n",
       "      <td>POINT (-83.52619 42.43383)</td>\n",
       "      <td>1.7</td>\n",
       "    </tr>\n",
       "    <tr>\n",
       "      <th>6</th>\n",
       "      <td>77-018-01-0001-002</td>\n",
       "      <td>26163</td>\n",
       "      <td>100660192_209773489</td>\n",
       "      <td>POLYGON ((-83.52721 42.43495, -83.52724 42.435...</td>\n",
       "      <td>POLYGON ((-83.52652500000001 42.435044, -83.52...</td>\n",
       "      <td>POLYGON ((-83.52653 42.43504, -83.52653 42.435...</td>\n",
       "      <td>0000554d-3200-2800-0000-0000004c1cf4</td>\n",
       "      <td>Latn</td>\n",
       "      <td>ENG</td>\n",
       "      <td>48167</td>\n",
       "      <td>...</td>\n",
       "      <td>Westview Dr</td>\n",
       "      <td>USA</td>\n",
       "      <td>None</td>\n",
       "      <td>Dr</td>\n",
       "      <td>None</td>\n",
       "      <td>None</td>\n",
       "      <td>Westview</td>\n",
       "      <td>POINT (-83.5266215 42.4351883)</td>\n",
       "      <td>POINT (-83.52661 42.43519)</td>\n",
       "      <td>0.9</td>\n",
       "    </tr>\n",
       "    <tr>\n",
       "      <th>7</th>\n",
       "      <td>77-017-99-0002-000</td>\n",
       "      <td>26163</td>\n",
       "      <td>100660192_209773488</td>\n",
       "      <td>POLYGON ((-83.52233 42.43575, -83.52234 42.436...</td>\n",
       "      <td>POLYGON ((-83.52209999999999 42.43592, -83.522...</td>\n",
       "      <td>POLYGON ((-83.52210 42.43592, -83.52210 42.435...</td>\n",
       "      <td>0000554d-3200-2800-0000-0000004c1f18</td>\n",
       "      <td>Latn</td>\n",
       "      <td>ENG</td>\n",
       "      <td>48167</td>\n",
       "      <td>...</td>\n",
       "      <td>8 Mile Rd</td>\n",
       "      <td>USA</td>\n",
       "      <td>None</td>\n",
       "      <td>Rd</td>\n",
       "      <td>None</td>\n",
       "      <td>None</td>\n",
       "      <td>8 Mile</td>\n",
       "      <td>POINT (-83.5220872 42.4358902)</td>\n",
       "      <td>POINT (-83.52201 42.43585)</td>\n",
       "      <td>7.7</td>\n",
       "    </tr>\n",
       "  </tbody>\n",
       "</table>\n",
       "<p>5 rows × 23 columns</p>\n",
       "</div>"
      ],
      "text/plain": [
       "                  APN   FIPS            PRCLDMPID  \\\n",
       "0  77-018-01-0015-002  26163  100660192_209773493   \n",
       "1  77-018-01-0016-000  26163  100660192_209773494   \n",
       "2  77-018-01-0003-000  26163  100660192_209773495   \n",
       "6  77-018-01-0001-002  26163  100660192_209773489   \n",
       "7  77-017-99-0002-000  26163  100660192_209773488   \n",
       "\n",
       "                                            geometry  \\\n",
       "0  POLYGON ((-83.52600 42.43458, -83.52601 42.434...   \n",
       "1  POLYGON ((-83.52603 42.43499, -83.52607 42.435...   \n",
       "2  POLYGON ((-83.52710 42.43315, -83.52715 42.433...   \n",
       "6  POLYGON ((-83.52721 42.43495, -83.52724 42.435...   \n",
       "7  POLYGON ((-83.52233 42.43575, -83.52234 42.436...   \n",
       "\n",
       "                                   building_geometry  \\\n",
       "0  POLYGON ((-83.52508899999999 42.434858, -83.52...   \n",
       "1  POLYGON ((-83.52525300000001 42.435522, -83.52...   \n",
       "2  POLYGON ((-83.526023 42.433776, -83.526056 42....   \n",
       "6  POLYGON ((-83.52652500000001 42.435044, -83.52...   \n",
       "7  POLYGON ((-83.52209999999999 42.43592, -83.522...   \n",
       "\n",
       "                                        building_roi  \\\n",
       "0  POLYGON ((-83.52509 42.43486, -83.52509 42.434...   \n",
       "1  POLYGON ((-83.52525 42.43552, -83.52552 42.435...   \n",
       "2  POLYGON ((-83.52602 42.43378, -83.52606 42.433...   \n",
       "6  POLYGON ((-83.52653 42.43504, -83.52653 42.435...   \n",
       "7  POLYGON ((-83.52210 42.43592, -83.52210 42.435...   \n",
       "\n",
       "                                feat_id iso_script iso_lang_c postal_cod  ...  \\\n",
       "0  0000554d-3200-2800-0000-00000044846e       Latn        ENG      48167  ...   \n",
       "1  0000554d-3200-2800-0000-0000004c1dcb       Latn        ENG      48167  ...   \n",
       "2  0000554d-3200-2800-0000-00000044846b       Latn        ENG      48167  ...   \n",
       "6  0000554d-3200-2800-0000-0000004c1cf4       Latn        ENG      48167  ...   \n",
       "7  0000554d-3200-2800-0000-0000004c1f18       Latn        ENG      48167  ...   \n",
       "\n",
       "    street_nam country_co prefix suffix predir postdir   sn_body  \\\n",
       "0  Westview Dr        USA   None     Dr   None    None  Westview   \n",
       "1    8 Mile Rd        USA   None     Rd   None    None    8 Mile   \n",
       "2  Westview Dr        USA   None     Dr   None    None  Westview   \n",
       "6  Westview Dr        USA   None     Dr   None    None  Westview   \n",
       "7    8 Mile Rd        USA   None     Rd   None    None    8 Mile   \n",
       "\n",
       "                                     APT          updated_geometries  \\\n",
       "0  POINT (-83.52523619999999 42.4348473)  POINT (-83.52524 42.43486)   \n",
       "1         POINT (-83.5254626 42.4354635)  POINT (-83.52540 42.43547)   \n",
       "2          POINT (-83.5261852 42.433816)  POINT (-83.52619 42.43383)   \n",
       "6         POINT (-83.5266215 42.4351883)  POINT (-83.52661 42.43519)   \n",
       "7         POINT (-83.5220872 42.4358902)  POINT (-83.52201 42.43585)   \n",
       "\n",
       "  APT_to_Centroid_distance  \n",
       "0                      1.4  \n",
       "1                      4.8  \n",
       "2                      1.7  \n",
       "6                      0.9  \n",
       "7                      7.7  \n",
       "\n",
       "[5 rows x 23 columns]"
      ]
     },
     "execution_count": 14,
     "metadata": {},
     "output_type": "execute_result"
    }
   ],
   "source": [
    "print(\"Data Shape:\",processed_df_wayne.shape)\n",
    "processed_df_wayne.head()"
   ]
  },
  {
   "cell_type": "code",
   "execution_count": 15,
   "id": "dd853db1",
   "metadata": {},
   "outputs": [
    {
     "name": "stdout",
     "output_type": "stream",
     "text": [
      "Data points greater than 50m: 0.56%\n",
      "Data points less than 50m: 99.44%\n"
     ]
    }
   ],
   "source": [
    "distance_greater_than_50m = processed_df_wayne.loc[processed_df_wayne['APT_to_Centroid_distance']>50].shape[0]\n",
    "print(\"Data points greater than 50m: {:.2f}%\".format(100*(distance_greater_than_50m/processed_df_wayne.shape[0])))\n",
    "\n",
    "distance_greater_than_50m = processed_df_wayne.loc[processed_df_wayne['APT_to_Centroid_distance']<50].shape[0]\n",
    "print(\"Data points less than 50m: {:.2f}%\".format(100*(distance_greater_than_50m/processed_df_wayne.shape[0])))"
   ]
  },
  {
   "cell_type": "code",
   "execution_count": 16,
   "id": "9573f4b9",
   "metadata": {},
   "outputs": [
    {
     "data": {
      "image/png": "[encoded data removed]",
      "text/plain": [
       "<Figure size 1224x648 with 1 Axes>"
      ]
     },
     "metadata": {
      "needs_background": "light"
     },
     "output_type": "display_data"
    },
    {
     "data": {
      "text/plain": [
       "4036"
      ]
     },
     "execution_count": 16,
     "metadata": {},
     "output_type": "execute_result"
    }
   ],
   "source": [
    "fig, ax = plt.subplots(figsize=(17,9))\n",
    "\n",
    "ax.set_title(\"Histogram of APT to centroid distance on/not on BFP\")\n",
    "ax.set_xlabel(\"APT point to centroid distance(meters)\")\n",
    "ax.set_ylabel(\"counts\")\n",
    "\n",
    "frqTrue, edgesTrue = np.histogram(processed_df_wayne['APT_to_Centroid_distance'].loc[processed_df_wayne['APT_to_Centroid_distance']<150].values, bins = np.arange(0,150,10))\n",
    "p1 = ax.bar(edgesTrue[:-1], frqTrue, width=np.diff(edgesTrue), edgecolor=\"black\", align=\"edge\",alpha=0.4,label='Address Points on Rooftop',color='orange')\n",
    "\n",
    "plt.legend()\n",
    "plt.show()\n",
    "gc.collect()"
   ]
  },
  {
   "cell_type": "markdown",
   "id": "165cb0a7",
   "metadata": {},
   "source": [
    "#### Two BFP's within a Parcel "
   ]
  },
  {
   "cell_type": "code",
   "execution_count": 17,
   "id": "b034da18",
   "metadata": {},
   "outputs": [
    {
     "name": "stderr",
     "output_type": "stream",
     "text": [
      "2022-09-02 16:04:33,026:INFO:- Processing APT's with 2 BFP-Count Per Parcel\n",
      "2022-09-02 16:04:33,028:INFO:- Processing Land Parcel data and Building Footprints \n",
      "2022-09-02 16:13:26,815:INFO:- Acquiring BFP's within land Parcels \n",
      "2022-09-02 16:13:28,270:INFO:- Processing Anchor-Points data over Parcel-Building Geo-Dataframe\n",
      "2022-09-02 16:32:47,994:INFO:- saving updated Geometries ...\n",
      "2022-09-02 16:33:08,635:INFO:- saving Realigned matrix..\n",
      "WARNING:fiona._env:Normalized/laundered field name: 'APT_to_Centroid_distance' to 'APT_to_Cen'\n",
      "WARNING:fiona._env:Normalized/laundered field name: 'updated_lat' to 'updated_la'\n",
      "WARNING:fiona._env:Normalized/laundered field name: 'updated_lon' to 'updated_lo'\n",
      "2022-09-02 16:33:52,946:INFO:- File saved at /mnt/c/Users/tandon/OneDrive - TomTom/Desktop/tomtom/Workspace/01_Rooftop_accuracy/BFP_Analysis_USA/data/data/MI/wayne/Apt_realignment/APT_realign_2_bfp2parcel/APT_realigned_usa_umx_wayne.pkl\n"
     ]
    }
   ],
   "source": [
    "output_path = os.path.join(data_path,state,city,'Apt_realignment') \n",
    "apt_preprocess = ProcessAPT_data(parcel_shapefile=parcel_path,\n",
    "                building_shapefile=building_geojson,\n",
    "                apt_shape_file=apt_data_path , \n",
    "                output_path=output_path)\n",
    "\n",
    "processed_df_wayne = apt_preprocess.process_dataframe(bfp_count_per_parcel=2,filename='APT_realigned_usa_umx_wayne')\n"
   ]
  },
  {
   "cell_type": "code",
   "execution_count": 18,
   "id": "60e294bf",
   "metadata": {},
   "outputs": [
    {
     "name": "stdout",
     "output_type": "stream",
     "text": [
      "236463\n"
     ]
    },
    {
     "data": {
      "text/html": [
       "<div>\n",
       "<style scoped>\n",
       "    .dataframe tbody tr th:only-of-type {\n",
       "        vertical-align: middle;\n",
       "    }\n",
       "\n",
       "    .dataframe tbody tr th {\n",
       "        vertical-align: top;\n",
       "    }\n",
       "\n",
       "    .dataframe thead th {\n",
       "        text-align: right;\n",
       "    }\n",
       "</style>\n",
       "<table border=\"1\" class=\"dataframe\">\n",
       "  <thead>\n",
       "    <tr style=\"text-align: right;\">\n",
       "      <th></th>\n",
       "      <th>PRCLDMPID</th>\n",
       "      <th>building_roi</th>\n",
       "      <th>APT</th>\n",
       "      <th>feat_id</th>\n",
       "      <th>iso_script</th>\n",
       "      <th>iso_lang_c</th>\n",
       "      <th>postal_cod</th>\n",
       "      <th>house_numb</th>\n",
       "      <th>state_prov</th>\n",
       "      <th>locality</th>\n",
       "      <th>street_nam</th>\n",
       "      <th>country_co</th>\n",
       "      <th>prefix</th>\n",
       "      <th>suffix</th>\n",
       "      <th>predir</th>\n",
       "      <th>postdir</th>\n",
       "      <th>sn_body</th>\n",
       "      <th>geometry</th>\n",
       "      <th>updated_geometries</th>\n",
       "      <th>APT_to_Centroid_distance</th>\n",
       "    </tr>\n",
       "  </thead>\n",
       "  <tbody>\n",
       "    <tr>\n",
       "      <th>0</th>\n",
       "      <td>100660192_209773476</td>\n",
       "      <td>POLYGON ((-83.55066600000001 42.423966, -83.55...</td>\n",
       "      <td>POINT (-83.5491403 42.4239452)</td>\n",
       "      <td>0000554d-3200-2800-0000-0000004bf8ac</td>\n",
       "      <td>Latn</td>\n",
       "      <td>ENG</td>\n",
       "      <td>48167</td>\n",
       "      <td>9166</td>\n",
       "      <td>MI</td>\n",
       "      <td>Northville</td>\n",
       "      <td>Napier Rd</td>\n",
       "      <td>USA</td>\n",
       "      <td>None</td>\n",
       "      <td>Rd</td>\n",
       "      <td>None</td>\n",
       "      <td>None</td>\n",
       "      <td>Napier</td>\n",
       "      <td>POLYGON ((-83.55132 42.42384, -83.55133 42.424...</td>\n",
       "      <td>POINT (-83.55059511391239 42.4239232004446)</td>\n",
       "      <td>119.4</td>\n",
       "    </tr>\n",
       "    <tr>\n",
       "      <th>1</th>\n",
       "      <td>100660192_209773477</td>\n",
       "      <td>POLYGON ((-83.55078399999999 42.423575, -83.55...</td>\n",
       "      <td>POINT (-83.5508421 42.4236277)</td>\n",
       "      <td>0000554d-3200-2800-0000-0000004bf76c</td>\n",
       "      <td>Latn</td>\n",
       "      <td>ENG</td>\n",
       "      <td>48167</td>\n",
       "      <td>9140</td>\n",
       "      <td>MI</td>\n",
       "      <td>Northville</td>\n",
       "      <td>Napier Rd</td>\n",
       "      <td>USA</td>\n",
       "      <td>None</td>\n",
       "      <td>Rd</td>\n",
       "      <td>None</td>\n",
       "      <td>None</td>\n",
       "      <td>Napier</td>\n",
       "      <td>POLYGON ((-83.55130 42.42349, -83.55132 42.423...</td>\n",
       "      <td>POINT (-83.55085612130175 42.42364430440186)</td>\n",
       "      <td>2.1</td>\n",
       "    </tr>\n",
       "    <tr>\n",
       "      <th>2</th>\n",
       "      <td>100660192_209773491</td>\n",
       "      <td>POLYGON ((-83.524709 42.433685, -83.52475 42.4...</td>\n",
       "      <td>POINT (-83.52479169999999 42.4337535)</td>\n",
       "      <td>0000554d-3200-2800-0000-00000044846c</td>\n",
       "      <td>Latn</td>\n",
       "      <td>ENG</td>\n",
       "      <td>48167</td>\n",
       "      <td>20390</td>\n",
       "      <td>MI</td>\n",
       "      <td>Northville</td>\n",
       "      <td>Westview Dr</td>\n",
       "      <td>USA</td>\n",
       "      <td>None</td>\n",
       "      <td>Dr</td>\n",
       "      <td>None</td>\n",
       "      <td>None</td>\n",
       "      <td>Westview</td>\n",
       "      <td>POLYGON ((-83.52504 42.43344, -83.52506 42.433...</td>\n",
       "      <td>POINT (-83.52479404102435 42.43377457469753)</td>\n",
       "      <td>2.3</td>\n",
       "    </tr>\n",
       "    <tr>\n",
       "      <th>3</th>\n",
       "      <td>100660192_209773497</td>\n",
       "      <td>POLYGON ((-83.52581600000001 42.432284, -83.52...</td>\n",
       "      <td>POINT (-83.5257277 42.4323723)</td>\n",
       "      <td>0000554d-3200-2800-0000-000000448469</td>\n",
       "      <td>Latn</td>\n",
       "      <td>ENG</td>\n",
       "      <td>48167</td>\n",
       "      <td>20241</td>\n",
       "      <td>MI</td>\n",
       "      <td>Northville</td>\n",
       "      <td>Westview Dr</td>\n",
       "      <td>USA</td>\n",
       "      <td>None</td>\n",
       "      <td>Dr</td>\n",
       "      <td>None</td>\n",
       "      <td>None</td>\n",
       "      <td>Westview</td>\n",
       "      <td>POLYGON ((-83.52702 42.43176, -83.52706 42.432...</td>\n",
       "      <td>POINT (-83.52573094462173 42.43238866758083)</td>\n",
       "      <td>1.8</td>\n",
       "    </tr>\n",
       "    <tr>\n",
       "      <th>4</th>\n",
       "      <td>100660192_209773503</td>\n",
       "      <td>POLYGON ((-83.523758 42.431912, -83.523878 42....</td>\n",
       "      <td>POINT (-83.5237703 42.431792)</td>\n",
       "      <td>0000554d-3200-2800-0000-0000004487c9</td>\n",
       "      <td>Latn</td>\n",
       "      <td>ENG</td>\n",
       "      <td>48167</td>\n",
       "      <td>20120</td>\n",
       "      <td>MI</td>\n",
       "      <td>Northville</td>\n",
       "      <td>Westview Dr</td>\n",
       "      <td>USA</td>\n",
       "      <td>None</td>\n",
       "      <td>Dr</td>\n",
       "      <td>None</td>\n",
       "      <td>None</td>\n",
       "      <td>Westview</td>\n",
       "      <td>POLYGON ((-83.52397 42.43133, -83.52401 42.431...</td>\n",
       "      <td>POINT (-83.52377399999999 42.4318055)</td>\n",
       "      <td>1.5</td>\n",
       "    </tr>\n",
       "    <tr>\n",
       "      <th>5</th>\n",
       "      <td>100660192_209773524</td>\n",
       "      <td>POLYGON ((-83.533033 42.425062, -83.53269 42.4...</td>\n",
       "      <td>POINT (-83.5328943 42.4251275)</td>\n",
       "      <td>0000554d-3200-2800-0000-0000004bfcdb</td>\n",
       "      <td>Latn</td>\n",
       "      <td>ENG</td>\n",
       "      <td>48167</td>\n",
       "      <td>49560</td>\n",
       "      <td>MI</td>\n",
       "      <td>Northville</td>\n",
       "      <td>7 Mile Rd</td>\n",
       "      <td>USA</td>\n",
       "      <td>None</td>\n",
       "      <td>Rd</td>\n",
       "      <td>None</td>\n",
       "      <td>None</td>\n",
       "      <td>7 Mile</td>\n",
       "      <td>POLYGON ((-83.53330 42.42471, -83.53331 42.425...</td>\n",
       "      <td>POINT (-83.5328706051414 42.42513484116814)</td>\n",
       "      <td>2.1</td>\n",
       "    </tr>\n",
       "    <tr>\n",
       "      <th>6</th>\n",
       "      <td>100660192_209773525</td>\n",
       "      <td>POLYGON ((-83.533818 42.424511, -83.533987 42....</td>\n",
       "      <td>POINT (-83.53383669999999 42.4243965)</td>\n",
       "      <td>0000554d-3200-2800-0000-0000004bf849</td>\n",
       "      <td>Latn</td>\n",
       "      <td>ENG</td>\n",
       "      <td>48167</td>\n",
       "      <td>19400</td>\n",
       "      <td>MI</td>\n",
       "      <td>Northville</td>\n",
       "      <td>Apple Blossom</td>\n",
       "      <td>USA</td>\n",
       "      <td>None</td>\n",
       "      <td>None</td>\n",
       "      <td>None</td>\n",
       "      <td>None</td>\n",
       "      <td>Apple Blossom</td>\n",
       "      <td>POLYGON ((-83.53447 42.42329, -83.53460 42.424...</td>\n",
       "      <td>POINT (-83.53384777425478 42.42440597802841)</td>\n",
       "      <td>1.3</td>\n",
       "    </tr>\n",
       "    <tr>\n",
       "      <th>7</th>\n",
       "      <td>100660192_209773534</td>\n",
       "      <td>POLYGON ((-83.519004 42.422808, -83.5190170000...</td>\n",
       "      <td>POINT (-83.519054 42.4228451)</td>\n",
       "      <td>0000554d-3200-2800-0000-0000004bf727</td>\n",
       "      <td>Latn</td>\n",
       "      <td>ENG</td>\n",
       "      <td>48167</td>\n",
       "      <td>47900</td>\n",
       "      <td>MI</td>\n",
       "      <td>Northville</td>\n",
       "      <td>7 Mile Rd</td>\n",
       "      <td>USA</td>\n",
       "      <td>None</td>\n",
       "      <td>Rd</td>\n",
       "      <td>None</td>\n",
       "      <td>None</td>\n",
       "      <td>7 Mile</td>\n",
       "      <td>POLYGON ((-83.51930 42.42262, -83.51943 42.424...</td>\n",
       "      <td>POINT (-83.51907328827794 42.42285960832354)</td>\n",
       "      <td>2.2</td>\n",
       "    </tr>\n",
       "    <tr>\n",
       "      <th>8</th>\n",
       "      <td>100660192_209773573</td>\n",
       "      <td>POLYGON ((-83.511014 42.431829, -83.510964 42....</td>\n",
       "      <td>POINT (-83.51084659999999 42.4318247)</td>\n",
       "      <td>0000554d-3200-2800-0000-0000004c11c5</td>\n",
       "      <td>Latn</td>\n",
       "      <td>ENG</td>\n",
       "      <td>48167</td>\n",
       "      <td>20000</td>\n",
       "      <td>MI</td>\n",
       "      <td>Northville</td>\n",
       "      <td>Beck Rd</td>\n",
       "      <td>USA</td>\n",
       "      <td>None</td>\n",
       "      <td>Rd</td>\n",
       "      <td>None</td>\n",
       "      <td>None</td>\n",
       "      <td>Beck</td>\n",
       "      <td>POLYGON ((-83.51102 42.43122, -83.51212 42.431...</td>\n",
       "      <td>POINT (-83.51085117136535 42.43184085124676)</td>\n",
       "      <td>1.8</td>\n",
       "    </tr>\n",
       "    <tr>\n",
       "      <th>9</th>\n",
       "      <td>100660192_209773578</td>\n",
       "      <td>POLYGON ((-83.50863 42.433507, -83.50855799999...</td>\n",
       "      <td>POINT (-83.5085093 42.4334102)</td>\n",
       "      <td>0000554d-3200-2800-0000-0000004488c3</td>\n",
       "      <td>Latn</td>\n",
       "      <td>ENG</td>\n",
       "      <td>48167</td>\n",
       "      <td>20507</td>\n",
       "      <td>MI</td>\n",
       "      <td>Northville</td>\n",
       "      <td>Woodbend Dr</td>\n",
       "      <td>USA</td>\n",
       "      <td>None</td>\n",
       "      <td>Dr</td>\n",
       "      <td>None</td>\n",
       "      <td>None</td>\n",
       "      <td>Woodbend</td>\n",
       "      <td>POLYGON ((-83.50884 42.43318, -83.50894 42.433...</td>\n",
       "      <td>POINT (-83.50851418412574 42.43342639921051)</td>\n",
       "      <td>1.8</td>\n",
       "    </tr>\n",
       "  </tbody>\n",
       "</table>\n",
       "</div>"
      ],
      "text/plain": [
       "             PRCLDMPID                                       building_roi  \\\n",
       "0  100660192_209773476  POLYGON ((-83.55066600000001 42.423966, -83.55...   \n",
       "1  100660192_209773477  POLYGON ((-83.55078399999999 42.423575, -83.55...   \n",
       "2  100660192_209773491  POLYGON ((-83.524709 42.433685, -83.52475 42.4...   \n",
       "3  100660192_209773497  POLYGON ((-83.52581600000001 42.432284, -83.52...   \n",
       "4  100660192_209773503  POLYGON ((-83.523758 42.431912, -83.523878 42....   \n",
       "5  100660192_209773524  POLYGON ((-83.533033 42.425062, -83.53269 42.4...   \n",
       "6  100660192_209773525  POLYGON ((-83.533818 42.424511, -83.533987 42....   \n",
       "7  100660192_209773534  POLYGON ((-83.519004 42.422808, -83.5190170000...   \n",
       "8  100660192_209773573  POLYGON ((-83.511014 42.431829, -83.510964 42....   \n",
       "9  100660192_209773578  POLYGON ((-83.50863 42.433507, -83.50855799999...   \n",
       "\n",
       "                                     APT  \\\n",
       "0         POINT (-83.5491403 42.4239452)   \n",
       "1         POINT (-83.5508421 42.4236277)   \n",
       "2  POINT (-83.52479169999999 42.4337535)   \n",
       "3         POINT (-83.5257277 42.4323723)   \n",
       "4          POINT (-83.5237703 42.431792)   \n",
       "5         POINT (-83.5328943 42.4251275)   \n",
       "6  POINT (-83.53383669999999 42.4243965)   \n",
       "7          POINT (-83.519054 42.4228451)   \n",
       "8  POINT (-83.51084659999999 42.4318247)   \n",
       "9         POINT (-83.5085093 42.4334102)   \n",
       "\n",
       "                                feat_id iso_script iso_lang_c postal_cod  \\\n",
       "0  0000554d-3200-2800-0000-0000004bf8ac       Latn        ENG      48167   \n",
       "1  0000554d-3200-2800-0000-0000004bf76c       Latn        ENG      48167   \n",
       "2  0000554d-3200-2800-0000-00000044846c       Latn        ENG      48167   \n",
       "3  0000554d-3200-2800-0000-000000448469       Latn        ENG      48167   \n",
       "4  0000554d-3200-2800-0000-0000004487c9       Latn        ENG      48167   \n",
       "5  0000554d-3200-2800-0000-0000004bfcdb       Latn        ENG      48167   \n",
       "6  0000554d-3200-2800-0000-0000004bf849       Latn        ENG      48167   \n",
       "7  0000554d-3200-2800-0000-0000004bf727       Latn        ENG      48167   \n",
       "8  0000554d-3200-2800-0000-0000004c11c5       Latn        ENG      48167   \n",
       "9  0000554d-3200-2800-0000-0000004488c3       Latn        ENG      48167   \n",
       "\n",
       "  house_numb state_prov    locality     street_nam country_co prefix suffix  \\\n",
       "0       9166         MI  Northville      Napier Rd        USA   None     Rd   \n",
       "1       9140         MI  Northville      Napier Rd        USA   None     Rd   \n",
       "2      20390         MI  Northville    Westview Dr        USA   None     Dr   \n",
       "3      20241         MI  Northville    Westview Dr        USA   None     Dr   \n",
       "4      20120         MI  Northville    Westview Dr        USA   None     Dr   \n",
       "5      49560         MI  Northville      7 Mile Rd        USA   None     Rd   \n",
       "6      19400         MI  Northville  Apple Blossom        USA   None   None   \n",
       "7      47900         MI  Northville      7 Mile Rd        USA   None     Rd   \n",
       "8      20000         MI  Northville        Beck Rd        USA   None     Rd   \n",
       "9      20507         MI  Northville    Woodbend Dr        USA   None     Dr   \n",
       "\n",
       "  predir postdir        sn_body  \\\n",
       "0   None    None         Napier   \n",
       "1   None    None         Napier   \n",
       "2   None    None       Westview   \n",
       "3   None    None       Westview   \n",
       "4   None    None       Westview   \n",
       "5   None    None         7 Mile   \n",
       "6   None    None  Apple Blossom   \n",
       "7   None    None         7 Mile   \n",
       "8   None    None           Beck   \n",
       "9   None    None       Woodbend   \n",
       "\n",
       "                                            geometry  \\\n",
       "0  POLYGON ((-83.55132 42.42384, -83.55133 42.424...   \n",
       "1  POLYGON ((-83.55130 42.42349, -83.55132 42.423...   \n",
       "2  POLYGON ((-83.52504 42.43344, -83.52506 42.433...   \n",
       "3  POLYGON ((-83.52702 42.43176, -83.52706 42.432...   \n",
       "4  POLYGON ((-83.52397 42.43133, -83.52401 42.431...   \n",
       "5  POLYGON ((-83.53330 42.42471, -83.53331 42.425...   \n",
       "6  POLYGON ((-83.53447 42.42329, -83.53460 42.424...   \n",
       "7  POLYGON ((-83.51930 42.42262, -83.51943 42.424...   \n",
       "8  POLYGON ((-83.51102 42.43122, -83.51212 42.431...   \n",
       "9  POLYGON ((-83.50884 42.43318, -83.50894 42.433...   \n",
       "\n",
       "                             updated_geometries  APT_to_Centroid_distance  \n",
       "0   POINT (-83.55059511391239 42.4239232004446)                     119.4  \n",
       "1  POINT (-83.55085612130175 42.42364430440186)                       2.1  \n",
       "2  POINT (-83.52479404102435 42.43377457469753)                       2.3  \n",
       "3  POINT (-83.52573094462173 42.43238866758083)                       1.8  \n",
       "4         POINT (-83.52377399999999 42.4318055)                       1.5  \n",
       "5   POINT (-83.5328706051414 42.42513484116814)                       2.1  \n",
       "6  POINT (-83.53384777425478 42.42440597802841)                       1.3  \n",
       "7  POINT (-83.51907328827794 42.42285960832354)                       2.2  \n",
       "8  POINT (-83.51085117136535 42.43184085124676)                       1.8  \n",
       "9  POINT (-83.50851418412574 42.43342639921051)                       1.8  "
      ]
     },
     "execution_count": 18,
     "metadata": {},
     "output_type": "execute_result"
    }
   ],
   "source": [
    "print(processed_df_wayne.shape[0])\n",
    "processed_df_wayne.head(10)"
   ]
  },
  {
   "cell_type": "code",
   "execution_count": 19,
   "id": "c0c25d28",
   "metadata": {},
   "outputs": [
    {
     "name": "stdout",
     "output_type": "stream",
     "text": [
      "Data points greater than 50m: 0.41%\n",
      "Data points less than 50m: 99.59%\n"
     ]
    }
   ],
   "source": [
    "distance_greater_than_50m = processed_df_wayne.loc[processed_df_wayne['APT_to_Centroid_distance']>50].shape[0]\n",
    "print(\"Data points greater than 50m: {:.2f}%\".format(100*(distance_greater_than_50m/processed_df_wayne.shape[0])))\n",
    "\n",
    "distance_greater_than_50m = processed_df_wayne.loc[processed_df_wayne['APT_to_Centroid_distance']<50].shape[0]\n",
    "print(\"Data points less than 50m: {:.2f}%\".format(100*(distance_greater_than_50m/processed_df_wayne.shape[0])))\n"
   ]
  },
  {
   "cell_type": "code",
   "execution_count": 20,
   "id": "a4cb0165",
   "metadata": {},
   "outputs": [
    {
     "data": {
      "image/png": "[encoded data removed]",
      "text/plain": [
       "<Figure size 1224x648 with 1 Axes>"
      ]
     },
     "metadata": {
      "needs_background": "light"
     },
     "output_type": "display_data"
    },
    {
     "data": {
      "text/plain": [
       "4026"
      ]
     },
     "execution_count": 20,
     "metadata": {},
     "output_type": "execute_result"
    }
   ],
   "source": [
    "fig, ax = plt.subplots(figsize=(17,9))\n",
    "\n",
    "ax.set_title(\"Histogram of APT to centroid distance on/not on BFP\")\n",
    "ax.set_xlabel(\"APT point to centroid distance(meters)\")\n",
    "ax.set_ylabel(\"counts\")\n",
    "\n",
    "frqTrue, edgesTrue = np.histogram(processed_df_wayne['APT_to_Centroid_distance'].loc[processed_df_wayne['APT_to_Centroid_distance']<150].values, bins = np.arange(0,150,10))\n",
    "p1 = ax.bar(edgesTrue[:-1], frqTrue, width=np.diff(edgesTrue), edgecolor=\"black\", align=\"edge\",alpha=0.4,label='Address Points on Rooftop',color='orange')\n",
    "\n",
    "plt.legend()\n",
    "plt.show()\n",
    "gc.collect()"
   ]
  },
  {
   "cell_type": "markdown",
   "id": "1eddd436",
   "metadata": {},
   "source": [
    "### Merge both data "
   ]
  },
  {
   "cell_type": "code",
   "execution_count": 17,
   "id": "85e0aec2",
   "metadata": {},
   "outputs": [
    {
     "name": "stdout",
     "output_type": "stream",
     "text": [
      "['/mnt/c/Users/tandon/OneDrive - TomTom/Desktop/tomtom/Workspace/01_Rooftop_accuracy/BFP_Analysis_USA/data/data/MI/wayne/Apt_realignment/APT_realign_1_bfp2parcel/APT_realigned_usa_umx_wayne.pkl', '/mnt/c/Users/tandon/OneDrive - TomTom/Desktop/tomtom/Workspace/01_Rooftop_accuracy/BFP_Analysis_USA/data/data/MI/wayne/Apt_realignment/APT_realign_2_bfp2parcel/APT_realigned_usa_umx_wayne.pkl']\n"
     ]
    }
   ],
   "source": [
    "from glob import glob \n",
    "import os\n",
    "import os.path as osp \n",
    "pkl_path = osp.join(data_path,state,city,'Apt_realignment')\n",
    "pkl_files = glob(pkl_path+'/*/*.pkl')\n",
    "print(pkl_files)"
   ]
  },
  {
   "cell_type": "code",
   "execution_count": 18,
   "id": "8bfef001",
   "metadata": {},
   "outputs": [
    {
     "name": "stdout",
     "output_type": "stream",
     "text": [
      "simple scenario sahpe 364591\n",
      " complx scenario shape: 236463\n",
      "Merged Shape (601054, 19)\n"
     ]
    }
   ],
   "source": [
    "\n",
    "## Show single bfp within Parcel data\n",
    "df_one_bfp = pd.read_pickle(pkl_files[0])\n",
    "df_one_bfp = df_one_bfp.reset_index(drop=True)\n",
    "print(\"simple scenario sahpe\",df_one_bfp.shape[0])\n",
    "\n",
    "df_two_bfp = pd.read_pickle(pkl_files[1])\n",
    "df_two_bfp = df_two_bfp.reset_index(drop=True)\n",
    "print(\" complx scenario shape:\",df_two_bfp.shape[0])\n",
    "\n",
    "merge_df= pd.concat([df_one_bfp,df_two_bfp])\n",
    "print(\"Merged Shape\",merge_df.shape)\n",
    "merge_df.to_pickle(os.path.join(pkl_path,'FinalUpdated_APT_{}_{}.pkl'.format(state,city)))"
   ]
  },
  {
   "cell_type": "markdown",
   "id": "16962906",
   "metadata": {},
   "source": [
    "## Dallas Texas "
   ]
  },
  {
   "cell_type": "code",
   "execution_count": 25,
   "id": "c812e3a7",
   "metadata": {},
   "outputs": [],
   "source": [
    "import os\n",
    "import shapely\n",
    "import numpy as np\n",
    "import sys \n",
    "import pycoredb \n",
    "import pandas as pd \n",
    "import gc\n",
    "from shapely import wkt\n",
    "from matplotlib import pyplot as plt\n",
    "from shapely.geometry import Point,mapping,Polygon,box,MultiPoint\n",
    "import geopandas as gpd \n",
    "import seaborn as sns \n",
    " \n",
    "# for parallelization\n",
    "sys.path.append('/mnt/c/Users/tandon/OneDrive - TomTom/Desktop/tomtom/Workspace/01_Rooftop_accuracy/APT-Realignment/src/apt_realignment')\n",
    "from process_geometries import ProcessGeometricData  as ProcessAPT_data\n",
    "from utils.haversine_distance import get_distance\n",
    "\n",
    "data_path  = \"/mnt/c/Users/tandon/OneDrive - TomTom/Desktop/tomtom/Workspace/01_Rooftop_accuracy/BFP_Analysis_USA/data/data\"\n",
    "state = \"Texas\"\n",
    "city = \"Dallas\"\n",
    "apt_data_path = os.path.join(data_path,state,\"APT_2022_09_000_nam_usa_utx.shp\" )\n",
    "parcel_path = os.path.join(data_path,state,city,\"Parcels_48113/Parcels_48113.shp\")\n",
    "building_geojson = os.path.join(data_path,state,'Texas.geojson')"
   ]
  },
  {
   "cell_type": "markdown",
   "id": "68a53c68",
   "metadata": {},
   "source": [
    "### Single BFP within Parcel "
   ]
  },
  {
   "cell_type": "code",
   "execution_count": 2,
   "id": "7446a01d",
   "metadata": {},
   "outputs": [
    {
     "name": "stderr",
     "output_type": "stream",
     "text": [
      "2022-09-05 08:11:44,860:INFO:- Processing APT's with 1 BFP-Count Per Parcel\n",
      "2022-09-05 08:11:44,861:INFO:- Processing Land Parcel data and Building Footprints \n",
      "TopologyException: Input geom 0 is invalid: Ring Self-intersection at or near point -96.822597945584874 32.792290560973626 at -96.822597945584874 32.792290560973626\n",
      "ERROR:root:error for POLYGON ((-96.82235 32.792651, -96.822633 32.792782, -96.822717 32.792653, -96.822503 32.792554, -96.822515 32.792536, -96.82274200000001 32.792641, -96.82286999999999 32.792446, -96.822585 32.792314, -96.82252099999999 32.792411, -96.82250999999999 32.792406, -96.82235 32.792651)),POLYGON ((-96.82259794558487 32.79229056097363, -96.82259167428218 32.79229905352135, -96.8228620343875 32.79245170268983, -96.82286664060364 32.79244580754849, -96.82273150946465 32.79236915178497, -96.82259794558487 32.79229056097363, -96.8227448261717 32.7923765406119, -96.82289358655891 32.79246018298879, -96.82275556663321 32.79264663647488, -96.8224520335861 32.79248634253112, -96.82259794558487 32.79229056097363))\n",
      "2022-09-05 08:21:55,654:INFO:- Acquiring BFP's within land Parcels \n",
      "2022-09-05 08:21:56,617:INFO:- Processing Anchor-Points data over Parcel-Building Geo-Dataframe\n",
      "2022-09-05 08:37:16,382:INFO:- saving updated Geometries ...\n",
      "2022-09-05 08:38:52,915:INFO:- saving Realigned matrix..\n",
      "WARNING:fiona._env:Normalized/laundered field name: 'APT_to_Centroid_distance' to 'APT_to_Cen'\n",
      "WARNING:fiona._env:Normalized/laundered field name: 'updated_lat' to 'updated_la'\n",
      "WARNING:fiona._env:Normalized/laundered field name: 'updated_lon' to 'updated_lo'\n",
      "2022-09-05 08:40:04,320:INFO:- File saved at /mnt/c/Users/tandon/OneDrive - TomTom/Desktop/tomtom/Workspace/01_Rooftop_accuracy/BFP_Analysis_USA/data/data/Texas/Dallas/Apt_realignment/APT_realign_1_bfp2parcel/APT_realigned_usa_utx_dallas.pkl\n"
     ]
    },
    {
     "data": {
      "text/html": [
       "<div>\n",
       "<style scoped>\n",
       "    .dataframe tbody tr th:only-of-type {\n",
       "        vertical-align: middle;\n",
       "    }\n",
       "\n",
       "    .dataframe tbody tr th {\n",
       "        vertical-align: top;\n",
       "    }\n",
       "\n",
       "    .dataframe thead th {\n",
       "        text-align: right;\n",
       "    }\n",
       "</style>\n",
       "<table border=\"1\" class=\"dataframe\">\n",
       "  <thead>\n",
       "    <tr style=\"text-align: right;\">\n",
       "      <th></th>\n",
       "      <th>APN</th>\n",
       "      <th>FIPS</th>\n",
       "      <th>PRCLDMPID</th>\n",
       "      <th>geometry</th>\n",
       "      <th>building_geometry</th>\n",
       "      <th>building_roi</th>\n",
       "      <th>feat_id</th>\n",
       "      <th>iso_script</th>\n",
       "      <th>iso_lang_c</th>\n",
       "      <th>postal_cod</th>\n",
       "      <th>...</th>\n",
       "      <th>street_nam</th>\n",
       "      <th>country_co</th>\n",
       "      <th>prefix</th>\n",
       "      <th>suffix</th>\n",
       "      <th>predir</th>\n",
       "      <th>postdir</th>\n",
       "      <th>sn_body</th>\n",
       "      <th>APT</th>\n",
       "      <th>updated_geometries</th>\n",
       "      <th>APT_to_Centroid_distance</th>\n",
       "    </tr>\n",
       "  </thead>\n",
       "  <tbody>\n",
       "    <tr>\n",
       "      <th>15</th>\n",
       "      <td>180016900E34R0000</td>\n",
       "      <td>48113</td>\n",
       "      <td>100660192_213642851</td>\n",
       "      <td>POLYGON ((-96.95425 32.97523, -96.95514 32.975...</td>\n",
       "      <td>POLYGON ((-96.95498600000001 32.975508, -96.95...</td>\n",
       "      <td>POLYGON ((-96.95499 32.97551, -96.95483 32.975...</td>\n",
       "      <td>00005554-3100-2800-0000-0000000b9baa</td>\n",
       "      <td>Latn</td>\n",
       "      <td>ENG</td>\n",
       "      <td>75019</td>\n",
       "      <td>...</td>\n",
       "      <td>Creek Xing</td>\n",
       "      <td>USA</td>\n",
       "      <td>None</td>\n",
       "      <td>Xing</td>\n",
       "      <td>None</td>\n",
       "      <td>None</td>\n",
       "      <td>Creek</td>\n",
       "      <td>POINT (-96.95424800000001 32.975479)</td>\n",
       "      <td>POINT (-96.95491 32.97558)</td>\n",
       "      <td>62.6</td>\n",
       "    </tr>\n",
       "    <tr>\n",
       "      <th>16</th>\n",
       "      <td>180024500D14R0000</td>\n",
       "      <td>48113</td>\n",
       "      <td>100660192_213642852</td>\n",
       "      <td>POLYGON ((-96.95443 32.97467, -96.95444 32.974...</td>\n",
       "      <td>POLYGON ((-96.954466 32.974852, -96.95439 32.9...</td>\n",
       "      <td>POLYGON ((-96.95447 32.97485, -96.95439 32.974...</td>\n",
       "      <td>00005554-3100-2800-0000-0000000b9ba8</td>\n",
       "      <td>Latn</td>\n",
       "      <td>ENG</td>\n",
       "      <td>75019</td>\n",
       "      <td>...</td>\n",
       "      <td>Basilwood Dr</td>\n",
       "      <td>USA</td>\n",
       "      <td>None</td>\n",
       "      <td>Dr</td>\n",
       "      <td>None</td>\n",
       "      <td>None</td>\n",
       "      <td>Basilwood</td>\n",
       "      <td>POINT (-96.954144 32.974875)</td>\n",
       "      <td>POINT (-96.95435 32.97484)</td>\n",
       "      <td>19.8</td>\n",
       "    </tr>\n",
       "    <tr>\n",
       "      <th>17</th>\n",
       "      <td>180016900E32R0000</td>\n",
       "      <td>48113</td>\n",
       "      <td>100660192_213642850</td>\n",
       "      <td>POLYGON ((-96.95307 32.97581, -96.95513 32.975...</td>\n",
       "      <td>POLYGON ((-96.954796 32.975915, -96.954795 32....</td>\n",
       "      <td>POLYGON ((-96.95480 32.97592, -96.95480 32.975...</td>\n",
       "      <td>00005554-3100-2800-0000-0000000b9bb0</td>\n",
       "      <td>Latn</td>\n",
       "      <td>ENG</td>\n",
       "      <td>75019</td>\n",
       "      <td>...</td>\n",
       "      <td>Creek Xing</td>\n",
       "      <td>USA</td>\n",
       "      <td>None</td>\n",
       "      <td>Xing</td>\n",
       "      <td>None</td>\n",
       "      <td>None</td>\n",
       "      <td>Creek</td>\n",
       "      <td>POINT (-96.9541 32.975973)</td>\n",
       "      <td>POINT (-96.95489 32.97600)</td>\n",
       "      <td>73.8</td>\n",
       "    </tr>\n",
       "    <tr>\n",
       "      <th>18</th>\n",
       "      <td>180016900E31R0000</td>\n",
       "      <td>48113</td>\n",
       "      <td>100660192_213642849</td>\n",
       "      <td>POLYGON ((-96.95512 32.97611, -96.95512 32.976...</td>\n",
       "      <td>POLYGON ((-96.955016 32.97612, -96.954829 32.9...</td>\n",
       "      <td>POLYGON ((-96.95502 32.97612, -96.95483 32.976...</td>\n",
       "      <td>00005554-3100-2800-0000-0000000b9bb1</td>\n",
       "      <td>Latn</td>\n",
       "      <td>ENG</td>\n",
       "      <td>75019</td>\n",
       "      <td>...</td>\n",
       "      <td>Creek Xing</td>\n",
       "      <td>USA</td>\n",
       "      <td>None</td>\n",
       "      <td>Xing</td>\n",
       "      <td>None</td>\n",
       "      <td>None</td>\n",
       "      <td>Creek</td>\n",
       "      <td>POINT (-96.954126 32.976269)</td>\n",
       "      <td>POINT (-96.95492 32.97620)</td>\n",
       "      <td>74.3</td>\n",
       "    </tr>\n",
       "    <tr>\n",
       "      <th>19</th>\n",
       "      <td>180016900E33R0000</td>\n",
       "      <td>48113</td>\n",
       "      <td>100660192_213642848</td>\n",
       "      <td>POLYGON ((-96.95334 32.97552, -96.95515 32.975...</td>\n",
       "      <td>POLYGON ((-96.954798 32.975877, -96.9550189999...</td>\n",
       "      <td>POLYGON ((-96.95480 32.97588, -96.95502 32.975...</td>\n",
       "      <td>00005554-3100-2800-0000-0000000b9baf</td>\n",
       "      <td>Latn</td>\n",
       "      <td>ENG</td>\n",
       "      <td>75019</td>\n",
       "      <td>...</td>\n",
       "      <td>Creek Xing</td>\n",
       "      <td>USA</td>\n",
       "      <td>None</td>\n",
       "      <td>Xing</td>\n",
       "      <td>None</td>\n",
       "      <td>None</td>\n",
       "      <td>Creek</td>\n",
       "      <td>POINT (-96.95411 32.97572)</td>\n",
       "      <td>POINT (-96.95489 32.97581)</td>\n",
       "      <td>73.8</td>\n",
       "    </tr>\n",
       "    <tr>\n",
       "      <th>22</th>\n",
       "      <td>180016900E30R0000</td>\n",
       "      <td>48113</td>\n",
       "      <td>100660192_213642845</td>\n",
       "      <td>POLYGON ((-96.95513 32.97631, -96.95515 32.976...</td>\n",
       "      <td>POLYGON ((-96.95491699999999 32.97633, -96.954...</td>\n",
       "      <td>POLYGON ((-96.95492 32.97633, -96.95477 32.976...</td>\n",
       "      <td>00005554-3100-2800-0000-0000000b9bb8</td>\n",
       "      <td>Latn</td>\n",
       "      <td>ENG</td>\n",
       "      <td>75019</td>\n",
       "      <td>...</td>\n",
       "      <td>Creek Xing</td>\n",
       "      <td>USA</td>\n",
       "      <td>None</td>\n",
       "      <td>Xing</td>\n",
       "      <td>None</td>\n",
       "      <td>None</td>\n",
       "      <td>Creek</td>\n",
       "      <td>POINT (-96.954155 32.976532)</td>\n",
       "      <td>POINT (-96.95488 32.97641)</td>\n",
       "      <td>68.8</td>\n",
       "    </tr>\n",
       "    <tr>\n",
       "      <th>28</th>\n",
       "      <td>180060500A0080000</td>\n",
       "      <td>48113</td>\n",
       "      <td>100660192_213642863</td>\n",
       "      <td>POLYGON ((-96.98691 32.97108, -96.98716 32.971...</td>\n",
       "      <td>POLYGON ((-96.986937 32.971324, -96.987138 32....</td>\n",
       "      <td>POLYGON ((-96.98694 32.97132, -96.98714 32.971...</td>\n",
       "      <td>00005554-3100-2800-0000-0000000b89be</td>\n",
       "      <td>Latn</td>\n",
       "      <td>ENG</td>\n",
       "      <td>75019</td>\n",
       "      <td>...</td>\n",
       "      <td>Suzanne Way</td>\n",
       "      <td>USA</td>\n",
       "      <td>None</td>\n",
       "      <td>Way</td>\n",
       "      <td>None</td>\n",
       "      <td>None</td>\n",
       "      <td>Suzanne</td>\n",
       "      <td>POINT (-96.98703 32.971245)</td>\n",
       "      <td>POINT (-96.98704 32.97123)</td>\n",
       "      <td>1.7</td>\n",
       "    </tr>\n",
       "    <tr>\n",
       "      <th>29</th>\n",
       "      <td>180024500D0260000</td>\n",
       "      <td>48113</td>\n",
       "      <td>100660192_213642839</td>\n",
       "      <td>POLYGON ((-96.95576 32.97268, -96.95577 32.972...</td>\n",
       "      <td>POLYGON ((-96.95545300000001 32.972683, -96.95...</td>\n",
       "      <td>POLYGON ((-96.95545 32.97268, -96.95546 32.972...</td>\n",
       "      <td>00005554-3100-2800-0000-0000000b9aea</td>\n",
       "      <td>Latn</td>\n",
       "      <td>ENG</td>\n",
       "      <td>75019</td>\n",
       "      <td>...</td>\n",
       "      <td>Hollywood Dr</td>\n",
       "      <td>USA</td>\n",
       "      <td>None</td>\n",
       "      <td>Dr</td>\n",
       "      <td>None</td>\n",
       "      <td>None</td>\n",
       "      <td>Hollywood</td>\n",
       "      <td>POINT (-96.955529 32.972805)</td>\n",
       "      <td>POINT (-96.95559 32.97275)</td>\n",
       "      <td>7.9</td>\n",
       "    </tr>\n",
       "    <tr>\n",
       "      <th>33</th>\n",
       "      <td>180060500C0210000</td>\n",
       "      <td>48113</td>\n",
       "      <td>100660192_213642868</td>\n",
       "      <td>POLYGON ((-96.98583 32.97117, -96.98624 32.971...</td>\n",
       "      <td>POLYGON ((-96.986155 32.971345, -96.986158 32....</td>\n",
       "      <td>POLYGON ((-96.98615 32.97134, -96.98616 32.971...</td>\n",
       "      <td>00005554-3100-2800-0000-0000000b89d7</td>\n",
       "      <td>Latn</td>\n",
       "      <td>ENG</td>\n",
       "      <td>75019</td>\n",
       "      <td>...</td>\n",
       "      <td>Woodcrest Ln</td>\n",
       "      <td>USA</td>\n",
       "      <td>None</td>\n",
       "      <td>Ln</td>\n",
       "      <td>None</td>\n",
       "      <td>None</td>\n",
       "      <td>Woodcrest</td>\n",
       "      <td>POINT (-96.98603 32.971273)</td>\n",
       "      <td>POINT (-96.98605 32.97127)</td>\n",
       "      <td>1.4</td>\n",
       "    </tr>\n",
       "    <tr>\n",
       "      <th>34</th>\n",
       "      <td>180060500C0220000</td>\n",
       "      <td>48113</td>\n",
       "      <td>100660192_213642869</td>\n",
       "      <td>POLYGON ((-96.98582 32.97136, -96.98623 32.971...</td>\n",
       "      <td>POLYGON ((-96.986026 32.971383, -96.986025 32....</td>\n",
       "      <td>POLYGON ((-96.98603 32.97138, -96.98602 32.971...</td>\n",
       "      <td>00005554-3100-2800-0000-0000000b8a0b</td>\n",
       "      <td>Latn</td>\n",
       "      <td>ENG</td>\n",
       "      <td>75019</td>\n",
       "      <td>...</td>\n",
       "      <td>Woodcrest Ln</td>\n",
       "      <td>USA</td>\n",
       "      <td>None</td>\n",
       "      <td>Ln</td>\n",
       "      <td>None</td>\n",
       "      <td>None</td>\n",
       "      <td>Woodcrest</td>\n",
       "      <td>POINT (-96.98602099999999 32.971468)</td>\n",
       "      <td>POINT (-96.98606 32.97147)</td>\n",
       "      <td>3.4</td>\n",
       "    </tr>\n",
       "  </tbody>\n",
       "</table>\n",
       "<p>10 rows × 23 columns</p>\n",
       "</div>"
      ],
      "text/plain": [
       "                  APN   FIPS            PRCLDMPID  \\\n",
       "15  180016900E34R0000  48113  100660192_213642851   \n",
       "16  180024500D14R0000  48113  100660192_213642852   \n",
       "17  180016900E32R0000  48113  100660192_213642850   \n",
       "18  180016900E31R0000  48113  100660192_213642849   \n",
       "19  180016900E33R0000  48113  100660192_213642848   \n",
       "22  180016900E30R0000  48113  100660192_213642845   \n",
       "28  180060500A0080000  48113  100660192_213642863   \n",
       "29  180024500D0260000  48113  100660192_213642839   \n",
       "33  180060500C0210000  48113  100660192_213642868   \n",
       "34  180060500C0220000  48113  100660192_213642869   \n",
       "\n",
       "                                             geometry  \\\n",
       "15  POLYGON ((-96.95425 32.97523, -96.95514 32.975...   \n",
       "16  POLYGON ((-96.95443 32.97467, -96.95444 32.974...   \n",
       "17  POLYGON ((-96.95307 32.97581, -96.95513 32.975...   \n",
       "18  POLYGON ((-96.95512 32.97611, -96.95512 32.976...   \n",
       "19  POLYGON ((-96.95334 32.97552, -96.95515 32.975...   \n",
       "22  POLYGON ((-96.95513 32.97631, -96.95515 32.976...   \n",
       "28  POLYGON ((-96.98691 32.97108, -96.98716 32.971...   \n",
       "29  POLYGON ((-96.95576 32.97268, -96.95577 32.972...   \n",
       "33  POLYGON ((-96.98583 32.97117, -96.98624 32.971...   \n",
       "34  POLYGON ((-96.98582 32.97136, -96.98623 32.971...   \n",
       "\n",
       "                                    building_geometry  \\\n",
       "15  POLYGON ((-96.95498600000001 32.975508, -96.95...   \n",
       "16  POLYGON ((-96.954466 32.974852, -96.95439 32.9...   \n",
       "17  POLYGON ((-96.954796 32.975915, -96.954795 32....   \n",
       "18  POLYGON ((-96.955016 32.97612, -96.954829 32.9...   \n",
       "19  POLYGON ((-96.954798 32.975877, -96.9550189999...   \n",
       "22  POLYGON ((-96.95491699999999 32.97633, -96.954...   \n",
       "28  POLYGON ((-96.986937 32.971324, -96.987138 32....   \n",
       "29  POLYGON ((-96.95545300000001 32.972683, -96.95...   \n",
       "33  POLYGON ((-96.986155 32.971345, -96.986158 32....   \n",
       "34  POLYGON ((-96.986026 32.971383, -96.986025 32....   \n",
       "\n",
       "                                         building_roi  \\\n",
       "15  POLYGON ((-96.95499 32.97551, -96.95483 32.975...   \n",
       "16  POLYGON ((-96.95447 32.97485, -96.95439 32.974...   \n",
       "17  POLYGON ((-96.95480 32.97592, -96.95480 32.975...   \n",
       "18  POLYGON ((-96.95502 32.97612, -96.95483 32.976...   \n",
       "19  POLYGON ((-96.95480 32.97588, -96.95502 32.975...   \n",
       "22  POLYGON ((-96.95492 32.97633, -96.95477 32.976...   \n",
       "28  POLYGON ((-96.98694 32.97132, -96.98714 32.971...   \n",
       "29  POLYGON ((-96.95545 32.97268, -96.95546 32.972...   \n",
       "33  POLYGON ((-96.98615 32.97134, -96.98616 32.971...   \n",
       "34  POLYGON ((-96.98603 32.97138, -96.98602 32.971...   \n",
       "\n",
       "                                 feat_id iso_script iso_lang_c postal_cod  \\\n",
       "15  00005554-3100-2800-0000-0000000b9baa       Latn        ENG      75019   \n",
       "16  00005554-3100-2800-0000-0000000b9ba8       Latn        ENG      75019   \n",
       "17  00005554-3100-2800-0000-0000000b9bb0       Latn        ENG      75019   \n",
       "18  00005554-3100-2800-0000-0000000b9bb1       Latn        ENG      75019   \n",
       "19  00005554-3100-2800-0000-0000000b9baf       Latn        ENG      75019   \n",
       "22  00005554-3100-2800-0000-0000000b9bb8       Latn        ENG      75019   \n",
       "28  00005554-3100-2800-0000-0000000b89be       Latn        ENG      75019   \n",
       "29  00005554-3100-2800-0000-0000000b9aea       Latn        ENG      75019   \n",
       "33  00005554-3100-2800-0000-0000000b89d7       Latn        ENG      75019   \n",
       "34  00005554-3100-2800-0000-0000000b8a0b       Latn        ENG      75019   \n",
       "\n",
       "    ...    street_nam country_co prefix suffix predir postdir    sn_body  \\\n",
       "15  ...    Creek Xing        USA   None   Xing   None    None      Creek   \n",
       "16  ...  Basilwood Dr        USA   None     Dr   None    None  Basilwood   \n",
       "17  ...    Creek Xing        USA   None   Xing   None    None      Creek   \n",
       "18  ...    Creek Xing        USA   None   Xing   None    None      Creek   \n",
       "19  ...    Creek Xing        USA   None   Xing   None    None      Creek   \n",
       "22  ...    Creek Xing        USA   None   Xing   None    None      Creek   \n",
       "28  ...   Suzanne Way        USA   None    Way   None    None    Suzanne   \n",
       "29  ...  Hollywood Dr        USA   None     Dr   None    None  Hollywood   \n",
       "33  ...  Woodcrest Ln        USA   None     Ln   None    None  Woodcrest   \n",
       "34  ...  Woodcrest Ln        USA   None     Ln   None    None  Woodcrest   \n",
       "\n",
       "                                     APT          updated_geometries  \\\n",
       "15  POINT (-96.95424800000001 32.975479)  POINT (-96.95491 32.97558)   \n",
       "16          POINT (-96.954144 32.974875)  POINT (-96.95435 32.97484)   \n",
       "17            POINT (-96.9541 32.975973)  POINT (-96.95489 32.97600)   \n",
       "18          POINT (-96.954126 32.976269)  POINT (-96.95492 32.97620)   \n",
       "19            POINT (-96.95411 32.97572)  POINT (-96.95489 32.97581)   \n",
       "22          POINT (-96.954155 32.976532)  POINT (-96.95488 32.97641)   \n",
       "28           POINT (-96.98703 32.971245)  POINT (-96.98704 32.97123)   \n",
       "29          POINT (-96.955529 32.972805)  POINT (-96.95559 32.97275)   \n",
       "33           POINT (-96.98603 32.971273)  POINT (-96.98605 32.97127)   \n",
       "34  POINT (-96.98602099999999 32.971468)  POINT (-96.98606 32.97147)   \n",
       "\n",
       "   APT_to_Centroid_distance  \n",
       "15                     62.6  \n",
       "16                     19.8  \n",
       "17                     73.8  \n",
       "18                     74.3  \n",
       "19                     73.8  \n",
       "22                     68.8  \n",
       "28                      1.7  \n",
       "29                      7.9  \n",
       "33                      1.4  \n",
       "34                      3.4  \n",
       "\n",
       "[10 rows x 23 columns]"
      ]
     },
     "execution_count": 2,
     "metadata": {},
     "output_type": "execute_result"
    }
   ],
   "source": [
    "output_path = os.path.join(data_path,state,city,'Apt_realignment') \n",
    "apt_preprocess = ProcessAPT_data(parcel_shapefile=parcel_path,\n",
    "                building_shapefile=building_geojson,\n",
    "                apt_shape_file=apt_data_path , \n",
    "                output_path=output_path)\n",
    "\n",
    "processed_df_dallas = apt_preprocess.process_dataframe(bfp_count_per_parcel=1,filename='APT_realigned_usa_utx_dallas')\n",
    "processed_df_dallas.head(10)"
   ]
  },
  {
   "cell_type": "code",
   "execution_count": 3,
   "id": "2bc52879",
   "metadata": {},
   "outputs": [
    {
     "name": "stdout",
     "output_type": "stream",
     "text": [
      "Data points greater than 50m: 0.92%\n",
      "Data points less than 50m: 99.07%\n"
     ]
    }
   ],
   "source": [
    "distance_greater_than_50m = processed_df_dallas.loc[processed_df_dallas['APT_to_Centroid_distance']>50].shape[0]\n",
    "print(\"Data points greater than 50m: {:.2f}%\".format(100*(distance_greater_than_50m/processed_df_dallas.shape[0])))\n",
    "\n",
    "distance_greater_than_50m = processed_df_dallas.loc[processed_df_dallas['APT_to_Centroid_distance']<50].shape[0]\n",
    "print(\"Data points less than 50m: {:.2f}%\".format(100*(distance_greater_than_50m/processed_df_dallas.shape[0])))\n"
   ]
  },
  {
   "cell_type": "code",
   "execution_count": 4,
   "id": "ad2de6cd",
   "metadata": {},
   "outputs": [
    {
     "data": {
      "image/png": "[encoded data removed]",
      "text/plain": [
       "<Figure size 1224x648 with 1 Axes>"
      ]
     },
     "metadata": {
      "needs_background": "light"
     },
     "output_type": "display_data"
    },
    {
     "data": {
      "text/plain": [
       "6"
      ]
     },
     "execution_count": 4,
     "metadata": {},
     "output_type": "execute_result"
    }
   ],
   "source": [
    "fig, ax = plt.subplots(figsize=(17,9))\n",
    "\n",
    "ax.set_title(\"Histogram of APT to centroid distance on/not on BFP\")\n",
    "ax.set_xlabel(\"APT point to centroid distance(meters)\")\n",
    "ax.set_ylabel(\"counts\")\n",
    "\n",
    "frqTrue, edgesTrue = np.histogram(processed_df_dallas['APT_to_Centroid_distance'].loc[processed_df_dallas['APT_to_Centroid_distance']<50].values, bins = np.arange(2,50,5))\n",
    "p1 = ax.bar(edgesTrue[:-1], frqTrue, width=np.diff(edgesTrue), edgecolor=\"black\", align=\"edge\",alpha=0.4,label='Address Points on Rooftop',color='orange')\n",
    "\n",
    "plt.legend()\n",
    "plt.show()\n",
    "gc.collect()"
   ]
  },
  {
   "cell_type": "markdown",
   "id": "d9b9b8b4",
   "metadata": {},
   "source": [
    "### Two BFP within Parcel "
   ]
  },
  {
   "cell_type": "code",
   "execution_count": null,
   "id": "41531015",
   "metadata": {},
   "outputs": [],
   "source": [
    "output_path = os.path.join(data_path,state,city,'Apt_realignment') \n",
    "apt_preprocess = ProcessAPT_data(parcel_shapefile=parcel_path,building_shapefile=building_geojson,\n",
    "                                    apt_shape_file=apt_data_path , output_path=output_path)\n",
    "\n",
    "processed_df_dallas = apt_preprocess.process_dataframe(bfp_count_per_parcel=2,filename='APT_realigned_usa_utx_dallas')\n",
    "processed_df_dallas.head(10)"
   ]
  },
  {
   "cell_type": "code",
   "execution_count": null,
   "id": "a79c09d3",
   "metadata": {},
   "outputs": [],
   "source": [
    "distance_greater_than_50m = processed_df_dallas.loc[processed_df_dallas['APT_to_Centroid_distance']>50].shape[0]\n",
    "print(\"Data points greater than 50m: {:.2f}%\".format(100*(distance_greater_than_50m/processed_df_dallas.shape[0])))\n",
    "\n",
    "distance_greater_than_50m = processed_df_dallas.loc[processed_df_dallas['APT_to_Centroid_distance']<50].shape[0]\n",
    "print(\"Data points less than 50m: {:.2f}%\".format(100*(distance_greater_than_50m/processed_df_dallas.shape[0])))\n"
   ]
  },
  {
   "cell_type": "code",
   "execution_count": null,
   "id": "62a48865",
   "metadata": {},
   "outputs": [],
   "source": [
    "fig, ax = plt.subplots(figsize=(17,9))\n",
    "\n",
    "ax.set_title(\"Histogram of APT to centroid distance on/not on BFP\")\n",
    "ax.set_xlabel(\"APT point to centroid distance(meters)\")\n",
    "ax.set_ylabel(\"counts\")\n",
    "\n",
    "frqTrue, edgesTrue = np.histogram(processed_df_dallas['APT_to_Centroid_distance'].loc[processed_df_dallas['APT_to_Centroid_distance']<50].values, bins = np.arange(2,50,5))\n",
    "p1 = ax.bar(edgesTrue[:-1], frqTrue, width=np.diff(edgesTrue), edgecolor=\"black\", align=\"edge\",alpha=0.4,label='Address Points on Rooftop',color='orange')\n",
    "\n",
    "plt.legend()\n",
    "plt.show()\n",
    "gc.collect()"
   ]
  },
  {
   "cell_type": "markdown",
   "id": "24baf7e2",
   "metadata": {},
   "source": [
    "### Merge Data"
   ]
  },
  {
   "cell_type": "code",
   "execution_count": 26,
   "id": "09d84736",
   "metadata": {},
   "outputs": [
    {
     "name": "stdout",
     "output_type": "stream",
     "text": [
      "['/mnt/c/Users/tandon/OneDrive - TomTom/Desktop/tomtom/Workspace/01_Rooftop_accuracy/BFP_Analysis_USA/data/data/Texas/Dallas/Apt_realignment/APT_realign_1_bfp2parcel/APT_realigned_usa_utx_dallas.pkl', '/mnt/c/Users/tandon/OneDrive - TomTom/Desktop/tomtom/Workspace/01_Rooftop_accuracy/BFP_Analysis_USA/data/data/Texas/Dallas/Apt_realignment/APT_realign_2_bfp2parcel/APT_realigned_usa_utx_dallas.pkl']\n"
     ]
    }
   ],
   "source": [
    "from glob import glob \n",
    "pkl_path = osp.join(data_path,state,city,'Apt_realignment')\n",
    "pkl_files = glob(pkl_path+'/*/*.pkl')\n",
    "print(pkl_files)"
   ]
  },
  {
   "cell_type": "code",
   "execution_count": 27,
   "id": "630e387f",
   "metadata": {},
   "outputs": [
    {
     "name": "stdout",
     "output_type": "stream",
     "text": [
      "simple scenario sahpe 393782\n",
      " complx scenario shape: 172430\n",
      "Merged Shape (566212, 19)\n"
     ]
    }
   ],
   "source": [
    "\n",
    "## Show single bfp within Parcel data\n",
    "df_one_bfp = pd.read_pickle(pkl_files[0])\n",
    "df_one_bfp = df_one_bfp.reset_index(drop=True)\n",
    "print(\"simple scenario sahpe\",df_one_bfp.shape[0])\n",
    "\n",
    "df_two_bfp = pd.read_pickle(pkl_files[1])\n",
    "df_two_bfp = df_two_bfp.reset_index(drop=True)\n",
    "print(\" complx scenario shape:\",df_two_bfp.shape[0])\n",
    "\n",
    "merge_df= pd.concat([df_one_bfp,df_two_bfp])\n",
    "print(\"Merged Shape\",merge_df.shape)\n",
    "merge_df.to_pickle(os.path.join(pkl_path,'FinalUpdated_APT_{}_{}.pkl'.format(state,city)))"
   ]
  },
  {
   "cell_type": "code",
   "execution_count": null,
   "id": "455b1e45",
   "metadata": {},
   "outputs": [],
   "source": []
  }
 ],
 "metadata": {
  "kernelspec": {
   "display_name": "Python 3.8.13 ('pygeo')",
   "language": "python",
   "name": "python3"
  },
  "language_info": {
   "codemirror_mode": {
    "name": "ipython",
    "version": 3
   },
   "file_extension": ".py",
   "mimetype": "text/x-python",
   "name": "python",
   "nbconvert_exporter": "python",
   "pygments_lexer": "ipython3",
   "version": "3.8.13"
  },
  "vscode": {
   "interpreter": {
    "hash": "70ce54ad97a74852893fb3a2eed7fab00a48abaab9c8d77c9e0b6a3e4b45b116"
   }
  }
 },
 "nbformat": 4,
 "nbformat_minor": 5
}
