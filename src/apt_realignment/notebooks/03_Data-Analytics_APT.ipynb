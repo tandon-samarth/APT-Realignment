{
 "cells": [
  {
   "cell_type": "code",
   "execution_count": 30,
   "id": "49628c7b",
   "metadata": {},
   "outputs": [
    {
     "name": "stdout",
     "output_type": "stream",
     "text": [
      "1.2.5\n"
     ]
    }
   ],
   "source": [
    "import os\n",
    "import shapely\n",
    "import numpy as np\n",
    "import sys \n",
    "import pandas as pd \n",
    "import gc\n",
    "from shapely import wkt\n",
    "from matplotlib import pyplot as plt\n",
    "from shapely.geometry import Point,mapping,Polygon,box,MultiPoint\n",
    "import geopandas as gpd \n",
    "import seaborn as sns \n",
    "\n",
    "print(pd.__version__)\n",
    " \n",
    "# for parallelization\n",
    "sys.path.append('/mnt/c/Users/tandon/OneDrive - TomTom/Desktop/tomtom/Workspace/01_Rooftop_accuracy/APT-Realignment/src/apt_realignment')\n",
    "from process_geometries import ProcessGeometricData  as ProcessAPT_data\n",
    "from utils.haversine_distance import get_distance\n",
    "from utils.geometric_utils import geojson2shpfile\n",
    "\n",
    "\n",
    "def save_geometry(dataframe,geometry,out_path,fname='dataframe.geojson'):\n",
    "    df_to_save = gpd.GeoDataFrame(geometry=dataframe[geometry],crs=\"EPSG:4326\")\n",
    "    df_to_save = df_to_save.to_crs(\"epsg:4326\")\n",
    "    df_to_save.to_file(os.path.join(out_path,fname),driver=\"GeoJSON\")"
   ]
  },
  {
   "cell_type": "code",
   "execution_count": 31,
   "id": "d034226a",
   "metadata": {},
   "outputs": [
    {
     "name": "stdout",
     "output_type": "stream",
     "text": [
      "NUmber of pkl files found  451\n"
     ]
    }
   ],
   "source": [
    "from glob import glob \n",
    "\n",
    "data_path = \"/mnt/c/Users/tandon/OneDrive - TomTom/Desktop/tomtom/Workspace/01_Rooftop_accuracy/APT-Realignment/data\"\n",
    "country = \"Texas\"\n",
    "# read pkl data\n",
    "pkl_path = os.path.join(data_path,country,'Apt_realignment_MSFT/')\n",
    "pkl_files = glob(pkl_path+'*/*.pkl')\n",
    "\n",
    "print(\"NUmber of pkl files found \",len(pkl_files))"
   ]
  },
  {
   "cell_type": "markdown",
   "id": "d0132462",
   "metadata": {},
   "source": [
    "### Merge data"
   ]
  },
  {
   "cell_type": "code",
   "execution_count": null,
   "id": "77974e1d",
   "metadata": {},
   "outputs": [],
   "source": [
    "def read_data(fname):\n",
    "    df_bfp = pd.read_pickle(fname)\n",
    "    df_bfp.reset_index(drop=True)\n",
    "    return df_bfp\n",
    "\n",
    "for fname in pkl_files:\n",
    "    try:\n",
    "        out = read_data(fname)\n",
    "    except:\n",
    "        print(fname)\n",
    "# out = pd.concat([read_data(fname) for fname in pkl_files])"
   ]
  },
  {
   "cell_type": "code",
   "execution_count": 32,
   "id": "28c5e31f",
   "metadata": {},
   "outputs": [
    {
     "ename": "AttributeError",
     "evalue": "Can't get attribute '_unpickle_block' on <module 'pandas._libs.internals' from '/home/tandon/anaconda3/envs/pygeo/lib/python3.8/site-packages/pandas/_libs/internals.cpython-38-x86_64-linux-gnu.so'>",
     "output_type": "error",
     "traceback": [
      "\u001B[0;31m---------------------------------------------------------------------------\u001B[0m",
      "\u001B[0;31mAttributeError\u001B[0m                            Traceback (most recent call last)",
      "\u001B[1;32m/mnt/c/Users/tandon/OneDrive - TomTom/Desktop/tomtom/Workspace/01_Rooftop_accuracy/APT-Realignment/src/apt_realignment/notebooks/03_Data-Analytics_APT.ipynb Cell 5\u001B[0m in \u001B[0;36m<cell line: 1>\u001B[0;34m()\u001B[0m\n\u001B[0;32m----> <a href='vscode-notebook-cell://wsl%2Bubuntu-20.04/mnt/c/Users/tandon/OneDrive%20-%20TomTom/Desktop/tomtom/Workspace/01_Rooftop_accuracy/APT-Realignment/src/apt_realignment/notebooks/03_Data-Analytics_APT.ipynb#Y131sdnNjb2RlLXJlbW90ZQ%3D%3D?line=0'>1</a>\u001B[0m read_data(\u001B[39m\"\u001B[39;49m\u001B[39m/mnt/c/Users/tandon/OneDrive - TomTom/Desktop/tomtom/Workspace/01_Rooftop_accuracy/APT-Realignment/data/Texas/Apt_realignment_MSFT/updated_geometries_bfp-count_1_Parcels_48279/APT_realigned.pkl\u001B[39;49m\u001B[39m\"\u001B[39;49m)\n",
      "\u001B[1;32m/mnt/c/Users/tandon/OneDrive - TomTom/Desktop/tomtom/Workspace/01_Rooftop_accuracy/APT-Realignment/src/apt_realignment/notebooks/03_Data-Analytics_APT.ipynb Cell 5\u001B[0m in \u001B[0;36mread_data\u001B[0;34m(fname)\u001B[0m\n\u001B[1;32m      <a href='vscode-notebook-cell://wsl%2Bubuntu-20.04/mnt/c/Users/tandon/OneDrive%20-%20TomTom/Desktop/tomtom/Workspace/01_Rooftop_accuracy/APT-Realignment/src/apt_realignment/notebooks/03_Data-Analytics_APT.ipynb#Y131sdnNjb2RlLXJlbW90ZQ%3D%3D?line=0'>1</a>\u001B[0m \u001B[39mdef\u001B[39;00m \u001B[39mread_data\u001B[39m(fname):\n\u001B[0;32m----> <a href='vscode-notebook-cell://wsl%2Bubuntu-20.04/mnt/c/Users/tandon/OneDrive%20-%20TomTom/Desktop/tomtom/Workspace/01_Rooftop_accuracy/APT-Realignment/src/apt_realignment/notebooks/03_Data-Analytics_APT.ipynb#Y131sdnNjb2RlLXJlbW90ZQ%3D%3D?line=1'>2</a>\u001B[0m     df_bfp \u001B[39m=\u001B[39m pd\u001B[39m.\u001B[39;49mread_pickle(fname)\n\u001B[1;32m      <a href='vscode-notebook-cell://wsl%2Bubuntu-20.04/mnt/c/Users/tandon/OneDrive%20-%20TomTom/Desktop/tomtom/Workspace/01_Rooftop_accuracy/APT-Realignment/src/apt_realignment/notebooks/03_Data-Analytics_APT.ipynb#Y131sdnNjb2RlLXJlbW90ZQ%3D%3D?line=2'>3</a>\u001B[0m     df_bfp\u001B[39m.\u001B[39mreset_index(drop\u001B[39m=\u001B[39m\u001B[39mTrue\u001B[39;00m)\n\u001B[1;32m      <a href='vscode-notebook-cell://wsl%2Bubuntu-20.04/mnt/c/Users/tandon/OneDrive%20-%20TomTom/Desktop/tomtom/Workspace/01_Rooftop_accuracy/APT-Realignment/src/apt_realignment/notebooks/03_Data-Analytics_APT.ipynb#Y131sdnNjb2RlLXJlbW90ZQ%3D%3D?line=3'>4</a>\u001B[0m     \u001B[39mreturn\u001B[39;00m df_bfp\n",
      "File \u001B[0;32m~/anaconda3/envs/pygeo/lib/python3.8/site-packages/pandas/io/pickle.py:208\u001B[0m, in \u001B[0;36mread_pickle\u001B[0;34m(filepath_or_buffer, compression, storage_options)\u001B[0m\n\u001B[1;32m    203\u001B[0m             \u001B[39mreturn\u001B[39;00m pickle\u001B[39m.\u001B[39mload(handles\u001B[39m.\u001B[39mhandle)  \u001B[39m# type: ignore[arg-type]\u001B[39;00m\n\u001B[1;32m    204\u001B[0m     \u001B[39mexcept\u001B[39;00m excs_to_catch:\n\u001B[1;32m    205\u001B[0m         \u001B[39m# e.g.\u001B[39;00m\n\u001B[1;32m    206\u001B[0m         \u001B[39m#  \"No module named 'pandas.core.sparse.series'\"\u001B[39;00m\n\u001B[1;32m    207\u001B[0m         \u001B[39m#  \"Can't get attribute '__nat_unpickle' on <module 'pandas._libs.tslib\"\u001B[39;00m\n\u001B[0;32m--> 208\u001B[0m         \u001B[39mreturn\u001B[39;00m pc\u001B[39m.\u001B[39;49mload(handles\u001B[39m.\u001B[39;49mhandle, encoding\u001B[39m=\u001B[39;49m\u001B[39mNone\u001B[39;49;00m)\n\u001B[1;32m    209\u001B[0m \u001B[39mexcept\u001B[39;00m \u001B[39mUnicodeDecodeError\u001B[39;00m:\n\u001B[1;32m    210\u001B[0m     \u001B[39m# e.g. can occur for files written in py27; see GH#28645 and GH#31988\u001B[39;00m\n\u001B[1;32m    211\u001B[0m     \u001B[39mreturn\u001B[39;00m pc\u001B[39m.\u001B[39mload(handles\u001B[39m.\u001B[39mhandle, encoding\u001B[39m=\u001B[39m\u001B[39m\"\u001B[39m\u001B[39mlatin-1\u001B[39m\u001B[39m\"\u001B[39m)\n",
      "File \u001B[0;32m~/anaconda3/envs/pygeo/lib/python3.8/site-packages/pandas/compat/pickle_compat.py:249\u001B[0m, in \u001B[0;36mload\u001B[0;34m(fh, encoding, is_verbose)\u001B[0m\n\u001B[1;32m    246\u001B[0m         up \u001B[39m=\u001B[39m Unpickler(fh)\n\u001B[1;32m    247\u001B[0m     up\u001B[39m.\u001B[39mis_verbose \u001B[39m=\u001B[39m is_verbose\n\u001B[0;32m--> 249\u001B[0m     \u001B[39mreturn\u001B[39;00m up\u001B[39m.\u001B[39;49mload()\n\u001B[1;32m    250\u001B[0m \u001B[39mexcept\u001B[39;00m (\u001B[39mValueError\u001B[39;00m, \u001B[39mTypeError\u001B[39;00m):\n\u001B[1;32m    251\u001B[0m     \u001B[39mraise\u001B[39;00m\n",
      "File \u001B[0;32m~/anaconda3/envs/pygeo/lib/python3.8/pickle.py:1212\u001B[0m, in \u001B[0;36m_Unpickler.load\u001B[0;34m(self)\u001B[0m\n\u001B[1;32m   1210\u001B[0m             \u001B[39mraise\u001B[39;00m \u001B[39mEOFError\u001B[39;00m\n\u001B[1;32m   1211\u001B[0m         \u001B[39massert\u001B[39;00m \u001B[39misinstance\u001B[39m(key, bytes_types)\n\u001B[0;32m-> 1212\u001B[0m         dispatch[key[\u001B[39m0\u001B[39;49m]](\u001B[39mself\u001B[39;49m)\n\u001B[1;32m   1213\u001B[0m \u001B[39mexcept\u001B[39;00m _Stop \u001B[39mas\u001B[39;00m stopinst:\n\u001B[1;32m   1214\u001B[0m     \u001B[39mreturn\u001B[39;00m stopinst\u001B[39m.\u001B[39mvalue\n",
      "File \u001B[0;32m~/anaconda3/envs/pygeo/lib/python3.8/pickle.py:1537\u001B[0m, in \u001B[0;36m_Unpickler.load_stack_global\u001B[0;34m(self)\u001B[0m\n\u001B[1;32m   1535\u001B[0m \u001B[39mif\u001B[39;00m \u001B[39mtype\u001B[39m(name) \u001B[39mis\u001B[39;00m \u001B[39mnot\u001B[39;00m \u001B[39mstr\u001B[39m \u001B[39mor\u001B[39;00m \u001B[39mtype\u001B[39m(module) \u001B[39mis\u001B[39;00m \u001B[39mnot\u001B[39;00m \u001B[39mstr\u001B[39m:\n\u001B[1;32m   1536\u001B[0m     \u001B[39mraise\u001B[39;00m UnpicklingError(\u001B[39m\"\u001B[39m\u001B[39mSTACK_GLOBAL requires str\u001B[39m\u001B[39m\"\u001B[39m)\n\u001B[0;32m-> 1537\u001B[0m \u001B[39mself\u001B[39m\u001B[39m.\u001B[39mappend(\u001B[39mself\u001B[39;49m\u001B[39m.\u001B[39;49mfind_class(module, name))\n",
      "File \u001B[0;32m~/anaconda3/envs/pygeo/lib/python3.8/site-packages/pandas/compat/pickle_compat.py:189\u001B[0m, in \u001B[0;36mUnpickler.find_class\u001B[0;34m(self, module, name)\u001B[0m\n\u001B[1;32m    187\u001B[0m key \u001B[39m=\u001B[39m (module, name)\n\u001B[1;32m    188\u001B[0m module, name \u001B[39m=\u001B[39m _class_locations_map\u001B[39m.\u001B[39mget(key, key)\n\u001B[0;32m--> 189\u001B[0m \u001B[39mreturn\u001B[39;00m \u001B[39msuper\u001B[39;49m()\u001B[39m.\u001B[39;49mfind_class(module, name)\n",
      "File \u001B[0;32m~/anaconda3/envs/pygeo/lib/python3.8/pickle.py:1581\u001B[0m, in \u001B[0;36m_Unpickler.find_class\u001B[0;34m(self, module, name)\u001B[0m\n\u001B[1;32m   1579\u001B[0m \u001B[39m__import__\u001B[39m(module, level\u001B[39m=\u001B[39m\u001B[39m0\u001B[39m)\n\u001B[1;32m   1580\u001B[0m \u001B[39mif\u001B[39;00m \u001B[39mself\u001B[39m\u001B[39m.\u001B[39mproto \u001B[39m>\u001B[39m\u001B[39m=\u001B[39m \u001B[39m4\u001B[39m:\n\u001B[0;32m-> 1581\u001B[0m     \u001B[39mreturn\u001B[39;00m _getattribute(sys\u001B[39m.\u001B[39;49mmodules[module], name)[\u001B[39m0\u001B[39m]\n\u001B[1;32m   1582\u001B[0m \u001B[39melse\u001B[39;00m:\n\u001B[1;32m   1583\u001B[0m     \u001B[39mreturn\u001B[39;00m \u001B[39mgetattr\u001B[39m(sys\u001B[39m.\u001B[39mmodules[module], name)\n",
      "File \u001B[0;32m~/anaconda3/envs/pygeo/lib/python3.8/pickle.py:331\u001B[0m, in \u001B[0;36m_getattribute\u001B[0;34m(obj, name)\u001B[0m\n\u001B[1;32m    329\u001B[0m         obj \u001B[39m=\u001B[39m \u001B[39mgetattr\u001B[39m(obj, subpath)\n\u001B[1;32m    330\u001B[0m     \u001B[39mexcept\u001B[39;00m \u001B[39mAttributeError\u001B[39;00m:\n\u001B[0;32m--> 331\u001B[0m         \u001B[39mraise\u001B[39;00m \u001B[39mAttributeError\u001B[39;00m(\u001B[39m\"\u001B[39m\u001B[39mCan\u001B[39m\u001B[39m'\u001B[39m\u001B[39mt get attribute \u001B[39m\u001B[39m{!r}\u001B[39;00m\u001B[39m on \u001B[39m\u001B[39m{!r}\u001B[39;00m\u001B[39m\"\u001B[39m\n\u001B[1;32m    332\u001B[0m                              \u001B[39m.\u001B[39mformat(name, obj)) \u001B[39mfrom\u001B[39;00m \u001B[39mNone\u001B[39m\n\u001B[1;32m    333\u001B[0m \u001B[39mreturn\u001B[39;00m obj, parent\n",
      "\u001B[0;31mAttributeError\u001B[0m: Can't get attribute '_unpickle_block' on <module 'pandas._libs.internals' from '/home/tandon/anaconda3/envs/pygeo/lib/python3.8/site-packages/pandas/_libs/internals.cpython-38-x86_64-linux-gnu.so'>"
     ]
    }
   ],
   "source": [
    "read_data(\"/mnt/c/Users/tandon/OneDrive - TomTom/Desktop/tomtom/Workspace/01_Rooftop_accuracy/APT-Realignment/data/Texas/Apt_realignment_MSFT/updated_geometries_bfp-count_1_Parcels_48279/APT_realigned.pkl\")"
   ]
  },
  {
   "cell_type": "code",
   "execution_count": null,
   "id": "52bfb950",
   "metadata": {},
   "outputs": [],
   "source": [
    "## Show single bfp within Parcel data\n",
    "df_one_bfp = pd.read_pickle(pkl_files[0])\n",
    "df_one_bfp = df_one_bfp.reset_index(drop=True)\n",
    "print(\"simple scenario sahpe\",df_one_bfp.shape[0])\n",
    "\n",
    "df_two_bfp = pd.read_pickle(pkl_files[1])\n",
    "df_two_bfp = df_two_bfp.reset_index(drop=True)\n",
    "print(\" complx scenario shape:\",df_two_bfp.shape[0])\n",
    "\n",
    "merge_df= pd.concat([df_one_bfp,df_two_bfp])\n",
    "print(\"Merged Shape\",merge_df.shape)\n",
    "merge_df.to_pickle(os.path.join(pkl_path,'FinalUpdated_APT_{}_{}.pkl'.format(state,city)))"
   ]
  },
  {
   "cell_type": "markdown",
   "id": "a09af0da",
   "metadata": {},
   "source": [
    "## IIlunois Cook"
   ]
  },
  {
   "cell_type": "code",
   "execution_count": null,
   "id": "956b368d",
   "metadata": {},
   "outputs": [],
   "source": [
    "import os\n",
    "import shapely\n",
    "import numpy as np\n",
    "import sys \n",
    "import pycoredb \n",
    "import pandas as pd \n",
    "import gc\n",
    "from shapely import wkt\n",
    "from matplotlib import pyplot as plt\n",
    "from shapely.geometry import Point,mapping,Polygon,box,MultiPoint\n",
    "import geopandas as gpd \n",
    "import seaborn as sns \n",
    " \n",
    "# for parallelization\n",
    "sys.path.append('/mnt/c/Users/tandon/OneDrive - TomTom/Desktop/tomtom/Workspace/01_Rooftop_accuracy/APT-Realignment/src/apt_realignment')\n",
    "from process_geometries import ProcessGeometricData  as ProcessAPT_data\n",
    "from utils.haversine_distance import get_distance\n",
    "from utils.geometric_utils import geojson2shpfile\n",
    "\n",
    "data_path  = \"/mnt/c/Users/tandon/OneDrive - TomTom/Desktop/tomtom/Workspace/01_Rooftop_accuracy/BFP_Analysis_USA/data/data\"\n",
    "state = \"Illinois\"\n",
    "city = \"cook\"\n",
    "apt_data_path = os.path.join(data_path,state,\"APT__2022_09_001_nam_usa_uil.shp\" )\n",
    "parcel_path = os.path.join(data_path,state,city,\"Parcels_17031/Parcels_17031.shp\")\n",
    "building_geojson = os.path.join(data_path,state,'Illinois.geojson')"
   ]
  },
  {
   "cell_type": "code",
   "execution_count": null,
   "id": "220b0bd4",
   "metadata": {},
   "outputs": [],
   "source": [
    "# geojson2shpfile(building_geojson,verbose=0)"
   ]
  },
  {
   "cell_type": "markdown",
   "id": "bd5de7a1",
   "metadata": {},
   "source": [
    "### Single BFP within a Parcel "
   ]
  },
  {
   "cell_type": "code",
   "execution_count": null,
   "id": "5f2a74c2",
   "metadata": {},
   "outputs": [],
   "source": [
    "output_path = os.path.join(data_path,state,city,'Apt_realignment') \n",
    "apt_preprocess = ProcessAPT_data(parcel_shapefile=parcel_path,\n",
    "                building_shapefile=building_geojson,\n",
    "                apt_shape_file=apt_data_path , \n",
    "                output_path=output_path)\n",
    "\n",
    "processed_df_cook = apt_preprocess.process_dataframe(bfp_count_per_parcel=1,filename='APT_realigned_usa_il_cook')\n"
   ]
  },
  {
   "cell_type": "code",
   "execution_count": null,
   "id": "d035135f",
   "metadata": {},
   "outputs": [],
   "source": [
    "print(processed_df_cook.shape[0])\n",
    "processed_df_cook.head(4)"
   ]
  },
  {
   "cell_type": "code",
   "execution_count": null,
   "id": "a9792625",
   "metadata": {},
   "outputs": [],
   "source": [
    "distance_greater_than_50m = processed_df_cook.loc[processed_df_cook['APT_to_Centroid_distance']>50].shape[0]\n",
    "print(\"Data points greater than 50m: {:.2f}%\".format(100*(distance_greater_than_50m/processed_df_cook.shape[0])))\n",
    "\n",
    "distance_greater_than_50m = processed_df_cook.loc[processed_df_cook['APT_to_Centroid_distance']<50].shape[0]\n",
    "print(\"Data points less than 50m: {:.2f}%\".format(100*(distance_greater_than_50m/processed_df_cook.shape[0])))\n"
   ]
  },
  {
   "cell_type": "code",
   "execution_count": null,
   "id": "f99b97cd",
   "metadata": {},
   "outputs": [],
   "source": [
    "fig, ax = plt.subplots(figsize=(17,9))\n",
    "\n",
    "ax.set_title(\"Histogram of APT to centroid distance on/not on BFP\")\n",
    "ax.set_xlabel(\"APT point to centroid distance(meters)\")\n",
    "ax.set_ylabel(\"counts\")\n",
    "\n",
    "frqTrue, edgesTrue = np.histogram(processed_df_cook['APT_to_Centroid_distance'].loc[processed_df_cook['APT_to_Centroid_distance']<150].values, bins = np.arange(0,150,10))\n",
    "p1 = ax.bar(edgesTrue[:-1], frqTrue, width=np.diff(edgesTrue), edgecolor=\"black\", align=\"edge\",alpha=0.4,label='Address Points on Rooftop',color='orange')\n",
    "\n",
    "plt.legend()\n",
    "plt.show()\n",
    "gc.collect()"
   ]
  },
  {
   "cell_type": "markdown",
   "id": "c088bb3d",
   "metadata": {},
   "source": [
    "#### Two BFP's within a Parcel "
   ]
  },
  {
   "cell_type": "code",
   "execution_count": null,
   "id": "f1d664a6",
   "metadata": {},
   "outputs": [],
   "source": [
    "## Process complexity 2-- 2 bfp \n",
    "\n",
    "output_path = os.path.join(data_path,state,city,'Apt_realignment') \n",
    "apt_preprocess = ProcessAPT_data(parcel_shapefile=parcel_path,\n",
    "                building_shapefile=building_geojson,\n",
    "                apt_shape_file=apt_data_path , \n",
    "                output_path=output_path)\n",
    "\n",
    "processed_df_cook = apt_preprocess.process_dataframe(bfp_count_per_parcel=2,filename='APT_realigned_usa_uil_cook')"
   ]
  },
  {
   "cell_type": "code",
   "execution_count": null,
   "id": "5b167943",
   "metadata": {},
   "outputs": [],
   "source": [
    "print(processed_df_cook.shape[0])\n",
    "processed_df_cook.head(4)"
   ]
  },
  {
   "cell_type": "code",
   "execution_count": null,
   "id": "ccc08df3",
   "metadata": {},
   "outputs": [],
   "source": [
    "distance_greater_than_50m = processed_df_cook.loc[processed_df_cook['APT_to_Centroid_distance']>50].shape[0]\n",
    "print(\"Data points greater than 50m: {:.2f}%\".format(100*(distance_greater_than_50m/processed_df_cook.shape[0])))\n",
    "\n",
    "distance_greater_than_50m = processed_df_cook.loc[processed_df_cook['APT_to_Centroid_distance']<50].shape[0]\n",
    "print(\"Data points less than 50m: {:.2f}%\".format(100*(distance_greater_than_50m/processed_df_cook.shape[0])))\n"
   ]
  },
  {
   "cell_type": "code",
   "execution_count": null,
   "id": "9819da5d",
   "metadata": {},
   "outputs": [],
   "source": [
    "fig, ax = plt.subplots(figsize=(17,9))\n",
    "\n",
    "ax.set_title(\"Histogram of APT to centroid distance on/not on BFP\")\n",
    "ax.set_xlabel(\"APT point to centroid distance(meters)\")\n",
    "ax.set_ylabel(\"counts\")\n",
    "\n",
    "frqTrue, edgesTrue = np.histogram(processed_df_cook['APT_to_Centroid_distance'].loc[processed_df_cook['APT_to_Centroid_distance']<150].values, bins = np.arange(0,150,10))\n",
    "p1 = ax.bar(edgesTrue[:-1], frqTrue, width=np.diff(edgesTrue), edgecolor=\"black\", align=\"edge\",alpha=0.4,label='Address Points on Rooftop',color='orange')\n",
    "\n",
    "plt.legend()\n",
    "plt.show()\n",
    "gc.collect()"
   ]
  },
  {
   "cell_type": "markdown",
   "id": "ada8693d",
   "metadata": {},
   "source": [
    "### Merge Data"
   ]
  },
  {
   "cell_type": "code",
   "execution_count": null,
   "id": "59577a9b",
   "metadata": {},
   "outputs": [],
   "source": [
    "from glob import glob \n",
    "pkl_path = osp.join(data_path,state,city,'Apt_realignment')\n",
    "pkl_files = glob(pkl_path+'/*/*.pkl')\n",
    "print(pkl_files)\n"
   ]
  },
  {
   "cell_type": "code",
   "execution_count": null,
   "id": "1231f966",
   "metadata": {},
   "outputs": [],
   "source": [
    "## Show single bfp within Parcel data\n",
    "df_one_bfp = pd.read_pickle(pkl_files[0])\n",
    "df_one_bfp = df_one_bfp.reset_index(drop=True)\n",
    "print(\"simple scenario sahpe\",df_one_bfp.shape[0])\n",
    "\n",
    "df_two_bfp = pd.read_pickle(pkl_files[1])\n",
    "df_two_bfp = df_two_bfp.reset_index(drop=True)\n",
    "print(\" complx scenario shape:\",df_two_bfp.shape[0])\n",
    "\n",
    "merge_df= pd.concat([df_one_bfp,df_two_bfp])\n",
    "print(\"Merged Shape\",merge_df.shape)\n",
    "merge_df.to_pickle(os.path.join(pkl_path,'FinalUpdated_APT_{}_{}.pkl'.format(state,city)))\n"
   ]
  },
  {
   "cell_type": "markdown",
   "id": "b6f77b0f",
   "metadata": {},
   "source": [
    "## Michigan Wayne "
   ]
  },
  {
   "cell_type": "code",
   "execution_count": null,
   "id": "07939cdd",
   "metadata": {},
   "outputs": [],
   "source": [
    "import os\n",
    "import shapely\n",
    "import numpy as np\n",
    "import sys \n",
    "import pycoredb \n",
    "import pandas as pd \n",
    "import gc\n",
    "from shapely import wkt\n",
    "from matplotlib import pyplot as plt\n",
    "from shapely.geometry import Point,mapping,Polygon,box,MultiPoint\n",
    "import geopandas as gpd \n",
    "import seaborn as sns \n",
    " \n",
    "# for parallelization\n",
    "sys.path.append('/mnt/c/Users/tandon/OneDrive - TomTom/Desktop/tomtom/Workspace/01_Rooftop_accuracy/APT-Realignment/src/apt_realignment')\n",
    "from process_geometries import ProcessGeometricData  as ProcessAPT_data\n",
    "from utils.haversine_distance import get_distance\n",
    "\n",
    "data_path  = \"/mnt/c/Users/tandon/OneDrive - TomTom/Desktop/tomtom/Workspace/01_Rooftop_accuracy/BFP_Analysis_USA/data/data\"\n",
    "state = \"MI\"\n",
    "city = \"wayne\"\n",
    "apt_data_path = os.path.join(data_path,state,\"APT__2022_09_001_nam_usa_umx.shp\" )\n",
    "parcel_path = os.path.join(data_path,state,city,\"Parcels_26163/Parcels_26163.shp\")\n",
    "building_geojson = os.path.join(data_path,state,'Michigan.geojson')"
   ]
  },
  {
   "cell_type": "code",
   "execution_count": null,
   "id": "2a225c0f",
   "metadata": {},
   "outputs": [],
   "source": [
    "# geojson2shpfile(building_geojson,verbose=0)"
   ]
  },
  {
   "cell_type": "markdown",
   "id": "a481a168",
   "metadata": {},
   "source": [
    "### Single BFP within a Parcel"
   ]
  },
  {
   "cell_type": "code",
   "execution_count": null,
   "id": "9a4ab049",
   "metadata": {},
   "outputs": [],
   "source": [
    "output_path = os.path.join(data_path,state,city,'Apt_realignment') \n",
    "apt_preprocess = ProcessAPT_data(parcel_shapefile=parcel_path,\n",
    "                building_shapefile=building_geojson,\n",
    "                apt_shape_file=apt_data_path , \n",
    "                output_path=output_path)\n",
    "\n",
    "processed_df_wayne = apt_preprocess.process_dataframe(bfp_count_per_parcel=1,filename='APT_realigned_usa_umx_wayne')"
   ]
  },
  {
   "cell_type": "code",
   "execution_count": null,
   "id": "76b7b4ca",
   "metadata": {},
   "outputs": [],
   "source": [
    "print(\"Data Shape:\",processed_df_wayne.shape)\n",
    "processed_df_wayne.head()"
   ]
  },
  {
   "cell_type": "code",
   "execution_count": null,
   "id": "dd853db1",
   "metadata": {},
   "outputs": [],
   "source": [
    "distance_greater_than_50m = processed_df_wayne.loc[processed_df_wayne['APT_to_Centroid_distance']>50].shape[0]\n",
    "print(\"Data points greater than 50m: {:.2f}%\".format(100*(distance_greater_than_50m/processed_df_wayne.shape[0])))\n",
    "\n",
    "distance_greater_than_50m = processed_df_wayne.loc[processed_df_wayne['APT_to_Centroid_distance']<50].shape[0]\n",
    "print(\"Data points less than 50m: {:.2f}%\".format(100*(distance_greater_than_50m/processed_df_wayne.shape[0])))"
   ]
  },
  {
   "cell_type": "code",
   "execution_count": null,
   "id": "9573f4b9",
   "metadata": {},
   "outputs": [],
   "source": [
    "fig, ax = plt.subplots(figsize=(17,9))\n",
    "\n",
    "ax.set_title(\"Histogram of APT to centroid distance on/not on BFP\")\n",
    "ax.set_xlabel(\"APT point to centroid distance(meters)\")\n",
    "ax.set_ylabel(\"counts\")\n",
    "\n",
    "frqTrue, edgesTrue = np.histogram(processed_df_wayne['APT_to_Centroid_distance'].loc[processed_df_wayne['APT_to_Centroid_distance']<150].values, bins = np.arange(0,150,10))\n",
    "p1 = ax.bar(edgesTrue[:-1], frqTrue, width=np.diff(edgesTrue), edgecolor=\"black\", align=\"edge\",alpha=0.4,label='Address Points on Rooftop',color='orange')\n",
    "\n",
    "plt.legend()\n",
    "plt.show()\n",
    "gc.collect()"
   ]
  },
  {
   "cell_type": "markdown",
   "id": "165cb0a7",
   "metadata": {},
   "source": [
    "#### Two BFP's within a Parcel "
   ]
  },
  {
   "cell_type": "code",
   "execution_count": null,
   "id": "b034da18",
   "metadata": {},
   "outputs": [],
   "source": [
    "output_path = os.path.join(data_path,state,city,'Apt_realignment') \n",
    "apt_preprocess = ProcessAPT_data(parcel_shapefile=parcel_path,\n",
    "                building_shapefile=building_geojson,\n",
    "                apt_shape_file=apt_data_path , \n",
    "                output_path=output_path)\n",
    "\n",
    "processed_df_wayne = apt_preprocess.process_dataframe(bfp_count_per_parcel=2,filename='APT_realigned_usa_umx_wayne')\n"
   ]
  },
  {
   "cell_type": "code",
   "execution_count": null,
   "id": "60e294bf",
   "metadata": {},
   "outputs": [],
   "source": [
    "print(processed_df_wayne.shape[0])\n",
    "processed_df_wayne.head(10)"
   ]
  },
  {
   "cell_type": "code",
   "execution_count": null,
   "id": "c0c25d28",
   "metadata": {},
   "outputs": [],
   "source": [
    "distance_greater_than_50m = processed_df_wayne.loc[processed_df_wayne['APT_to_Centroid_distance']>50].shape[0]\n",
    "print(\"Data points greater than 50m: {:.2f}%\".format(100*(distance_greater_than_50m/processed_df_wayne.shape[0])))\n",
    "\n",
    "distance_greater_than_50m = processed_df_wayne.loc[processed_df_wayne['APT_to_Centroid_distance']<50].shape[0]\n",
    "print(\"Data points less than 50m: {:.2f}%\".format(100*(distance_greater_than_50m/processed_df_wayne.shape[0])))\n"
   ]
  },
  {
   "cell_type": "code",
   "execution_count": null,
   "id": "a4cb0165",
   "metadata": {},
   "outputs": [],
   "source": [
    "fig, ax = plt.subplots(figsize=(17,9))\n",
    "\n",
    "ax.set_title(\"Histogram of APT to centroid distance on/not on BFP\")\n",
    "ax.set_xlabel(\"APT point to centroid distance(meters)\")\n",
    "ax.set_ylabel(\"counts\")\n",
    "\n",
    "frqTrue, edgesTrue = np.histogram(processed_df_wayne['APT_to_Centroid_distance'].loc[processed_df_wayne['APT_to_Centroid_distance']<150].values, bins = np.arange(0,150,10))\n",
    "p1 = ax.bar(edgesTrue[:-1], frqTrue, width=np.diff(edgesTrue), edgecolor=\"black\", align=\"edge\",alpha=0.4,label='Address Points on Rooftop',color='orange')\n",
    "\n",
    "plt.legend()\n",
    "plt.show()\n",
    "gc.collect()"
   ]
  },
  {
   "cell_type": "markdown",
   "id": "1eddd436",
   "metadata": {},
   "source": [
    "### Merge both data "
   ]
  },
  {
   "cell_type": "code",
   "execution_count": null,
   "id": "85e0aec2",
   "metadata": {},
   "outputs": [],
   "source": [
    "from glob import glob \n",
    "import os\n",
    "import os.path as osp \n",
    "pkl_path = osp.join(data_path,state,city,'Apt_realignment')\n",
    "pkl_files = glob(pkl_path+'/*/*.pkl')\n",
    "print(pkl_files)"
   ]
  },
  {
   "cell_type": "code",
   "execution_count": null,
   "id": "8bfef001",
   "metadata": {},
   "outputs": [],
   "source": [
    "\n",
    "## Show single bfp within Parcel data\n",
    "df_one_bfp = pd.read_pickle(pkl_files[0])\n",
    "df_one_bfp = df_one_bfp.reset_index(drop=True)\n",
    "print(\"simple scenario sahpe\",df_one_bfp.shape[0])\n",
    "\n",
    "df_two_bfp = pd.read_pickle(pkl_files[1])\n",
    "df_two_bfp = df_two_bfp.reset_index(drop=True)\n",
    "print(\" complx scenario shape:\",df_two_bfp.shape[0])\n",
    "\n",
    "merge_df= pd.concat([df_one_bfp,df_two_bfp])\n",
    "print(\"Merged Shape\",merge_df.shape)\n",
    "merge_df.to_pickle(os.path.join(pkl_path,'FinalUpdated_APT_{}_{}.pkl'.format(state,city)))"
   ]
  },
  {
   "cell_type": "markdown",
   "id": "16962906",
   "metadata": {},
   "source": [
    "## Dallas Texas "
   ]
  },
  {
   "cell_type": "code",
   "execution_count": null,
   "id": "c812e3a7",
   "metadata": {},
   "outputs": [],
   "source": [
    "import os\n",
    "import shapely\n",
    "import numpy as np\n",
    "import sys \n",
    "import pycoredb \n",
    "import pandas as pd \n",
    "import gc\n",
    "from shapely import wkt\n",
    "from matplotlib import pyplot as plt\n",
    "from shapely.geometry import Point,mapping,Polygon,box,MultiPoint\n",
    "import geopandas as gpd \n",
    "import seaborn as sns \n",
    " \n",
    "# for parallelization\n",
    "sys.path.append('/mnt/c/Users/tandon/OneDrive - TomTom/Desktop/tomtom/Workspace/01_Rooftop_accuracy/APT-Realignment/src/apt_realignment')\n",
    "from process_geometries import ProcessGeometricData  as ProcessAPT_data\n",
    "from utils.haversine_distance import get_distance\n",
    "\n",
    "data_path  = \"/mnt/c/Users/tandon/OneDrive - TomTom/Desktop/tomtom/Workspace/01_Rooftop_accuracy/BFP_Analysis_USA/data/data\"\n",
    "state = \"Texas\"\n",
    "city = \"Dallas\"\n",
    "apt_data_path = os.path.join(data_path,state,\"APT_2022_09_000_nam_usa_utx.shp\" )\n",
    "parcel_path = os.path.join(data_path,state,city,\"Parcels_48113/Parcels_48113.shp\")\n",
    "building_geojson = os.path.join(data_path,state,'Texas.geojson')"
   ]
  },
  {
   "cell_type": "markdown",
   "id": "68a53c68",
   "metadata": {},
   "source": [
    "### Single BFP within Parcel "
   ]
  },
  {
   "cell_type": "code",
   "execution_count": null,
   "id": "7446a01d",
   "metadata": {},
   "outputs": [],
   "source": [
    "output_path = os.path.join(data_path,state,city,'Apt_realignment') \n",
    "apt_preprocess = ProcessAPT_data(parcel_shapefile=parcel_path,\n",
    "                building_shapefile=building_geojson,\n",
    "                apt_shape_file=apt_data_path , \n",
    "                output_path=output_path)\n",
    "\n",
    "processed_df_dallas = apt_preprocess.process_dataframe(bfp_count_per_parcel=1,filename='APT_realigned_usa_utx_dallas')\n",
    "processed_df_dallas.head(10)"
   ]
  },
  {
   "cell_type": "code",
   "execution_count": null,
   "id": "2bc52879",
   "metadata": {},
   "outputs": [],
   "source": [
    "distance_greater_than_50m = processed_df_dallas.loc[processed_df_dallas['APT_to_Centroid_distance']>50].shape[0]\n",
    "print(\"Data points greater than 50m: {:.2f}%\".format(100*(distance_greater_than_50m/processed_df_dallas.shape[0])))\n",
    "\n",
    "distance_greater_than_50m = processed_df_dallas.loc[processed_df_dallas['APT_to_Centroid_distance']<50].shape[0]\n",
    "print(\"Data points less than 50m: {:.2f}%\".format(100*(distance_greater_than_50m/processed_df_dallas.shape[0])))\n"
   ]
  },
  {
   "cell_type": "code",
   "execution_count": null,
   "id": "ad2de6cd",
   "metadata": {},
   "outputs": [],
   "source": [
    "fig, ax = plt.subplots(figsize=(17,9))\n",
    "\n",
    "ax.set_title(\"Histogram of APT to centroid distance on/not on BFP\")\n",
    "ax.set_xlabel(\"APT point to centroid distance(meters)\")\n",
    "ax.set_ylabel(\"counts\")\n",
    "\n",
    "frqTrue, edgesTrue = np.histogram(processed_df_dallas['APT_to_Centroid_distance'].loc[processed_df_dallas['APT_to_Centroid_distance']<50].values, bins = np.arange(2,50,5))\n",
    "p1 = ax.bar(edgesTrue[:-1], frqTrue, width=np.diff(edgesTrue), edgecolor=\"black\", align=\"edge\",alpha=0.4,label='Address Points on Rooftop',color='orange')\n",
    "\n",
    "plt.legend()\n",
    "plt.show()\n",
    "gc.collect()"
   ]
  },
  {
   "cell_type": "markdown",
   "id": "d9b9b8b4",
   "metadata": {},
   "source": [
    "### Two BFP within Parcel "
   ]
  },
  {
   "cell_type": "code",
   "execution_count": null,
   "id": "41531015",
   "metadata": {},
   "outputs": [],
   "source": [
    "output_path = os.path.join(data_path,state,city,'Apt_realignment') \n",
    "apt_preprocess = ProcessAPT_data(parcel_shapefile=parcel_path,building_shapefile=building_geojson,\n",
    "                                    apt_shape_file=apt_data_path , output_path=output_path)\n",
    "\n",
    "processed_df_dallas = apt_preprocess.process_dataframe(bfp_count_per_parcel=2,filename='APT_realigned_usa_utx_dallas')\n",
    "processed_df_dallas.head(10)"
   ]
  },
  {
   "cell_type": "code",
   "execution_count": null,
   "id": "a79c09d3",
   "metadata": {},
   "outputs": [],
   "source": [
    "distance_greater_than_50m = processed_df_dallas.loc[processed_df_dallas['APT_to_Centroid_distance']>50].shape[0]\n",
    "print(\"Data points greater than 50m: {:.2f}%\".format(100*(distance_greater_than_50m/processed_df_dallas.shape[0])))\n",
    "\n",
    "distance_greater_than_50m = processed_df_dallas.loc[processed_df_dallas['APT_to_Centroid_distance']<50].shape[0]\n",
    "print(\"Data points less than 50m: {:.2f}%\".format(100*(distance_greater_than_50m/processed_df_dallas.shape[0])))\n"
   ]
  },
  {
   "cell_type": "code",
   "execution_count": null,
   "id": "62a48865",
   "metadata": {},
   "outputs": [],
   "source": [
    "fig, ax = plt.subplots(figsize=(17,9))\n",
    "\n",
    "ax.set_title(\"Histogram of APT to centroid distance on/not on BFP\")\n",
    "ax.set_xlabel(\"APT point to centroid distance(meters)\")\n",
    "ax.set_ylabel(\"counts\")\n",
    "\n",
    "frqTrue, edgesTrue = np.histogram(processed_df_dallas['APT_to_Centroid_distance'].loc[processed_df_dallas['APT_to_Centroid_distance']<50].values, bins = np.arange(2,50,5))\n",
    "p1 = ax.bar(edgesTrue[:-1], frqTrue, width=np.diff(edgesTrue), edgecolor=\"black\", align=\"edge\",alpha=0.4,label='Address Points on Rooftop',color='orange')\n",
    "\n",
    "plt.legend()\n",
    "plt.show()\n",
    "gc.collect()"
   ]
  },
  {
   "cell_type": "markdown",
   "id": "24baf7e2",
   "metadata": {},
   "source": [
    "### Merge Data"
   ]
  },
  {
   "cell_type": "code",
   "execution_count": null,
   "id": "09d84736",
   "metadata": {},
   "outputs": [],
   "source": [
    "from glob import glob \n",
    "pkl_path = osp.join(data_path,state,city,'Apt_realignment')\n",
    "pkl_files = glob(pkl_path+'/*/*.pkl')\n",
    "print(pkl_files)"
   ]
  },
  {
   "cell_type": "code",
   "execution_count": null,
   "id": "630e387f",
   "metadata": {},
   "outputs": [],
   "source": [
    "\n",
    "## Show single bfp within Parcel data\n",
    "df_one_bfp = pd.read_pickle(pkl_files[0])\n",
    "df_one_bfp = df_one_bfp.reset_index(drop=True)\n",
    "print(\"simple scenario sahpe\",df_one_bfp.shape[0])\n",
    "\n",
    "df_two_bfp = pd.read_pickle(pkl_files[1])\n",
    "df_two_bfp = df_two_bfp.reset_index(drop=True)\n",
    "print(\" complx scenario shape:\",df_two_bfp.shape[0])\n",
    "\n",
    "merge_df= pd.concat([df_one_bfp,df_two_bfp])\n",
    "print(\"Merged Shape\",merge_df.shape)\n",
    "merge_df.to_pickle(os.path.join(pkl_path,'FinalUpdated_APT_{}_{}.pkl'.format(state,city)))"
   ]
  },
  {
   "cell_type": "markdown",
   "id": "30d6d215",
   "metadata": {},
   "source": [
    "### Compare MNR data with MSFT dBFP ata"
   ]
  },
  {
   "cell_type": "code",
   "execution_count": null,
   "id": "455b1e45",
   "metadata": {},
   "outputs": [],
   "source": [
    "import os\n",
    "import shapely\n",
    "import numpy as np\n",
    "import sys \n",
    "\n",
    "import pycoredb \n",
    "import pandas as pd \n",
    "import gc\n",
    "\n",
    "from shapely import wkt\n",
    "from matplotlib import pyplot as plt\n",
    "from shapely.geometry import Point,mapping,Polygon,box,MultiPoint\n",
    "import geopandas as gpd \n",
    "import seaborn as sns \n",
    "\n",
    "# for parallelization\n",
    "sys.path.append('/mnt/c/Users/tandon/OneDrive - TomTom/Desktop/tomtom/Workspace/01_Rooftop_accuracy/APT-Realignment/src/apt_realignment')\n",
    "from process_geometries import ProcessGeometricData  as ProcessAPT_data\n",
    "from utils.haversine_distance import get_distance"
   ]
  },
  {
   "cell_type": "code",
   "execution_count": null,
   "id": "30078a3e",
   "metadata": {},
   "outputs": [],
   "source": [
    "data_path  = \"/mnt/c/Users/tandon/OneDrive - TomTom/Desktop/tomtom/Workspace/01_Rooftop_accuracy/BFP_Analysis_USA/data/data\"\n",
    "state = \"Texas\"\n",
    "building_geojson = os.path.join(data_path,state,'Texas.geojson')\n",
    "mnr_building_geojson = os.path.join(data_path,state,'BFP__2022_09_012_nam_usa_utx.shp')"
   ]
  },
  {
   "cell_type": "code",
   "execution_count": null,
   "id": "86bced8d",
   "metadata": {},
   "outputs": [],
   "source": [
    "bfp_df = gpd.read_file(building_geojson)\n",
    "bfp_df = gpd.GeoDataFrame(bfp_df,crs=\"EPSG:4326\",geometry='geometry')\n",
    "bfp_df = bfp_df.to_crs(\"epsg:4326\")\n",
    "print(\"Total number of data points collected from MNR database \",bfp_df.shape[0])\n",
    "gc.collect()\n",
    "bfp_df.head()"
   ]
  },
  {
   "cell_type": "code",
   "execution_count": null,
   "id": "dfb4aa4c",
   "metadata": {},
   "outputs": [],
   "source": [
    "mnr_bfp_df = gpd.read_file(mnr_building_geojson)\n",
    "mnr_bfp_df = gpd.GeoDataFrame(mnr_bfp_df,crs=\"EPSG:4326\",geometry='geometry')\n",
    "mnr_bfp_df = mnr_bfp_df.to_crs(\"epsg:4326\")\n",
    "print(\"Total number of data points collected from MNR database \",mnr_bfp_df.shape[0])\n",
    "gc.collect()\n",
    "mnr_bfp_df.head()"
   ]
  },
  {
   "cell_type": "code",
   "execution_count": null,
   "id": "78399ebf",
   "metadata": {},
   "outputs": [],
   "source": [
    "def get_buildingfootprint(val):\n",
    "    return bfp_df['geometry'].loc[val]\n",
    "\n",
    "join_df = gpd.sjoin(mnr_bfp_df, bfp_df, op='intersects', how='left')\n",
    "join_df.dropna(inplace=True)\n",
    "join_df['MSFT_building_geom'] = join_df['index_right'].apply(lambda x: get_buildingfootprint(x))\n"
   ]
  },
  {
   "cell_type": "code",
   "execution_count": null,
   "id": "04a89ced",
   "metadata": {},
   "outputs": [],
   "source": [
    "def get_buildingfootprint(val):\n",
    "    return bfp_df['geometry'].loc[val]\n",
    "\n",
    "join_df.dropna(inplace=True)\n",
    "join_df['MSFT_building_geom'] = join_df['index_right'].apply(lambda x: get_buildingfootprint(x))\n"
   ]
  },
  {
   "cell_type": "code",
   "execution_count": null,
   "id": "e5289497",
   "metadata": {},
   "outputs": [],
   "source": [
    "join_df"
   ]
  },
  {
   "cell_type": "code",
   "execution_count": null,
   "id": "6bbd42d0",
   "metadata": {},
   "outputs": [],
   "source": [
    "def get_poly_iou(data: gpd.GeoSeries):\n",
    "    try:\n",
    "        intersect = data['geometry'].intersection(data['MSFT_building_geom']).area\n",
    "        union = data['geometry'].union(data['MSFT_building_geom']).area\n",
    "        iou = intersect / union\n",
    "    except:\n",
    "        iou = None\n",
    "    return iou\n",
    "join_df['IOU'] = join_df.apply(lambda x: get_poly_iou(x),axis=1)"
   ]
  },
  {
   "cell_type": "code",
   "execution_count": null,
   "id": "4c4cb985",
   "metadata": {},
   "outputs": [],
   "source": [
    "join_df.dropna(inplace=True)\n",
    "print(join_df['IOU'].mean())\n"
   ]
  },
  {
   "cell_type": "code",
   "execution_count": null,
   "id": "269c88c6",
   "metadata": {},
   "outputs": [],
   "source": [
    "join_df"
   ]
  },
  {
   "cell_type": "markdown",
   "id": "9425b2d0",
   "metadata": {},
   "source": []
  }
 ],
 "metadata": {
  "kernelspec": {
   "display_name": "Python 3.8.13 ('pygeo')",
   "language": "python",
   "name": "python3"
  },
  "language_info": {
   "codemirror_mode": {
    "name": "ipython",
    "version": 3
   },
   "file_extension": ".py",
   "mimetype": "text/x-python",
   "name": "python",
   "nbconvert_exporter": "python",
   "pygments_lexer": "ipython3",
   "version": "3.8.13 (default, Mar 28 2022, 11:38:47) \n[GCC 7.5.0]"
  },
  "vscode": {
   "interpreter": {
    "hash": "70ce54ad97a74852893fb3a2eed7fab00a48abaab9c8d77c9e0b6a3e4b45b116"
   }
  }
 },
 "nbformat": 4,
 "nbformat_minor": 5
}
