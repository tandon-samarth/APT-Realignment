{
 "cells": [
  {
   "cell_type": "markdown",
   "metadata": {
    "application/vnd.databricks.v1+cell": {
     "inputWidgets": {},
     "nuid": "176fd7bb-582c-4d57-94e0-2f46829e0dfe",
     "showTitle": false,
     "title": ""
    }
   },
   "source": [
    "# Requirements + setup"
   ]
  },
  {
   "cell_type": "code",
   "execution_count": null,
   "metadata": {
    "application/vnd.databricks.v1+cell": {
     "inputWidgets": {},
     "nuid": "858985c9-74ac-4335-8a1d-71e4d7335b14",
     "showTitle": false,
     "title": ""
    }
   },
   "outputs": [],
   "source": [
    "# ! pip install sqlalchemy"
   ]
  },
  {
   "cell_type": "code",
   "execution_count": null,
   "metadata": {
    "application/vnd.databricks.v1+cell": {
     "inputWidgets": {},
     "nuid": "7ab241cd-8604-48f8-b9bd-8a6d9046a399",
     "showTitle": false,
     "title": ""
    }
   },
   "outputs": [],
   "source": [
    "import pandas as pd\n",
    "import geopandas as gpd\n",
    "import numpy as np\n",
    "from shapely.ops import unary_union\n",
    "import folium\n",
    "from shapely.geometry import mapping\n",
    "import json\n",
    "from pyspark.sql import SparkSession\n",
    "import unidecode\n",
    "\n",
    "from matplotlib import pyplot as plt \n",
    "import seaborn as sns\n",
    "from addressing.utils import libpostal\n",
    "from fuzzywuzzy import fuzz\n",
    "import nltk\n",
    "from nltk.corpus import stopwords\n",
    "from addressing.automatic_matching import automatic_matching\n",
    "from addressing.automatic_matching.rooftop.rooftop import haversine_distance\n",
    "import re\n",
    "import sys, os\n",
    "import sqlalchemy\n",
    "from datetime import date\n",
    "\n",
    "\n",
    "data_path = \"/mnt/c/Users/tandon/OneDrive - TomTom/Desktop/tomtom/Workspace/01_Rooftop_accuracy/BFP_Analysis_USA/data/data\"\n",
    "state = \"CT\"\n",
    "county = 'hartford'\n",
    "delta = True\n",
    "\n",
    "print(\"Delta :\",delta)\n",
    "\n",
    "Updated_geometries_pickle = os.path.join(data_path,state,county,\"Apt_realignment_Build_former/FinalUpdated_APT_CT_hartford.pkl\")\n",
    "if os.path.isfile(Updated_geometries_pickle):\n",
    "    print(Updated_geometries_pickle) "
   ]
  },
  {
   "cell_type": "code",
   "execution_count": null,
   "metadata": {
    "application/vnd.databricks.v1+cell": {
     "inputWidgets": {},
     "nuid": "43075523-cc26-4f2a-9740-1f112992ebc5",
     "showTitle": false,
     "title": ""
    }
   },
   "outputs": [],
   "source": [
    "nltk.download('stopwords')"
   ]
  },
  {
   "cell_type": "code",
   "execution_count": null,
   "metadata": {
    "application/vnd.databricks.v1+cell": {
     "inputWidgets": {},
     "nuid": "c2dff75e-f270-48e1-b1ba-1bd0e0324e24",
     "showTitle": false,
     "title": ""
    }
   },
   "outputs": [],
   "source": [
    "DB = {\n",
    "'host' : \"10.137.173.84\",\n",
    "'port' : '5432',\n",
    "'database' :  \"STAN\",\n",
    "'user' : \"strategicadmin\",\n",
    "'password' :  \"TBmG4Yj3DdwOI+Aq\"\n",
    "}\n",
    "\n",
    "class ReadAndWrite2PostgresDB:\n",
    "\n",
    "    def __init__(self, engine):\n",
    "        self.engine = engine\n",
    "\n",
    "    def read_from_db(self, query, retry_num=3):\n",
    "\n",
    "        for _ in range(retry_num):\n",
    "            df = None\n",
    "            try:\n",
    "                df = pd.read_sql(query, self.engine)\n",
    "                return df\n",
    "\n",
    "            except Exception as e:\n",
    "                print(e)\n",
    "\n",
    "        return df\n",
    "\n",
    "    def write_to_db(self, df, schema, table_name, retry_num=3):\n",
    "\n",
    "        for _ in range(retry_num):\n",
    "            try:\n",
    "                \n",
    "                df.to_sql(\n",
    "                    table_name,\n",
    "                    con=self.engine,\n",
    "                    if_exists='append',\n",
    "                    schema=schema,\n",
    "                    index = False)\n",
    "                print(\"Table stored!\")\n",
    "                return 1\n",
    "\n",
    "            except Exception as e:\n",
    "                print(e)\n",
    "\n",
    "        return 0"
   ]
  },
  {
   "cell_type": "code",
   "execution_count": null,
   "metadata": {
    "application/vnd.databricks.v1+cell": {
     "inputWidgets": {},
     "nuid": "80568a0b-e07d-49a6-a0ae-77315b33d048",
     "showTitle": false,
     "title": ""
    }
   },
   "outputs": [],
   "source": [
    "engine = sqlalchemy.create_engine(f'postgresql+psycopg2://{DB[\"user\"]}:{DB[\"password\"]}@{DB[\"host\"]}:{DB[\"port\"]}/{DB[\"database\"]}',\n",
    "                                        echo = False)"
   ]
  },
  {
   "cell_type": "code",
   "execution_count": null,
   "metadata": {
    "application/vnd.databricks.v1+cell": {
     "inputWidgets": {},
     "nuid": "9e8afb10-eb29-44c4-a125-2fe3e1840dd8",
     "showTitle": false,
     "title": ""
    }
   },
   "outputs": [],
   "source": [
    "raw2p = ReadAndWrite2PostgresDB(engine)"
   ]
  },
  {
   "cell_type": "markdown",
   "metadata": {
    "application/vnd.databricks.v1+cell": {
     "inputWidgets": {},
     "nuid": "98333593-68b7-4dec-be28-c85c20652e1b",
     "showTitle": false,
     "title": ""
    }
   },
   "source": [
    "counties = 'cook', 'bexar', 'dallas', 'orange', 'maricopa', 'marion', 'tarrant', 'clark'"
   ]
  },
  {
   "cell_type": "code",
   "execution_count": null,
   "metadata": {
    "application/vnd.databricks.v1+cell": {
     "inputWidgets": {},
     "nuid": "e54f6e1d-86be-4d62-a156-438d31f1aa7e",
     "showTitle": false,
     "title": ""
    }
   },
   "outputs": [],
   "source": [
    "date = date.today()\n",
    "print(date)\n",
    "print(county)"
   ]
  },
  {
   "cell_type": "markdown",
   "metadata": {
    "application/vnd.databricks.v1+cell": {
     "inputWidgets": {},
     "nuid": "d68d6dc1-0535-4ec2-a6be-73118aae00fc",
     "showTitle": false,
     "title": ""
    }
   },
   "source": [
    "Stopwords"
   ]
  },
  {
   "cell_type": "code",
   "execution_count": null,
   "metadata": {
    "application/vnd.databricks.v1+cell": {
     "inputWidgets": {},
     "nuid": "b863fd02-66ed-417d-a366-f3ab7997ec81",
     "showTitle": false,
     "title": ""
    }
   },
   "outputs": [],
   "source": [
    "countries_stopwords = {\n",
    "  'br': stopwords.words('portuguese') + ['rua', 'avenida'], \n",
    "  'ca': stopwords.words('french') + stopwords.words('english') +  ['road', 'street', 'st.', 'st', 'rue', 'chemin', 'avenue'],\n",
    "  'es': stopwords.words('spanish') + ['calle', 'avenida', 'callejón', 'paseo'],\n",
    "  'fr': stopwords.words('french') + ['rue', 'chemin', 'avenue'],\n",
    "  'gb': stopwords.words('english') + ['street', 'road', 'avenue', 'st.', 'st', 'drive'],\n",
    "  'it': stopwords.words('italian') + ['via', 'viale', 'strada'],\n",
    "  'mx': stopwords.words('spanish') + ['calle', 'avenida', 'callejón', 'paseo'],\n",
    "  'us': stopwords.words('english') + ['street', 'road', 'avenue', 'st.', 'st', 'drive'],\n",
    "  'be': stopwords.words('french') + ['rue', 'chemin', 'avenue'],\n",
    "  'za': stopwords.words('english') + ['street', 'road', 'avenue', 'st.', 'st', 'drive']\n",
    "}\n",
    "\n",
    "countries_stopwords = {k:'|'.join(['\\\\b' + word + '\\\\b' for word in v]) for k, v in countries_stopwords.items()}"
   ]
  },
  {
   "cell_type": "markdown",
   "metadata": {
    "application/vnd.databricks.v1+cell": {
     "inputWidgets": {},
     "nuid": "b72b52ac-0082-473e-a987-97ca6e3a81d2",
     "showTitle": false,
     "title": ""
    }
   },
   "source": [
    "## Reading the data"
   ]
  },
  {
   "cell_type": "markdown",
   "metadata": {
    "application/vnd.databricks.v1+cell": {
     "inputWidgets": {},
     "nuid": "ed8deeee-d104-4a26-a188-fe0a397348b3",
     "showTitle": false,
     "title": ""
    }
   },
   "source": [
    "### Sample addresses"
   ]
  },
  {
   "cell_type": "code",
   "execution_count": 8,
   "metadata": {
    "application/vnd.databricks.v1+cell": {
     "inputWidgets": {},
     "nuid": "dc241cdc-5231-498e-bc8c-f140a59463cd",
     "showTitle": false,
     "title": ""
    }
   },
   "outputs": [],
   "source": [
    "sample_query = f\"\"\"SELECT * FROM \"STAN_169\".sample where county = '{county}'\"\"\"\n",
    "sample_df = raw2p.read_from_db(query = sample_query)\n",
    "sample_geom = gpd.GeoSeries.from_wkt(sample_df.geometry)\n",
    "sample_gdf = gpd.GeoDataFrame(sample_df.drop('geometry', axis = 1),\n",
    "                                geometry = sample_geom,\n",
    "                                crs = 'EPSG:4326')"
   ]
  },
  {
   "cell_type": "code",
   "execution_count": 9,
   "metadata": {
    "application/vnd.databricks.v1+cell": {
     "inputWidgets": {},
     "nuid": "69f812f8-3d69-40c5-9e1f-2d6325269df3",
     "showTitle": false,
     "title": ""
    }
   },
   "outputs": [
    {
     "name": "stdout",
     "output_type": "stream",
     "text": [
      "(4379, 29)\n"
     ]
    },
    {
     "data": {
      "text/html": [
       "<div>\n",
       "<style scoped>\n",
       "    .dataframe tbody tr th:only-of-type {\n",
       "        vertical-align: middle;\n",
       "    }\n",
       "\n",
       "    .dataframe tbody tr th {\n",
       "        vertical-align: top;\n",
       "    }\n",
       "\n",
       "    .dataframe thead th {\n",
       "        text-align: right;\n",
       "    }\n",
       "</style>\n",
       "<table border=\"1\" class=\"dataframe\">\n",
       "  <thead>\n",
       "    <tr style=\"text-align: right;\">\n",
       "      <th></th>\n",
       "      <th>country</th>\n",
       "      <th>searched_query_unidecode_sample</th>\n",
       "      <th>libpostal_query</th>\n",
       "      <th>libpostal_response</th>\n",
       "      <th>libpostal_house</th>\n",
       "      <th>libpostal_category</th>\n",
       "      <th>libpostal_near</th>\n",
       "      <th>libpostal_house_number</th>\n",
       "      <th>libpostal_road</th>\n",
       "      <th>libpostal_unit</th>\n",
       "      <th>...</th>\n",
       "      <th>libpostal_state_district</th>\n",
       "      <th>libpostal_state</th>\n",
       "      <th>libpostal_country_region</th>\n",
       "      <th>libpostal_country</th>\n",
       "      <th>libpostal_world_region</th>\n",
       "      <th>lat_sample</th>\n",
       "      <th>lon_sample</th>\n",
       "      <th>county</th>\n",
       "      <th>sample_id</th>\n",
       "      <th>geometry</th>\n",
       "    </tr>\n",
       "  </thead>\n",
       "  <tbody>\n",
       "    <tr>\n",
       "      <th>0</th>\n",
       "      <td>USA</td>\n",
       "      <td>1781 Mountain Rd, West Suffield, CT 06093, USA</td>\n",
       "      <td>{\"query\": \"1781 Mountain Rd, West Suffield, CT...</td>\n",
       "      <td>{'country': 'usa', 'city': 'west suffield', 'r...</td>\n",
       "      <td></td>\n",
       "      <td></td>\n",
       "      <td></td>\n",
       "      <td>1781</td>\n",
       "      <td>mountain rd</td>\n",
       "      <td></td>\n",
       "      <td>...</td>\n",
       "      <td></td>\n",
       "      <td>ct</td>\n",
       "      <td></td>\n",
       "      <td>usa</td>\n",
       "      <td></td>\n",
       "      <td>41.992747</td>\n",
       "      <td>-72.714496</td>\n",
       "      <td>hartford</td>\n",
       "      <td>252ext3gghartford</td>\n",
       "      <td>POLYGON ((-72.70551 41.99275, -72.70556 41.992...</td>\n",
       "    </tr>\n",
       "    <tr>\n",
       "      <th>1</th>\n",
       "      <td>USA</td>\n",
       "      <td>182 Alder Ln, Southington, CT 06489, USA</td>\n",
       "      <td>{\"query\": \"182 Alder Ln, Southington, CT 06489...</td>\n",
       "      <td>{'country': 'usa', 'city': 'southington', 'roa...</td>\n",
       "      <td></td>\n",
       "      <td></td>\n",
       "      <td></td>\n",
       "      <td>182</td>\n",
       "      <td>alder ln</td>\n",
       "      <td></td>\n",
       "      <td>...</td>\n",
       "      <td></td>\n",
       "      <td>ct</td>\n",
       "      <td></td>\n",
       "      <td>usa</td>\n",
       "      <td></td>\n",
       "      <td>41.600834</td>\n",
       "      <td>-72.909628</td>\n",
       "      <td>hartford</td>\n",
       "      <td>253ext3gghartford</td>\n",
       "      <td>POLYGON ((-72.90064 41.60083, -72.90069 41.600...</td>\n",
       "    </tr>\n",
       "    <tr>\n",
       "      <th>2</th>\n",
       "      <td>USA</td>\n",
       "      <td>19 Hudson Ln, Windsor, CT 06095, USA</td>\n",
       "      <td>{\"query\": \"19 Hudson Ln, Windsor, CT 06095, USA\"}</td>\n",
       "      <td>{'country': 'usa', 'city': 'windsor', 'road': ...</td>\n",
       "      <td></td>\n",
       "      <td></td>\n",
       "      <td></td>\n",
       "      <td>19</td>\n",
       "      <td>hudson ln</td>\n",
       "      <td></td>\n",
       "      <td>...</td>\n",
       "      <td></td>\n",
       "      <td>ct</td>\n",
       "      <td></td>\n",
       "      <td>usa</td>\n",
       "      <td></td>\n",
       "      <td>41.875854</td>\n",
       "      <td>-72.668264</td>\n",
       "      <td>hartford</td>\n",
       "      <td>254ext3gghartford</td>\n",
       "      <td>POLYGON ((-72.65928 41.87585, -72.65932 41.875...</td>\n",
       "    </tr>\n",
       "    <tr>\n",
       "      <th>3</th>\n",
       "      <td>USA</td>\n",
       "      <td>198 Burlington Ave, Bristol, CT 06010, USA</td>\n",
       "      <td>{\"query\": \"198 Burlington Ave, Bristol, CT 060...</td>\n",
       "      <td>{'country': 'usa', 'city': 'bristol', 'road': ...</td>\n",
       "      <td></td>\n",
       "      <td></td>\n",
       "      <td></td>\n",
       "      <td>198</td>\n",
       "      <td>burlington ave</td>\n",
       "      <td></td>\n",
       "      <td>...</td>\n",
       "      <td></td>\n",
       "      <td>ct</td>\n",
       "      <td></td>\n",
       "      <td>usa</td>\n",
       "      <td></td>\n",
       "      <td>41.688072</td>\n",
       "      <td>-72.942319</td>\n",
       "      <td>hartford</td>\n",
       "      <td>255ext3gghartford</td>\n",
       "      <td>POLYGON ((-72.93334 41.68807, -72.93338 41.687...</td>\n",
       "    </tr>\n",
       "    <tr>\n",
       "      <th>4</th>\n",
       "      <td>USA</td>\n",
       "      <td>198 Mohegan Dr, West Hartford, CT 06117, USA</td>\n",
       "      <td>{\"query\": \"198 Mohegan Dr, West Hartford, CT 0...</td>\n",
       "      <td>{'country': 'usa', 'city': 'west hartford', 'r...</td>\n",
       "      <td></td>\n",
       "      <td></td>\n",
       "      <td></td>\n",
       "      <td>198</td>\n",
       "      <td>mohegan dr</td>\n",
       "      <td></td>\n",
       "      <td>...</td>\n",
       "      <td></td>\n",
       "      <td>ct</td>\n",
       "      <td></td>\n",
       "      <td>usa</td>\n",
       "      <td></td>\n",
       "      <td>41.799604</td>\n",
       "      <td>-72.734977</td>\n",
       "      <td>hartford</td>\n",
       "      <td>256ext3gghartford</td>\n",
       "      <td>POLYGON ((-72.72599 41.79960, -72.72604 41.798...</td>\n",
       "    </tr>\n",
       "  </tbody>\n",
       "</table>\n",
       "<p>5 rows × 29 columns</p>\n",
       "</div>"
      ],
      "text/plain": [
       "  country                 searched_query_unidecode_sample  \\\n",
       "0     USA  1781 Mountain Rd, West Suffield, CT 06093, USA   \n",
       "1     USA        182 Alder Ln, Southington, CT 06489, USA   \n",
       "2     USA            19 Hudson Ln, Windsor, CT 06095, USA   \n",
       "3     USA      198 Burlington Ave, Bristol, CT 06010, USA   \n",
       "4     USA    198 Mohegan Dr, West Hartford, CT 06117, USA   \n",
       "\n",
       "                                     libpostal_query  \\\n",
       "0  {\"query\": \"1781 Mountain Rd, West Suffield, CT...   \n",
       "1  {\"query\": \"182 Alder Ln, Southington, CT 06489...   \n",
       "2  {\"query\": \"19 Hudson Ln, Windsor, CT 06095, USA\"}   \n",
       "3  {\"query\": \"198 Burlington Ave, Bristol, CT 060...   \n",
       "4  {\"query\": \"198 Mohegan Dr, West Hartford, CT 0...   \n",
       "\n",
       "                                  libpostal_response libpostal_house  \\\n",
       "0  {'country': 'usa', 'city': 'west suffield', 'r...                   \n",
       "1  {'country': 'usa', 'city': 'southington', 'roa...                   \n",
       "2  {'country': 'usa', 'city': 'windsor', 'road': ...                   \n",
       "3  {'country': 'usa', 'city': 'bristol', 'road': ...                   \n",
       "4  {'country': 'usa', 'city': 'west hartford', 'r...                   \n",
       "\n",
       "  libpostal_category libpostal_near libpostal_house_number  libpostal_road  \\\n",
       "0                                                     1781     mountain rd   \n",
       "1                                                      182        alder ln   \n",
       "2                                                       19       hudson ln   \n",
       "3                                                      198  burlington ave   \n",
       "4                                                      198      mohegan dr   \n",
       "\n",
       "  libpostal_unit  ... libpostal_state_district libpostal_state  \\\n",
       "0                 ...                                       ct   \n",
       "1                 ...                                       ct   \n",
       "2                 ...                                       ct   \n",
       "3                 ...                                       ct   \n",
       "4                 ...                                       ct   \n",
       "\n",
       "  libpostal_country_region libpostal_country libpostal_world_region  \\\n",
       "0                                        usa                          \n",
       "1                                        usa                          \n",
       "2                                        usa                          \n",
       "3                                        usa                          \n",
       "4                                        usa                          \n",
       "\n",
       "  lat_sample lon_sample    county          sample_id  \\\n",
       "0  41.992747 -72.714496  hartford  252ext3gghartford   \n",
       "1  41.600834 -72.909628  hartford  253ext3gghartford   \n",
       "2  41.875854 -72.668264  hartford  254ext3gghartford   \n",
       "3  41.688072 -72.942319  hartford  255ext3gghartford   \n",
       "4  41.799604 -72.734977  hartford  256ext3gghartford   \n",
       "\n",
       "                                            geometry  \n",
       "0  POLYGON ((-72.70551 41.99275, -72.70556 41.992...  \n",
       "1  POLYGON ((-72.90064 41.60083, -72.90069 41.600...  \n",
       "2  POLYGON ((-72.65928 41.87585, -72.65932 41.875...  \n",
       "3  POLYGON ((-72.93334 41.68807, -72.93338 41.687...  \n",
       "4  POLYGON ((-72.72599 41.79960, -72.72604 41.798...  \n",
       "\n",
       "[5 rows x 29 columns]"
      ]
     },
     "execution_count": 9,
     "metadata": {},
     "output_type": "execute_result"
    }
   ],
   "source": [
    "print(sample_gdf.shape)\n",
    "sample_gdf.head()"
   ]
  },
  {
   "cell_type": "markdown",
   "metadata": {
    "application/vnd.databricks.v1+cell": {
     "inputWidgets": {},
     "nuid": "38b9a4e5-4199-4a8d-9602-dc6b65b8213f",
     "showTitle": false,
     "title": ""
    }
   },
   "source": [
    "### Source"
   ]
  },
  {
   "cell_type": "code",
   "execution_count": 10,
   "metadata": {
    "application/vnd.databricks.v1+cell": {
     "inputWidgets": {},
     "nuid": "05a6ab54-3fee-4f88-97f5-675946d73c12",
     "showTitle": false,
     "title": ""
    }
   },
   "outputs": [],
   "source": [
    "source_query = f\"\"\"SELECT * FROM \"STAN_169\".source_v0 where county = '{county}'\"\"\"\n",
    "source_df = raw2p.read_from_db(query = source_query)\n",
    "source_geom = gpd.GeoSeries.from_wkt(source_df.geometry)\n",
    "source_gdf = gpd.GeoDataFrame(source_df.drop('geometry', axis = 1),\n",
    "                                geometry = source_geom,\n",
    "                                crs = 'EPSG:4326')"
   ]
  },
  {
   "cell_type": "code",
   "execution_count": 11,
   "metadata": {},
   "outputs": [
    {
     "data": {
      "text/html": [
       "<div>\n",
       "<style scoped>\n",
       "    .dataframe tbody tr th:only-of-type {\n",
       "        vertical-align: middle;\n",
       "    }\n",
       "\n",
       "    .dataframe tbody tr th {\n",
       "        vertical-align: top;\n",
       "    }\n",
       "\n",
       "    .dataframe thead th {\n",
       "        text-align: right;\n",
       "    }\n",
       "</style>\n",
       "<table border=\"1\" class=\"dataframe\">\n",
       "  <thead>\n",
       "    <tr style=\"text-align: right;\">\n",
       "      <th></th>\n",
       "      <th>feat_id</th>\n",
       "      <th>postal_code</th>\n",
       "      <th>hsn</th>\n",
       "      <th>state</th>\n",
       "      <th>city</th>\n",
       "      <th>street_name</th>\n",
       "      <th>country_code</th>\n",
       "      <th>prefix</th>\n",
       "      <th>suffix</th>\n",
       "      <th>pre_dir</th>\n",
       "      <th>post_dir</th>\n",
       "      <th>x</th>\n",
       "      <th>y</th>\n",
       "      <th>county</th>\n",
       "      <th>geometry</th>\n",
       "    </tr>\n",
       "  </thead>\n",
       "  <tbody>\n",
       "    <tr>\n",
       "      <th>0</th>\n",
       "      <td>00005543-5400-2800-0000-00000003f390</td>\n",
       "      <td>06019</td>\n",
       "      <td>378</td>\n",
       "      <td>CT</td>\n",
       "      <td>Canton</td>\n",
       "      <td>E Hill Rd</td>\n",
       "      <td>USA</td>\n",
       "      <td>None</td>\n",
       "      <td>Rd</td>\n",
       "      <td>E</td>\n",
       "      <td>None</td>\n",
       "      <td>-72.894163</td>\n",
       "      <td>41.862555</td>\n",
       "      <td>hartford</td>\n",
       "      <td>POINT (-72.89416 41.86256)</td>\n",
       "    </tr>\n",
       "    <tr>\n",
       "      <th>1</th>\n",
       "      <td>00005543-5400-2800-0000-00000005670a</td>\n",
       "      <td>06042</td>\n",
       "      <td>28</td>\n",
       "      <td>CT</td>\n",
       "      <td>Manchester</td>\n",
       "      <td>Oliver Rd</td>\n",
       "      <td>USA</td>\n",
       "      <td>None</td>\n",
       "      <td>Rd</td>\n",
       "      <td>None</td>\n",
       "      <td>None</td>\n",
       "      <td>-72.536492</td>\n",
       "      <td>41.782295</td>\n",
       "      <td>hartford</td>\n",
       "      <td>POINT (-72.53649 41.78229)</td>\n",
       "    </tr>\n",
       "    <tr>\n",
       "      <th>2</th>\n",
       "      <td>00005543-5400-2800-0000-00000005ed6e</td>\n",
       "      <td>06062</td>\n",
       "      <td>4</td>\n",
       "      <td>CT</td>\n",
       "      <td>Plainville</td>\n",
       "      <td>Orchard Ln</td>\n",
       "      <td>USA</td>\n",
       "      <td>None</td>\n",
       "      <td>Ln</td>\n",
       "      <td>None</td>\n",
       "      <td>None</td>\n",
       "      <td>-72.884375</td>\n",
       "      <td>41.664746</td>\n",
       "      <td>hartford</td>\n",
       "      <td>POINT (-72.88438 41.66475)</td>\n",
       "    </tr>\n",
       "    <tr>\n",
       "      <th>3</th>\n",
       "      <td>8ec31e82-d77b-4c93-a65f-77ff60cfaedd</td>\n",
       "      <td>06019</td>\n",
       "      <td>25</td>\n",
       "      <td>CT</td>\n",
       "      <td>Canton</td>\n",
       "      <td>Highledge Rd</td>\n",
       "      <td>USA</td>\n",
       "      <td>None</td>\n",
       "      <td>Rd</td>\n",
       "      <td>None</td>\n",
       "      <td>None</td>\n",
       "      <td>-72.893784</td>\n",
       "      <td>41.832629</td>\n",
       "      <td>hartford</td>\n",
       "      <td>POINT (-72.89378 41.83263)</td>\n",
       "    </tr>\n",
       "    <tr>\n",
       "      <th>4</th>\n",
       "      <td>00005543-5400-2800-0000-000000071bd3</td>\n",
       "      <td>06096</td>\n",
       "      <td>126</td>\n",
       "      <td>CT</td>\n",
       "      <td>Windsor Locks</td>\n",
       "      <td>Center St</td>\n",
       "      <td>USA</td>\n",
       "      <td>None</td>\n",
       "      <td>St</td>\n",
       "      <td>None</td>\n",
       "      <td>None</td>\n",
       "      <td>-72.632924</td>\n",
       "      <td>41.936321</td>\n",
       "      <td>hartford</td>\n",
       "      <td>POINT (-72.63292 41.93632)</td>\n",
       "    </tr>\n",
       "  </tbody>\n",
       "</table>\n",
       "</div>"
      ],
      "text/plain": [
       "                                feat_id postal_code  hsn state           city  \\\n",
       "0  00005543-5400-2800-0000-00000003f390       06019  378    CT         Canton   \n",
       "1  00005543-5400-2800-0000-00000005670a       06042   28    CT     Manchester   \n",
       "2  00005543-5400-2800-0000-00000005ed6e       06062    4    CT     Plainville   \n",
       "3  8ec31e82-d77b-4c93-a65f-77ff60cfaedd       06019   25    CT         Canton   \n",
       "4  00005543-5400-2800-0000-000000071bd3       06096  126    CT  Windsor Locks   \n",
       "\n",
       "    street_name country_code prefix suffix pre_dir post_dir          x  \\\n",
       "0     E Hill Rd          USA   None     Rd       E     None -72.894163   \n",
       "1     Oliver Rd          USA   None     Rd    None     None -72.536492   \n",
       "2    Orchard Ln          USA   None     Ln    None     None -72.884375   \n",
       "3  Highledge Rd          USA   None     Rd    None     None -72.893784   \n",
       "4     Center St          USA   None     St    None     None -72.632924   \n",
       "\n",
       "           y    county                    geometry  \n",
       "0  41.862555  hartford  POINT (-72.89416 41.86256)  \n",
       "1  41.782295  hartford  POINT (-72.53649 41.78229)  \n",
       "2  41.664746  hartford  POINT (-72.88438 41.66475)  \n",
       "3  41.832629  hartford  POINT (-72.89378 41.83263)  \n",
       "4  41.936321  hartford  POINT (-72.63292 41.93632)  "
      ]
     },
     "execution_count": 11,
     "metadata": {},
     "output_type": "execute_result"
    }
   ],
   "source": [
    "source_gdf.head()"
   ]
  },
  {
   "cell_type": "code",
   "execution_count": 12,
   "metadata": {
    "application/vnd.databricks.v1+cell": {
     "inputWidgets": {},
     "nuid": "c0e7eb53-b3e5-498f-827b-b5514936c193",
     "showTitle": false,
     "title": ""
    }
   },
   "outputs": [],
   "source": [
    "# gdf = gpd.GeoDataFrame(source_gdf[['feat_id','x','y','county','geometry']], crs=\"epsg:4326\", geometry='geometry')\n",
    "# gdf.to_crs(\"epsg:4326\")\n",
    "# gdf.to_file(os.path.join(data_path,state,county,'Apt_realignment_MSFT_OSM/source_df.shp'), driver='ESRI Shapefile')"
   ]
  },
  {
   "cell_type": "code",
   "execution_count": 13,
   "metadata": {
    "application/vnd.databricks.v1+cell": {
     "inputWidgets": {},
     "nuid": "6bba06ae-596c-4ca1-a4dd-037416be2645",
     "showTitle": false,
     "title": ""
    }
   },
   "outputs": [],
   "source": [
    "# source_df = pd.read_pickle(f'wrang_source_v0_{county}.pickle')\n",
    "# source_gdf = gpd.GeoDataFrame(source_df, geometry = 'geometry', crs='EPSG:4326')"
   ]
  },
  {
   "cell_type": "markdown",
   "metadata": {
    "application/vnd.databricks.v1+cell": {
     "inputWidgets": {},
     "nuid": "c167c72f-778d-4eef-bb8a-1983b5184d54",
     "showTitle": false,
     "title": ""
    }
   },
   "source": [
    "### Ingesting Deltas"
   ]
  },
  {
   "cell_type": "markdown",
   "metadata": {
    "application/vnd.databricks.v1+cell": {
     "inputWidgets": {},
     "nuid": "385e81a0-2b95-4c54-9cd5-bf1cab93c924",
     "showTitle": false,
     "title": ""
    }
   },
   "source": [
    "Here goes the table of new changes to make to coordinates:"
   ]
  },
  {
   "cell_type": "code",
   "execution_count": 14,
   "metadata": {
    "application/vnd.databricks.v1+cell": {
     "inputWidgets": {},
     "nuid": "84345018-efdc-4c03-9c2b-9a9e553c9ee8",
     "showTitle": false,
     "title": ""
    }
   },
   "outputs": [
    {
     "name": "stdout",
     "output_type": "stream",
     "text": [
      "DELTA for updating geometries is  True\n"
     ]
    }
   ],
   "source": [
    "print(\"DELTA for updating geometries is \",delta)\n",
    "if delta:\n",
    "    delta_table_read = pd.read_pickle(Updated_geometries_pickle)\n",
    "    delta_table_read = delta_table_read[['feat_id', 'updated_geometries']]\n",
    "    delta_table_read['datetime_version'] = pd.Timestamp.now(tz = 'utc')\n"
   ]
  },
  {
   "cell_type": "code",
   "execution_count": 15,
   "metadata": {},
   "outputs": [],
   "source": [
    "if delta:\n",
    "    delta_table_read.head()"
   ]
  },
  {
   "cell_type": "code",
   "execution_count": 16,
   "metadata": {
    "application/vnd.databricks.v1+cell": {
     "inputWidgets": {},
     "nuid": "f71becfd-6382-4a49-b85c-61f122e7b37a",
     "showTitle": false,
     "title": ""
    }
   },
   "outputs": [],
   "source": [
    "if delta:\n",
    "    delta_table_write = delta_table_read[['feat_id', 'updated_geometries', 'datetime_version']]\n",
    "    delta_table_write['updated_geometries'] = delta_table_write['updated_geometries'].astype(str)"
   ]
  },
  {
   "cell_type": "code",
   "execution_count": 17,
   "metadata": {
    "application/vnd.databricks.v1+cell": {
     "inputWidgets": {},
     "nuid": "156b32d0-22ff-4543-9f31-27ae0db1313f",
     "showTitle": false,
     "title": ""
    }
   },
   "outputs": [
    {
     "name": "stdout",
     "output_type": "stream",
     "text": [
      "Table stored!\n"
     ]
    }
   ],
   "source": [
    "if delta:\n",
    "    raw2p.write_to_db(df = delta_table_write, schema = 'STAN_169', table_name = 'delta_table')"
   ]
  },
  {
   "cell_type": "markdown",
   "metadata": {
    "application/vnd.databricks.v1+cell": {
     "inputWidgets": {},
     "nuid": "f8d87441-7f3c-431b-b6c5-691cd0269839",
     "showTitle": false,
     "title": ""
    }
   },
   "source": [
    "### Reading Deltas"
   ]
  },
  {
   "cell_type": "code",
   "execution_count": 18,
   "metadata": {
    "application/vnd.databricks.v1+cell": {
     "inputWidgets": {},
     "nuid": "14aee02a-6f08-47df-a700-bb8279c21699",
     "showTitle": false,
     "title": ""
    }
   },
   "outputs": [],
   "source": [
    "if delta:  \n",
    "  delta_query = f\"\"\"\n",
    "  SELECT * FROM \"STAN_169\".delta_table where county = '{county}'\n",
    "  \"\"\"\n",
    "  delta_df = raw2p.read_from_db(query = delta_query)\n",
    "  delta_geom = gpd.GeoSeries.from_wkt(delta_df.updated_geometries)\n",
    "  delta_gdf = gpd.GeoDataFrame(delta_df.drop('updated_geometries', axis = 1),\n",
    "                                  geometry = delta_geom,\n",
    "                                  crs = 'EPSG:4326')"
   ]
  },
  {
   "cell_type": "code",
   "execution_count": 19,
   "metadata": {
    "application/vnd.databricks.v1+cell": {
     "inputWidgets": {},
     "nuid": "22832e61-c735-4e91-b27f-c31b33a53218",
     "showTitle": false,
     "title": ""
    }
   },
   "outputs": [],
   "source": [
    "if delta:\n",
    "  delta_gdf.head()"
   ]
  },
  {
   "cell_type": "markdown",
   "metadata": {
    "application/vnd.databricks.v1+cell": {
     "inputWidgets": {},
     "nuid": "28f59e8f-1c65-4d74-80f4-f5d8e4852636",
     "showTitle": false,
     "title": ""
    }
   },
   "source": [
    "### Replacing Delta Changes"
   ]
  },
  {
   "cell_type": "code",
   "execution_count": 20,
   "metadata": {
    "application/vnd.databricks.v1+cell": {
     "inputWidgets": {},
     "nuid": "342a1c5f-c164-4e5b-8e1a-afa4aa13e282",
     "showTitle": false,
     "title": ""
    }
   },
   "outputs": [],
   "source": [
    "def replace_geometries(source_gdf, delta_gdf):\n",
    "    '''\n",
    "    Takes a 'source' geodataframe - copy of MNR database, a 'delta' geodataframe and replaces, for every APT (key: feat_id) in source dataframe, the \n",
    "    coordinates in the sorce with the coordinates in the new \n",
    "\n",
    "            Parameters:\n",
    "                    source_gdf (gpd.GeoDataFrame): geodataframe containing MNR coordinates for every APT (feat_id)\n",
    "                    delta_gdf (gpd.GeoDataFrame): geodataframe containing NEW coordinates for some APTs (feat_id)\n",
    "\n",
    "            Returns:\n",
    "                    source_gdf_new (gpd.GeoDataFrame): geodataframe containing MNR information for APT but with new coordinates\n",
    "    '''\n",
    "    # \n",
    "    delta_gdf_grouped = delta_gdf[delta_gdf.groupby('feat_id').datetime_version.transform('max') == delta_gdf.datetime_version]\n",
    "\n",
    "    source_gdf_new = source_gdf.merge(delta_gdf_grouped[[\"feat_id\", \"geometry\"]], on=\"feat_id\", how=\"left\")\n",
    "\n",
    "    source_gdf_new.loc[~source_gdf_new.geometry_y.isna(), \"geometry_x\"] = source_gdf_new.loc[~source_gdf_new.geometry_y.isna(), \"geometry_y\"]\n",
    "\n",
    "    source_gdf_new = source_gdf_new.drop([\"geometry_y\"], axis=1).rename({\"geometry_x\": \"geometry\"}, axis = 1)\n",
    "\n",
    "    source_gdf_new = gpd.GeoDataFrame(source_gdf_new.drop('geometry', axis = 1), \n",
    "                                    geometry = source_gdf_new.geometry, crs = 'EPSG:4326')\n",
    "\n",
    "    return source_gdf_new"
   ]
  },
  {
   "cell_type": "code",
   "execution_count": 21,
   "metadata": {
    "application/vnd.databricks.v1+cell": {
     "inputWidgets": {},
     "nuid": "5f902d2d-8f06-4e71-834f-b007231e82dd",
     "showTitle": false,
     "title": ""
    }
   },
   "outputs": [],
   "source": [
    "if delta:\n",
    "    source_delta = replace_geometries(source_gdf, delta_gdf)\n",
    "    source_delta_gdf = gpd.GeoDataFrame(source_delta.drop('geometry', axis = 1), geometry = source_delta.geometry, crs = 'EPSG:4326')\n",
    "    source_delta_gdf.x = source_delta_gdf.geometry.apply(lambda p: p.x)\n",
    "    source_delta_gdf.y = source_delta_gdf.geometry.apply(lambda p: p.y)"
   ]
  },
  {
   "cell_type": "markdown",
   "metadata": {
    "application/vnd.databricks.v1+cell": {
     "inputWidgets": {},
     "nuid": "33574bea-4522-48e7-9af6-8d02e0e09ce2",
     "showTitle": false,
     "title": ""
    }
   },
   "source": [
    "### Joining Sample and Source - Spatial Join"
   ]
  },
  {
   "cell_type": "code",
   "execution_count": 22,
   "metadata": {
    "application/vnd.databricks.v1+cell": {
     "inputWidgets": {},
     "nuid": "dc64a8de-1d19-49eb-b919-7d4594df423a",
     "showTitle": false,
     "title": ""
    }
   },
   "outputs": [],
   "source": [
    "if delta:\n",
    "  joined_sample = source_delta_gdf.sjoin(sample_gdf, how='right', predicate='intersects')\n",
    "else:\n",
    "  joined_sample = source_gdf.sjoin(sample_gdf, how = 'right', predicate = 'intersects')"
   ]
  },
  {
   "cell_type": "code",
   "execution_count": 23,
   "metadata": {
    "application/vnd.databricks.v1+cell": {
     "inputWidgets": {},
     "nuid": "c3fd6e3d-4a06-48ea-8517-9b8970c063ab",
     "showTitle": false,
     "title": ""
    }
   },
   "outputs": [
    {
     "data": {
      "text/html": [
       "<div>\n",
       "<style scoped>\n",
       "    .dataframe tbody tr th:only-of-type {\n",
       "        vertical-align: middle;\n",
       "    }\n",
       "\n",
       "    .dataframe tbody tr th {\n",
       "        vertical-align: top;\n",
       "    }\n",
       "\n",
       "    .dataframe thead th {\n",
       "        text-align: right;\n",
       "    }\n",
       "</style>\n",
       "<table border=\"1\" class=\"dataframe\">\n",
       "  <thead>\n",
       "    <tr style=\"text-align: right;\">\n",
       "      <th></th>\n",
       "      <th>index_left</th>\n",
       "      <th>feat_id</th>\n",
       "      <th>postal_code</th>\n",
       "      <th>hsn</th>\n",
       "      <th>state</th>\n",
       "      <th>city</th>\n",
       "      <th>street_name</th>\n",
       "      <th>country_code</th>\n",
       "      <th>prefix</th>\n",
       "      <th>suffix</th>\n",
       "      <th>...</th>\n",
       "      <th>libpostal_state_district</th>\n",
       "      <th>libpostal_state</th>\n",
       "      <th>libpostal_country_region</th>\n",
       "      <th>libpostal_country</th>\n",
       "      <th>libpostal_world_region</th>\n",
       "      <th>lat_sample</th>\n",
       "      <th>lon_sample</th>\n",
       "      <th>county_right</th>\n",
       "      <th>sample_id</th>\n",
       "      <th>geometry</th>\n",
       "    </tr>\n",
       "  </thead>\n",
       "  <tbody>\n",
       "    <tr>\n",
       "      <th>0</th>\n",
       "      <td>177.0</td>\n",
       "      <td>00005543-5400-2800-0000-0000000e9546</td>\n",
       "      <td>06093</td>\n",
       "      <td>90</td>\n",
       "      <td>CT</td>\n",
       "      <td>West Suffield</td>\n",
       "      <td>N Stone St</td>\n",
       "      <td>USA</td>\n",
       "      <td>None</td>\n",
       "      <td>St</td>\n",
       "      <td>...</td>\n",
       "      <td></td>\n",
       "      <td>ct</td>\n",
       "      <td></td>\n",
       "      <td>usa</td>\n",
       "      <td></td>\n",
       "      <td>41.992747</td>\n",
       "      <td>-72.714496</td>\n",
       "      <td>hartford</td>\n",
       "      <td>252ext3gghartford</td>\n",
       "      <td>POLYGON ((-72.70551 41.99275, -72.70556 41.992...</td>\n",
       "    </tr>\n",
       "    <tr>\n",
       "      <th>0</th>\n",
       "      <td>12058.0</td>\n",
       "      <td>00005543-5400-2800-0000-0000000e9543</td>\n",
       "      <td>06093</td>\n",
       "      <td>148</td>\n",
       "      <td>CT</td>\n",
       "      <td>West Suffield</td>\n",
       "      <td>N Stone St</td>\n",
       "      <td>USA</td>\n",
       "      <td>None</td>\n",
       "      <td>St</td>\n",
       "      <td>...</td>\n",
       "      <td></td>\n",
       "      <td>ct</td>\n",
       "      <td></td>\n",
       "      <td>usa</td>\n",
       "      <td></td>\n",
       "      <td>41.992747</td>\n",
       "      <td>-72.714496</td>\n",
       "      <td>hartford</td>\n",
       "      <td>252ext3gghartford</td>\n",
       "      <td>POLYGON ((-72.70551 41.99275, -72.70556 41.992...</td>\n",
       "    </tr>\n",
       "    <tr>\n",
       "      <th>0</th>\n",
       "      <td>12312.0</td>\n",
       "      <td>00005543-5400-2800-0000-0000000e9559</td>\n",
       "      <td>06093</td>\n",
       "      <td>233</td>\n",
       "      <td>CT</td>\n",
       "      <td>West Suffield</td>\n",
       "      <td>N Stone St</td>\n",
       "      <td>USA</td>\n",
       "      <td>None</td>\n",
       "      <td>St</td>\n",
       "      <td>...</td>\n",
       "      <td></td>\n",
       "      <td>ct</td>\n",
       "      <td></td>\n",
       "      <td>usa</td>\n",
       "      <td></td>\n",
       "      <td>41.992747</td>\n",
       "      <td>-72.714496</td>\n",
       "      <td>hartford</td>\n",
       "      <td>252ext3gghartford</td>\n",
       "      <td>POLYGON ((-72.70551 41.99275, -72.70556 41.992...</td>\n",
       "    </tr>\n",
       "    <tr>\n",
       "      <th>0</th>\n",
       "      <td>14007.0</td>\n",
       "      <td>00005543-5400-2800-0000-0000000e953e</td>\n",
       "      <td>06093</td>\n",
       "      <td>1761</td>\n",
       "      <td>CT</td>\n",
       "      <td>West Suffield</td>\n",
       "      <td>Mountain Rd</td>\n",
       "      <td>USA</td>\n",
       "      <td>None</td>\n",
       "      <td>Rd</td>\n",
       "      <td>...</td>\n",
       "      <td></td>\n",
       "      <td>ct</td>\n",
       "      <td></td>\n",
       "      <td>usa</td>\n",
       "      <td></td>\n",
       "      <td>41.992747</td>\n",
       "      <td>-72.714496</td>\n",
       "      <td>hartford</td>\n",
       "      <td>252ext3gghartford</td>\n",
       "      <td>POLYGON ((-72.70551 41.99275, -72.70556 41.992...</td>\n",
       "    </tr>\n",
       "    <tr>\n",
       "      <th>0</th>\n",
       "      <td>15913.0</td>\n",
       "      <td>00005543-5400-2800-0000-0000000e9552</td>\n",
       "      <td>06093</td>\n",
       "      <td>53</td>\n",
       "      <td>CT</td>\n",
       "      <td>West Suffield</td>\n",
       "      <td>N Stone St</td>\n",
       "      <td>USA</td>\n",
       "      <td>None</td>\n",
       "      <td>St</td>\n",
       "      <td>...</td>\n",
       "      <td></td>\n",
       "      <td>ct</td>\n",
       "      <td></td>\n",
       "      <td>usa</td>\n",
       "      <td></td>\n",
       "      <td>41.992747</td>\n",
       "      <td>-72.714496</td>\n",
       "      <td>hartford</td>\n",
       "      <td>252ext3gghartford</td>\n",
       "      <td>POLYGON ((-72.70551 41.99275, -72.70556 41.992...</td>\n",
       "    </tr>\n",
       "  </tbody>\n",
       "</table>\n",
       "<p>5 rows × 44 columns</p>\n",
       "</div>"
      ],
      "text/plain": [
       "   index_left                               feat_id postal_code   hsn state  \\\n",
       "0       177.0  00005543-5400-2800-0000-0000000e9546       06093    90    CT   \n",
       "0     12058.0  00005543-5400-2800-0000-0000000e9543       06093   148    CT   \n",
       "0     12312.0  00005543-5400-2800-0000-0000000e9559       06093   233    CT   \n",
       "0     14007.0  00005543-5400-2800-0000-0000000e953e       06093  1761    CT   \n",
       "0     15913.0  00005543-5400-2800-0000-0000000e9552       06093    53    CT   \n",
       "\n",
       "            city  street_name country_code prefix suffix  ...  \\\n",
       "0  West Suffield   N Stone St          USA   None     St  ...   \n",
       "0  West Suffield   N Stone St          USA   None     St  ...   \n",
       "0  West Suffield   N Stone St          USA   None     St  ...   \n",
       "0  West Suffield  Mountain Rd          USA   None     Rd  ...   \n",
       "0  West Suffield   N Stone St          USA   None     St  ...   \n",
       "\n",
       "  libpostal_state_district libpostal_state  libpostal_country_region  \\\n",
       "0                                       ct                             \n",
       "0                                       ct                             \n",
       "0                                       ct                             \n",
       "0                                       ct                             \n",
       "0                                       ct                             \n",
       "\n",
       "   libpostal_country libpostal_world_region lat_sample lon_sample  \\\n",
       "0                usa                         41.992747 -72.714496   \n",
       "0                usa                         41.992747 -72.714496   \n",
       "0                usa                         41.992747 -72.714496   \n",
       "0                usa                         41.992747 -72.714496   \n",
       "0                usa                         41.992747 -72.714496   \n",
       "\n",
       "  county_right          sample_id  \\\n",
       "0     hartford  252ext3gghartford   \n",
       "0     hartford  252ext3gghartford   \n",
       "0     hartford  252ext3gghartford   \n",
       "0     hartford  252ext3gghartford   \n",
       "0     hartford  252ext3gghartford   \n",
       "\n",
       "                                            geometry  \n",
       "0  POLYGON ((-72.70551 41.99275, -72.70556 41.992...  \n",
       "0  POLYGON ((-72.70551 41.99275, -72.70556 41.992...  \n",
       "0  POLYGON ((-72.70551 41.99275, -72.70556 41.992...  \n",
       "0  POLYGON ((-72.70551 41.99275, -72.70556 41.992...  \n",
       "0  POLYGON ((-72.70551 41.99275, -72.70556 41.992...  \n",
       "\n",
       "[5 rows x 44 columns]"
      ]
     },
     "execution_count": 23,
     "metadata": {},
     "output_type": "execute_result"
    }
   ],
   "source": [
    "joined_sample.head()"
   ]
  },
  {
   "cell_type": "code",
   "execution_count": 24,
   "metadata": {
    "application/vnd.databricks.v1+cell": {
     "inputWidgets": {},
     "nuid": "8549df1e-dc2c-4509-8858-c311093375c8",
     "showTitle": false,
     "title": ""
    }
   },
   "outputs": [],
   "source": [
    "# if delta: \n",
    "#   del source_gdf\n",
    "#   del delta_gdf\n",
    "# else:\n",
    "#   del source_delta_gdf"
   ]
  },
  {
   "cell_type": "code",
   "execution_count": 25,
   "metadata": {
    "application/vnd.databricks.v1+cell": {
     "inputWidgets": {},
     "nuid": "50776690-dbe4-4161-8c7b-e8ca6db7953b",
     "showTitle": false,
     "title": ""
    }
   },
   "outputs": [],
   "source": [
    "joined_sample.rename({\n",
    "    'hsn': 'hsnum',\n",
    "    'street_name': 'st_name',\n",
    "    'postal_code': 'zip_code'\n",
    "},\n",
    "axis = 1, \n",
    "inplace = True)"
   ]
  },
  {
   "cell_type": "markdown",
   "metadata": {
    "application/vnd.databricks.v1+cell": {
     "inputWidgets": {},
     "nuid": "96bc118c-eb99-43e8-9af8-500bcddea5cf",
     "showTitle": false,
     "title": ""
    }
   },
   "source": [
    "# Parsing Joined Sample"
   ]
  },
  {
   "cell_type": "code",
   "execution_count": 26,
   "metadata": {
    "application/vnd.databricks.v1+cell": {
     "inputWidgets": {},
     "nuid": "7dd6d47a-6a09-4481-a0b6-d5774d8e91bb",
     "showTitle": false,
     "title": ""
    }
   },
   "outputs": [],
   "source": [
    "def parse_joined_sample(spatial_joined_df: pd.DataFrame) -> pd.DataFrame:\n",
    "    '''Function inversely parses the addresses to create a searched query format so that the addresses in the source \n",
    "    can be compared to the addresses in the sample.\n",
    "\n",
    "    :param spatial_joined_df: DataFrame that contains the addresses from the source that are within the polygon of \n",
    "    the sample generated. It must contain the columns: ['hsn', 'unit_type', 'unit_num', 'pre_dir', 'prefix', 'suffix'\n",
    "    'post_dir', 'city', 'state', 'zip_code']\n",
    "    :type spatial_joined_df: pd.DataFrame\n",
    "    :return: The same dataframe with a column that contains the full addresses inversely parsed.\n",
    "    :rtype: pd.DataFrame\n",
    "    '''\n",
    "\n",
    "    df = spatial_joined_df.copy()\n",
    "\n",
    "    dict_of_columns = {\n",
    "        'hsnum': ' ', 'pre_dir': ' ', 'st_name': ' ', 'suffix': ', ', 'city': ' ', 'state': ' ', 'zip_code': ', ', 'country': ''\n",
    "    }\n",
    "    df['pre_dir'].fillna('', inplace=True)\n",
    "    df['prefix'].fillna('', inplace=True)\n",
    "    df['suffix'].fillna('', inplace=True)\n",
    "    df['post_dir'].fillna('', inplace=True)\n",
    "\n",
    "    for column in dict_of_columns.keys():\n",
    "\n",
    "        df[column + '_modified'] = df[column].astype(str) + dict_of_columns[column]\n",
    "\n",
    "    list_of_modified_columns = [col for col in df.columns if '_modified' in col]\n",
    "\n",
    "    df['searched_query'] = df[list_of_modified_columns].sum(axis=1)\n",
    "\n",
    "    df['street_name'] = df['pre_dir'] + ' ' + df['prefix'] + ' ' + df['st_name'] + ' ' + df['suffix'] + ' ' + df['post_dir']\n",
    "    df['name'] = '' #df['state']\n",
    "\n",
    "    df = df.rename(columns={'hsnum': 'hsn', 'searched_query': 'address', 'zip_code': 'postal_code', 'city': 'place_name', 'y': 'lat', 'x': 'lon'})\n",
    "    return df"
   ]
  },
  {
   "cell_type": "code",
   "execution_count": 27,
   "metadata": {
    "application/vnd.databricks.v1+cell": {
     "inputWidgets": {},
     "nuid": "08624024-3a9d-4461-b506-00f9b3031597",
     "showTitle": false,
     "title": ""
    }
   },
   "outputs": [
    {
     "data": {
      "text/html": [
       "<div>\n",
       "<style scoped>\n",
       "    .dataframe tbody tr th:only-of-type {\n",
       "        vertical-align: middle;\n",
       "    }\n",
       "\n",
       "    .dataframe tbody tr th {\n",
       "        vertical-align: top;\n",
       "    }\n",
       "\n",
       "    .dataframe thead th {\n",
       "        text-align: right;\n",
       "    }\n",
       "</style>\n",
       "<table border=\"1\" class=\"dataframe\">\n",
       "  <thead>\n",
       "    <tr style=\"text-align: right;\">\n",
       "      <th></th>\n",
       "      <th>index_left</th>\n",
       "      <th>feat_id</th>\n",
       "      <th>postal_code</th>\n",
       "      <th>hsn</th>\n",
       "      <th>state</th>\n",
       "      <th>place_name</th>\n",
       "      <th>st_name</th>\n",
       "      <th>country_code</th>\n",
       "      <th>prefix</th>\n",
       "      <th>suffix</th>\n",
       "      <th>...</th>\n",
       "      <th>pre_dir_modified</th>\n",
       "      <th>st_name_modified</th>\n",
       "      <th>suffix_modified</th>\n",
       "      <th>city_modified</th>\n",
       "      <th>state_modified</th>\n",
       "      <th>zip_code_modified</th>\n",
       "      <th>country_modified</th>\n",
       "      <th>address</th>\n",
       "      <th>street_name</th>\n",
       "      <th>name</th>\n",
       "    </tr>\n",
       "  </thead>\n",
       "  <tbody>\n",
       "    <tr>\n",
       "      <th>0</th>\n",
       "      <td>177.0</td>\n",
       "      <td>00005543-5400-2800-0000-0000000e9546</td>\n",
       "      <td>06093</td>\n",
       "      <td>90</td>\n",
       "      <td>CT</td>\n",
       "      <td>West Suffield</td>\n",
       "      <td>N Stone St</td>\n",
       "      <td>USA</td>\n",
       "      <td></td>\n",
       "      <td>St</td>\n",
       "      <td>...</td>\n",
       "      <td>N</td>\n",
       "      <td>N Stone St</td>\n",
       "      <td>St,</td>\n",
       "      <td>West Suffield</td>\n",
       "      <td>CT</td>\n",
       "      <td>06093,</td>\n",
       "      <td>USA</td>\n",
       "      <td>90 N N Stone St St, West Suffield CT 06093, USA</td>\n",
       "      <td>N  N Stone St St</td>\n",
       "      <td></td>\n",
       "    </tr>\n",
       "    <tr>\n",
       "      <th>0</th>\n",
       "      <td>12058.0</td>\n",
       "      <td>00005543-5400-2800-0000-0000000e9543</td>\n",
       "      <td>06093</td>\n",
       "      <td>148</td>\n",
       "      <td>CT</td>\n",
       "      <td>West Suffield</td>\n",
       "      <td>N Stone St</td>\n",
       "      <td>USA</td>\n",
       "      <td></td>\n",
       "      <td>St</td>\n",
       "      <td>...</td>\n",
       "      <td>N</td>\n",
       "      <td>N Stone St</td>\n",
       "      <td>St,</td>\n",
       "      <td>West Suffield</td>\n",
       "      <td>CT</td>\n",
       "      <td>06093,</td>\n",
       "      <td>USA</td>\n",
       "      <td>148 N N Stone St St, West Suffield CT 06093, USA</td>\n",
       "      <td>N  N Stone St St</td>\n",
       "      <td></td>\n",
       "    </tr>\n",
       "    <tr>\n",
       "      <th>0</th>\n",
       "      <td>12312.0</td>\n",
       "      <td>00005543-5400-2800-0000-0000000e9559</td>\n",
       "      <td>06093</td>\n",
       "      <td>233</td>\n",
       "      <td>CT</td>\n",
       "      <td>West Suffield</td>\n",
       "      <td>N Stone St</td>\n",
       "      <td>USA</td>\n",
       "      <td></td>\n",
       "      <td>St</td>\n",
       "      <td>...</td>\n",
       "      <td>N</td>\n",
       "      <td>N Stone St</td>\n",
       "      <td>St,</td>\n",
       "      <td>West Suffield</td>\n",
       "      <td>CT</td>\n",
       "      <td>06093,</td>\n",
       "      <td>USA</td>\n",
       "      <td>233 N N Stone St St, West Suffield CT 06093, USA</td>\n",
       "      <td>N  N Stone St St</td>\n",
       "      <td></td>\n",
       "    </tr>\n",
       "    <tr>\n",
       "      <th>0</th>\n",
       "      <td>14007.0</td>\n",
       "      <td>00005543-5400-2800-0000-0000000e953e</td>\n",
       "      <td>06093</td>\n",
       "      <td>1761</td>\n",
       "      <td>CT</td>\n",
       "      <td>West Suffield</td>\n",
       "      <td>Mountain Rd</td>\n",
       "      <td>USA</td>\n",
       "      <td></td>\n",
       "      <td>Rd</td>\n",
       "      <td>...</td>\n",
       "      <td></td>\n",
       "      <td>Mountain Rd</td>\n",
       "      <td>Rd,</td>\n",
       "      <td>West Suffield</td>\n",
       "      <td>CT</td>\n",
       "      <td>06093,</td>\n",
       "      <td>USA</td>\n",
       "      <td>1761  Mountain Rd Rd, West Suffield CT 06093, USA</td>\n",
       "      <td>Mountain Rd Rd</td>\n",
       "      <td></td>\n",
       "    </tr>\n",
       "    <tr>\n",
       "      <th>0</th>\n",
       "      <td>15913.0</td>\n",
       "      <td>00005543-5400-2800-0000-0000000e9552</td>\n",
       "      <td>06093</td>\n",
       "      <td>53</td>\n",
       "      <td>CT</td>\n",
       "      <td>West Suffield</td>\n",
       "      <td>N Stone St</td>\n",
       "      <td>USA</td>\n",
       "      <td></td>\n",
       "      <td>St</td>\n",
       "      <td>...</td>\n",
       "      <td>N</td>\n",
       "      <td>N Stone St</td>\n",
       "      <td>St,</td>\n",
       "      <td>West Suffield</td>\n",
       "      <td>CT</td>\n",
       "      <td>06093,</td>\n",
       "      <td>USA</td>\n",
       "      <td>53 N N Stone St St, West Suffield CT 06093, USA</td>\n",
       "      <td>N  N Stone St St</td>\n",
       "      <td></td>\n",
       "    </tr>\n",
       "  </tbody>\n",
       "</table>\n",
       "<p>5 rows × 55 columns</p>\n",
       "</div>"
      ],
      "text/plain": [
       "   index_left                               feat_id postal_code   hsn state  \\\n",
       "0       177.0  00005543-5400-2800-0000-0000000e9546       06093    90    CT   \n",
       "0     12058.0  00005543-5400-2800-0000-0000000e9543       06093   148    CT   \n",
       "0     12312.0  00005543-5400-2800-0000-0000000e9559       06093   233    CT   \n",
       "0     14007.0  00005543-5400-2800-0000-0000000e953e       06093  1761    CT   \n",
       "0     15913.0  00005543-5400-2800-0000-0000000e9552       06093    53    CT   \n",
       "\n",
       "      place_name      st_name country_code prefix suffix  ...  \\\n",
       "0  West Suffield   N Stone St          USA            St  ...   \n",
       "0  West Suffield   N Stone St          USA            St  ...   \n",
       "0  West Suffield   N Stone St          USA            St  ...   \n",
       "0  West Suffield  Mountain Rd          USA            Rd  ...   \n",
       "0  West Suffield   N Stone St          USA            St  ...   \n",
       "\n",
       "  pre_dir_modified st_name_modified  suffix_modified   city_modified  \\\n",
       "0               N       N Stone St              St,   West Suffield    \n",
       "0               N       N Stone St              St,   West Suffield    \n",
       "0               N       N Stone St              St,   West Suffield    \n",
       "0                      Mountain Rd              Rd,   West Suffield    \n",
       "0               N       N Stone St              St,   West Suffield    \n",
       "\n",
       "  state_modified zip_code_modified country_modified  \\\n",
       "0            CT            06093,               USA   \n",
       "0            CT            06093,               USA   \n",
       "0            CT            06093,               USA   \n",
       "0            CT            06093,               USA   \n",
       "0            CT            06093,               USA   \n",
       "\n",
       "                                             address        street_name name  \n",
       "0    90 N N Stone St St, West Suffield CT 06093, USA  N  N Stone St St        \n",
       "0   148 N N Stone St St, West Suffield CT 06093, USA  N  N Stone St St        \n",
       "0   233 N N Stone St St, West Suffield CT 06093, USA  N  N Stone St St        \n",
       "0  1761  Mountain Rd Rd, West Suffield CT 06093, USA    Mountain Rd Rd        \n",
       "0    53 N N Stone St St, West Suffield CT 06093, USA  N  N Stone St St        \n",
       "\n",
       "[5 rows x 55 columns]"
      ]
     },
     "execution_count": 27,
     "metadata": {},
     "output_type": "execute_result"
    }
   ],
   "source": [
    "parsed_df = parse_joined_sample(joined_sample)\n",
    "parsed_df.head()"
   ]
  },
  {
   "cell_type": "code",
   "execution_count": 28,
   "metadata": {
    "application/vnd.databricks.v1+cell": {
     "inputWidgets": {},
     "nuid": "752e86ec-e2fa-4244-8d43-c5e5ad61806c",
     "showTitle": false,
     "title": ""
    }
   },
   "outputs": [],
   "source": [
    "del joined_sample"
   ]
  },
  {
   "cell_type": "markdown",
   "metadata": {
    "application/vnd.databricks.v1+cell": {
     "inputWidgets": {},
     "nuid": "7b0421aa-4025-4ff1-9dcb-09d177874c55",
     "showTitle": false,
     "title": ""
    }
   },
   "source": [
    "# Matching Adresses"
   ]
  },
  {
   "cell_type": "code",
   "execution_count": 29,
   "metadata": {
    "application/vnd.databricks.v1+cell": {
     "inputWidgets": {},
     "nuid": "f221a505-b239-4e9a-912d-a64df5ebf212",
     "showTitle": false,
     "title": ""
    }
   },
   "outputs": [],
   "source": [
    "def apt_similarity_filter(\n",
    "    #country:str,\n",
    "    df:pd.DataFrame,\n",
    "    sample_df:pd.DataFrame,\n",
    "    stopwords_pattern: str = '') -> pd.DataFrame:\n",
    "    \"\"\"Performs matching after making call in a given radius\n",
    "\n",
    "    :param country: country to call in MNR\n",
    "    :type country: str\n",
    "    :param df: DataFrame containing the sample addresses (must have coordinates)\n",
    "    :type df: pd.DataFrame\n",
    "    :param sample_df: DataFrame containing libpostal components for sample (df) addresses\n",
    "    :type sample_df: pd.DataFrame\n",
    "    :param radius: radius of the buffer\n",
    "    :type radius: float\n",
    "    :param inner_radius: radius in meters of a smaller buffer. When bigger than zero, we are essentially getting the point in a disk, defaults to 0\n",
    "    :type inner_radius: int or float, optional\n",
    "    :param stopwords_pattern: regex pattern to remove stopwords, if needed. Optional, defaults to None\n",
    "    :type stopwords_pattern: str\n",
    "    :return: DataFrame with the APTs that matched\n",
    "    :rtype: pd.DataFrame\n",
    "    \"\"\"\n",
    "    apts_df = df.copy()\n",
    "\n",
    "    # Fill NAs\n",
    "    apts_df[['address', 'street_name', 'hsn', 'postal_code',\n",
    "                    'place_name', 'name']] = apts_df[['address', 'street_name', 'hsn',\n",
    "                                                                            'postal_code', 'place_name', 'name']].fillna('')\n",
    "\n",
    "    # Drop duplicates\n",
    "    #apts_df = apts_df.drop_duplicates(['searched_query', 'address']).reset_index(drop=True)\n",
    "    \n",
    "    \n",
    "    # Create extra columns for stopwords, optional unidecode \n",
    "    cols_stopwords = ['address', 'street_name', 'place_name']\n",
    "    for col in cols_stopwords:\n",
    "        col_create = col + '_no_stopwords'\n",
    "        apts_df[col_create] =  apts_df[col].str.replace(stopwords_pattern, '', case=False, regex=True)\n",
    "        \n",
    "    for col in cols_stopwords:\n",
    "        col_create = col + '_no_stopwords_unidecode'\n",
    "        apts_df[col_create] =  apts_df[col+'_no_stopwords'].apply(lambda x: unidecode.unidecode(x))\n",
    "        \n",
    "    \n",
    "    # Merge to APTs\n",
    "    #apts_df = apts_df.merge(sample_df.drop(columns=['country', 'searched_query_unidecode_sample']),\n",
    "    #                                      how='left', \n",
    "    #                                      on=['searched_query'])\n",
    "    apts_df['libpostal_road_no_stopwords'] = apts_df.libpostal_road.str.replace(stopwords_pattern, '', case=False, regex=True)\n",
    "\n",
    "\n",
    "    # House number similarity: filter obvious non matches\n",
    "    apts_df['hsn_similarity'] = list(map(fuzz.token_set_ratio, apts_df.libpostal_house_number, apts_df.hsn))\n",
    "    apts_df['re_pattern'] = '\\\\b' + apts_df.hsn.astype(str) + '\\\\b'\n",
    "    #apts_df['hsn_in_query'] = apts_df.apply(lambda x: bool(re.search(x.re_pattern, x.searched_query_unidecode_sample)), axis=1)\n",
    "    #apts_df['hsn_similarity'] = np.where((apts_df.hsn_in_query), 100, apts_df.hsn_similarity)\n",
    "\n",
    "    dropped_df = apts_df.loc[apts_df.hsn_similarity <= 60].reset_index(drop=True)\n",
    "    \n",
    "    \n",
    "    apts_df = apts_df.loc[apts_df.hsn_similarity > 60].reset_index(drop=True)\n",
    "\n",
    "    # Postal code similarity\n",
    "    apts_df['postcode_similarity'] = list(map(fuzz.WRatio, \n",
    "                                                     apts_df.libpostal_postcode, \n",
    "                                                     apts_df.postal_code.fillna('').astype(str)))\n",
    "    apts_df['postcode_similarity'] = np.where(apts_df.libpostal_postcode=='', np.nan,\n",
    "                                                     np.where(apts_df.postal_code=='', 50, apts_df.postcode_similarity))\n",
    "\n",
    "    \n",
    "    # Road similarity\n",
    "    apts_df['road_similarity'] = list(map(fuzz.token_set_ratio, \n",
    "                                                 apts_df.libpostal_road_no_stopwords, \n",
    "                                                 apts_df.street_name_no_stopwords))\n",
    "    apts_df['road_similarity_unidecode'] = list(map(fuzz.token_set_ratio, \n",
    "                                                           apts_df.libpostal_road_no_stopwords, \n",
    "                                                           apts_df.street_name_no_stopwords_unidecode)) \n",
    "    apts_df['road_similarity'] = apts_df[['road_similarity', 'road_similarity_unidecode']].max(axis=1)\n",
    "    \n",
    "    # Locality similarity\n",
    "    apts_df['searched_query_tokens'] = (apts_df.libpostal_road.astype(str) + ' ' + \n",
    "                                               apts_df.libpostal_house_number.astype(str) + ' ' + \n",
    "                                               apts_df.libpostal_postcode.astype(str))\n",
    "    \n",
    "    apts_df['provider_tokens'] = (apts_df.street_name.astype(str) + ' ' + \n",
    "                                         apts_df.hsn.astype(str) + ' ' + apts_df.postal_code.astype(str))\n",
    "    apts_df['aux_searched_query'] = apts_df.apply(lambda x: automatic_matching.replace_tokens(x.searched_query_unidecode_sample, x.searched_query_tokens), axis=1)\n",
    "    apts_df['aux_provider_address'] = apts_df.apply(lambda x: automatic_matching.replace_tokens(x.address, x.provider_tokens), axis=1)\n",
    "    apts_df['aux_provider_address'] = apts_df.aux_provider_address.fillna('').apply(lambda x: unidecode.unidecode(x))\n",
    "    apts_df['locality_wratio'] = apts_df.apply(lambda x: fuzz.WRatio(str(x.aux_searched_query).lower(), str(x.aux_provider_address).lower()), axis=1)\n",
    "    apts_df['locality_city_state_ratio'] = apts_df.apply(lambda x: fuzz.WRatio(str(x.libpostal_city) + ' ' + str(x.libpostal_state),\n",
    "                                                                                            str(x.place_name) + ' ' + str(x.name)), axis=1)\n",
    "    apts_df['locality_similarity'] = apts_df[['locality_wratio', 'locality_city_state_ratio']].mean(axis=1)\n",
    "\n",
    "    apts_df['mnr_query_distance'] = apts_df.apply(lambda x: haversine_distance(x.lat, x.lon,\n",
    "                                                                                               x.lat_sample, x.lon_sample)\n",
    "                                                                  if not np.isnan(x.lat) else 1e7\n",
    "                                                                  , axis=1)\n",
    "\n",
    "    # Compute mean similarity\n",
    "    apts_df['mean_similarity'] = (apts_df[['locality_similarity', 'hsn_similarity', \n",
    "                                                         'postcode_similarity', 'road_similarity']].mean(axis=1)\n",
    "                                        * np.where(apts_df.hsn_similarity >= 70 , 1, 0)\n",
    "                                        * np.where(apts_df.road_similarity >= 60 , 1, 0)  \n",
    "                                        * np.where(apts_df.mnr_query_distance > 1000, 0, 1)\n",
    "                                        )\n",
    "\n",
    "\n",
    "    apts_df_matching = (\n",
    "        apts_df.sort_values(by='mnr_query_distance')\n",
    "        .loc[apts_df.groupby(['sample_id'])\n",
    "        .mean_similarity.idxmax()]\n",
    "        .reset_index(drop=True)\n",
    "    )\n",
    "\n",
    "\n",
    "    # Compute matching\n",
    "    apts_df_matching['match'] = pd.NaT\n",
    "    \n",
    "    apts_df_matching['match'] = np.where(apts_df_matching.mean_similarity >= 70, 1, pd.NaT) #90 so far best\n",
    "\n",
    "    #address_matches = apts_df_matching['searched_query_unidecode_sample']\n",
    "    address_sample_ids = apts_df_matching['sample_id']\n",
    "    \n",
    "    #non_matches = dropped_df[~dropped_df['searched_query_unidecode_sample'].isin(address_matches)]\n",
    "    non_matches_ids = dropped_df[~dropped_df['sample_id'].isin(address_sample_ids)]\n",
    "    \n",
    "    #addresses_to_add = non_matches['searched_query_unidecode_sample'].unique()\n",
    "    addresses_to_add_ids = non_matches_ids['sample_id'].unique()\n",
    "     \n",
    "    addresses_id_df = pd.DataFrame(\n",
    "        {'sample_id': addresses_to_add_ids, 'match': [pd.NaT] * len(addresses_to_add_ids)}\n",
    "    )\n",
    "    \n",
    "    addresses_id_df = addresses_id_df.merge(sample_df[['sample_id', 'searched_query_unidecode_sample']], on = 'sample_id', how = 'left')\n",
    "    \n",
    "    cols_to_add = [col for col in apts_df_matching if col not in addresses_id_df.columns]\n",
    "    \n",
    "    addresses_id_df.loc[:, cols_to_add] = ''\n",
    "    addresses_id_df_reordered = addresses_id_df[apts_df_matching.columns]\n",
    "    \n",
    "    apts_final = pd.concat([apts_df_matching, addresses_id_df_reordered])\n",
    "    \n",
    "\n",
    "    return apts_final"
   ]
  },
  {
   "cell_type": "code",
   "execution_count": 30,
   "metadata": {
    "application/vnd.databricks.v1+cell": {
     "inputWidgets": {},
     "nuid": "2cbeaf40-fad6-486a-aea6-dfbd37ad74fe",
     "showTitle": false,
     "title": ""
    }
   },
   "outputs": [],
   "source": [
    "similarity_df = apt_similarity_filter(df = parsed_df, sample_df = sample_gdf, stopwords_pattern = countries_stopwords.get('us'))\n",
    "del sample_gdf\n",
    "del parsed_df"
   ]
  },
  {
   "cell_type": "code",
   "execution_count": 31,
   "metadata": {
    "application/vnd.databricks.v1+cell": {
     "inputWidgets": {},
     "nuid": "68943219-58f1-488f-9fa4-2b9f80e78dcf",
     "showTitle": false,
     "title": ""
    }
   },
   "outputs": [
    {
     "name": "stdout",
     "output_type": "stream",
     "text": [
      "The proportion of matches is: 90.93%\n"
     ]
    }
   ],
   "source": [
    "similarity_df['match'] = similarity_df['match'].fillna(0)\n",
    "\n",
    "match_proportion = np.mean(similarity_df['match'])\n",
    "clean_proportion = round(match_proportion * 100, 2)\n",
    "print(f'The proportion of matches is: {clean_proportion}%')"
   ]
  },
  {
   "cell_type": "code",
   "execution_count": 32,
   "metadata": {
    "application/vnd.databricks.v1+cell": {
     "inputWidgets": {},
     "nuid": "f3ab8acb-fc89-44ff-9651-ffda7f50f5cb",
     "showTitle": false,
     "title": ""
    }
   },
   "outputs": [
    {
     "name": "stdout",
     "output_type": "stream",
     "text": [
      "(4379, 77)\n"
     ]
    },
    {
     "data": {
      "text/html": [
       "<div>\n",
       "<style scoped>\n",
       "    .dataframe tbody tr th:only-of-type {\n",
       "        vertical-align: middle;\n",
       "    }\n",
       "\n",
       "    .dataframe tbody tr th {\n",
       "        vertical-align: top;\n",
       "    }\n",
       "\n",
       "    .dataframe thead th {\n",
       "        text-align: right;\n",
       "    }\n",
       "</style>\n",
       "<table border=\"1\" class=\"dataframe\">\n",
       "  <thead>\n",
       "    <tr style=\"text-align: right;\">\n",
       "      <th></th>\n",
       "      <th>index_left</th>\n",
       "      <th>feat_id</th>\n",
       "      <th>postal_code</th>\n",
       "      <th>hsn</th>\n",
       "      <th>state</th>\n",
       "      <th>place_name</th>\n",
       "      <th>st_name</th>\n",
       "      <th>country_code</th>\n",
       "      <th>prefix</th>\n",
       "      <th>suffix</th>\n",
       "      <th>...</th>\n",
       "      <th>searched_query_tokens</th>\n",
       "      <th>provider_tokens</th>\n",
       "      <th>aux_searched_query</th>\n",
       "      <th>aux_provider_address</th>\n",
       "      <th>locality_wratio</th>\n",
       "      <th>locality_city_state_ratio</th>\n",
       "      <th>locality_similarity</th>\n",
       "      <th>mnr_query_distance</th>\n",
       "      <th>mean_similarity</th>\n",
       "      <th>match</th>\n",
       "    </tr>\n",
       "  </thead>\n",
       "  <tbody>\n",
       "    <tr>\n",
       "      <th>0</th>\n",
       "      <td>228206.0</td>\n",
       "      <td>00005543-5400-2800-0000-00000004a413</td>\n",
       "      <td>06033</td>\n",
       "      <td>151</td>\n",
       "      <td>CT</td>\n",
       "      <td>Glastonbury</td>\n",
       "      <td>National Dr</td>\n",
       "      <td>USA</td>\n",
       "      <td></td>\n",
       "      <td>Dr</td>\n",
       "      <td>...</td>\n",
       "      <td>national dr 151 06033</td>\n",
       "      <td>National Dr Dr  151 06033</td>\n",
       "      <td>glastonbury ct  usa</td>\n",
       "      <td>glastonbury ct  usa</td>\n",
       "      <td>100</td>\n",
       "      <td>84</td>\n",
       "      <td>92.0</td>\n",
       "      <td>6.0</td>\n",
       "      <td>98.0</td>\n",
       "      <td>1</td>\n",
       "    </tr>\n",
       "    <tr>\n",
       "      <th>1</th>\n",
       "      <td>211628.0</td>\n",
       "      <td>00005543-5400-2800-0000-00000006dde4</td>\n",
       "      <td>06109</td>\n",
       "      <td>225</td>\n",
       "      <td>CT</td>\n",
       "      <td>Wethersfield</td>\n",
       "      <td>Spring St</td>\n",
       "      <td>USA</td>\n",
       "      <td></td>\n",
       "      <td>St</td>\n",
       "      <td>...</td>\n",
       "      <td>spring st 225 06109</td>\n",
       "      <td>Spring St St  225 06109</td>\n",
       "      <td>wethersfield ct  usa</td>\n",
       "      <td>wethersfield ct  usa</td>\n",
       "      <td>100</td>\n",
       "      <td>85</td>\n",
       "      <td>92.5</td>\n",
       "      <td>9.6</td>\n",
       "      <td>98.125</td>\n",
       "      <td>1</td>\n",
       "    </tr>\n",
       "    <tr>\n",
       "      <th>2</th>\n",
       "      <td>14202.0</td>\n",
       "      <td>00005543-5400-2800-0000-000000065a62</td>\n",
       "      <td>06074</td>\n",
       "      <td>240</td>\n",
       "      <td>CT</td>\n",
       "      <td>South Windsor</td>\n",
       "      <td>Ellington Rd</td>\n",
       "      <td>USA</td>\n",
       "      <td></td>\n",
       "      <td>Rd</td>\n",
       "      <td>...</td>\n",
       "      <td>ellington rd 240 06074</td>\n",
       "      <td>Ellington Rd Rd  240 06074</td>\n",
       "      <td>south windsor ct  usa</td>\n",
       "      <td>south windsor ct  usa</td>\n",
       "      <td>100</td>\n",
       "      <td>86</td>\n",
       "      <td>93.0</td>\n",
       "      <td>123.0</td>\n",
       "      <td>98.25</td>\n",
       "      <td>1</td>\n",
       "    </tr>\n",
       "    <tr>\n",
       "      <th>3</th>\n",
       "      <td>39829.0</td>\n",
       "      <td>00005543-5400-2800-0000-00000003e8d0</td>\n",
       "      <td>06013</td>\n",
       "      <td>2</td>\n",
       "      <td>CT</td>\n",
       "      <td>Burlington</td>\n",
       "      <td>Angelas Way</td>\n",
       "      <td>USA</td>\n",
       "      <td></td>\n",
       "      <td>Way</td>\n",
       "      <td>...</td>\n",
       "      <td>angelas way 25 06013</td>\n",
       "      <td>Angelas Way Way  2 06013</td>\n",
       "      <td>burlington ct  usa</td>\n",
       "      <td>burlington ct  usa</td>\n",
       "      <td>100</td>\n",
       "      <td>83</td>\n",
       "      <td>91.5</td>\n",
       "      <td>433.7</td>\n",
       "      <td>0.0</td>\n",
       "      <td>0</td>\n",
       "    </tr>\n",
       "    <tr>\n",
       "      <th>4</th>\n",
       "      <td>219387.0</td>\n",
       "      <td>00005543-5400-2800-0000-000000048e20</td>\n",
       "      <td>06073</td>\n",
       "      <td>266</td>\n",
       "      <td>CT</td>\n",
       "      <td>South Glastonbury</td>\n",
       "      <td>Foote Rd</td>\n",
       "      <td>USA</td>\n",
       "      <td></td>\n",
       "      <td>Rd</td>\n",
       "      <td>...</td>\n",
       "      <td>foote rd 266 06073</td>\n",
       "      <td>Foote Rd Rd  266 06073</td>\n",
       "      <td>south glastonbury ct  usa</td>\n",
       "      <td>south glastonbury ct  usa</td>\n",
       "      <td>100</td>\n",
       "      <td>87</td>\n",
       "      <td>93.5</td>\n",
       "      <td>9.5</td>\n",
       "      <td>98.375</td>\n",
       "      <td>1</td>\n",
       "    </tr>\n",
       "  </tbody>\n",
       "</table>\n",
       "<p>5 rows × 77 columns</p>\n",
       "</div>"
      ],
      "text/plain": [
       "  index_left                               feat_id postal_code  hsn state  \\\n",
       "0   228206.0  00005543-5400-2800-0000-00000004a413       06033  151    CT   \n",
       "1   211628.0  00005543-5400-2800-0000-00000006dde4       06109  225    CT   \n",
       "2    14202.0  00005543-5400-2800-0000-000000065a62       06074  240    CT   \n",
       "3    39829.0  00005543-5400-2800-0000-00000003e8d0       06013    2    CT   \n",
       "4   219387.0  00005543-5400-2800-0000-000000048e20       06073  266    CT   \n",
       "\n",
       "          place_name       st_name country_code prefix suffix  ...  \\\n",
       "0        Glastonbury   National Dr          USA            Dr  ...   \n",
       "1       Wethersfield     Spring St          USA            St  ...   \n",
       "2      South Windsor  Ellington Rd          USA            Rd  ...   \n",
       "3         Burlington   Angelas Way          USA           Way  ...   \n",
       "4  South Glastonbury      Foote Rd          USA            Rd  ...   \n",
       "\n",
       "    searched_query_tokens               provider_tokens  \\\n",
       "0   national dr 151 06033     National Dr Dr  151 06033   \n",
       "1     spring st 225 06109       Spring St St  225 06109   \n",
       "2  ellington rd 240 06074    Ellington Rd Rd  240 06074   \n",
       "3    angelas way 25 06013      Angelas Way Way  2 06013   \n",
       "4      foote rd 266 06073        Foote Rd Rd  266 06073   \n",
       "\n",
       "           aux_searched_query        aux_provider_address locality_wratio  \\\n",
       "0         glastonbury ct  usa         glastonbury ct  usa             100   \n",
       "1        wethersfield ct  usa        wethersfield ct  usa             100   \n",
       "2       south windsor ct  usa       south windsor ct  usa             100   \n",
       "3          burlington ct  usa          burlington ct  usa             100   \n",
       "4   south glastonbury ct  usa   south glastonbury ct  usa             100   \n",
       "\n",
       "  locality_city_state_ratio locality_similarity mnr_query_distance  \\\n",
       "0                        84                92.0                6.0   \n",
       "1                        85                92.5                9.6   \n",
       "2                        86                93.0              123.0   \n",
       "3                        83                91.5              433.7   \n",
       "4                        87                93.5                9.5   \n",
       "\n",
       "  mean_similarity match  \n",
       "0            98.0     1  \n",
       "1          98.125     1  \n",
       "2           98.25     1  \n",
       "3             0.0     0  \n",
       "4          98.375     1  \n",
       "\n",
       "[5 rows x 77 columns]"
      ]
     },
     "execution_count": 32,
     "metadata": {},
     "output_type": "execute_result"
    }
   ],
   "source": [
    "print(similarity_df.shape)\n",
    "similarity_df.head()"
   ]
  },
  {
   "cell_type": "code",
   "execution_count": 33,
   "metadata": {
    "application/vnd.databricks.v1+cell": {
     "inputWidgets": {},
     "nuid": "a1f3bc5e-a0ab-4080-92b7-2f5ee638a020",
     "showTitle": false,
     "title": ""
    }
   },
   "outputs": [
    {
     "name": "stderr",
     "output_type": "stream",
     "text": [
      "/tmp/ipykernel_13867/2013992509.py:2: SettingWithCopyWarning: \n",
      "A value is trying to be set on a copy of a slice from a DataFrame.\n",
      "Try using .loc[row_indexer,col_indexer] = value instead\n",
      "\n",
      "See the caveats in the documentation: https://pandas.pydata.org/pandas-docs/stable/user_guide/indexing.html#returning-a-view-versus-a-copy\n",
      "  match_df['county'] = county\n",
      "/tmp/ipykernel_13867/2013992509.py:3: SettingWithCopyWarning: \n",
      "A value is trying to be set on a copy of a slice from a DataFrame.\n",
      "Try using .loc[row_indexer,col_indexer] = value instead\n",
      "\n",
      "See the caveats in the documentation: https://pandas.pydata.org/pandas-docs/stable/user_guide/indexing.html#returning-a-view-versus-a-copy\n",
      "  match_df['datetime_run'] = pd.Timestamp.now(tz = 'utc')\n",
      "/home/tandon/anaconda3/envs/pygeo/lib/python3.8/site-packages/pandas/core/frame.py:4441: SettingWithCopyWarning: \n",
      "A value is trying to be set on a copy of a slice from a DataFrame\n",
      "\n",
      "See the caveats in the documentation: https://pandas.pydata.org/pandas-docs/stable/user_guide/indexing.html#returning-a-view-versus-a-copy\n",
      "  return super().rename(\n"
     ]
    }
   ],
   "source": [
    "match_df = similarity_df[['feat_id', 'match', 'sample_id']]\n",
    "match_df['county'] = county\n",
    "match_df['datetime_run'] = pd.Timestamp.now(tz = 'utc')\n",
    "match_df.rename({'match': 'asf'}, axis = 1, inplace = True)"
   ]
  },
  {
   "cell_type": "code",
   "execution_count": 34,
   "metadata": {
    "application/vnd.databricks.v1+cell": {
     "inputWidgets": {},
     "nuid": "771e742f-f94a-4f4c-b3df-c1760ee2e78d",
     "showTitle": false,
     "title": ""
    }
   },
   "outputs": [
    {
     "name": "stdout",
     "output_type": "stream",
     "text": [
      "shape of the data (4379, 5)\n"
     ]
    },
    {
     "data": {
      "text/html": [
       "<div>\n",
       "<style scoped>\n",
       "    .dataframe tbody tr th:only-of-type {\n",
       "        vertical-align: middle;\n",
       "    }\n",
       "\n",
       "    .dataframe tbody tr th {\n",
       "        vertical-align: top;\n",
       "    }\n",
       "\n",
       "    .dataframe thead th {\n",
       "        text-align: right;\n",
       "    }\n",
       "</style>\n",
       "<table border=\"1\" class=\"dataframe\">\n",
       "  <thead>\n",
       "    <tr style=\"text-align: right;\">\n",
       "      <th></th>\n",
       "      <th>feat_id</th>\n",
       "      <th>asf</th>\n",
       "      <th>sample_id</th>\n",
       "      <th>county</th>\n",
       "      <th>datetime_run</th>\n",
       "    </tr>\n",
       "  </thead>\n",
       "  <tbody>\n",
       "    <tr>\n",
       "      <th>0</th>\n",
       "      <td>00005543-5400-2800-0000-00000004a413</td>\n",
       "      <td>1</td>\n",
       "      <td>1000ext3gghartford</td>\n",
       "      <td>hartford</td>\n",
       "      <td>2022-12-13 08:27:17.499747+00:00</td>\n",
       "    </tr>\n",
       "    <tr>\n",
       "      <th>1</th>\n",
       "      <td>00005543-5400-2800-0000-00000006dde4</td>\n",
       "      <td>1</td>\n",
       "      <td>1001ext3gghartford</td>\n",
       "      <td>hartford</td>\n",
       "      <td>2022-12-13 08:27:17.499747+00:00</td>\n",
       "    </tr>\n",
       "    <tr>\n",
       "      <th>2</th>\n",
       "      <td>00005543-5400-2800-0000-000000065a62</td>\n",
       "      <td>1</td>\n",
       "      <td>1002ext3gghartford</td>\n",
       "      <td>hartford</td>\n",
       "      <td>2022-12-13 08:27:17.499747+00:00</td>\n",
       "    </tr>\n",
       "    <tr>\n",
       "      <th>3</th>\n",
       "      <td>00005543-5400-2800-0000-00000003e8d0</td>\n",
       "      <td>0</td>\n",
       "      <td>1003ext3gghartford</td>\n",
       "      <td>hartford</td>\n",
       "      <td>2022-12-13 08:27:17.499747+00:00</td>\n",
       "    </tr>\n",
       "    <tr>\n",
       "      <th>4</th>\n",
       "      <td>00005543-5400-2800-0000-000000048e20</td>\n",
       "      <td>1</td>\n",
       "      <td>1004ext3gghartford</td>\n",
       "      <td>hartford</td>\n",
       "      <td>2022-12-13 08:27:17.499747+00:00</td>\n",
       "    </tr>\n",
       "  </tbody>\n",
       "</table>\n",
       "</div>"
      ],
      "text/plain": [
       "                                feat_id  asf           sample_id    county  \\\n",
       "0  00005543-5400-2800-0000-00000004a413    1  1000ext3gghartford  hartford   \n",
       "1  00005543-5400-2800-0000-00000006dde4    1  1001ext3gghartford  hartford   \n",
       "2  00005543-5400-2800-0000-000000065a62    1  1002ext3gghartford  hartford   \n",
       "3  00005543-5400-2800-0000-00000003e8d0    0  1003ext3gghartford  hartford   \n",
       "4  00005543-5400-2800-0000-000000048e20    1  1004ext3gghartford  hartford   \n",
       "\n",
       "                      datetime_run  \n",
       "0 2022-12-13 08:27:17.499747+00:00  \n",
       "1 2022-12-13 08:27:17.499747+00:00  \n",
       "2 2022-12-13 08:27:17.499747+00:00  \n",
       "3 2022-12-13 08:27:17.499747+00:00  \n",
       "4 2022-12-13 08:27:17.499747+00:00  "
      ]
     },
     "execution_count": 34,
     "metadata": {},
     "output_type": "execute_result"
    }
   ],
   "source": [
    "print(\"shape of the data\",match_df.shape)\n",
    "match_df.head()"
   ]
  },
  {
   "cell_type": "markdown",
   "metadata": {
    "application/vnd.databricks.v1+cell": {
     "inputWidgets": {},
     "nuid": "eaaf66e5-d25c-494f-be60-d4e3938a8b6b",
     "showTitle": false,
     "title": ""
    }
   },
   "source": [
    "#### Bootstrapping"
   ]
  },
  {
   "cell_type": "code",
   "execution_count": 35,
   "metadata": {
    "application/vnd.databricks.v1+cell": {
     "inputWidgets": {},
     "nuid": "c31b4b5d-dfe2-4ee4-94ba-a462c7818f7c",
     "showTitle": false,
     "title": ""
    }
   },
   "outputs": [],
   "source": [
    "import numpy as np\n",
    "import statsmodels.api as sm\n",
    "import pylab\n",
    "\n",
    "def bootstrap_resample(df, agg_fun, times=1000, seed=0):\n",
    "    reboot = []\n",
    "    \n",
    "    for t in range(times):\n",
    "        df_boot = df.sample(frac = 1, replace=True, random_state = t+seed)\n",
    "        reboot.append(agg_fun(df_boot))\n",
    "    draw_qqplot(reboot)\n",
    "    return reboot\n",
    "\n",
    "def draw_qqplot(reboot):\n",
    "    data = np.asarray(reboot)\n",
    "    # sm.ProbPlot(data)\n",
    "    sm.qqplot(data, line='45')\n",
    "    pylab.show()\n",
    "\n",
    "\n",
    "def percentile_bootstrap(df, agg_fun, conf=0.95, times=1000, seed=0):\n",
    "    \"\"\"Generic Percentile Bootstrap\n",
    "    This function returns a percentile bootstrap confidence interval for a statistic.\n",
    "    Args:\n",
    "        df (pandas.DataFrame): DataFrame with the observed random vectors. Each row represents an observation an each column is a random variable.\n",
    "        agg_fun (function): Aggregation function. This function should receive as input a pandas.DataFrame (resamples) and return a \n",
    "        number with the computed statistic.\n",
    "        conf (float, optional): Confidence level of the returned interval. Defaults to 0.9.\n",
    "        times (int, optional): Bootstrap resamples. Defaults to 1000.\n",
    "        seed (int, optional): Random seed. Defaults to 0.\n",
    "    Returns:\n",
    "        numpy.array: Percentile Boostrap CI [lower, upper]\n",
    "    \"\"\"    \n",
    "    reboot = bootstrap_resample(df, agg_fun, times, seed)\n",
    "    return np.quantile(reboot, [(1-conf)/2, (1-conf)/2+conf])"
   ]
  },
  {
   "cell_type": "markdown",
   "metadata": {},
   "source": [
    "##### Plot normalized Similarity data "
   ]
  },
  {
   "cell_type": "code",
   "execution_count": 36,
   "metadata": {},
   "outputs": [
    {
     "data": {
      "text/plain": [
       "Text(0.5, 0.98, 'Data distribution')"
      ]
     },
     "execution_count": 36,
     "metadata": {},
     "output_type": "execute_result"
    },
    {
     "data": {
      "text/plain": [
       "<Figure size 720x504 with 0 Axes>"
      ]
     },
     "metadata": {},
     "output_type": "display_data"
    },
    {
     "data": {
      "image/png": "[encoded data removed]",
      "text/plain": [
       "<Figure size 1440x720 with 1 Axes>"
      ]
     },
     "metadata": {
      "needs_background": "light"
     },
     "output_type": "display_data"
    }
   ],
   "source": [
    "from scipy.stats import yeojohnson\n",
    "\n",
    "norm_data,_ = yeojohnson(similarity_df['match'])\n",
    "\n",
    "plt.figure(figsize=(10,7))\n",
    "ax = sns.displot(norm_data, kind = \"kde\",color = \"#e64e4e\", height=10, aspect=2,\n",
    "            linewidth = 5 )\n",
    "ax.fig.suptitle('Data distribution', size = 10)"
   ]
  },
  {
   "cell_type": "code",
   "execution_count": 37,
   "metadata": {
    "application/vnd.databricks.v1+cell": {
     "inputWidgets": {},
     "nuid": "2e706568-8bc9-495d-b10c-6fe0a9708f6b",
     "showTitle": false,
     "title": ""
    }
   },
   "outputs": [
    {
     "data": {
      "image/png": "[encoded data removed]",
      "text/plain": [
       "<Figure size 432x288 with 1 Axes>"
      ]
     },
     "metadata": {
      "needs_background": "light"
     },
     "output_type": "display_data"
    }
   ],
   "source": [
    "[lower_distance, upper_distance] = percentile_bootstrap(similarity_df['match'], np.mean)\n",
    "\n",
    "# print(lower_distance,upper_distance)"
   ]
  },
  {
   "cell_type": "code",
   "execution_count": 38,
   "metadata": {
    "application/vnd.databricks.v1+cell": {
     "inputWidgets": {},
     "nuid": "4f478813-2e89-46b6-9981-89308bc8020c",
     "showTitle": false,
     "title": ""
    }
   },
   "outputs": [
    {
     "data": {
      "text/html": [
       "<div>\n",
       "<style scoped>\n",
       "    .dataframe tbody tr th:only-of-type {\n",
       "        vertical-align: middle;\n",
       "    }\n",
       "\n",
       "    .dataframe tbody tr th {\n",
       "        vertical-align: top;\n",
       "    }\n",
       "\n",
       "    .dataframe thead th {\n",
       "        text-align: right;\n",
       "    }\n",
       "</style>\n",
       "<table border=\"1\" class=\"dataframe\">\n",
       "  <thead>\n",
       "    <tr style=\"text-align: right;\">\n",
       "      <th></th>\n",
       "      <th>lower_bound</th>\n",
       "      <th>calculated_metric</th>\n",
       "      <th>upper_bound</th>\n",
       "      <th>units</th>\n",
       "      <th>metric</th>\n",
       "      <th>version</th>\n",
       "      <th>county</th>\n",
       "    </tr>\n",
       "  </thead>\n",
       "  <tbody>\n",
       "    <tr>\n",
       "      <th>0</th>\n",
       "      <td>0.900891</td>\n",
       "      <td>0.90934</td>\n",
       "      <td>0.918018</td>\n",
       "      <td>%</td>\n",
       "      <td>ASF</td>\n",
       "      <td>2022-12-13</td>\n",
       "      <td>hartford</td>\n",
       "    </tr>\n",
       "  </tbody>\n",
       "</table>\n",
       "</div>"
      ],
      "text/plain": [
       "   lower_bound  calculated_metric  upper_bound units metric     version  \\\n",
       "0     0.900891            0.90934     0.918018     %    ASF  2022-12-13   \n",
       "\n",
       "     county  \n",
       "0  hartford  "
      ]
     },
     "execution_count": 38,
     "metadata": {},
     "output_type": "execute_result"
    }
   ],
   "source": [
    "if delta:\n",
    "    version = date\n",
    "else:\n",
    "    version = 'New_benchmark'\n",
    "\n",
    "results_sum = pd.DataFrame(\n",
    "    data=[[lower_distance, match_proportion, upper_distance, '%', 'ASF', version, county]], \n",
    "    columns=['lower_bound', 'calculated_metric', 'upper_bound', 'units', 'metric', 'version', 'county'], index = None)\n",
    "results_sum"
   ]
  },
  {
   "cell_type": "markdown",
   "metadata": {
    "application/vnd.databricks.v1+cell": {
     "inputWidgets": {},
     "nuid": "06fbf9e4-eced-4042-a47b-fd54fb0bddd5",
     "showTitle": false,
     "title": ""
    }
   },
   "source": [
    "## Positional Accuracy"
   ]
  },
  {
   "cell_type": "markdown",
   "metadata": {
    "application/vnd.databricks.v1+cell": {
     "inputWidgets": {},
     "nuid": "9474b1bb-5213-4b65-aec5-1613eba557ab",
     "showTitle": false,
     "title": ""
    }
   },
   "source": [
    "### 90th percentile\n",
    "\n",
    "We consider the 90th percentile of the distance of matches as a metric for the Positional Accuracy. The distance we obtain below is be the distance for which 90% of the data is lower. The interesting thing about this metric is that it's expressed in terms of distance."
   ]
  },
  {
   "cell_type": "code",
   "execution_count": 39,
   "metadata": {
    "application/vnd.databricks.v1+cell": {
     "inputWidgets": {},
     "nuid": "987e0e6f-69f0-4215-88db-9bb450cb616a",
     "showTitle": false,
     "title": ""
    }
   },
   "outputs": [
    {
     "name": "stderr",
     "output_type": "stream",
     "text": [
      "/tmp/ipykernel_13867/1420054033.py:3: SettingWithCopyWarning: \n",
      "A value is trying to be set on a copy of a slice from a DataFrame.\n",
      "Try using .loc[row_indexer,col_indexer] = value instead\n",
      "\n",
      "See the caveats in the documentation: https://pandas.pydata.org/pandas-docs/stable/user_guide/indexing.html#returning-a-view-versus-a-copy\n",
      "  matches_df['mnr_query_distance'] = matches_df['mnr_query_distance'].astype(float)\n"
     ]
    }
   ],
   "source": [
    "matches_df = similarity_df[similarity_df['match'] == 1]\n",
    "\n",
    "matches_df['mnr_query_distance'] = matches_df['mnr_query_distance'].astype(float)\n",
    "\n",
    "del similarity_df"
   ]
  },
  {
   "cell_type": "markdown",
   "metadata": {},
   "source": [
    "##### Plot normalized MNr Query Distance match Data "
   ]
  },
  {
   "cell_type": "code",
   "execution_count": 40,
   "metadata": {},
   "outputs": [
    {
     "data": {
      "text/plain": [
       "Text(0.5, 0.98, 'Data distribution')"
      ]
     },
     "execution_count": 40,
     "metadata": {},
     "output_type": "execute_result"
    },
    {
     "data": {
      "text/plain": [
       "<Figure size 720x504 with 0 Axes>"
      ]
     },
     "metadata": {},
     "output_type": "display_data"
    },
    {
     "data": {
      "image/png": "[encoded data removed]",
      "text/plain": [
       "<Figure size 1440x720 with 1 Axes>"
      ]
     },
     "metadata": {
      "needs_background": "light"
     },
     "output_type": "display_data"
    }
   ],
   "source": [
    "from scipy.stats import yeojohnson\n",
    "\n",
    "norm_data,_ = yeojohnson(matches_df['mnr_query_distance'])\n",
    "\n",
    "plt.figure(figsize=(10,7))\n",
    "ax = sns.displot(norm_data, kind = \"kde\",color = \"#e64e4e\", height=10, aspect=2,\n",
    "            linewidth = 5 )\n",
    "ax.fig.suptitle('Data distribution', size = 10)"
   ]
  },
  {
   "cell_type": "code",
   "execution_count": 41,
   "metadata": {
    "application/vnd.databricks.v1+cell": {
     "inputWidgets": {},
     "nuid": "21eb97a7-e012-41e5-b689-f6af90b310c1",
     "showTitle": false,
     "title": ""
    }
   },
   "outputs": [
    {
     "name": "stdout",
     "output_type": "stream",
     "text": [
      "Positional Accuracy (90th percentile distance) is: 51.7m\n"
     ]
    }
   ],
   "source": [
    "positional_accuracy_distance = round(np.quantile(matches_df['mnr_query_distance'], 0.9), 2)\n",
    "print(f'Positional Accuracy (90th percentile distance) is: {positional_accuracy_distance}m')"
   ]
  },
  {
   "cell_type": "markdown",
   "metadata": {
    "application/vnd.databricks.v1+cell": {
     "inputWidgets": {},
     "nuid": "44b4ba00-126c-44e9-b913-96d508d4615b",
     "showTitle": false,
     "title": ""
    }
   },
   "source": [
    "#### Bootstrapping"
   ]
  },
  {
   "cell_type": "code",
   "execution_count": 42,
   "metadata": {
    "application/vnd.databricks.v1+cell": {
     "inputWidgets": {},
     "nuid": "ea9d7f24-1811-4d3b-b126-b13a1a59eee8",
     "showTitle": false,
     "title": ""
    }
   },
   "outputs": [
    {
     "data": {
      "image/png": "[encoded data removed]",
      "text/plain": [
       "<Figure size 432x288 with 1 Axes>"
      ]
     },
     "metadata": {
      "needs_background": "light"
     },
     "output_type": "display_data"
    }
   ],
   "source": [
    "[lower_percentile90, upper_percentile90] = percentile_bootstrap(\n",
    "    matches_df['mnr_query_distance'], lambda x: np.quantile(x, 0.9))"
   ]
  },
  {
   "cell_type": "code",
   "execution_count": 43,
   "metadata": {
    "application/vnd.databricks.v1+cell": {
     "inputWidgets": {},
     "nuid": "e69b1334-2741-4d14-aa3b-2cb9eb3d6d2e",
     "showTitle": false,
     "title": ""
    }
   },
   "outputs": [
    {
     "data": {
      "text/html": [
       "<div>\n",
       "<style scoped>\n",
       "    .dataframe tbody tr th:only-of-type {\n",
       "        vertical-align: middle;\n",
       "    }\n",
       "\n",
       "    .dataframe tbody tr th {\n",
       "        vertical-align: top;\n",
       "    }\n",
       "\n",
       "    .dataframe thead th {\n",
       "        text-align: right;\n",
       "    }\n",
       "</style>\n",
       "<table border=\"1\" class=\"dataframe\">\n",
       "  <thead>\n",
       "    <tr style=\"text-align: right;\">\n",
       "      <th></th>\n",
       "      <th>lower_bound</th>\n",
       "      <th>calculated_metric</th>\n",
       "      <th>upper_bound</th>\n",
       "      <th>units</th>\n",
       "      <th>metric</th>\n",
       "      <th>version</th>\n",
       "      <th>county</th>\n",
       "    </tr>\n",
       "  </thead>\n",
       "  <tbody>\n",
       "    <tr>\n",
       "      <th>0</th>\n",
       "      <td>0.900891</td>\n",
       "      <td>0.90934</td>\n",
       "      <td>0.918018</td>\n",
       "      <td>%</td>\n",
       "      <td>ASF</td>\n",
       "      <td>2022-12-13</td>\n",
       "      <td>hartford</td>\n",
       "    </tr>\n",
       "    <tr>\n",
       "      <th>0</th>\n",
       "      <td>47.400000</td>\n",
       "      <td>51.70000</td>\n",
       "      <td>58.770250</td>\n",
       "      <td>meters</td>\n",
       "      <td>90p</td>\n",
       "      <td>2022-12-13</td>\n",
       "      <td>hartford</td>\n",
       "    </tr>\n",
       "  </tbody>\n",
       "</table>\n",
       "</div>"
      ],
      "text/plain": [
       "   lower_bound  calculated_metric  upper_bound   units metric     version  \\\n",
       "0     0.900891            0.90934     0.918018       %    ASF  2022-12-13   \n",
       "0    47.400000           51.70000    58.770250  meters    90p  2022-12-13   \n",
       "\n",
       "     county  \n",
       "0  hartford  \n",
       "0  hartford  "
      ]
     },
     "execution_count": 43,
     "metadata": {},
     "output_type": "execute_result"
    }
   ],
   "source": [
    "if delta:\n",
    "    version = date\n",
    "else:\n",
    "    version = 'New_benchmark'\n",
    "\n",
    "new_result = pd.DataFrame(\n",
    "    data=[[lower_percentile90, positional_accuracy_distance, upper_percentile90, 'meters', '90p', version, county]], \n",
    "    columns=['lower_bound', 'calculated_metric', 'upper_bound', 'units', 'metric', 'version', 'county'], index = None)\n",
    "results_sum = pd.concat([results_sum, new_result])\n",
    "results_sum"
   ]
  },
  {
   "cell_type": "markdown",
   "metadata": {
    "application/vnd.databricks.v1+cell": {
     "inputWidgets": {},
     "nuid": "3cd60f8c-e9ef-47d3-926e-6a0cf0b0f2f9",
     "showTitle": false,
     "title": ""
    }
   },
   "source": [
    "### % of matches below 50m"
   ]
  },
  {
   "cell_type": "code",
   "execution_count": 44,
   "metadata": {
    "application/vnd.databricks.v1+cell": {
     "inputWidgets": {},
     "nuid": "2c68e04a-99d5-4872-94b9-5a042f7edee7",
     "showTitle": false,
     "title": ""
    }
   },
   "outputs": [
    {
     "name": "stdout",
     "output_type": "stream",
     "text": [
      "The calculated percentage of matches within 50 meters is 89.8%\n"
     ]
    }
   ],
   "source": [
    "proportion_50m_matches = (matches_df['mnr_query_distance'] <= 50).mean()\n",
    "nice_num_50m = round(proportion_50m_matches * 100, 1)\n",
    "print(f'The calculated percentage of matches within 50 meters is {nice_num_50m}%')"
   ]
  },
  {
   "cell_type": "code",
   "execution_count": 45,
   "metadata": {},
   "outputs": [
    {
     "data": {
      "text/plain": [
       "Text(0.5, 0.98, 'Data distribution')"
      ]
     },
     "execution_count": 45,
     "metadata": {},
     "output_type": "execute_result"
    },
    {
     "data": {
      "text/plain": [
       "<Figure size 720x504 with 0 Axes>"
      ]
     },
     "metadata": {},
     "output_type": "display_data"
    },
    {
     "data": {
      "image/png": "[encoded data removed]",
      "text/plain": [
       "<Figure size 1440x720 with 1 Axes>"
      ]
     },
     "metadata": {
      "needs_background": "light"
     },
     "output_type": "display_data"
    }
   ],
   "source": [
    "\n",
    "norm_data,_ = yeojohnson(matches_df['mnr_query_distance'].loc[matches_df['mnr_query_distance']<=50])\n",
    "\n",
    "plt.figure(figsize=(10,7))\n",
    "ax = sns.displot(norm_data, kind = \"kde\",color = \"#e64e4e\", height=10, aspect=2,\n",
    "            linewidth = 5 )\n",
    "ax.fig.suptitle('Data distribution', size = 10)"
   ]
  },
  {
   "cell_type": "code",
   "execution_count": 46,
   "metadata": {
    "application/vnd.databricks.v1+cell": {
     "inputWidgets": {},
     "nuid": "6cfa1071-164b-4e50-8619-ee0428d37f88",
     "showTitle": false,
     "title": ""
    }
   },
   "outputs": [
    {
     "data": {
      "image/png": "[encoded data removed]",
      "text/plain": [
       "<Figure size 432x288 with 1 Axes>"
      ]
     },
     "metadata": {
      "needs_background": "light"
     },
     "output_type": "display_data"
    }
   ],
   "source": [
    "[lower_50m_pa, upper_50m_pa] = percentile_bootstrap(matches_df['mnr_query_distance'] <= 50, np.mean)"
   ]
  },
  {
   "cell_type": "code",
   "execution_count": 47,
   "metadata": {
    "application/vnd.databricks.v1+cell": {
     "inputWidgets": {},
     "nuid": "c70d2e57-4224-4325-be5a-5fa3b28638f6",
     "showTitle": false,
     "title": ""
    }
   },
   "outputs": [
    {
     "data": {
      "text/html": [
       "<div>\n",
       "<style scoped>\n",
       "    .dataframe tbody tr th:only-of-type {\n",
       "        vertical-align: middle;\n",
       "    }\n",
       "\n",
       "    .dataframe tbody tr th {\n",
       "        vertical-align: top;\n",
       "    }\n",
       "\n",
       "    .dataframe thead th {\n",
       "        text-align: right;\n",
       "    }\n",
       "</style>\n",
       "<table border=\"1\" class=\"dataframe\">\n",
       "  <thead>\n",
       "    <tr style=\"text-align: right;\">\n",
       "      <th></th>\n",
       "      <th>lower_bound</th>\n",
       "      <th>calculated_metric</th>\n",
       "      <th>upper_bound</th>\n",
       "      <th>units</th>\n",
       "      <th>metric</th>\n",
       "      <th>version</th>\n",
       "      <th>county</th>\n",
       "    </tr>\n",
       "  </thead>\n",
       "  <tbody>\n",
       "    <tr>\n",
       "      <th>0</th>\n",
       "      <td>0.900891</td>\n",
       "      <td>0.90934</td>\n",
       "      <td>0.918018</td>\n",
       "      <td>%</td>\n",
       "      <td>ASF</td>\n",
       "      <td>2022-12-13</td>\n",
       "      <td>hartford</td>\n",
       "    </tr>\n",
       "    <tr>\n",
       "      <th>0</th>\n",
       "      <td>47.400000</td>\n",
       "      <td>51.70000</td>\n",
       "      <td>58.770250</td>\n",
       "      <td>meters</td>\n",
       "      <td>90p</td>\n",
       "      <td>2022-12-13</td>\n",
       "      <td>hartford</td>\n",
       "    </tr>\n",
       "    <tr>\n",
       "      <th>0</th>\n",
       "      <td>0.888498</td>\n",
       "      <td>0.89779</td>\n",
       "      <td>0.906837</td>\n",
       "      <td>%</td>\n",
       "      <td>APA</td>\n",
       "      <td>2022-12-13</td>\n",
       "      <td>hartford</td>\n",
       "    </tr>\n",
       "  </tbody>\n",
       "</table>\n",
       "</div>"
      ],
      "text/plain": [
       "   lower_bound  calculated_metric  upper_bound   units metric     version  \\\n",
       "0     0.900891            0.90934     0.918018       %    ASF  2022-12-13   \n",
       "0    47.400000           51.70000    58.770250  meters    90p  2022-12-13   \n",
       "0     0.888498            0.89779     0.906837       %    APA  2022-12-13   \n",
       "\n",
       "     county  \n",
       "0  hartford  \n",
       "0  hartford  \n",
       "0  hartford  "
      ]
     },
     "execution_count": 47,
     "metadata": {},
     "output_type": "execute_result"
    }
   ],
   "source": [
    "if delta:\n",
    "    version = date\n",
    "else:\n",
    "    version = 'New_benchmark'\n",
    "\n",
    "new_result = pd.DataFrame(\n",
    "     data=[[lower_50m_pa, proportion_50m_matches, upper_50m_pa, '%', 'APA', version, county]], \n",
    "    columns=['lower_bound', 'calculated_metric', 'upper_bound', 'units', 'metric', 'version', 'county'])\n",
    "results_sum = pd.concat([results_sum, new_result])\n",
    "results_sum"
   ]
  },
  {
   "cell_type": "code",
   "execution_count": 48,
   "metadata": {},
   "outputs": [],
   "source": [
    "# set(sample_gdf.sample_id) == set(similarity_df.sample_id)"
   ]
  },
  {
   "cell_type": "markdown",
   "metadata": {
    "application/vnd.databricks.v1+cell": {
     "inputWidgets": {},
     "nuid": "93109947-2b60-4c20-8de0-00185ac9aee8",
     "showTitle": false,
     "title": ""
    }
   },
   "source": [
    "# Join Matches Table"
   ]
  },
  {
   "cell_type": "code",
   "execution_count": 49,
   "metadata": {
    "application/vnd.databricks.v1+cell": {
     "inputWidgets": {},
     "nuid": "213278e7-5d2e-4c15-98e2-7c2be95d2df9",
     "showTitle": false,
     "title": ""
    }
   },
   "outputs": [
    {
     "data": {
      "text/html": [
       "<div>\n",
       "<style scoped>\n",
       "    .dataframe tbody tr th:only-of-type {\n",
       "        vertical-align: middle;\n",
       "    }\n",
       "\n",
       "    .dataframe tbody tr th {\n",
       "        vertical-align: top;\n",
       "    }\n",
       "\n",
       "    .dataframe thead th {\n",
       "        text-align: right;\n",
       "    }\n",
       "</style>\n",
       "<table border=\"1\" class=\"dataframe\">\n",
       "  <thead>\n",
       "    <tr style=\"text-align: right;\">\n",
       "      <th></th>\n",
       "      <th>sample_id</th>\n",
       "      <th>mnr_query_distance</th>\n",
       "    </tr>\n",
       "  </thead>\n",
       "  <tbody>\n",
       "    <tr>\n",
       "      <th>0</th>\n",
       "      <td>1000ext3gghartford</td>\n",
       "      <td>6.0</td>\n",
       "    </tr>\n",
       "    <tr>\n",
       "      <th>1</th>\n",
       "      <td>1001ext3gghartford</td>\n",
       "      <td>9.6</td>\n",
       "    </tr>\n",
       "    <tr>\n",
       "      <th>2</th>\n",
       "      <td>1002ext3gghartford</td>\n",
       "      <td>123.0</td>\n",
       "    </tr>\n",
       "    <tr>\n",
       "      <th>4</th>\n",
       "      <td>1004ext3gghartford</td>\n",
       "      <td>9.5</td>\n",
       "    </tr>\n",
       "    <tr>\n",
       "      <th>5</th>\n",
       "      <td>1005ext3gghartford</td>\n",
       "      <td>24.5</td>\n",
       "    </tr>\n",
       "    <tr>\n",
       "      <th>...</th>\n",
       "      <td>...</td>\n",
       "      <td>...</td>\n",
       "    </tr>\n",
       "    <tr>\n",
       "      <th>4363</th>\n",
       "      <td>997ext3gghartford</td>\n",
       "      <td>21.2</td>\n",
       "    </tr>\n",
       "    <tr>\n",
       "      <th>4364</th>\n",
       "      <td>998ext3gghartford</td>\n",
       "      <td>184.6</td>\n",
       "    </tr>\n",
       "    <tr>\n",
       "      <th>4365</th>\n",
       "      <td>999ext3gghartford</td>\n",
       "      <td>1.4</td>\n",
       "    </tr>\n",
       "    <tr>\n",
       "      <th>4366</th>\n",
       "      <td>99ext3gghartford</td>\n",
       "      <td>3.1</td>\n",
       "    </tr>\n",
       "    <tr>\n",
       "      <th>4367</th>\n",
       "      <td>9ext3gghartford</td>\n",
       "      <td>2.2</td>\n",
       "    </tr>\n",
       "  </tbody>\n",
       "</table>\n",
       "<p>3982 rows × 2 columns</p>\n",
       "</div>"
      ],
      "text/plain": [
       "               sample_id  mnr_query_distance\n",
       "0     1000ext3gghartford                 6.0\n",
       "1     1001ext3gghartford                 9.6\n",
       "2     1002ext3gghartford               123.0\n",
       "4     1004ext3gghartford                 9.5\n",
       "5     1005ext3gghartford                24.5\n",
       "...                  ...                 ...\n",
       "4363   997ext3gghartford                21.2\n",
       "4364   998ext3gghartford               184.6\n",
       "4365   999ext3gghartford                 1.4\n",
       "4366    99ext3gghartford                 3.1\n",
       "4367     9ext3gghartford                 2.2\n",
       "\n",
       "[3982 rows x 2 columns]"
      ]
     },
     "execution_count": 49,
     "metadata": {},
     "output_type": "execute_result"
    }
   ],
   "source": [
    "matches_df[['sample_id', 'mnr_query_distance']]"
   ]
  },
  {
   "cell_type": "code",
   "execution_count": 50,
   "metadata": {
    "application/vnd.databricks.v1+cell": {
     "inputWidgets": {},
     "nuid": "f15eb313-d79f-4eae-91ca-c9d61f8539e0",
     "showTitle": false,
     "title": ""
    }
   },
   "outputs": [],
   "source": [
    "match_df = match_df.merge(matches_df[['sample_id', 'mnr_query_distance']], on = ['sample_id'], how = 'left')\n",
    "match_df['apa'] = match_df.mnr_query_distance.apply(lambda x: 1 if x < 52 else 0)\n",
    "# match_df.drop('mnr_query_distance', axis = 1, inplace = True)\n",
    "# raw2p.write_to_db(match_df, table_name = 'matches_table', schema = 'STAN_169')"
   ]
  },
  {
   "cell_type": "code",
   "execution_count": 51,
   "metadata": {
    "application/vnd.databricks.v1+cell": {
     "inputWidgets": {},
     "nuid": "ed4463eb-044f-4d0b-90fb-cab2a645977b",
     "showTitle": false,
     "title": ""
    }
   },
   "outputs": [],
   "source": [
    "if delta:\n",
    "  match_df = match_df.merge(source_delta_gdf[['feat_id', 'geometry']], on = ['feat_id'], how = 'inner')\n",
    "  del source_delta_gdf\n",
    "else:\n",
    "  match_df = match_df.merge(source_gdf[['feat_id', 'geometry']], on = ['feat_id'], how = 'inner')\n",
    "  del source_gdf"
   ]
  },
  {
   "cell_type": "code",
   "execution_count": 52,
   "metadata": {},
   "outputs": [],
   "source": [
    "match_df.geometry = match_df.geometry.astype(str)"
   ]
  },
  {
   "cell_type": "markdown",
   "metadata": {
    "application/vnd.databricks.v1+cell": {
     "inputWidgets": {},
     "nuid": "a5faeb8c-05a5-4e5a-a642-6e101f69a042",
     "showTitle": false,
     "title": ""
    }
   },
   "source": [
    "# Store Results @ psql"
   ]
  },
  {
   "cell_type": "markdown",
   "metadata": {
    "application/vnd.databricks.v1+cell": {
     "inputWidgets": {},
     "nuid": "6265dc51-b07a-429a-bcde-cb53e2c22fdd",
     "showTitle": false,
     "title": ""
    }
   },
   "source": [
    "### Storing Results"
   ]
  },
  {
   "cell_type": "code",
   "execution_count": 53,
   "metadata": {
    "application/vnd.databricks.v1+cell": {
     "inputWidgets": {},
     "nuid": "0241a156-5ec1-4f46-a5ce-80cf686a377b",
     "showTitle": false,
     "title": ""
    }
   },
   "outputs": [
    {
     "data": {
      "text/html": [
       "<div>\n",
       "<style scoped>\n",
       "    .dataframe tbody tr th:only-of-type {\n",
       "        vertical-align: middle;\n",
       "    }\n",
       "\n",
       "    .dataframe tbody tr th {\n",
       "        vertical-align: top;\n",
       "    }\n",
       "\n",
       "    .dataframe thead th {\n",
       "        text-align: right;\n",
       "    }\n",
       "</style>\n",
       "<table border=\"1\" class=\"dataframe\">\n",
       "  <thead>\n",
       "    <tr style=\"text-align: right;\">\n",
       "      <th></th>\n",
       "      <th>lower_bound</th>\n",
       "      <th>calculated_metric</th>\n",
       "      <th>upper_bound</th>\n",
       "      <th>units</th>\n",
       "      <th>metric</th>\n",
       "      <th>version</th>\n",
       "      <th>county</th>\n",
       "    </tr>\n",
       "  </thead>\n",
       "  <tbody>\n",
       "    <tr>\n",
       "      <th>0</th>\n",
       "      <td>0.900891</td>\n",
       "      <td>0.90934</td>\n",
       "      <td>0.918018</td>\n",
       "      <td>%</td>\n",
       "      <td>ASF</td>\n",
       "      <td>2022-12-13</td>\n",
       "      <td>hartford</td>\n",
       "    </tr>\n",
       "    <tr>\n",
       "      <th>0</th>\n",
       "      <td>47.400000</td>\n",
       "      <td>51.70000</td>\n",
       "      <td>58.770250</td>\n",
       "      <td>meters</td>\n",
       "      <td>90p</td>\n",
       "      <td>2022-12-13</td>\n",
       "      <td>hartford</td>\n",
       "    </tr>\n",
       "    <tr>\n",
       "      <th>0</th>\n",
       "      <td>0.888498</td>\n",
       "      <td>0.89779</td>\n",
       "      <td>0.906837</td>\n",
       "      <td>%</td>\n",
       "      <td>APA</td>\n",
       "      <td>2022-12-13</td>\n",
       "      <td>hartford</td>\n",
       "    </tr>\n",
       "  </tbody>\n",
       "</table>\n",
       "</div>"
      ],
      "text/plain": [
       "   lower_bound  calculated_metric  upper_bound   units metric     version  \\\n",
       "0     0.900891            0.90934     0.918018       %    ASF  2022-12-13   \n",
       "0    47.400000           51.70000    58.770250  meters    90p  2022-12-13   \n",
       "0     0.888498            0.89779     0.906837       %    APA  2022-12-13   \n",
       "\n",
       "     county  \n",
       "0  hartford  \n",
       "0  hartford  \n",
       "0  hartford  "
      ]
     },
     "execution_count": 53,
     "metadata": {},
     "output_type": "execute_result"
    }
   ],
   "source": [
    "results_sum"
   ]
  },
  {
   "cell_type": "code",
   "execution_count": 54,
   "metadata": {
    "application/vnd.databricks.v1+cell": {
     "inputWidgets": {},
     "nuid": "3c0c9695-75e6-4ebb-9711-c140009b8555",
     "showTitle": false,
     "title": ""
    }
   },
   "outputs": [],
   "source": [
    "# raw2p.write_to_db(results_sum, table_name = 'results', schema = 'STAN_169')"
   ]
  },
  {
   "cell_type": "markdown",
   "metadata": {
    "application/vnd.databricks.v1+cell": {
     "inputWidgets": {},
     "nuid": "277479b5-8b32-4aea-9a79-0d1b7e45a1c2",
     "showTitle": false,
     "title": ""
    }
   },
   "source": [
    "### Storing Matches"
   ]
  },
  {
   "cell_type": "code",
   "execution_count": null,
   "metadata": {
    "application/vnd.databricks.v1+cell": {
     "inputWidgets": {},
     "nuid": "5bdfd68e-834d-4a1a-8713-b1101f192a5c",
     "showTitle": false,
     "title": ""
    }
   },
   "outputs": [],
   "source": [
    "match_df['version'] = date\n",
    "match_df.head()"
   ]
  },
  {
   "cell_type": "code",
   "execution_count": null,
   "metadata": {
    "application/vnd.databricks.v1+cell": {
     "inputWidgets": {},
     "nuid": "20d493a0-abed-4381-81ee-96c2ba7420b3",
     "showTitle": false,
     "title": ""
    }
   },
   "outputs": [],
   "source": [
    "from shapely import wkt \n",
    "# raw2p.write_to_db(match_df, table_name = 'matches_table', schema = 'STAN_169')\n",
    "# match_df.to_csv(os.path.join(data_path,state,county,'Apt_realignment_MSFT/matching_df.csv'))\n",
    "match_df['mnr_query_distance'] = match_df['mnr_query_distance'].apply(lambda x :float(x))\n",
    "match_df['geometry'] = match_df['geometry'].apply(wkt.loads)"
   ]
  },
  {
   "cell_type": "code",
   "execution_count": null,
   "metadata": {
    "application/vnd.databricks.v1+cell": {
     "inputWidgets": {},
     "nuid": "51e4876d-86db-4490-948b-16c672bcea6a",
     "showTitle": false,
     "title": ""
    }
   },
   "outputs": [],
   "source": [
    "gdf = gpd.GeoDataFrame(match_df[['feat_id','sample_id','apa','asf','geometry','mnr_query_distance']], crs=\"epsg:4326\", geometry='geometry')\n",
    "gdf.to_crs(\"epsg:4326\")\n",
    "gdf.to_file(os.path.join(data_path,state,county,'Apt_realignment_MSFT_OSM/matching_df.shp'), driver='ESRI Shapefile')"
   ]
  },
  {
   "cell_type": "code",
   "execution_count": 1,
   "metadata": {},
   "outputs": [
    {
     "data": {
      "text/html": [
       "<div>\n",
       "<style scoped>\n",
       "    .dataframe tbody tr th:only-of-type {\n",
       "        vertical-align: middle;\n",
       "    }\n",
       "\n",
       "    .dataframe tbody tr th {\n",
       "        vertical-align: top;\n",
       "    }\n",
       "\n",
       "    .dataframe thead th {\n",
       "        text-align: right;\n",
       "    }\n",
       "</style>\n",
       "<table border=\"1\" class=\"dataframe\">\n",
       "  <thead>\n",
       "    <tr style=\"text-align: right;\">\n",
       "      <th></th>\n",
       "      <th>feat_id</th>\n",
       "      <th>iso_script</th>\n",
       "      <th>iso_lang_c</th>\n",
       "      <th>postal_cod</th>\n",
       "      <th>house_numb</th>\n",
       "      <th>state_prov</th>\n",
       "      <th>locality</th>\n",
       "      <th>street_nam</th>\n",
       "      <th>country_co</th>\n",
       "      <th>prefix</th>\n",
       "      <th>suffix</th>\n",
       "      <th>predir</th>\n",
       "      <th>postdir</th>\n",
       "      <th>sn_body</th>\n",
       "      <th>PRCLDMPID</th>\n",
       "      <th>updated_geometries</th>\n",
       "      <th>apt_bfp_dist</th>\n",
       "    </tr>\n",
       "  </thead>\n",
       "  <tbody>\n",
       "    <tr>\n",
       "      <th>2</th>\n",
       "      <td>df726037-4406-4934-8ad7-e4f2ff7bfd17</td>\n",
       "      <td>Latn</td>\n",
       "      <td>ENG</td>\n",
       "      <td>81101-2545</td>\n",
       "      <td>297</td>\n",
       "      <td>CO</td>\n",
       "      <td>Alamosa</td>\n",
       "      <td>San Juan Ave</td>\n",
       "      <td>USA</td>\n",
       "      <td>None</td>\n",
       "      <td>Ave</td>\n",
       "      <td>None</td>\n",
       "      <td>None</td>\n",
       "      <td>San Juan</td>\n",
       "      <td>100660192_17725447</td>\n",
       "      <td>POINT (-105.86738 37.47284)</td>\n",
       "      <td>4.9</td>\n",
       "    </tr>\n",
       "    <tr>\n",
       "      <th>2</th>\n",
       "      <td>00004358-3200-2800-0000-0000004019da</td>\n",
       "      <td>Latn</td>\n",
       "      <td>ENG</td>\n",
       "      <td>81101-2545</td>\n",
       "      <td>97</td>\n",
       "      <td>CO</td>\n",
       "      <td>Alamosa</td>\n",
       "      <td>San Juan Ave</td>\n",
       "      <td>USA</td>\n",
       "      <td>None</td>\n",
       "      <td>Ave</td>\n",
       "      <td>None</td>\n",
       "      <td>None</td>\n",
       "      <td>San Juan</td>\n",
       "      <td>100660192_17725447</td>\n",
       "      <td>POINT (-105.86738 37.47284)</td>\n",
       "      <td>4.6</td>\n",
       "    </tr>\n",
       "    <tr>\n",
       "      <th>3</th>\n",
       "      <td>00004358-3200-2800-0000-0000004019db</td>\n",
       "      <td>Latn</td>\n",
       "      <td>ENG</td>\n",
       "      <td>81101-2504</td>\n",
       "      <td>711</td>\n",
       "      <td>CO</td>\n",
       "      <td>Alamosa</td>\n",
       "      <td>1st St</td>\n",
       "      <td>USA</td>\n",
       "      <td>None</td>\n",
       "      <td>St</td>\n",
       "      <td>None</td>\n",
       "      <td>None</td>\n",
       "      <td>1st</td>\n",
       "      <td>100660192_17725446</td>\n",
       "      <td>POINT (-105.86757 37.47282)</td>\n",
       "      <td>1.2</td>\n",
       "    </tr>\n",
       "    <tr>\n",
       "      <th>4</th>\n",
       "      <td>00004358-3200-2800-0000-00000040f477</td>\n",
       "      <td>Latn</td>\n",
       "      <td>ENG</td>\n",
       "      <td>81101-2545</td>\n",
       "      <td>93</td>\n",
       "      <td>CO</td>\n",
       "      <td>Alamosa</td>\n",
       "      <td>San Juan Ave</td>\n",
       "      <td>USA</td>\n",
       "      <td>None</td>\n",
       "      <td>Ave</td>\n",
       "      <td>None</td>\n",
       "      <td>None</td>\n",
       "      <td>San Juan</td>\n",
       "      <td>100660192_17725445</td>\n",
       "      <td>POINT (-105.86737 37.47311)</td>\n",
       "      <td>8.7</td>\n",
       "    </tr>\n",
       "    <tr>\n",
       "      <th>6</th>\n",
       "      <td>00004358-3200-2800-0000-0000004019de</td>\n",
       "      <td>Latn</td>\n",
       "      <td>ENG</td>\n",
       "      <td>81101-2545</td>\n",
       "      <td>75</td>\n",
       "      <td>CO</td>\n",
       "      <td>Alamosa</td>\n",
       "      <td>San Juan Ave</td>\n",
       "      <td>USA</td>\n",
       "      <td>None</td>\n",
       "      <td>Ave</td>\n",
       "      <td>None</td>\n",
       "      <td>None</td>\n",
       "      <td>San Juan</td>\n",
       "      <td>100660192_17725438</td>\n",
       "      <td>POINT (-105.86742 37.47368)</td>\n",
       "      <td>3.4</td>\n",
       "    </tr>\n",
       "  </tbody>\n",
       "</table>\n",
       "</div>"
      ],
      "text/plain": [
       "                                feat_id iso_script iso_lang_c  postal_cod  \\\n",
       "2  df726037-4406-4934-8ad7-e4f2ff7bfd17       Latn        ENG  81101-2545   \n",
       "2  00004358-3200-2800-0000-0000004019da       Latn        ENG  81101-2545   \n",
       "3  00004358-3200-2800-0000-0000004019db       Latn        ENG  81101-2504   \n",
       "4  00004358-3200-2800-0000-00000040f477       Latn        ENG  81101-2545   \n",
       "6  00004358-3200-2800-0000-0000004019de       Latn        ENG  81101-2545   \n",
       "\n",
       "  house_numb state_prov locality    street_nam country_co prefix suffix  \\\n",
       "2        297         CO  Alamosa  San Juan Ave        USA   None    Ave   \n",
       "2         97         CO  Alamosa  San Juan Ave        USA   None    Ave   \n",
       "3        711         CO  Alamosa        1st St        USA   None     St   \n",
       "4         93         CO  Alamosa  San Juan Ave        USA   None    Ave   \n",
       "6         75         CO  Alamosa  San Juan Ave        USA   None    Ave   \n",
       "\n",
       "  predir postdir   sn_body           PRCLDMPID           updated_geometries  \\\n",
       "2   None    None  San Juan  100660192_17725447  POINT (-105.86738 37.47284)   \n",
       "2   None    None  San Juan  100660192_17725447  POINT (-105.86738 37.47284)   \n",
       "3   None    None       1st  100660192_17725446  POINT (-105.86757 37.47282)   \n",
       "4   None    None  San Juan  100660192_17725445  POINT (-105.86737 37.47311)   \n",
       "6   None    None  San Juan  100660192_17725438  POINT (-105.86742 37.47368)   \n",
       "\n",
       "   apt_bfp_dist  \n",
       "2           4.9  \n",
       "2           4.6  \n",
       "3           1.2  \n",
       "4           8.7  \n",
       "6           3.4  "
      ]
     },
     "execution_count": 1,
     "metadata": {},
     "output_type": "execute_result"
    }
   ],
   "source": [
    "import pandas as pd \n",
    "path = \"/mnt/c/Users/tandon/OneDrive - TomTom/Desktop/tomtom/Workspace/01_Rooftop_accuracy/APT-Realignment/data/Colorado/Apt_realignment_MSFT/updated_geometries_bfp-count_1_Parcels_08003/APT_realigned.pkl\"\n",
    "\n",
    "\n",
    "df = pd.read_pickle(path)\n",
    "df.head()"
   ]
  },
  {
   "cell_type": "code",
   "execution_count": 2,
   "metadata": {},
   "outputs": [],
   "source": [
    "df.to_csv('sample_updated_APT.csv')\n"
   ]
  },
  {
   "cell_type": "code",
   "execution_count": null,
   "metadata": {},
   "outputs": [],
   "source": []
  }
 ],
 "metadata": {
  "application/vnd.databricks.v1+notebook": {
   "dashboards": [],
   "language": "python",
   "notebookMetadata": {
    "pythonIndentUnit": 2
   },
   "notebookName": "final_process",
   "notebookOrigID": 2036890387749244,
   "widgets": {}
  },
  "kernelspec": {
   "display_name": "pygeo",
   "language": "python",
   "name": "python3"
  },
  "language_info": {
   "codemirror_mode": {
    "name": "ipython",
    "version": 3
   },
   "file_extension": ".py",
   "mimetype": "text/x-python",
   "name": "python",
   "nbconvert_exporter": "python",
   "pygments_lexer": "ipython3",
   "version": "3.8.13"
  },
  "vscode": {
   "interpreter": {
    "hash": "70ce54ad97a74852893fb3a2eed7fab00a48abaab9c8d77c9e0b6a3e4b45b116"
   }
  }
 },
 "nbformat": 4,
 "nbformat_minor": 0
}
